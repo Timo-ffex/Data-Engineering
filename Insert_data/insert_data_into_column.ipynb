{
 "cells": [
  {
   "cell_type": "markdown",
   "metadata": {},
   "source": [
    "## Data avaliabe\n",
    "\n",
    "`UNIT PRICE.xlsx`: This spreadsheet contains lists of item code and it price, this is the table the company use as a reference for item price.\n",
    "\n",
    "`Project Maintenance from 2017 to 2019.xlsx`: This is the table that contain all items required for proh=ject from 2017 t0 2019 (a long list of items).\n",
    "\n",
    "## Here is the problem.\n",
    "When listing the items in the `Project Maintenance from 2017 to 2019.xlsx` table, the unit price column was excluded, so there is a need to get the unit price from the `UNIT PRICE.xlsx` table using the item code for the two table.\n",
    "\n",
    "If in Relational database, it's like the item price is in the `UNIT PRICE.xlsx` table (dimension table) and we need to get the price from the table to another table, `Project Maintenance from 2017 to 2019.xlsx` (the fact table).\n",
    "\n",
    "Below is the script that does the insert process. It important to understand the data before anywork is done."
   ]
  },
  {
   "cell_type": "code",
   "execution_count": 2,
   "metadata": {},
   "outputs": [],
   "source": [
    "import pandas as pd\n",
    "import numpy as np\n",
    "from time import time\n",
    "\n",
    "project = pd.read_excel(\"Project Maintenance from 2017 to 2019.xlsx\")\n",
    "unit_price = pd.read_excel(\"UNIT PRICE.xlsx\")\n",
    "\n",
    "project.insert(4, \"Unit Price\", None)   # insert column into table\n",
    "project_item = project[\"Item Code\"]     # get the item code from project\n",
    "code = unit_price[\"CODE\"]               # get the code column from unit price\n"
   ]
  },
  {
   "cell_type": "code",
   "execution_count": null,
   "metadata": {},
   "outputs": [],
   "source": [
    "start = time()\n",
    "\n",
    "for i, value in enumerate(project_item):\n",
    "    if value in code.values:\n",
    "        what = unit_price[unit_price[\"CODE\"] == value]\n",
    "        what = what[\"UNIT PRICE\"].values\n",
    "        project.loc[i, \"Unit Price\"] = what\n",
    "        \n",
    "print('Duration: {} seconds'.format(time.time() - start))"
   ]
  },
  {
   "cell_type": "code",
   "execution_count": null,
   "metadata": {},
   "outputs": [],
   "source": [
    "project.to_excel(\"output.xlsx\")"
   ]
  },
  {
   "cell_type": "code",
   "execution_count": null,
   "metadata": {},
   "outputs": [],
   "source": [
    "start = time()\n",
    "\n",
    "for value in project_item:\n",
    "    print(value)\n",
    "\n",
    "print('Duration: {} seconds'.format(time() - start))"
   ]
  },
  {
   "cell_type": "code",
   "execution_count": null,
   "metadata": {},
   "outputs": [],
   "source": [
    "start = time()\n",
    "\n",
    "for k, value in project_item.iteritems():\n",
    "    print(value)\n",
    "\n",
    "print('Duration: {} seconds'.format(time() - start))"
   ]
  },
  {
   "cell_type": "code",
   "execution_count": null,
   "metadata": {},
   "outputs": [],
   "source": []
  }
 ],
 "metadata": {
  "language_info": {
   "codemirror_mode": {
    "name": "ipython",
    "version": 3
   },
   "file_extension": ".py",
   "mimetype": "text/x-python",
   "name": "python",
   "nbconvert_exporter": "python",
   "pygments_lexer": "ipython3",
   "version": "3.8.0-final"
  },
  "orig_nbformat": 2,
  "kernelspec": {
   "name": "python38032bita0cb2758c4cf4616b658b6b84a2a459a",
   "display_name": "Python 3.8.0 32-bit"
  }
 },
 "nbformat": 4,
 "nbformat_minor": 2
}