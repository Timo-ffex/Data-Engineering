{
 "metadata": {
  "language_info": {
   "codemirror_mode": {
    "name": "ipython",
    "version": 3
   },
   "file_extension": ".py",
   "mimetype": "text/x-python",
   "name": "python",
   "nbconvert_exporter": "python",
   "pygments_lexer": "ipython3",
   "version": "3.8.5-final"
  },
  "orig_nbformat": 2,
  "kernelspec": {
   "name": "python38264bit3319b8b2c17f45c5b2e987ceeda86327",
   "display_name": "Python 3.8.2 64-bit",
   "language": "python"
  }
 },
 "nbformat": 4,
 "nbformat_minor": 2,
 "cells": [
  {
   "cell_type": "code",
   "execution_count": null,
   "metadata": {},
   "outputs": [],
   "source": [
    "import pandas as pd\n",
    "import json\n",
    "\n",
    "path = '/home/dit/Downloads/source_file_2.json'\n",
    "df = pd.read_json(path)\n",
    "df = df.sort_values('priority')\n",
    "df.reset_index(inplace=True)\n",
    "df.drop(\"index\", inplace=True, axis=1)\n",
    "\n",
    "\n",
    "def process_file(field):\n",
    "    names = []\n",
    "    for name_list in df[field]:\n",
    "        for name in name_list:\n",
    "            if name not in names:\n",
    "                names.append(name)\n",
    "\n",
    "    hold_details = {}\n",
    "    for name in names:\n",
    "        hold_project = []\n",
    "\n",
    "        for index, name_list in enumerate(df[field]):\n",
    "            if name in name_list:\n",
    "                hold_project.append(df.loc[index, 'name'])\n",
    "        hold_details[name] = hold_project\n",
    "\n",
    "    with open(f'{field}.json', 'w') as fp:\n",
    "        json.dump(hold_details, fp)\n",
    "\n",
    "\n",
    "process_file('managers')\n",
    "process_file('watchers')"
   ]
  },
  {
   "cell_type": "code",
   "execution_count": null,
   "metadata": {},
   "outputs": [],
   "source": [
    "import json\n",
    "import pandas as pd\n",
    "\n",
    "path = '/home/dit/Downloads/source_file_2.json'\n",
    "df = pd.read_json(path)\n",
    "\n",
    "\n",
    "def process_file(df, field):\n",
    "    df = df.explode(field)\n",
    "    df = df.sort_values('priority')\n",
    "\n",
    "    names = df[field].drop_duplicates().to_list()\n",
    "\n",
    "    hold_details = {}\n",
    "    for name in names:\n",
    "        filter_df = df[df[field] == name]\n",
    "        task_list = filter_df['name'].drop_duplicates().to_list()\n",
    "        hold_details[name] = task_list\n",
    "\n",
    "    with open(f'{field}.json', 'w') as fp:\n",
    "        json.dump(hold_details, fp)\n",
    "\n",
    "\n",
    "process_file(df, 'managers')\n",
    "process_file(df, 'watchers')"
   ]
  },
  {
   "cell_type": "code",
   "execution_count": null,
   "metadata": {},
   "outputs": [],
   "source": [
    "import datetime\n",
    "\n",
    "dir(datetime.datetime.now())"
   ]
  },
  {
   "cell_type": "code",
   "execution_count": null,
   "metadata": {},
   "outputs": [],
   "source": []
  }
 ]
}