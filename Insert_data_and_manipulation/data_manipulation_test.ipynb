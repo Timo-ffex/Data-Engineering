{
 "metadata": {
  "language_info": {
   "codemirror_mode": {
    "name": "ipython",
    "version": 3
   },
   "file_extension": ".py",
   "mimetype": "text/x-python",
   "name": "python",
   "nbconvert_exporter": "python",
   "pygments_lexer": "ipython3",
   "version": "3.8.5-final"
  },
  "orig_nbformat": 2,
  "kernelspec": {
   "name": "python38264bit3319b8b2c17f45c5b2e987ceeda86327",
   "display_name": "Python 3.8.2 64-bit",
   "language": "python"
  }
 },
 "nbformat": 4,
 "nbformat_minor": 2,
 "cells": [
  {
   "source": [
    "# Check the data\n",
    "\n",
    "[GitHub page](https://gist.github.com/csaftoiu/92a7d8a4719910e40a240c0d2c1a248e)"
   ],
   "cell_type": "markdown",
   "metadata": {}
  },
  {
   "cell_type": "code",
   "execution_count": 3,
   "metadata": {},
   "outputs": [
    {
     "output_type": "execute_result",
     "data": {
      "text/plain": [
       "                                    name            managers  \\\n",
       "0                   [CV] [Qt] OpenCV GUI  [csaftoiu, merlin]   \n",
       "1                          [Web] pm-site            [merlin]   \n",
       "2                            Annotations            [luanda]   \n",
       "3           [OCR] tesseract MRZ reading           [csaftoiu]   \n",
       "4                             Deepgammon            [morris]   \n",
       "5                  python training lucas            [merlin]   \n",
       "6                python training alysson            [merlin]   \n",
       "7   unity render different passport text          [csaftoiu]   \n",
       "8  [template] unity render passport text          [csaftoiu]   \n",
       "9  unity render diff passport text artur  [arturc, csaftoiu]   \n",
       "\n",
       "                       watchers  priority  \n",
       "0              [merlin, morris]       850  \n",
       "1  [csaftoiu, jpfarias, morris]       260  \n",
       "2    [csaftoiu, merlin, victor]        10  \n",
       "3              [arturc, merlin]       560  \n",
       "4              [merlin, victor]       150  \n",
       "5            [csaftoiu, morris]      2160  \n",
       "6            [csaftoiu, morris]      2180  \n",
       "7              [merlin, morris]      2230  \n",
       "8              [merlin, morris]      2235  \n",
       "9              [merlin, morris]       815  "
      ],
      "text/html": "<div>\n<style scoped>\n    .dataframe tbody tr th:only-of-type {\n        vertical-align: middle;\n    }\n\n    .dataframe tbody tr th {\n        vertical-align: top;\n    }\n\n    .dataframe thead th {\n        text-align: right;\n    }\n</style>\n<table border=\"1\" class=\"dataframe\">\n  <thead>\n    <tr style=\"text-align: right;\">\n      <th></th>\n      <th>name</th>\n      <th>managers</th>\n      <th>watchers</th>\n      <th>priority</th>\n    </tr>\n  </thead>\n  <tbody>\n    <tr>\n      <th>0</th>\n      <td>[CV] [Qt] OpenCV GUI</td>\n      <td>[csaftoiu, merlin]</td>\n      <td>[merlin, morris]</td>\n      <td>850</td>\n    </tr>\n    <tr>\n      <th>1</th>\n      <td>[Web] pm-site</td>\n      <td>[merlin]</td>\n      <td>[csaftoiu, jpfarias, morris]</td>\n      <td>260</td>\n    </tr>\n    <tr>\n      <th>2</th>\n      <td>Annotations</td>\n      <td>[luanda]</td>\n      <td>[csaftoiu, merlin, victor]</td>\n      <td>10</td>\n    </tr>\n    <tr>\n      <th>3</th>\n      <td>[OCR] tesseract MRZ reading</td>\n      <td>[csaftoiu]</td>\n      <td>[arturc, merlin]</td>\n      <td>560</td>\n    </tr>\n    <tr>\n      <th>4</th>\n      <td>Deepgammon</td>\n      <td>[morris]</td>\n      <td>[merlin, victor]</td>\n      <td>150</td>\n    </tr>\n    <tr>\n      <th>5</th>\n      <td>python training lucas</td>\n      <td>[merlin]</td>\n      <td>[csaftoiu, morris]</td>\n      <td>2160</td>\n    </tr>\n    <tr>\n      <th>6</th>\n      <td>python training alysson</td>\n      <td>[merlin]</td>\n      <td>[csaftoiu, morris]</td>\n      <td>2180</td>\n    </tr>\n    <tr>\n      <th>7</th>\n      <td>unity render different passport text</td>\n      <td>[csaftoiu]</td>\n      <td>[merlin, morris]</td>\n      <td>2230</td>\n    </tr>\n    <tr>\n      <th>8</th>\n      <td>[template] unity render passport text</td>\n      <td>[csaftoiu]</td>\n      <td>[merlin, morris]</td>\n      <td>2235</td>\n    </tr>\n    <tr>\n      <th>9</th>\n      <td>unity render diff passport text artur</td>\n      <td>[arturc, csaftoiu]</td>\n      <td>[merlin, morris]</td>\n      <td>815</td>\n    </tr>\n  </tbody>\n</table>\n</div>"
     },
     "metadata": {},
     "execution_count": 3
    }
   ],
   "source": [
    "import json\n",
    "import pandas as pd\n",
    "\n",
    "path = '/home/dit/Downloads/source_file_2.json'\n",
    "df = pd.read_json(path)\n",
    "df.head(10)"
   ]
  },
  {
   "cell_type": "code",
   "execution_count": null,
   "metadata": {},
   "outputs": [],
   "source": [
    "import pandas as pd\n",
    "import json\n",
    "\n",
    "path = '/home/dit/Downloads/source_file_2.json'\n",
    "df = pd.read_json(path)\n",
    "df = df.sort_values('priority')\n",
    "df.reset_index(inplace=True)\n",
    "df.drop(\"index\", inplace=True, axis=1)\n",
    "\n",
    "\n",
    "def process_file(field):\n",
    "    names = []\n",
    "    for name_list in df[field]:\n",
    "        for name in name_list:\n",
    "            if name not in names:\n",
    "                names.append(name)\n",
    "\n",
    "    hold_details = {}\n",
    "    for name in names:\n",
    "        hold_project = []\n",
    "\n",
    "        for index, name_list in enumerate(df[field]):\n",
    "            if name in name_list:\n",
    "                hold_project.append(df.loc[index, 'name'])\n",
    "        hold_details[name] = hold_project\n",
    "\n",
    "    with open(f'{field}.json', 'w') as fp:\n",
    "        json.dump(hold_details, fp)\n",
    "\n",
    "\n",
    "process_file('managers')\n",
    "process_file('watchers')"
   ]
  },
  {
   "cell_type": "code",
   "execution_count": null,
   "metadata": {},
   "outputs": [],
   "source": [
    "import json\n",
    "import pandas as pd\n",
    "\n",
    "path = '/home/dit/Downloads/source_file_2.json'\n",
    "df = pd.read_json(path)\n",
    "\n",
    "\n",
    "def process_file(df, field):\n",
    "    df = df.explode(field)\n",
    "    df = df.sort_values('priority')\n",
    "\n",
    "    names = df[field].drop_duplicates().to_list()\n",
    "\n",
    "    hold_details = {}\n",
    "    for name in names:\n",
    "        filter_df = df[df[field] == name]\n",
    "        task_list = filter_df['name'].drop_duplicates().to_list()\n",
    "        hold_details[name] = task_list\n",
    "\n",
    "    with open(f'{field}.json', 'w') as fp:\n",
    "        json.dump(hold_details, fp)\n",
    "\n",
    "\n",
    "process_file(df, 'managers')\n",
    "process_file(df, 'watchers')"
   ]
  },
  {
   "cell_type": "code",
   "execution_count": null,
   "metadata": {},
   "outputs": [],
   "source": [
    "import datetime\n",
    "\n",
    "dir(datetime.datetime.now())"
   ]
  },
  {
   "cell_type": "code",
   "execution_count": null,
   "metadata": {},
   "outputs": [],
   "source": []
  }
 ]
}