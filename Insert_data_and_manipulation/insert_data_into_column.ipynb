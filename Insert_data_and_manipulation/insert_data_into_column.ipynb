{
 "cells": [
  {
   "cell_type": "markdown",
   "metadata": {},
   "source": [
    "## Data avaliabe\n",
    "\n",
    "`UNIT PRICE.xlsx`: This spreadsheet contains lists of item code and it price, this is the table the company use as a reference for item price.\n",
    "\n",
    "`Project Maintenance from 2017 to 2019.xlsx`: This is the table that contain all items required for proh=ject from 2017 t0 2019 (a long list of items).\n",
    "\n",
    "## Here is the problem.\n",
    "When listing the items in the `Project Maintenance from 2017 to 2019.xlsx` table, the unit price column was excluded, so there is a need to get the unit price from the `UNIT PRICE.xlsx` table using the item code for the two table.\n",
    "\n",
    "If in Relational database, it's like the item price is in the `UNIT PRICE.xlsx` table (dimension table) and we need to get the price from the table to another table, `Project Maintenance from 2017 to 2019.xlsx` (the fact table).\n",
    "\n",
    "Below is the script that does the insert process. It important to understand the data before anywork is done."
   ]
  },
  {
   "cell_type": "code",
   "execution_count": 2,
   "metadata": {},
   "outputs": [],
   "source": [
    "import pandas as pd\n",
    "import numpy as np\n",
    "from time import time\n",
    "\n",
    "project = pd.read_csv(\"project_file.csv\")\n",
    "unit_price = pd.read_csv(\"unit_price.csv\")\n",
    "\n",
    "project.insert(4, \"Unit Price\", None)   # insert column into table\n",
    "\n"
   ]
  },
  {
   "cell_type": "markdown",
   "metadata": {},
   "source": [
    "# First Algorithm\n",
    "* Here, I got the column to hold the project item code and a column to hold the item code from the unit price table.\n",
    "* I used for loop and conditional statement to match the item code on the two column and get the price if the condition is correct\n",
    "* I also calcute the time it took to get out the result"
   ]
  },
  {
   "cell_type": "code",
   "execution_count": 2,
   "metadata": {},
   "outputs": [
    {
     "name": "stdout",
     "output_type": "stream",
     "text": [
      "Duration: 7.254937171936035 seconds\n"
     ]
    }
   ],
   "source": [
    "start = time()\n",
    "\n",
    "project_item = project[\"Item Code\"]     # get the item code from project\n",
    "code = unit_price[\"CODE\"]               # get the code column from unit price\n",
    "\n",
    "for i, value in enumerate(project_item):\n",
    "    if value in code.values:\n",
    "        what = unit_price[unit_price[\"CODE\"] == value]\n",
    "        what = what[\"UNIT PRICE\"].values\n",
    "        project.loc[i, \"Unit Price\"] = what\n",
    "        \n",
    "print('Duration: {} seconds'.format(time() - start))"
   ]
  },
  {
   "cell_type": "markdown",
   "metadata": {},
   "source": [
    "# Optimized Algorithm\n",
    "With the performance above,I wasn't satisfied caused of the run time, is is very very slow and work with larger number of row will be a real pain. I developed a shorter and faster algorithm to solve the problem.\n",
    "* I created a mapping dictionary where the key is the `ITEM CODE` and the value is the `UNIT PRICE`\n",
    "* This is to map value on the separate table with matching key-value pair\n",
    "* On the project df, I used the map function to map get the values if the matched keys on the dataframe `Item code column` and the dictionary key `CODE`"
   ]
  },
  {
   "cell_type": "code",
   "execution_count": 3,
   "metadata": {
    "scrolled": true
   },
   "outputs": [
    {
     "name": "stdout",
     "output_type": "stream",
     "text": [
      "Duration: 0.007997274398803711 seconds\n"
     ]
    }
   ],
   "source": [
    "start = time()\n",
    "\n",
    "mapping = dict(unit_price[['CODE', 'UNIT PRICE']].values)\n",
    "project['Unit Price'] = project['Item Code'].map(mapping)\n",
    "\n",
    "print('Duration: {} seconds'.format(time() - start))"
   ]
  },
  {
   "cell_type": "markdown",
   "metadata": {},
   "source": [
    "# Output\n",
    "This two approaches achieve the same result but faster and shorter."
   ]
  },
  {
   "cell_type": "code",
   "execution_count": 4,
   "metadata": {},
   "outputs": [],
   "source": [
    "project.to_csv(\"output.csv\")"
   ]
  }
 ],
 "metadata": {
  "kernelspec": {
   "display_name": "Python 3.8.2 64-bit",
   "language": "python",
   "name": "python38264bit51a06e2f91044b8db69a1b0515f71f43"
  },
  "language_info": {
   "codemirror_mode": {
    "name": "ipython",
    "version": 3
   },
   "file_extension": ".py",
   "mimetype": "text/x-python",
   "name": "python",
   "nbconvert_exporter": "python",
   "pygments_lexer": "ipython3",
   "version": "3.8.2-final"
  }
 },
 "nbformat": 4,
 "nbformat_minor": 2
}