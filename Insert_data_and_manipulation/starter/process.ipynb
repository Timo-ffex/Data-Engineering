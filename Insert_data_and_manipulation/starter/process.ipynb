{
 "metadata": {
  "language_info": {
   "codemirror_mode": {
    "name": "ipython",
    "version": 3
   },
   "file_extension": ".py",
   "mimetype": "text/x-python",
   "name": "python",
   "nbconvert_exporter": "python",
   "pygments_lexer": "ipython3",
   "version": "3.8.5-final"
  },
  "orig_nbformat": 2,
  "kernelspec": {
   "name": "python38264bit9fbe9b757a6b42fba3541d6d861fafbd",
   "display_name": "Python 3.8.2 64-bit",
   "language": "python"
  }
 },
 "nbformat": 4,
 "nbformat_minor": 2,
 "cells": [
  {
   "cell_type": "code",
   "execution_count": 2,
   "metadata": {},
   "outputs": [
    {
     "output_type": "execute_result",
     "data": {
      "text/plain": [
       "  customer_id  loyalty_score\n",
       "0          C1              7\n",
       "1          C2              4\n",
       "2          C3              8\n",
       "3          C4              5\n",
       "4          C5              7"
      ],
      "text/html": "<div>\n<style scoped>\n    .dataframe tbody tr th:only-of-type {\n        vertical-align: middle;\n    }\n\n    .dataframe tbody tr th {\n        vertical-align: top;\n    }\n\n    .dataframe thead th {\n        text-align: right;\n    }\n</style>\n<table border=\"1\" class=\"dataframe\">\n  <thead>\n    <tr style=\"text-align: right;\">\n      <th></th>\n      <th>customer_id</th>\n      <th>loyalty_score</th>\n    </tr>\n  </thead>\n  <tbody>\n    <tr>\n      <th>0</th>\n      <td>C1</td>\n      <td>7</td>\n    </tr>\n    <tr>\n      <th>1</th>\n      <td>C2</td>\n      <td>4</td>\n    </tr>\n    <tr>\n      <th>2</th>\n      <td>C3</td>\n      <td>8</td>\n    </tr>\n    <tr>\n      <th>3</th>\n      <td>C4</td>\n      <td>5</td>\n    </tr>\n    <tr>\n      <th>4</th>\n      <td>C5</td>\n      <td>7</td>\n    </tr>\n  </tbody>\n</table>\n</div>"
     },
     "metadata": {},
     "execution_count": 2
    }
   ],
   "source": [
    "import os, glob\n",
    "import pandas as pd\n",
    "\n",
    "cus_df = pd.read_csv(\"customers.csv\")\n",
    "prod_df = pd.read_csv(\"products.csv\")\n",
    "\n",
    "cus_df.head()"
   ]
  },
  {
   "cell_type": "code",
   "execution_count": 2,
   "metadata": {},
   "outputs": [
    {
     "output_type": "execute_result",
     "data": {
      "text/plain": [
       "  product_id product_description product_category\n",
       "0        P01           detergent            house\n",
       "1        P02        kitchen roll            house\n",
       "2        P03          bin liners            house\n",
       "3        P04          shower gel            house\n",
       "4        P05     scented candles            house"
      ],
      "text/html": "<div>\n<style scoped>\n    .dataframe tbody tr th:only-of-type {\n        vertical-align: middle;\n    }\n\n    .dataframe tbody tr th {\n        vertical-align: top;\n    }\n\n    .dataframe thead th {\n        text-align: right;\n    }\n</style>\n<table border=\"1\" class=\"dataframe\">\n  <thead>\n    <tr style=\"text-align: right;\">\n      <th></th>\n      <th>product_id</th>\n      <th>product_description</th>\n      <th>product_category</th>\n    </tr>\n  </thead>\n  <tbody>\n    <tr>\n      <th>0</th>\n      <td>P01</td>\n      <td>detergent</td>\n      <td>house</td>\n    </tr>\n    <tr>\n      <th>1</th>\n      <td>P02</td>\n      <td>kitchen roll</td>\n      <td>house</td>\n    </tr>\n    <tr>\n      <th>2</th>\n      <td>P03</td>\n      <td>bin liners</td>\n      <td>house</td>\n    </tr>\n    <tr>\n      <th>3</th>\n      <td>P04</td>\n      <td>shower gel</td>\n      <td>house</td>\n    </tr>\n    <tr>\n      <th>4</th>\n      <td>P05</td>\n      <td>scented candles</td>\n      <td>house</td>\n    </tr>\n  </tbody>\n</table>\n</div>"
     },
     "metadata": {},
     "execution_count": 2
    }
   ],
   "source": [
    "prod_df.head()"
   ]
  },
  {
   "cell_type": "code",
   "execution_count": 3,
   "metadata": {},
   "outputs": [
    {
     "output_type": "execute_result",
     "data": {
      "text/plain": [
       "  customer_id  \\\n",
       "0          C1   \n",
       "1          C6   \n",
       "2         C17   \n",
       "3         C21   \n",
       "4         C35   \n",
       "5         C38   \n",
       "6         C41   \n",
       "7         C53   \n",
       "8         C55   \n",
       "9         C57   \n",
       "\n",
       "                                                                                                               basket  \\\n",
       "0                                                                               [{'product_id': 'P61', 'price': 597}]   \n",
       "1                                        [{'product_id': 'P53', 'price': 1694}, {'product_id': 'P55', 'price': 1246}]   \n",
       "2                                        [{'product_id': 'P35', 'price': 1560}, {'product_id': 'P39', 'price': 1218}]   \n",
       "3                                         [{'product_id': 'P18', 'price': 1660}, {'product_id': 'P19', 'price': 319}]   \n",
       "4                                                                               [{'product_id': 'P53', 'price': 165}]   \n",
       "5      [{'product_id': 'P63', 'price': 30}, {'product_id': 'P61', 'price': 157}, {'product_id': 'P62', 'price': 557}]   \n",
       "6  [{'product_id': 'P58', 'price': 1551}, {'product_id': 'P56', 'price': 1970}, {'product_id': 'P42', 'price': 1692}]   \n",
       "7                                                                              [{'product_id': 'P36', 'price': 1423}]   \n",
       "8                                                                               [{'product_id': 'P63', 'price': 128}]   \n",
       "9    [{'product_id': 'P24', 'price': 1001}, {'product_id': 'P26', 'price': 832}, {'product_id': 'P32', 'price': 327}]   \n",
       "\n",
       "             date_of_purchase  \n",
       "0  2020-08-23 10:19:17.490059  \n",
       "1  2020-08-23 11:52:17.490059  \n",
       "2  2020-08-23 02:48:17.490059  \n",
       "3  2020-08-23 01:43:17.490059  \n",
       "4  2020-08-23 03:48:17.490059  \n",
       "5  2020-08-23 12:31:17.490059  \n",
       "6  2020-08-23 00:30:17.490059  \n",
       "7  2020-08-23 13:19:17.490059  \n",
       "8  2020-08-23 05:09:17.490059  \n",
       "9  2020-08-22 22:11:17.490059  "
      ],
      "text/html": "<div>\n<style scoped>\n    .dataframe tbody tr th:only-of-type {\n        vertical-align: middle;\n    }\n\n    .dataframe tbody tr th {\n        vertical-align: top;\n    }\n\n    .dataframe thead th {\n        text-align: right;\n    }\n</style>\n<table border=\"1\" class=\"dataframe\">\n  <thead>\n    <tr style=\"text-align: right;\">\n      <th></th>\n      <th>customer_id</th>\n      <th>basket</th>\n      <th>date_of_purchase</th>\n    </tr>\n  </thead>\n  <tbody>\n    <tr>\n      <th>0</th>\n      <td>C1</td>\n      <td>[{'product_id': 'P61', 'price': 597}]</td>\n      <td>2020-08-23 10:19:17.490059</td>\n    </tr>\n    <tr>\n      <th>1</th>\n      <td>C6</td>\n      <td>[{'product_id': 'P53', 'price': 1694}, {'product_id': 'P55', 'price': 1246}]</td>\n      <td>2020-08-23 11:52:17.490059</td>\n    </tr>\n    <tr>\n      <th>2</th>\n      <td>C17</td>\n      <td>[{'product_id': 'P35', 'price': 1560}, {'product_id': 'P39', 'price': 1218}]</td>\n      <td>2020-08-23 02:48:17.490059</td>\n    </tr>\n    <tr>\n      <th>3</th>\n      <td>C21</td>\n      <td>[{'product_id': 'P18', 'price': 1660}, {'product_id': 'P19', 'price': 319}]</td>\n      <td>2020-08-23 01:43:17.490059</td>\n    </tr>\n    <tr>\n      <th>4</th>\n      <td>C35</td>\n      <td>[{'product_id': 'P53', 'price': 165}]</td>\n      <td>2020-08-23 03:48:17.490059</td>\n    </tr>\n    <tr>\n      <th>5</th>\n      <td>C38</td>\n      <td>[{'product_id': 'P63', 'price': 30}, {'product_id': 'P61', 'price': 157}, {'product_id': 'P62', 'price': 557}]</td>\n      <td>2020-08-23 12:31:17.490059</td>\n    </tr>\n    <tr>\n      <th>6</th>\n      <td>C41</td>\n      <td>[{'product_id': 'P58', 'price': 1551}, {'product_id': 'P56', 'price': 1970}, {'product_id': 'P42', 'price': 1692}]</td>\n      <td>2020-08-23 00:30:17.490059</td>\n    </tr>\n    <tr>\n      <th>7</th>\n      <td>C53</td>\n      <td>[{'product_id': 'P36', 'price': 1423}]</td>\n      <td>2020-08-23 13:19:17.490059</td>\n    </tr>\n    <tr>\n      <th>8</th>\n      <td>C55</td>\n      <td>[{'product_id': 'P63', 'price': 128}]</td>\n      <td>2020-08-23 05:09:17.490059</td>\n    </tr>\n    <tr>\n      <th>9</th>\n      <td>C57</td>\n      <td>[{'product_id': 'P24', 'price': 1001}, {'product_id': 'P26', 'price': 832}, {'product_id': 'P32', 'price': 327}]</td>\n      <td>2020-08-22 22:11:17.490059</td>\n    </tr>\n  </tbody>\n</table>\n</div>"
     },
     "metadata": {},
     "execution_count": 3
    }
   ],
   "source": [
    "pd.set_option('display.max_colwidth', None)\n",
    "\n",
    "filepath = \"/home/dit/DiT/GitHub/Pylingo/Jupyters/DE/starter/transactions\"\n",
    "\n",
    "all_files = []\n",
    "for root, dirs, files in os.walk(filepath):\n",
    "    files = glob.glob(os.path.join(root,'*.json'))\n",
    "    for f in files :\n",
    "        all_files.append(os.path.abspath(f))\n",
    "\n",
    "\n",
    "dfs = []\n",
    "for what in all_files:\n",
    "    a = pd.read_json(what, lines=True)\n",
    "    dfs.append(a)\n",
    "\n",
    "trans_df = pd.concat(dfs, ignore_index=True)\n",
    "trans_df.head(10)"
   ]
  },
  {
   "cell_type": "code",
   "execution_count": 4,
   "metadata": {},
   "outputs": [
    {
     "output_type": "execute_result",
     "data": {
      "text/plain": [
       "(2229, 3)"
      ]
     },
     "metadata": {},
     "execution_count": 4
    }
   ],
   "source": [
    "trans_df.shape"
   ]
  },
  {
   "cell_type": "code",
   "execution_count": 3,
   "metadata": {},
   "outputs": [
    {
     "output_type": "execute_result",
     "data": {
      "text/plain": [
       "C31    30\n",
       "C93    30\n",
       "C17    30\n",
       "C95    30\n",
       "C77    30\n",
       "       ..\n",
       "C87     6\n",
       "C74     6\n",
       "C47     6\n",
       "C88     6\n",
       "C56     6\n",
       "Name: customer_id, Length: 137, dtype: int64"
      ]
     },
     "metadata": {},
     "execution_count": 3
    }
   ],
   "source": [
    "trans_df.customer_id.value_counts()"
   ]
  },
  {
   "cell_type": "code",
   "execution_count": 5,
   "metadata": {},
   "outputs": [
    {
     "output_type": "execute_result",
     "data": {
      "text/plain": [
       "  customer_id                                basket  \\\n",
       "0          C1   {'product_id': 'P61', 'price': 597}   \n",
       "1          C6  {'product_id': 'P53', 'price': 1694}   \n",
       "1          C6  {'product_id': 'P55', 'price': 1246}   \n",
       "2         C17  {'product_id': 'P35', 'price': 1560}   \n",
       "2         C17  {'product_id': 'P39', 'price': 1218}   \n",
       "3         C21  {'product_id': 'P18', 'price': 1660}   \n",
       "3         C21   {'product_id': 'P19', 'price': 319}   \n",
       "4         C35   {'product_id': 'P53', 'price': 165}   \n",
       "5         C38    {'product_id': 'P63', 'price': 30}   \n",
       "5         C38   {'product_id': 'P61', 'price': 157}   \n",
       "\n",
       "             date_of_purchase  \n",
       "0  2020-08-23 10:19:17.490059  \n",
       "1  2020-08-23 11:52:17.490059  \n",
       "1  2020-08-23 11:52:17.490059  \n",
       "2  2020-08-23 02:48:17.490059  \n",
       "2  2020-08-23 02:48:17.490059  \n",
       "3  2020-08-23 01:43:17.490059  \n",
       "3  2020-08-23 01:43:17.490059  \n",
       "4  2020-08-23 03:48:17.490059  \n",
       "5  2020-08-23 12:31:17.490059  \n",
       "5  2020-08-23 12:31:17.490059  "
      ],
      "text/html": "<div>\n<style scoped>\n    .dataframe tbody tr th:only-of-type {\n        vertical-align: middle;\n    }\n\n    .dataframe tbody tr th {\n        vertical-align: top;\n    }\n\n    .dataframe thead th {\n        text-align: right;\n    }\n</style>\n<table border=\"1\" class=\"dataframe\">\n  <thead>\n    <tr style=\"text-align: right;\">\n      <th></th>\n      <th>customer_id</th>\n      <th>basket</th>\n      <th>date_of_purchase</th>\n    </tr>\n  </thead>\n  <tbody>\n    <tr>\n      <th>0</th>\n      <td>C1</td>\n      <td>{'product_id': 'P61', 'price': 597}</td>\n      <td>2020-08-23 10:19:17.490059</td>\n    </tr>\n    <tr>\n      <th>1</th>\n      <td>C6</td>\n      <td>{'product_id': 'P53', 'price': 1694}</td>\n      <td>2020-08-23 11:52:17.490059</td>\n    </tr>\n    <tr>\n      <th>1</th>\n      <td>C6</td>\n      <td>{'product_id': 'P55', 'price': 1246}</td>\n      <td>2020-08-23 11:52:17.490059</td>\n    </tr>\n    <tr>\n      <th>2</th>\n      <td>C17</td>\n      <td>{'product_id': 'P35', 'price': 1560}</td>\n      <td>2020-08-23 02:48:17.490059</td>\n    </tr>\n    <tr>\n      <th>2</th>\n      <td>C17</td>\n      <td>{'product_id': 'P39', 'price': 1218}</td>\n      <td>2020-08-23 02:48:17.490059</td>\n    </tr>\n    <tr>\n      <th>3</th>\n      <td>C21</td>\n      <td>{'product_id': 'P18', 'price': 1660}</td>\n      <td>2020-08-23 01:43:17.490059</td>\n    </tr>\n    <tr>\n      <th>3</th>\n      <td>C21</td>\n      <td>{'product_id': 'P19', 'price': 319}</td>\n      <td>2020-08-23 01:43:17.490059</td>\n    </tr>\n    <tr>\n      <th>4</th>\n      <td>C35</td>\n      <td>{'product_id': 'P53', 'price': 165}</td>\n      <td>2020-08-23 03:48:17.490059</td>\n    </tr>\n    <tr>\n      <th>5</th>\n      <td>C38</td>\n      <td>{'product_id': 'P63', 'price': 30}</td>\n      <td>2020-08-23 12:31:17.490059</td>\n    </tr>\n    <tr>\n      <th>5</th>\n      <td>C38</td>\n      <td>{'product_id': 'P61', 'price': 157}</td>\n      <td>2020-08-23 12:31:17.490059</td>\n    </tr>\n  </tbody>\n</table>\n</div>"
     },
     "metadata": {},
     "execution_count": 5
    }
   ],
   "source": [
    "df = trans_df.explode(\"basket\")\n",
    "df.head(10)"
   ]
  },
  {
   "cell_type": "code",
   "execution_count": 6,
   "metadata": {},
   "outputs": [
    {
     "output_type": "execute_result",
     "data": {
      "text/plain": [
       "  product_id  price\n",
       "0        P61    597\n",
       "1        P53   1694\n",
       "1        P55   1246\n",
       "2        P35   1560\n",
       "2        P39   1218"
      ],
      "text/html": "<div>\n<style scoped>\n    .dataframe tbody tr th:only-of-type {\n        vertical-align: middle;\n    }\n\n    .dataframe tbody tr th {\n        vertical-align: top;\n    }\n\n    .dataframe thead th {\n        text-align: right;\n    }\n</style>\n<table border=\"1\" class=\"dataframe\">\n  <thead>\n    <tr style=\"text-align: right;\">\n      <th></th>\n      <th>product_id</th>\n      <th>price</th>\n    </tr>\n  </thead>\n  <tbody>\n    <tr>\n      <th>0</th>\n      <td>P61</td>\n      <td>597</td>\n    </tr>\n    <tr>\n      <th>1</th>\n      <td>P53</td>\n      <td>1694</td>\n    </tr>\n    <tr>\n      <th>1</th>\n      <td>P55</td>\n      <td>1246</td>\n    </tr>\n    <tr>\n      <th>2</th>\n      <td>P35</td>\n      <td>1560</td>\n    </tr>\n    <tr>\n      <th>2</th>\n      <td>P39</td>\n      <td>1218</td>\n    </tr>\n  </tbody>\n</table>\n</div>"
     },
     "metadata": {},
     "execution_count": 6
    }
   ],
   "source": [
    "basket_df = df['basket'].apply(pd.Series)\n",
    "basket_df.head()"
   ]
  },
  {
   "cell_type": "code",
   "execution_count": 7,
   "metadata": {},
   "outputs": [
    {
     "output_type": "execute_result",
     "data": {
      "text/plain": [
       "  customer_id                                basket  \\\n",
       "0          C1   {'product_id': 'P61', 'price': 597}   \n",
       "1          C6  {'product_id': 'P53', 'price': 1694}   \n",
       "1          C6  {'product_id': 'P55', 'price': 1246}   \n",
       "2         C17  {'product_id': 'P35', 'price': 1560}   \n",
       "2         C17  {'product_id': 'P39', 'price': 1218}   \n",
       "3         C21  {'product_id': 'P18', 'price': 1660}   \n",
       "3         C21   {'product_id': 'P19', 'price': 319}   \n",
       "4         C35   {'product_id': 'P53', 'price': 165}   \n",
       "5         C38    {'product_id': 'P63', 'price': 30}   \n",
       "5         C38   {'product_id': 'P61', 'price': 157}   \n",
       "\n",
       "             date_of_purchase product_id  price  \n",
       "0  2020-08-23 10:19:17.490059        P61    597  \n",
       "1  2020-08-23 11:52:17.490059        P53   1694  \n",
       "1  2020-08-23 11:52:17.490059        P55   1246  \n",
       "2  2020-08-23 02:48:17.490059        P35   1560  \n",
       "2  2020-08-23 02:48:17.490059        P39   1218  \n",
       "3  2020-08-23 01:43:17.490059        P18   1660  \n",
       "3  2020-08-23 01:43:17.490059        P19    319  \n",
       "4  2020-08-23 03:48:17.490059        P53    165  \n",
       "5  2020-08-23 12:31:17.490059        P63     30  \n",
       "5  2020-08-23 12:31:17.490059        P61    157  "
      ],
      "text/html": "<div>\n<style scoped>\n    .dataframe tbody tr th:only-of-type {\n        vertical-align: middle;\n    }\n\n    .dataframe tbody tr th {\n        vertical-align: top;\n    }\n\n    .dataframe thead th {\n        text-align: right;\n    }\n</style>\n<table border=\"1\" class=\"dataframe\">\n  <thead>\n    <tr style=\"text-align: right;\">\n      <th></th>\n      <th>customer_id</th>\n      <th>basket</th>\n      <th>date_of_purchase</th>\n      <th>product_id</th>\n      <th>price</th>\n    </tr>\n  </thead>\n  <tbody>\n    <tr>\n      <th>0</th>\n      <td>C1</td>\n      <td>{'product_id': 'P61', 'price': 597}</td>\n      <td>2020-08-23 10:19:17.490059</td>\n      <td>P61</td>\n      <td>597</td>\n    </tr>\n    <tr>\n      <th>1</th>\n      <td>C6</td>\n      <td>{'product_id': 'P53', 'price': 1694}</td>\n      <td>2020-08-23 11:52:17.490059</td>\n      <td>P53</td>\n      <td>1694</td>\n    </tr>\n    <tr>\n      <th>1</th>\n      <td>C6</td>\n      <td>{'product_id': 'P55', 'price': 1246}</td>\n      <td>2020-08-23 11:52:17.490059</td>\n      <td>P55</td>\n      <td>1246</td>\n    </tr>\n    <tr>\n      <th>2</th>\n      <td>C17</td>\n      <td>{'product_id': 'P35', 'price': 1560}</td>\n      <td>2020-08-23 02:48:17.490059</td>\n      <td>P35</td>\n      <td>1560</td>\n    </tr>\n    <tr>\n      <th>2</th>\n      <td>C17</td>\n      <td>{'product_id': 'P39', 'price': 1218}</td>\n      <td>2020-08-23 02:48:17.490059</td>\n      <td>P39</td>\n      <td>1218</td>\n    </tr>\n    <tr>\n      <th>3</th>\n      <td>C21</td>\n      <td>{'product_id': 'P18', 'price': 1660}</td>\n      <td>2020-08-23 01:43:17.490059</td>\n      <td>P18</td>\n      <td>1660</td>\n    </tr>\n    <tr>\n      <th>3</th>\n      <td>C21</td>\n      <td>{'product_id': 'P19', 'price': 319}</td>\n      <td>2020-08-23 01:43:17.490059</td>\n      <td>P19</td>\n      <td>319</td>\n    </tr>\n    <tr>\n      <th>4</th>\n      <td>C35</td>\n      <td>{'product_id': 'P53', 'price': 165}</td>\n      <td>2020-08-23 03:48:17.490059</td>\n      <td>P53</td>\n      <td>165</td>\n    </tr>\n    <tr>\n      <th>5</th>\n      <td>C38</td>\n      <td>{'product_id': 'P63', 'price': 30}</td>\n      <td>2020-08-23 12:31:17.490059</td>\n      <td>P63</td>\n      <td>30</td>\n    </tr>\n    <tr>\n      <th>5</th>\n      <td>C38</td>\n      <td>{'product_id': 'P61', 'price': 157}</td>\n      <td>2020-08-23 12:31:17.490059</td>\n      <td>P61</td>\n      <td>157</td>\n    </tr>\n  </tbody>\n</table>\n</div>"
     },
     "metadata": {},
     "execution_count": 7
    }
   ],
   "source": [
    "df_flat = pd.concat([df, basket_df], axis=1)\n",
    "df_flat.head(10)"
   ]
  },
  {
   "cell_type": "code",
   "execution_count": 9,
   "metadata": {},
   "outputs": [
    {
     "output_type": "execute_result",
     "data": {
      "text/plain": [
       "(4497, 5)"
      ]
     },
     "metadata": {},
     "execution_count": 9
    }
   ],
   "source": [
    "df_flat.shape"
   ]
  },
  {
   "cell_type": "code",
   "execution_count": null,
   "metadata": {},
   "outputs": [],
   "source": []
  }
 ]
}