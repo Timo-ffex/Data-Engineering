{
 "metadata": {
  "language_info": {
   "codemirror_mode": {
    "name": "ipython",
    "version": 3
   },
   "file_extension": ".py",
   "mimetype": "text/x-python",
   "name": "python",
   "nbconvert_exporter": "python",
   "pygments_lexer": "ipython3",
   "version": "3.8.5-final"
  },
  "orig_nbformat": 2,
  "kernelspec": {
   "name": "python38264bit9fbe9b757a6b42fba3541d6d861fafbd",
   "display_name": "Python 3.8.2 64-bit",
   "language": "python"
  }
 },
 "nbformat": 4,
 "nbformat_minor": 2,
 "cells": [
  {
   "cell_type": "code",
   "execution_count": 5,
   "metadata": {},
   "outputs": [
    {
     "output_type": "execute_result",
     "data": {
      "text/plain": [
       "  customer_id  loyalty_score\n",
       "0          C1              7\n",
       "1          C2              4\n",
       "2          C3              8\n",
       "3          C4              5\n",
       "4          C5              7"
      ],
      "text/html": "<div>\n<style scoped>\n    .dataframe tbody tr th:only-of-type {\n        vertical-align: middle;\n    }\n\n    .dataframe tbody tr th {\n        vertical-align: top;\n    }\n\n    .dataframe thead th {\n        text-align: right;\n    }\n</style>\n<table border=\"1\" class=\"dataframe\">\n  <thead>\n    <tr style=\"text-align: right;\">\n      <th></th>\n      <th>customer_id</th>\n      <th>loyalty_score</th>\n    </tr>\n  </thead>\n  <tbody>\n    <tr>\n      <th>0</th>\n      <td>C1</td>\n      <td>7</td>\n    </tr>\n    <tr>\n      <th>1</th>\n      <td>C2</td>\n      <td>4</td>\n    </tr>\n    <tr>\n      <th>2</th>\n      <td>C3</td>\n      <td>8</td>\n    </tr>\n    <tr>\n      <th>3</th>\n      <td>C4</td>\n      <td>5</td>\n    </tr>\n    <tr>\n      <th>4</th>\n      <td>C5</td>\n      <td>7</td>\n    </tr>\n  </tbody>\n</table>\n</div>"
     },
     "metadata": {},
     "execution_count": 5
    }
   ],
   "source": [
    "import os, glob\n",
    "import pandas as pd\n",
    "\n",
    "cus_df = pd.read_csv(\"customers.csv\")\n",
    "prod_df = pd.read_csv(\"products.csv\")\n",
    "\n",
    "cus_df.head()"
   ]
  },
  {
   "cell_type": "code",
   "execution_count": 6,
   "metadata": {},
   "outputs": [
    {
     "output_type": "execute_result",
     "data": {
      "text/plain": [
       "  product_id product_description product_category\n",
       "0        P01           detergent            house\n",
       "1        P02        kitchen roll            house\n",
       "2        P03          bin liners            house\n",
       "3        P04          shower gel            house\n",
       "4        P05     scented candles            house"
      ],
      "text/html": "<div>\n<style scoped>\n    .dataframe tbody tr th:only-of-type {\n        vertical-align: middle;\n    }\n\n    .dataframe tbody tr th {\n        vertical-align: top;\n    }\n\n    .dataframe thead th {\n        text-align: right;\n    }\n</style>\n<table border=\"1\" class=\"dataframe\">\n  <thead>\n    <tr style=\"text-align: right;\">\n      <th></th>\n      <th>product_id</th>\n      <th>product_description</th>\n      <th>product_category</th>\n    </tr>\n  </thead>\n  <tbody>\n    <tr>\n      <th>0</th>\n      <td>P01</td>\n      <td>detergent</td>\n      <td>house</td>\n    </tr>\n    <tr>\n      <th>1</th>\n      <td>P02</td>\n      <td>kitchen roll</td>\n      <td>house</td>\n    </tr>\n    <tr>\n      <th>2</th>\n      <td>P03</td>\n      <td>bin liners</td>\n      <td>house</td>\n    </tr>\n    <tr>\n      <th>3</th>\n      <td>P04</td>\n      <td>shower gel</td>\n      <td>house</td>\n    </tr>\n    <tr>\n      <th>4</th>\n      <td>P05</td>\n      <td>scented candles</td>\n      <td>house</td>\n    </tr>\n  </tbody>\n</table>\n</div>"
     },
     "metadata": {},
     "execution_count": 6
    }
   ],
   "source": [
    "prod_df.head()"
   ]
  },
  {
   "cell_type": "code",
   "execution_count": 7,
   "metadata": {},
   "outputs": [
    {
     "output_type": "execute_result",
     "data": {
      "text/plain": [
       "  customer_id  \\\n",
       "0          C1   \n",
       "1          C6   \n",
       "2         C17   \n",
       "3         C21   \n",
       "4         C35   \n",
       "5         C38   \n",
       "6         C41   \n",
       "7         C53   \n",
       "8         C55   \n",
       "9         C57   \n",
       "\n",
       "                                                                                                               basket  \\\n",
       "0                                                                               [{'product_id': 'P61', 'price': 597}]   \n",
       "1                                        [{'product_id': 'P53', 'price': 1694}, {'product_id': 'P55', 'price': 1246}]   \n",
       "2                                        [{'product_id': 'P35', 'price': 1560}, {'product_id': 'P39', 'price': 1218}]   \n",
       "3                                         [{'product_id': 'P18', 'price': 1660}, {'product_id': 'P19', 'price': 319}]   \n",
       "4                                                                               [{'product_id': 'P53', 'price': 165}]   \n",
       "5      [{'product_id': 'P63', 'price': 30}, {'product_id': 'P61', 'price': 157}, {'product_id': 'P62', 'price': 557}]   \n",
       "6  [{'product_id': 'P58', 'price': 1551}, {'product_id': 'P56', 'price': 1970}, {'product_id': 'P42', 'price': 1692}]   \n",
       "7                                                                              [{'product_id': 'P36', 'price': 1423}]   \n",
       "8                                                                               [{'product_id': 'P63', 'price': 128}]   \n",
       "9    [{'product_id': 'P24', 'price': 1001}, {'product_id': 'P26', 'price': 832}, {'product_id': 'P32', 'price': 327}]   \n",
       "\n",
       "             date_of_purchase  \n",
       "0  2020-08-23 10:19:17.490059  \n",
       "1  2020-08-23 11:52:17.490059  \n",
       "2  2020-08-23 02:48:17.490059  \n",
       "3  2020-08-23 01:43:17.490059  \n",
       "4  2020-08-23 03:48:17.490059  \n",
       "5  2020-08-23 12:31:17.490059  \n",
       "6  2020-08-23 00:30:17.490059  \n",
       "7  2020-08-23 13:19:17.490059  \n",
       "8  2020-08-23 05:09:17.490059  \n",
       "9  2020-08-22 22:11:17.490059  "
      ],
      "text/html": "<div>\n<style scoped>\n    .dataframe tbody tr th:only-of-type {\n        vertical-align: middle;\n    }\n\n    .dataframe tbody tr th {\n        vertical-align: top;\n    }\n\n    .dataframe thead th {\n        text-align: right;\n    }\n</style>\n<table border=\"1\" class=\"dataframe\">\n  <thead>\n    <tr style=\"text-align: right;\">\n      <th></th>\n      <th>customer_id</th>\n      <th>basket</th>\n      <th>date_of_purchase</th>\n    </tr>\n  </thead>\n  <tbody>\n    <tr>\n      <th>0</th>\n      <td>C1</td>\n      <td>[{'product_id': 'P61', 'price': 597}]</td>\n      <td>2020-08-23 10:19:17.490059</td>\n    </tr>\n    <tr>\n      <th>1</th>\n      <td>C6</td>\n      <td>[{'product_id': 'P53', 'price': 1694}, {'product_id': 'P55', 'price': 1246}]</td>\n      <td>2020-08-23 11:52:17.490059</td>\n    </tr>\n    <tr>\n      <th>2</th>\n      <td>C17</td>\n      <td>[{'product_id': 'P35', 'price': 1560}, {'product_id': 'P39', 'price': 1218}]</td>\n      <td>2020-08-23 02:48:17.490059</td>\n    </tr>\n    <tr>\n      <th>3</th>\n      <td>C21</td>\n      <td>[{'product_id': 'P18', 'price': 1660}, {'product_id': 'P19', 'price': 319}]</td>\n      <td>2020-08-23 01:43:17.490059</td>\n    </tr>\n    <tr>\n      <th>4</th>\n      <td>C35</td>\n      <td>[{'product_id': 'P53', 'price': 165}]</td>\n      <td>2020-08-23 03:48:17.490059</td>\n    </tr>\n    <tr>\n      <th>5</th>\n      <td>C38</td>\n      <td>[{'product_id': 'P63', 'price': 30}, {'product_id': 'P61', 'price': 157}, {'product_id': 'P62', 'price': 557}]</td>\n      <td>2020-08-23 12:31:17.490059</td>\n    </tr>\n    <tr>\n      <th>6</th>\n      <td>C41</td>\n      <td>[{'product_id': 'P58', 'price': 1551}, {'product_id': 'P56', 'price': 1970}, {'product_id': 'P42', 'price': 1692}]</td>\n      <td>2020-08-23 00:30:17.490059</td>\n    </tr>\n    <tr>\n      <th>7</th>\n      <td>C53</td>\n      <td>[{'product_id': 'P36', 'price': 1423}]</td>\n      <td>2020-08-23 13:19:17.490059</td>\n    </tr>\n    <tr>\n      <th>8</th>\n      <td>C55</td>\n      <td>[{'product_id': 'P63', 'price': 128}]</td>\n      <td>2020-08-23 05:09:17.490059</td>\n    </tr>\n    <tr>\n      <th>9</th>\n      <td>C57</td>\n      <td>[{'product_id': 'P24', 'price': 1001}, {'product_id': 'P26', 'price': 832}, {'product_id': 'P32', 'price': 327}]</td>\n      <td>2020-08-22 22:11:17.490059</td>\n    </tr>\n  </tbody>\n</table>\n</div>"
     },
     "metadata": {},
     "execution_count": 7
    }
   ],
   "source": [
    "pd.set_option('display.max_colwidth', None)\n",
    "\n",
    "filepath = \"/home/dit/DiT/GitHub/Pylingo/Jupyters/DE/starter/transactions\"\n",
    "\n",
    "all_files = []\n",
    "for root, dirs, files in os.walk(filepath):\n",
    "    files = glob.glob(os.path.join(root,'*.json'))\n",
    "    for f in files :\n",
    "        all_files.append(os.path.abspath(f))\n",
    "\n",
    "\n",
    "dfs = []\n",
    "for what in all_files:\n",
    "    a = pd.read_json(what, lines=True)\n",
    "    dfs.append(a)\n",
    "\n",
    "trans_df = pd.concat(dfs, ignore_index=True)\n",
    "trans_df.head(10)"
   ]
  },
  {
   "cell_type": "code",
   "execution_count": 8,
   "metadata": {},
   "outputs": [
    {
     "output_type": "execute_result",
     "data": {
      "text/plain": [
       "(2229, 3)"
      ]
     },
     "metadata": {},
     "execution_count": 8
    }
   ],
   "source": [
    "trans_df.shape"
   ]
  },
  {
   "cell_type": "code",
   "execution_count": 9,
   "metadata": {},
   "outputs": [
    {
     "output_type": "execute_result",
     "data": {
      "text/plain": [
       "C48    30\n",
       "C95    30\n",
       "C67    30\n",
       "C92    30\n",
       "C57    30\n",
       "       ..\n",
       "C46     6\n",
       "C56     6\n",
       "C4      6\n",
       "C29     6\n",
       "C9      6\n",
       "Name: customer_id, Length: 137, dtype: int64"
      ]
     },
     "metadata": {},
     "execution_count": 9
    }
   ],
   "source": [
    "trans_df.customer_id.value_counts()"
   ]
  },
  {
   "cell_type": "code",
   "execution_count": 10,
   "metadata": {},
   "outputs": [
    {
     "output_type": "execute_result",
     "data": {
      "text/plain": [
       "  customer_id                                basket  \\\n",
       "0          C1   {'product_id': 'P61', 'price': 597}   \n",
       "1          C6  {'product_id': 'P53', 'price': 1694}   \n",
       "1          C6  {'product_id': 'P55', 'price': 1246}   \n",
       "2         C17  {'product_id': 'P35', 'price': 1560}   \n",
       "2         C17  {'product_id': 'P39', 'price': 1218}   \n",
       "3         C21  {'product_id': 'P18', 'price': 1660}   \n",
       "3         C21   {'product_id': 'P19', 'price': 319}   \n",
       "4         C35   {'product_id': 'P53', 'price': 165}   \n",
       "5         C38    {'product_id': 'P63', 'price': 30}   \n",
       "5         C38   {'product_id': 'P61', 'price': 157}   \n",
       "\n",
       "             date_of_purchase  \n",
       "0  2020-08-23 10:19:17.490059  \n",
       "1  2020-08-23 11:52:17.490059  \n",
       "1  2020-08-23 11:52:17.490059  \n",
       "2  2020-08-23 02:48:17.490059  \n",
       "2  2020-08-23 02:48:17.490059  \n",
       "3  2020-08-23 01:43:17.490059  \n",
       "3  2020-08-23 01:43:17.490059  \n",
       "4  2020-08-23 03:48:17.490059  \n",
       "5  2020-08-23 12:31:17.490059  \n",
       "5  2020-08-23 12:31:17.490059  "
      ],
      "text/html": "<div>\n<style scoped>\n    .dataframe tbody tr th:only-of-type {\n        vertical-align: middle;\n    }\n\n    .dataframe tbody tr th {\n        vertical-align: top;\n    }\n\n    .dataframe thead th {\n        text-align: right;\n    }\n</style>\n<table border=\"1\" class=\"dataframe\">\n  <thead>\n    <tr style=\"text-align: right;\">\n      <th></th>\n      <th>customer_id</th>\n      <th>basket</th>\n      <th>date_of_purchase</th>\n    </tr>\n  </thead>\n  <tbody>\n    <tr>\n      <th>0</th>\n      <td>C1</td>\n      <td>{'product_id': 'P61', 'price': 597}</td>\n      <td>2020-08-23 10:19:17.490059</td>\n    </tr>\n    <tr>\n      <th>1</th>\n      <td>C6</td>\n      <td>{'product_id': 'P53', 'price': 1694}</td>\n      <td>2020-08-23 11:52:17.490059</td>\n    </tr>\n    <tr>\n      <th>1</th>\n      <td>C6</td>\n      <td>{'product_id': 'P55', 'price': 1246}</td>\n      <td>2020-08-23 11:52:17.490059</td>\n    </tr>\n    <tr>\n      <th>2</th>\n      <td>C17</td>\n      <td>{'product_id': 'P35', 'price': 1560}</td>\n      <td>2020-08-23 02:48:17.490059</td>\n    </tr>\n    <tr>\n      <th>2</th>\n      <td>C17</td>\n      <td>{'product_id': 'P39', 'price': 1218}</td>\n      <td>2020-08-23 02:48:17.490059</td>\n    </tr>\n    <tr>\n      <th>3</th>\n      <td>C21</td>\n      <td>{'product_id': 'P18', 'price': 1660}</td>\n      <td>2020-08-23 01:43:17.490059</td>\n    </tr>\n    <tr>\n      <th>3</th>\n      <td>C21</td>\n      <td>{'product_id': 'P19', 'price': 319}</td>\n      <td>2020-08-23 01:43:17.490059</td>\n    </tr>\n    <tr>\n      <th>4</th>\n      <td>C35</td>\n      <td>{'product_id': 'P53', 'price': 165}</td>\n      <td>2020-08-23 03:48:17.490059</td>\n    </tr>\n    <tr>\n      <th>5</th>\n      <td>C38</td>\n      <td>{'product_id': 'P63', 'price': 30}</td>\n      <td>2020-08-23 12:31:17.490059</td>\n    </tr>\n    <tr>\n      <th>5</th>\n      <td>C38</td>\n      <td>{'product_id': 'P61', 'price': 157}</td>\n      <td>2020-08-23 12:31:17.490059</td>\n    </tr>\n  </tbody>\n</table>\n</div>"
     },
     "metadata": {},
     "execution_count": 10
    }
   ],
   "source": [
    "df = trans_df.explode(\"basket\")\n",
    "df.head(10)"
   ]
  },
  {
   "cell_type": "code",
   "execution_count": 11,
   "metadata": {},
   "outputs": [
    {
     "output_type": "execute_result",
     "data": {
      "text/plain": [
       "  product_id  price\n",
       "0        P61    597\n",
       "1        P53   1694\n",
       "1        P55   1246\n",
       "2        P35   1560\n",
       "2        P39   1218"
      ],
      "text/html": "<div>\n<style scoped>\n    .dataframe tbody tr th:only-of-type {\n        vertical-align: middle;\n    }\n\n    .dataframe tbody tr th {\n        vertical-align: top;\n    }\n\n    .dataframe thead th {\n        text-align: right;\n    }\n</style>\n<table border=\"1\" class=\"dataframe\">\n  <thead>\n    <tr style=\"text-align: right;\">\n      <th></th>\n      <th>product_id</th>\n      <th>price</th>\n    </tr>\n  </thead>\n  <tbody>\n    <tr>\n      <th>0</th>\n      <td>P61</td>\n      <td>597</td>\n    </tr>\n    <tr>\n      <th>1</th>\n      <td>P53</td>\n      <td>1694</td>\n    </tr>\n    <tr>\n      <th>1</th>\n      <td>P55</td>\n      <td>1246</td>\n    </tr>\n    <tr>\n      <th>2</th>\n      <td>P35</td>\n      <td>1560</td>\n    </tr>\n    <tr>\n      <th>2</th>\n      <td>P39</td>\n      <td>1218</td>\n    </tr>\n  </tbody>\n</table>\n</div>"
     },
     "metadata": {},
     "execution_count": 11
    }
   ],
   "source": [
    "basket_df = df['basket'].apply(pd.Series)\n",
    "basket_df.head()"
   ]
  },
  {
   "cell_type": "code",
   "execution_count": 12,
   "metadata": {},
   "outputs": [
    {
     "output_type": "execute_result",
     "data": {
      "text/plain": [
       "  customer_id                                basket  \\\n",
       "0          C1   {'product_id': 'P61', 'price': 597}   \n",
       "1          C6  {'product_id': 'P53', 'price': 1694}   \n",
       "1          C6  {'product_id': 'P55', 'price': 1246}   \n",
       "2         C17  {'product_id': 'P35', 'price': 1560}   \n",
       "2         C17  {'product_id': 'P39', 'price': 1218}   \n",
       "3         C21  {'product_id': 'P18', 'price': 1660}   \n",
       "3         C21   {'product_id': 'P19', 'price': 319}   \n",
       "4         C35   {'product_id': 'P53', 'price': 165}   \n",
       "5         C38    {'product_id': 'P63', 'price': 30}   \n",
       "5         C38   {'product_id': 'P61', 'price': 157}   \n",
       "\n",
       "             date_of_purchase product_id  price  \n",
       "0  2020-08-23 10:19:17.490059        P61    597  \n",
       "1  2020-08-23 11:52:17.490059        P53   1694  \n",
       "1  2020-08-23 11:52:17.490059        P55   1246  \n",
       "2  2020-08-23 02:48:17.490059        P35   1560  \n",
       "2  2020-08-23 02:48:17.490059        P39   1218  \n",
       "3  2020-08-23 01:43:17.490059        P18   1660  \n",
       "3  2020-08-23 01:43:17.490059        P19    319  \n",
       "4  2020-08-23 03:48:17.490059        P53    165  \n",
       "5  2020-08-23 12:31:17.490059        P63     30  \n",
       "5  2020-08-23 12:31:17.490059        P61    157  "
      ],
      "text/html": "<div>\n<style scoped>\n    .dataframe tbody tr th:only-of-type {\n        vertical-align: middle;\n    }\n\n    .dataframe tbody tr th {\n        vertical-align: top;\n    }\n\n    .dataframe thead th {\n        text-align: right;\n    }\n</style>\n<table border=\"1\" class=\"dataframe\">\n  <thead>\n    <tr style=\"text-align: right;\">\n      <th></th>\n      <th>customer_id</th>\n      <th>basket</th>\n      <th>date_of_purchase</th>\n      <th>product_id</th>\n      <th>price</th>\n    </tr>\n  </thead>\n  <tbody>\n    <tr>\n      <th>0</th>\n      <td>C1</td>\n      <td>{'product_id': 'P61', 'price': 597}</td>\n      <td>2020-08-23 10:19:17.490059</td>\n      <td>P61</td>\n      <td>597</td>\n    </tr>\n    <tr>\n      <th>1</th>\n      <td>C6</td>\n      <td>{'product_id': 'P53', 'price': 1694}</td>\n      <td>2020-08-23 11:52:17.490059</td>\n      <td>P53</td>\n      <td>1694</td>\n    </tr>\n    <tr>\n      <th>1</th>\n      <td>C6</td>\n      <td>{'product_id': 'P55', 'price': 1246}</td>\n      <td>2020-08-23 11:52:17.490059</td>\n      <td>P55</td>\n      <td>1246</td>\n    </tr>\n    <tr>\n      <th>2</th>\n      <td>C17</td>\n      <td>{'product_id': 'P35', 'price': 1560}</td>\n      <td>2020-08-23 02:48:17.490059</td>\n      <td>P35</td>\n      <td>1560</td>\n    </tr>\n    <tr>\n      <th>2</th>\n      <td>C17</td>\n      <td>{'product_id': 'P39', 'price': 1218}</td>\n      <td>2020-08-23 02:48:17.490059</td>\n      <td>P39</td>\n      <td>1218</td>\n    </tr>\n    <tr>\n      <th>3</th>\n      <td>C21</td>\n      <td>{'product_id': 'P18', 'price': 1660}</td>\n      <td>2020-08-23 01:43:17.490059</td>\n      <td>P18</td>\n      <td>1660</td>\n    </tr>\n    <tr>\n      <th>3</th>\n      <td>C21</td>\n      <td>{'product_id': 'P19', 'price': 319}</td>\n      <td>2020-08-23 01:43:17.490059</td>\n      <td>P19</td>\n      <td>319</td>\n    </tr>\n    <tr>\n      <th>4</th>\n      <td>C35</td>\n      <td>{'product_id': 'P53', 'price': 165}</td>\n      <td>2020-08-23 03:48:17.490059</td>\n      <td>P53</td>\n      <td>165</td>\n    </tr>\n    <tr>\n      <th>5</th>\n      <td>C38</td>\n      <td>{'product_id': 'P63', 'price': 30}</td>\n      <td>2020-08-23 12:31:17.490059</td>\n      <td>P63</td>\n      <td>30</td>\n    </tr>\n    <tr>\n      <th>5</th>\n      <td>C38</td>\n      <td>{'product_id': 'P61', 'price': 157}</td>\n      <td>2020-08-23 12:31:17.490059</td>\n      <td>P61</td>\n      <td>157</td>\n    </tr>\n  </tbody>\n</table>\n</div>"
     },
     "metadata": {},
     "execution_count": 12
    }
   ],
   "source": [
    "df_flat = pd.concat([df, basket_df], axis=1)\n",
    "df_flat.head(10)"
   ]
  },
  {
   "cell_type": "code",
   "execution_count": 37,
   "metadata": {},
   "outputs": [
    {
     "output_type": "execute_result",
     "data": {
      "text/plain": [
       "     customer_id                                basket  \\\n",
       "0             C1   {'product_id': 'P61', 'price': 597}   \n",
       "1069          C1  {'product_id': 'P09', 'price': 1061}   \n",
       "2094          C1  {'product_id': 'P62', 'price': 1819}   \n",
       "992           C1   {'product_id': 'P61', 'price': 797}   \n",
       "992           C1   {'product_id': 'P63', 'price': 538}   \n",
       "2116          C1   {'product_id': 'P05', 'price': 271}   \n",
       "2116          C1  {'product_id': 'P11', 'price': 1003}   \n",
       "53            C1  {'product_id': 'P61', 'price': 1131}   \n",
       "2162          C1  {'product_id': 'P12', 'price': 1430}   \n",
       "865           C1   {'product_id': 'P61', 'price': 254}   \n",
       "865           C1   {'product_id': 'P62', 'price': 940}   \n",
       "865           C1  {'product_id': 'P62', 'price': 1023}   \n",
       "459           C1  {'product_id': 'P63', 'price': 1572}   \n",
       "459           C1  {'product_id': 'P64', 'price': 1487}   \n",
       "459           C1   {'product_id': 'P63', 'price': 315}   \n",
       "2162          C1  {'product_id': 'P07', 'price': 1060}   \n",
       "53            C1  {'product_id': 'P63', 'price': 1951}   \n",
       "53            C1  {'product_id': 'P62', 'price': 1913}   \n",
       "1069          C1  {'product_id': 'P06', 'price': 1350}   \n",
       "1822          C1   {'product_id': 'P63', 'price': 684}   \n",
       "\n",
       "                date_of_purchase product_id  price  \n",
       "0     2020-08-23 10:19:17.490059        P61    597  \n",
       "1069  2020-09-25 12:52:17.490059        P09   1061  \n",
       "2094  2020-09-21 13:40:17.490059        P62   1819  \n",
       "992   2020-10-30 13:01:17.490059        P61    797  \n",
       "992   2020-10-30 13:01:17.490059        P63    538  \n",
       "2116  2020-08-22 06:11:17.490059        P05    271  \n",
       "2116  2020-08-22 06:11:17.490059        P11   1003  \n",
       "53    2020-08-28 03:04:17.490059        P61   1131  \n",
       "2162  2020-10-22 05:07:17.490059        P12   1430  \n",
       "865   2020-08-16 03:18:17.490059        P61    254  \n",
       "865   2020-08-16 03:18:17.490059        P62    940  \n",
       "865   2020-08-16 03:18:17.490059        P62   1023  \n",
       "459   2020-10-15 09:19:17.490059        P63   1572  \n",
       "459   2020-10-15 09:19:17.490059        P64   1487  \n",
       "459   2020-10-15 09:19:17.490059        P63    315  \n",
       "2162  2020-10-22 05:07:17.490059        P07   1060  \n",
       "53    2020-08-28 03:04:17.490059        P63   1951  \n",
       "53    2020-08-28 03:04:17.490059        P62   1913  \n",
       "1069  2020-09-25 12:52:17.490059        P06   1350  \n",
       "1822  2020-10-11 11:54:17.490059        P63    684  "
      ],
      "text/html": "<div>\n<style scoped>\n    .dataframe tbody tr th:only-of-type {\n        vertical-align: middle;\n    }\n\n    .dataframe tbody tr th {\n        vertical-align: top;\n    }\n\n    .dataframe thead th {\n        text-align: right;\n    }\n</style>\n<table border=\"1\" class=\"dataframe\">\n  <thead>\n    <tr style=\"text-align: right;\">\n      <th></th>\n      <th>customer_id</th>\n      <th>basket</th>\n      <th>date_of_purchase</th>\n      <th>product_id</th>\n      <th>price</th>\n    </tr>\n  </thead>\n  <tbody>\n    <tr>\n      <th>0</th>\n      <td>C1</td>\n      <td>{'product_id': 'P61', 'price': 597}</td>\n      <td>2020-08-23 10:19:17.490059</td>\n      <td>P61</td>\n      <td>597</td>\n    </tr>\n    <tr>\n      <th>1069</th>\n      <td>C1</td>\n      <td>{'product_id': 'P09', 'price': 1061}</td>\n      <td>2020-09-25 12:52:17.490059</td>\n      <td>P09</td>\n      <td>1061</td>\n    </tr>\n    <tr>\n      <th>2094</th>\n      <td>C1</td>\n      <td>{'product_id': 'P62', 'price': 1819}</td>\n      <td>2020-09-21 13:40:17.490059</td>\n      <td>P62</td>\n      <td>1819</td>\n    </tr>\n    <tr>\n      <th>992</th>\n      <td>C1</td>\n      <td>{'product_id': 'P61', 'price': 797}</td>\n      <td>2020-10-30 13:01:17.490059</td>\n      <td>P61</td>\n      <td>797</td>\n    </tr>\n    <tr>\n      <th>992</th>\n      <td>C1</td>\n      <td>{'product_id': 'P63', 'price': 538}</td>\n      <td>2020-10-30 13:01:17.490059</td>\n      <td>P63</td>\n      <td>538</td>\n    </tr>\n    <tr>\n      <th>2116</th>\n      <td>C1</td>\n      <td>{'product_id': 'P05', 'price': 271}</td>\n      <td>2020-08-22 06:11:17.490059</td>\n      <td>P05</td>\n      <td>271</td>\n    </tr>\n    <tr>\n      <th>2116</th>\n      <td>C1</td>\n      <td>{'product_id': 'P11', 'price': 1003}</td>\n      <td>2020-08-22 06:11:17.490059</td>\n      <td>P11</td>\n      <td>1003</td>\n    </tr>\n    <tr>\n      <th>53</th>\n      <td>C1</td>\n      <td>{'product_id': 'P61', 'price': 1131}</td>\n      <td>2020-08-28 03:04:17.490059</td>\n      <td>P61</td>\n      <td>1131</td>\n    </tr>\n    <tr>\n      <th>2162</th>\n      <td>C1</td>\n      <td>{'product_id': 'P12', 'price': 1430}</td>\n      <td>2020-10-22 05:07:17.490059</td>\n      <td>P12</td>\n      <td>1430</td>\n    </tr>\n    <tr>\n      <th>865</th>\n      <td>C1</td>\n      <td>{'product_id': 'P61', 'price': 254}</td>\n      <td>2020-08-16 03:18:17.490059</td>\n      <td>P61</td>\n      <td>254</td>\n    </tr>\n    <tr>\n      <th>865</th>\n      <td>C1</td>\n      <td>{'product_id': 'P62', 'price': 940}</td>\n      <td>2020-08-16 03:18:17.490059</td>\n      <td>P62</td>\n      <td>940</td>\n    </tr>\n    <tr>\n      <th>865</th>\n      <td>C1</td>\n      <td>{'product_id': 'P62', 'price': 1023}</td>\n      <td>2020-08-16 03:18:17.490059</td>\n      <td>P62</td>\n      <td>1023</td>\n    </tr>\n    <tr>\n      <th>459</th>\n      <td>C1</td>\n      <td>{'product_id': 'P63', 'price': 1572}</td>\n      <td>2020-10-15 09:19:17.490059</td>\n      <td>P63</td>\n      <td>1572</td>\n    </tr>\n    <tr>\n      <th>459</th>\n      <td>C1</td>\n      <td>{'product_id': 'P64', 'price': 1487}</td>\n      <td>2020-10-15 09:19:17.490059</td>\n      <td>P64</td>\n      <td>1487</td>\n    </tr>\n    <tr>\n      <th>459</th>\n      <td>C1</td>\n      <td>{'product_id': 'P63', 'price': 315}</td>\n      <td>2020-10-15 09:19:17.490059</td>\n      <td>P63</td>\n      <td>315</td>\n    </tr>\n    <tr>\n      <th>2162</th>\n      <td>C1</td>\n      <td>{'product_id': 'P07', 'price': 1060}</td>\n      <td>2020-10-22 05:07:17.490059</td>\n      <td>P07</td>\n      <td>1060</td>\n    </tr>\n    <tr>\n      <th>53</th>\n      <td>C1</td>\n      <td>{'product_id': 'P63', 'price': 1951}</td>\n      <td>2020-08-28 03:04:17.490059</td>\n      <td>P63</td>\n      <td>1951</td>\n    </tr>\n    <tr>\n      <th>53</th>\n      <td>C1</td>\n      <td>{'product_id': 'P62', 'price': 1913}</td>\n      <td>2020-08-28 03:04:17.490059</td>\n      <td>P62</td>\n      <td>1913</td>\n    </tr>\n    <tr>\n      <th>1069</th>\n      <td>C1</td>\n      <td>{'product_id': 'P06', 'price': 1350}</td>\n      <td>2020-09-25 12:52:17.490059</td>\n      <td>P06</td>\n      <td>1350</td>\n    </tr>\n    <tr>\n      <th>1822</th>\n      <td>C1</td>\n      <td>{'product_id': 'P63', 'price': 684}</td>\n      <td>2020-10-11 11:54:17.490059</td>\n      <td>P63</td>\n      <td>684</td>\n    </tr>\n  </tbody>\n</table>\n</div>"
     },
     "metadata": {},
     "execution_count": 37
    }
   ],
   "source": [
    "df_flat.sort_values(by=['customer_id']).head(20)"
   ]
  },
  {
   "cell_type": "code",
   "execution_count": 17,
   "metadata": {},
   "outputs": [
    {
     "output_type": "execute_result",
     "data": {
      "text/plain": [
       "  customer_id product_id  loyalty_score product_category\n",
       "0          C1        P61              7              bws\n",
       "1          C1        P61              7              bws\n",
       "2          C1        P61              7              bws\n",
       "3          C1        P61              7              bws\n",
       "4          C1        P61              7              bws"
      ],
      "text/html": "<div>\n<style scoped>\n    .dataframe tbody tr th:only-of-type {\n        vertical-align: middle;\n    }\n\n    .dataframe tbody tr th {\n        vertical-align: top;\n    }\n\n    .dataframe thead th {\n        text-align: right;\n    }\n</style>\n<table border=\"1\" class=\"dataframe\">\n  <thead>\n    <tr style=\"text-align: right;\">\n      <th></th>\n      <th>customer_id</th>\n      <th>product_id</th>\n      <th>loyalty_score</th>\n      <th>product_category</th>\n    </tr>\n  </thead>\n  <tbody>\n    <tr>\n      <th>0</th>\n      <td>C1</td>\n      <td>P61</td>\n      <td>7</td>\n      <td>bws</td>\n    </tr>\n    <tr>\n      <th>1</th>\n      <td>C1</td>\n      <td>P61</td>\n      <td>7</td>\n      <td>bws</td>\n    </tr>\n    <tr>\n      <th>2</th>\n      <td>C1</td>\n      <td>P61</td>\n      <td>7</td>\n      <td>bws</td>\n    </tr>\n    <tr>\n      <th>3</th>\n      <td>C1</td>\n      <td>P61</td>\n      <td>7</td>\n      <td>bws</td>\n    </tr>\n    <tr>\n      <th>4</th>\n      <td>C1</td>\n      <td>P61</td>\n      <td>7</td>\n      <td>bws</td>\n    </tr>\n  </tbody>\n</table>\n</div>"
     },
     "metadata": {},
     "execution_count": 17
    }
   ],
   "source": [
    "merge_df = df_flat.merge(cus_df)\n",
    "merge_df =  merge_df.merge(prod_df)\n",
    "merge_df.drop(columns=['basket', 'date_of_purchase', 'product_description', 'price'], inplace=True)\n",
    "\n",
    "merge_df.head()"
   ]
  },
  {
   "cell_type": "code",
   "execution_count": 39,
   "metadata": {},
   "outputs": [
    {
     "output_type": "execute_result",
     "data": {
      "text/plain": [
       "     customer_id product_id  loyalty_score product_category\n",
       "1181          C1        P02              7            house\n",
       "457           C1        P03              7            house\n",
       "949           C1        P04              7            house\n",
       "1121          C1        P05              7            house\n",
       "878           C1        P06              7            house\n",
       "879           C1        P06              7            house\n",
       "1006          C1        P07              7            house\n",
       "1007          C1        P07              7            house\n",
       "1008          C1        P07              7            house\n",
       "521           C1        P09              7            house\n",
       "522           C1        P09              7            house\n",
       "523           C1        P09              7            house\n",
       "1076          C1        P10              7            house\n",
       "810           C1        P11              7            house\n",
       "811           C1        P11              7            house\n",
       "812           C1        P11              7            house\n",
       "588           C1        P12              7            house\n",
       "589           C1        P12              7            house\n",
       "590           C1        P12              7            house\n",
       "0             C1        P61              7              bws"
      ],
      "text/html": "<div>\n<style scoped>\n    .dataframe tbody tr th:only-of-type {\n        vertical-align: middle;\n    }\n\n    .dataframe tbody tr th {\n        vertical-align: top;\n    }\n\n    .dataframe thead th {\n        text-align: right;\n    }\n</style>\n<table border=\"1\" class=\"dataframe\">\n  <thead>\n    <tr style=\"text-align: right;\">\n      <th></th>\n      <th>customer_id</th>\n      <th>product_id</th>\n      <th>loyalty_score</th>\n      <th>product_category</th>\n    </tr>\n  </thead>\n  <tbody>\n    <tr>\n      <th>1181</th>\n      <td>C1</td>\n      <td>P02</td>\n      <td>7</td>\n      <td>house</td>\n    </tr>\n    <tr>\n      <th>457</th>\n      <td>C1</td>\n      <td>P03</td>\n      <td>7</td>\n      <td>house</td>\n    </tr>\n    <tr>\n      <th>949</th>\n      <td>C1</td>\n      <td>P04</td>\n      <td>7</td>\n      <td>house</td>\n    </tr>\n    <tr>\n      <th>1121</th>\n      <td>C1</td>\n      <td>P05</td>\n      <td>7</td>\n      <td>house</td>\n    </tr>\n    <tr>\n      <th>878</th>\n      <td>C1</td>\n      <td>P06</td>\n      <td>7</td>\n      <td>house</td>\n    </tr>\n    <tr>\n      <th>879</th>\n      <td>C1</td>\n      <td>P06</td>\n      <td>7</td>\n      <td>house</td>\n    </tr>\n    <tr>\n      <th>1006</th>\n      <td>C1</td>\n      <td>P07</td>\n      <td>7</td>\n      <td>house</td>\n    </tr>\n    <tr>\n      <th>1007</th>\n      <td>C1</td>\n      <td>P07</td>\n      <td>7</td>\n      <td>house</td>\n    </tr>\n    <tr>\n      <th>1008</th>\n      <td>C1</td>\n      <td>P07</td>\n      <td>7</td>\n      <td>house</td>\n    </tr>\n    <tr>\n      <th>521</th>\n      <td>C1</td>\n      <td>P09</td>\n      <td>7</td>\n      <td>house</td>\n    </tr>\n    <tr>\n      <th>522</th>\n      <td>C1</td>\n      <td>P09</td>\n      <td>7</td>\n      <td>house</td>\n    </tr>\n    <tr>\n      <th>523</th>\n      <td>C1</td>\n      <td>P09</td>\n      <td>7</td>\n      <td>house</td>\n    </tr>\n    <tr>\n      <th>1076</th>\n      <td>C1</td>\n      <td>P10</td>\n      <td>7</td>\n      <td>house</td>\n    </tr>\n    <tr>\n      <th>810</th>\n      <td>C1</td>\n      <td>P11</td>\n      <td>7</td>\n      <td>house</td>\n    </tr>\n    <tr>\n      <th>811</th>\n      <td>C1</td>\n      <td>P11</td>\n      <td>7</td>\n      <td>house</td>\n    </tr>\n    <tr>\n      <th>812</th>\n      <td>C1</td>\n      <td>P11</td>\n      <td>7</td>\n      <td>house</td>\n    </tr>\n    <tr>\n      <th>588</th>\n      <td>C1</td>\n      <td>P12</td>\n      <td>7</td>\n      <td>house</td>\n    </tr>\n    <tr>\n      <th>589</th>\n      <td>C1</td>\n      <td>P12</td>\n      <td>7</td>\n      <td>house</td>\n    </tr>\n    <tr>\n      <th>590</th>\n      <td>C1</td>\n      <td>P12</td>\n      <td>7</td>\n      <td>house</td>\n    </tr>\n    <tr>\n      <th>0</th>\n      <td>C1</td>\n      <td>P61</td>\n      <td>7</td>\n      <td>bws</td>\n    </tr>\n  </tbody>\n</table>\n</div>"
     },
     "metadata": {},
     "execution_count": 39
    }
   ],
   "source": [
    "merge_df.sort_values(by=['customer_id', 'product_id']).head(20)"
   ]
  },
  {
   "cell_type": "code",
   "execution_count": 45,
   "metadata": {},
   "outputs": [
    {
     "output_type": "execute_result",
     "data": {
      "text/plain": [
       "customer_id  product_id\n",
       "C1           P02            1\n",
       "             P03            1\n",
       "             P04            1\n",
       "             P05            1\n",
       "             P06            2\n",
       "             P07            3\n",
       "             P09            3\n",
       "             P10            1\n",
       "             P11            3\n",
       "             P12            3\n",
       "             P61           10\n",
       "             P62            6\n",
       "             P63           11\n",
       "             P64            4\n",
       "C10          P23            1\n",
       "             P25            1\n",
       "             P26            1\n",
       "             P41            1\n",
       "             P42            1\n",
       "             P43            1\n",
       "Name: count, dtype: int64"
      ]
     },
     "metadata": {},
     "execution_count": 45
    }
   ],
   "source": [
    "merge_df['count'] = 1\n",
    "agg_df = merge_df.groupby(['customer_id', 'product_id'])['count'].count()\n",
    "agg_df.head(20)"
   ]
  },
  {
   "cell_type": "code",
   "execution_count": 48,
   "metadata": {},
   "outputs": [
    {
     "output_type": "execute_result",
     "data": {
      "text/plain": [
       "(2174,)"
      ]
     },
     "metadata": {},
     "execution_count": 48
    }
   ],
   "source": [
    "agg_df.shape"
   ]
  },
  {
   "cell_type": "code",
   "execution_count": 46,
   "metadata": {},
   "outputs": [],
   "source": [
    "agg_df.to_csv('agg_df.csv')"
   ]
  },
  {
   "cell_type": "code",
   "execution_count": 58,
   "metadata": {},
   "outputs": [
    {
     "output_type": "execute_result",
     "data": {
      "text/plain": [
       "   customer_id product_id  count_x  loyalty_score product_category  count_y\n",
       "0           C1        P02        1              7            house        1\n",
       "1           C1        P03        1              7            house        1\n",
       "2           C1        P04        1              7            house        1\n",
       "3           C1        P05        1              7            house        1\n",
       "4           C1        P06        2              7            house        1\n",
       "5           C1        P06        2              7            house        1\n",
       "6           C1        P07        3              7            house        1\n",
       "7           C1        P07        3              7            house        1\n",
       "8           C1        P07        3              7            house        1\n",
       "9           C1        P09        3              7            house        1\n",
       "10          C1        P09        3              7            house        1\n",
       "11          C1        P09        3              7            house        1\n",
       "12          C1        P10        1              7            house        1\n",
       "13          C1        P11        3              7            house        1\n",
       "14          C1        P11        3              7            house        1\n",
       "15          C1        P11        3              7            house        1\n",
       "16          C1        P12        3              7            house        1\n",
       "17          C1        P12        3              7            house        1\n",
       "18          C1        P12        3              7            house        1\n",
       "19          C1        P61       10              7              bws        1\n",
       "20          C1        P61       10              7              bws        1\n",
       "21          C1        P61       10              7              bws        1\n",
       "22          C1        P61       10              7              bws        1\n",
       "23          C1        P61       10              7              bws        1\n",
       "24          C1        P61       10              7              bws        1\n",
       "25          C1        P61       10              7              bws        1\n",
       "26          C1        P61       10              7              bws        1\n",
       "27          C1        P61       10              7              bws        1\n",
       "28          C1        P61       10              7              bws        1\n",
       "29          C1        P62        6              7              bws        1"
      ],
      "text/html": "<div>\n<style scoped>\n    .dataframe tbody tr th:only-of-type {\n        vertical-align: middle;\n    }\n\n    .dataframe tbody tr th {\n        vertical-align: top;\n    }\n\n    .dataframe thead th {\n        text-align: right;\n    }\n</style>\n<table border=\"1\" class=\"dataframe\">\n  <thead>\n    <tr style=\"text-align: right;\">\n      <th></th>\n      <th>customer_id</th>\n      <th>product_id</th>\n      <th>count_x</th>\n      <th>loyalty_score</th>\n      <th>product_category</th>\n      <th>count_y</th>\n    </tr>\n  </thead>\n  <tbody>\n    <tr>\n      <th>0</th>\n      <td>C1</td>\n      <td>P02</td>\n      <td>1</td>\n      <td>7</td>\n      <td>house</td>\n      <td>1</td>\n    </tr>\n    <tr>\n      <th>1</th>\n      <td>C1</td>\n      <td>P03</td>\n      <td>1</td>\n      <td>7</td>\n      <td>house</td>\n      <td>1</td>\n    </tr>\n    <tr>\n      <th>2</th>\n      <td>C1</td>\n      <td>P04</td>\n      <td>1</td>\n      <td>7</td>\n      <td>house</td>\n      <td>1</td>\n    </tr>\n    <tr>\n      <th>3</th>\n      <td>C1</td>\n      <td>P05</td>\n      <td>1</td>\n      <td>7</td>\n      <td>house</td>\n      <td>1</td>\n    </tr>\n    <tr>\n      <th>4</th>\n      <td>C1</td>\n      <td>P06</td>\n      <td>2</td>\n      <td>7</td>\n      <td>house</td>\n      <td>1</td>\n    </tr>\n    <tr>\n      <th>5</th>\n      <td>C1</td>\n      <td>P06</td>\n      <td>2</td>\n      <td>7</td>\n      <td>house</td>\n      <td>1</td>\n    </tr>\n    <tr>\n      <th>6</th>\n      <td>C1</td>\n      <td>P07</td>\n      <td>3</td>\n      <td>7</td>\n      <td>house</td>\n      <td>1</td>\n    </tr>\n    <tr>\n      <th>7</th>\n      <td>C1</td>\n      <td>P07</td>\n      <td>3</td>\n      <td>7</td>\n      <td>house</td>\n      <td>1</td>\n    </tr>\n    <tr>\n      <th>8</th>\n      <td>C1</td>\n      <td>P07</td>\n      <td>3</td>\n      <td>7</td>\n      <td>house</td>\n      <td>1</td>\n    </tr>\n    <tr>\n      <th>9</th>\n      <td>C1</td>\n      <td>P09</td>\n      <td>3</td>\n      <td>7</td>\n      <td>house</td>\n      <td>1</td>\n    </tr>\n    <tr>\n      <th>10</th>\n      <td>C1</td>\n      <td>P09</td>\n      <td>3</td>\n      <td>7</td>\n      <td>house</td>\n      <td>1</td>\n    </tr>\n    <tr>\n      <th>11</th>\n      <td>C1</td>\n      <td>P09</td>\n      <td>3</td>\n      <td>7</td>\n      <td>house</td>\n      <td>1</td>\n    </tr>\n    <tr>\n      <th>12</th>\n      <td>C1</td>\n      <td>P10</td>\n      <td>1</td>\n      <td>7</td>\n      <td>house</td>\n      <td>1</td>\n    </tr>\n    <tr>\n      <th>13</th>\n      <td>C1</td>\n      <td>P11</td>\n      <td>3</td>\n      <td>7</td>\n      <td>house</td>\n      <td>1</td>\n    </tr>\n    <tr>\n      <th>14</th>\n      <td>C1</td>\n      <td>P11</td>\n      <td>3</td>\n      <td>7</td>\n      <td>house</td>\n      <td>1</td>\n    </tr>\n    <tr>\n      <th>15</th>\n      <td>C1</td>\n      <td>P11</td>\n      <td>3</td>\n      <td>7</td>\n      <td>house</td>\n      <td>1</td>\n    </tr>\n    <tr>\n      <th>16</th>\n      <td>C1</td>\n      <td>P12</td>\n      <td>3</td>\n      <td>7</td>\n      <td>house</td>\n      <td>1</td>\n    </tr>\n    <tr>\n      <th>17</th>\n      <td>C1</td>\n      <td>P12</td>\n      <td>3</td>\n      <td>7</td>\n      <td>house</td>\n      <td>1</td>\n    </tr>\n    <tr>\n      <th>18</th>\n      <td>C1</td>\n      <td>P12</td>\n      <td>3</td>\n      <td>7</td>\n      <td>house</td>\n      <td>1</td>\n    </tr>\n    <tr>\n      <th>19</th>\n      <td>C1</td>\n      <td>P61</td>\n      <td>10</td>\n      <td>7</td>\n      <td>bws</td>\n      <td>1</td>\n    </tr>\n    <tr>\n      <th>20</th>\n      <td>C1</td>\n      <td>P61</td>\n      <td>10</td>\n      <td>7</td>\n      <td>bws</td>\n      <td>1</td>\n    </tr>\n    <tr>\n      <th>21</th>\n      <td>C1</td>\n      <td>P61</td>\n      <td>10</td>\n      <td>7</td>\n      <td>bws</td>\n      <td>1</td>\n    </tr>\n    <tr>\n      <th>22</th>\n      <td>C1</td>\n      <td>P61</td>\n      <td>10</td>\n      <td>7</td>\n      <td>bws</td>\n      <td>1</td>\n    </tr>\n    <tr>\n      <th>23</th>\n      <td>C1</td>\n      <td>P61</td>\n      <td>10</td>\n      <td>7</td>\n      <td>bws</td>\n      <td>1</td>\n    </tr>\n    <tr>\n      <th>24</th>\n      <td>C1</td>\n      <td>P61</td>\n      <td>10</td>\n      <td>7</td>\n      <td>bws</td>\n      <td>1</td>\n    </tr>\n    <tr>\n      <th>25</th>\n      <td>C1</td>\n      <td>P61</td>\n      <td>10</td>\n      <td>7</td>\n      <td>bws</td>\n      <td>1</td>\n    </tr>\n    <tr>\n      <th>26</th>\n      <td>C1</td>\n      <td>P61</td>\n      <td>10</td>\n      <td>7</td>\n      <td>bws</td>\n      <td>1</td>\n    </tr>\n    <tr>\n      <th>27</th>\n      <td>C1</td>\n      <td>P61</td>\n      <td>10</td>\n      <td>7</td>\n      <td>bws</td>\n      <td>1</td>\n    </tr>\n    <tr>\n      <th>28</th>\n      <td>C1</td>\n      <td>P61</td>\n      <td>10</td>\n      <td>7</td>\n      <td>bws</td>\n      <td>1</td>\n    </tr>\n    <tr>\n      <th>29</th>\n      <td>C1</td>\n      <td>P62</td>\n      <td>6</td>\n      <td>7</td>\n      <td>bws</td>\n      <td>1</td>\n    </tr>\n  </tbody>\n</table>\n</div>"
     },
     "metadata": {},
     "execution_count": 58
    }
   ],
   "source": [
    "pd.merge(agg_df,merge_df, left_on=['customer_id', 'product_id'], right_on=['customer_id', 'product_id']).head(30)"
   ]
  },
  {
   "cell_type": "code",
   "execution_count": null,
   "metadata": {},
   "outputs": [],
   "source": []
  }
 ]
}