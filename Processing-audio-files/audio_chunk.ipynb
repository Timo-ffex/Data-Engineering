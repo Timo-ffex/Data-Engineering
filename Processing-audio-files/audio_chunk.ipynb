{
 "cells": [
  {
   "cell_type": "code",
   "execution_count": null,
   "metadata": {},
   "outputs": [],
   "source": [
    "import os\n",
    "import glob\n",
    "from pydub import AudioSegment\n",
    "# import ffmpeg\n",
    "\n",
    "\n",
    "directory = r'C:\\DiT\\CS\\Data Engineer\\Audio-data\\recordings1\\1_samuel' \n",
    "list_of_audio_filepath = os.listdir(directory)\n",
    "\n",
    "AudioSegment.converter = r\"C:\\DiT\\PACKAGES\\ffmpeg-static\\bin\\ffmpeg.exe\"\n",
    "AudioSegment.ffmpeg = r\"C:\\DiT\\PACKAGES\\ffmpeg-static\\bin\\ffmpeg.exe\"\n",
    "AudioSegment.ffprobe = r\"C:\\DiT\\PACKAGES\\ffmpeg-static\\bin\\ffprobe.exe\"\n",
    "\n",
    "# p = r'C:\\\\DiT\\\\CS\\\\Data Engineer\\\\Audio-data\\\\recordings1\\\\1_samuel\\\\1sam1.mp3'\n",
    "p = r'C:\\DiT\\Programming\\GitHub\\Pylingo\\Jupyters\\james_blunt-carry_you_home.mp3'\n",
    "# p = r\"C:\\Users\\user\\Music\\Pastor Joseph Prince\\Life and Health - Joseph Prince - 2019.mp3\"\n",
    "audio = AudioSegment.from_mp3(p)\n",
    "# filepath\n",
    "len(audio)/2"
   ]
  },
  {
   "cell_type": "code",
   "execution_count": null,
   "metadata": {
    "scrolled": true
   },
   "outputs": [],
   "source": [
    "import os\n",
    "import glob\n",
    "from pydub import AudioSegment\n",
    "# import ffmpeg\n",
    "\n",
    "\n",
    "directory = r'C:\\DiT\\CS\\Data Engineer\\Audio-data\\recordings1\\1_samuel'\n",
    "list_of_audio_filepath = os.listdir(directory + '\\d\\\\')\n",
    "\n",
    "AudioSegment.converter = r\"C:\\DiT\\PACKAGES\\ffmpeg-static\\bin\\ffmpeg.exe\"\n",
    "AudioSegment.ffmpeg = r\"C:\\DiT\\PACKAGES\\ffmpeg-static\\bin\\ffmpeg.exe\"\n",
    "AudioSegment.ffprobe = r\"C:\\DiT\\PACKAGES\\ffmpeg-static\\bin\\ffprobe.exe\"\n",
    "\n",
    "text_file = r'C:\\DiT\\CS\\Data Engineer\\Audio-data\\recordings1\\1_samuel\\chunks\\documentation.txt'\n",
    "text = open(text_file, 'w+')\n",
    "\n",
    "counter = 1\n",
    "what_file = 0\n",
    "\n",
    "for audio_path in list_of_audio_filepath:  \n",
    "    \n",
    "    audio = ''\n",
    "    # make folder to save chunk file in the directory\n",
    "    try:\n",
    "        os.mkdir(directory + '/chunks')\n",
    "    except:\n",
    "        print(\"Path already exists\\n\")\n",
    "    \n",
    "    filepath = directory+ '\\d\\\\' + audio_path\n",
    "    audio = AudioSegment.from_mp3(filepath)\n",
    "\n",
    "    what_file += 1\n",
    "    text.writelines(f'1sam_trim{what_file} begins at chunk {counter}\\n\\n')\n",
    "    print(f\"processing 1sam_trim{what_file}\")\n",
    "    \n",
    "    file_length = len(audio)\n",
    "    interval = 15*1000 # chuck length is 10 seceonds\n",
    "\n",
    "    # with overlap as 1s, the chunks will be created;\n",
    "    # chunk1: 0-10s, chunk2: 9-19, chunk3: 18-28\n",
    "    overlap = 1000 \n",
    "\n",
    "    # Initialize start and end seconds to 0 \n",
    "    start = 0\n",
    "    end = 0\n",
    "\n",
    "    # To keep tracks of the end of file \n",
    "    flag = 0\n",
    "\n",
    "\n",
    "    # Iterate using 'intervel' as step\n",
    "    for i in range(0, 2 * file_length, interval): \n",
    "\n",
    "        # This only happens at the beginning of the iteration\n",
    "        if i == 0: \n",
    "            start = 0\n",
    "            end = interval \n",
    "\n",
    "        # set end-overlap at the new start and set start+interval at the new end\n",
    "        else: \n",
    "            start = end - overlap \n",
    "            end = start + interval\n",
    "\n",
    "\n",
    "        # Storing audio file from the defined start to end \n",
    "        chunk = audio[start:end] \n",
    "\n",
    "        # Filename / Path to store the sliced audio\n",
    "        if counter < 10:\n",
    "            filename = directory + '/chunks/1_samuel_chunk00'+str(counter)+'.wav'\n",
    "        elif counter >=10 and counter < 100:\n",
    "            filename = directory + '/chunks/1_samuel_chunk0'+str(counter)+'.wav'\n",
    "        else:\n",
    "            filename = directory + '/chunks/1_samuel_chunk'+str(counter)+'.wav'\n",
    "            \n",
    "        # Store the sliced audio file to the defined path \n",
    "        chunk.export(filename, format =\"wav\", bitrate=None) \n",
    "        # Print information about the current chunk \n",
    "        print(\"Processing chunk \"+str(counter)+\". Start = \"\n",
    "                            +str(start)+\" end = \"+str(end))\n",
    "\n",
    "        # Check if loop has not  \n",
    "        if end >= file_length: \n",
    "            end = file_length \n",
    "            flag = 1\n",
    "            break\n",
    "\n",
    "        # Increment counter for the next chunk \n",
    "        counter = counter + 1\n",
    "\n",
    "print('\\n\\nDone!')\n",
    "text.close()"
   ]
  },
  {
   "cell_type": "markdown",
   "metadata": {},
   "source": [
    "# Testing"
   ]
  },
  {
   "cell_type": "code",
   "execution_count": 1,
   "metadata": {},
   "outputs": [],
   "source": [
    "import os\n",
    "import glob\n",
    "from pydub import AudioSegment\n",
    "\n",
    "AudioSegment.converter = r\"C:\\DiT\\PACKAGES\\ffmpeg-static\\bin\\ffmpeg.exe\"\n",
    "AudioSegment.ffmpeg = r\"C:\\DiT\\PACKAGES\\ffmpeg-static\\bin\\ffmpeg.exe\"\n",
    "AudioSegment.ffprobe = r\"C:\\DiT\\PACKAGES\\ffmpeg-static\\bin\\ffprobe.exe\"\n",
    "\n",
    "\n",
    "def chunk_file(audio_path, output_path):\n",
    "    audio = ''\n",
    "    \n",
    "    what_file = 1\n",
    "    counter = 1\n",
    "    text_file = f'{output_path}/documentation.txt'\n",
    "    text = open(text_file, 'w+')\n",
    "\n",
    "    audio_name = audio_path.split(\"/\")[-1]\n",
    "    print(f\"{audio_path} is the audio path\")\n",
    "    text.writelines(f'{audio_name[:-4]}_pt-{what_file} begins at chunk {counter}\\n\\n')\n",
    "    print(f\"processing {audio_name[:-4]}_trim-{what_file}\")\n",
    "\n",
    "    \n",
    "    audio = AudioSegment.from_mp3(audio_path)\n",
    "    file_length = len(audio)\n",
    "    interval = 15*1000 # chuck length is 10 seceonds\n",
    "\n",
    "    # with overlap as 1s, the chunks will be created;\n",
    "    # chunk1: 0-10s, chunk2: 9-19, chunk3: 18-28\n",
    "    overlap = 2000 \n",
    "\n",
    "    # Initialize start and end seconds to 0 \n",
    "    start, end = 0, 0\n",
    "\n",
    "    # To keep tracks of the end of file \n",
    "    flag = 0\n",
    "\n",
    "    # Iterate using 'intervel' as step\n",
    "    for i in range(0, 2 * file_length, interval): \n",
    "\n",
    "        # This only happens at the beginning of the iteration\n",
    "        if i == 0: \n",
    "            start = 0\n",
    "            end = interval \n",
    "\n",
    "        # set end-overlap at the new start and set start+interval at the new end\n",
    "        else: \n",
    "            start = end - overlap \n",
    "            end = start + interval\n",
    "\n",
    "        # Storing audio file from the defined start to end \n",
    "        chunk = audio[start:end] \n",
    "\n",
    "        # Filename / Path to store the sliced audio\n",
    "        if counter < 10:\n",
    "            filename = f\"{output_path}/{audio_name[:-4]}_chunk00{counter}.wav\"\n",
    "        elif counter >=10 and counter < 100:\n",
    "            filename = f\"{output_path}/{audio_name[:-4]}_chunk0{counter}.wav\"\n",
    "        else:\n",
    "            filename = f\"{output_path}/{audio_name[:-4]}_chunk{counter}.wav\"\n",
    "        \n",
    "         # Store the sliced audio file to the defined path \n",
    "        chunk.export(filename, format =\"wav\", bitrate=None) \n",
    "        # Print information about the current chunk \n",
    "        print(\"Processing chunk \"+str(counter)+\". Start = \"\n",
    "                            +str(start)+\" end = \"+str(end))\n",
    "\n",
    "        # Check if loop has not  \n",
    "        if end >= file_length: \n",
    "            end = file_length \n",
    "            flag = 1\n",
    "            break\n",
    "\n",
    "        # Increment counter for the next chunk \n",
    "        counter = counter + 1\n",
    "    \n",
    "    text.close()\n",
    "\n",
    "\n",
    "\n",
    "# make folder to save chunk file in the directory\n",
    "def get_audio_to_chunk(directory):\n",
    "    counter = 1\n",
    "    what_file = 0\n",
    "\n",
    "    files_to_chunk_filepath = f\"{directory}/processed_files\"\n",
    "    print(f\"{files_to_chunk_filepath} is the file to chunk filepath\")\n",
    "    try:\n",
    "        list_of_audios = os.listdir(files_to_chunk_filepath)\n",
    "        os.mkdir(directory + '/chunks')\n",
    "    except Exception as e:\n",
    "        print(e)\n",
    "\n",
    "    for audio in list_of_audios:\n",
    "        audio_path = f\"{files_to_chunk_filepath}/{audio}\"\n",
    "\n",
    "        print(f\"the name of the audio is {audio}\")\n",
    "        print(audio_path, '\\n\\n')\n",
    "        chunk_file(audio_path, directory + '/chunks')"
   ]
  },
  {
   "cell_type": "code",
   "execution_count": 3,
   "metadata": {
    "tags": []
   },
   "outputs": [
    {
     "output_type": "stream",
     "name": "stdout",
     "text": "C:\\DiT\\CS\\Data_Engineer\\Audio-data\\bible\\Deut/processed_files is the file to chunk filepath\nthe name of the audio is Deut_18_to_34_pt1.mp3\nC:\\DiT\\CS\\Data_Engineer\\Audio-data\\bible\\Deut/processed_files/Deut_18_to_34_pt1.mp3 \n\n\nC:\\DiT\\CS\\Data_Engineer\\Audio-data\\bible\\Deut/processed_files/Deut_18_to_34_pt1.mp3 is the audio path\nprocessing Deut_18_to_34_pt1_trim-1\nProcessing chunk 1. Start = 0 end = 15000\nProcessing chunk 2. Start = 13000 end = 28000\nProcessing chunk 3. Start = 26000 end = 41000\nProcessing chunk 4. Start = 39000 end = 54000\nProcessing chunk 5. Start = 52000 end = 67000\nProcessing chunk 6. Start = 65000 end = 80000\nProcessing chunk 7. Start = 78000 end = 93000\nProcessing chunk 8. Start = 91000 end = 106000\nProcessing chunk 9. Start = 104000 end = 119000\nProcessing chunk 10. Start = 117000 end = 132000\nProcessing chunk 11. Start = 130000 end = 145000\nProcessing chunk 12. Start = 143000 end = 158000\nProcessing chunk 13. Start = 156000 end = 171000\nProcessing chunk 14. Start = 169000 end = 184000\nProcessing chunk 15. Start = 182000 end = 197000\nProcessing chunk 16. Start = 195000 end = 210000\nProcessing chunk 17. Start = 208000 end = 223000\nProcessing chunk 18. Start = 221000 end = 236000\nProcessing chunk 19. Start = 234000 end = 249000\nProcessing chunk 20. Start = 247000 end = 262000\nProcessing chunk 21. Start = 260000 end = 275000\nProcessing chunk 22. Start = 273000 end = 288000\nProcessing chunk 23. Start = 286000 end = 301000\nProcessing chunk 24. Start = 299000 end = 314000\nProcessing chunk 25. Start = 312000 end = 327000\nProcessing chunk 26. Start = 325000 end = 340000\nProcessing chunk 27. Start = 338000 end = 353000\nProcessing chunk 28. Start = 351000 end = 366000\nProcessing chunk 29. Start = 364000 end = 379000\nProcessing chunk 30. Start = 377000 end = 392000\nProcessing chunk 31. Start = 390000 end = 405000\nProcessing chunk 32. Start = 403000 end = 418000\nProcessing chunk 33. Start = 416000 end = 431000\nProcessing chunk 34. Start = 429000 end = 444000\nProcessing chunk 35. Start = 442000 end = 457000\nProcessing chunk 36. Start = 455000 end = 470000\nProcessing chunk 37. Start = 468000 end = 483000\nProcessing chunk 38. Start = 481000 end = 496000\nProcessing chunk 39. Start = 494000 end = 509000\nProcessing chunk 40. Start = 507000 end = 522000\nProcessing chunk 41. Start = 520000 end = 535000\nProcessing chunk 42. Start = 533000 end = 548000\nProcessing chunk 43. Start = 546000 end = 561000\nProcessing chunk 44. Start = 559000 end = 574000\nProcessing chunk 45. Start = 572000 end = 587000\nProcessing chunk 46. Start = 585000 end = 600000\nProcessing chunk 47. Start = 598000 end = 613000\nProcessing chunk 48. Start = 611000 end = 626000\n"
    },
    {
     "output_type": "error",
     "ename": "KeyboardInterrupt",
     "evalue": "",
     "traceback": [
      "\u001b[1;31m---------------------------------------------------------------------------\u001b[0m",
      "\u001b[1;31mKeyboardInterrupt\u001b[0m                         Traceback (most recent call last)",
      "\u001b[1;32m<ipython-input-3-7ee62d80d3f8>\u001b[0m in \u001b[0;36m<module>\u001b[1;34m\u001b[0m\n\u001b[0;32m      1\u001b[0m \u001b[0mdirectory\u001b[0m \u001b[1;33m=\u001b[0m \u001b[1;34mr\"C:\\DiT\\CS\\Data_Engineer\\Audio-data\\bible\\Deut\"\u001b[0m\u001b[1;33m\u001b[0m\u001b[1;33m\u001b[0m\u001b[0m\n\u001b[1;32m----> 2\u001b[1;33m \u001b[0mget_audio_to_chunk\u001b[0m\u001b[1;33m(\u001b[0m\u001b[0mdirectory\u001b[0m\u001b[1;33m)\u001b[0m\u001b[1;33m\u001b[0m\u001b[1;33m\u001b[0m\u001b[0m\n\u001b[0m",
      "\u001b[1;32m<ipython-input-1-a3a4b03f53f1>\u001b[0m in \u001b[0;36mget_audio_to_chunk\u001b[1;34m(directory)\u001b[0m\n\u001b[0;32m     97\u001b[0m         \u001b[0mprint\u001b[0m\u001b[1;33m(\u001b[0m\u001b[1;34mf\"the name of the audio is {audio}\"\u001b[0m\u001b[1;33m)\u001b[0m\u001b[1;33m\u001b[0m\u001b[1;33m\u001b[0m\u001b[0m\n\u001b[0;32m     98\u001b[0m         \u001b[0mprint\u001b[0m\u001b[1;33m(\u001b[0m\u001b[0maudio_path\u001b[0m\u001b[1;33m,\u001b[0m \u001b[1;34m'\\n\\n'\u001b[0m\u001b[1;33m)\u001b[0m\u001b[1;33m\u001b[0m\u001b[1;33m\u001b[0m\u001b[0m\n\u001b[1;32m---> 99\u001b[1;33m         \u001b[0mchunk_file\u001b[0m\u001b[1;33m(\u001b[0m\u001b[0maudio_path\u001b[0m\u001b[1;33m,\u001b[0m \u001b[0mdirectory\u001b[0m \u001b[1;33m+\u001b[0m \u001b[1;34m'/chunks'\u001b[0m\u001b[1;33m)\u001b[0m\u001b[1;33m\u001b[0m\u001b[1;33m\u001b[0m\u001b[0m\n\u001b[0m",
      "\u001b[1;32m<ipython-input-1-a3a4b03f53f1>\u001b[0m in \u001b[0;36mchunk_file\u001b[1;34m(audio_path, output_path)\u001b[0m\n\u001b[0;32m     61\u001b[0m \u001b[1;33m\u001b[0m\u001b[0m\n\u001b[0;32m     62\u001b[0m          \u001b[1;31m# Store the sliced audio file to the defined path\u001b[0m\u001b[1;33m\u001b[0m\u001b[1;33m\u001b[0m\u001b[1;33m\u001b[0m\u001b[0m\n\u001b[1;32m---> 63\u001b[1;33m         \u001b[0mchunk\u001b[0m\u001b[1;33m.\u001b[0m\u001b[0mexport\u001b[0m\u001b[1;33m(\u001b[0m\u001b[0mfilename\u001b[0m\u001b[1;33m,\u001b[0m \u001b[0mformat\u001b[0m \u001b[1;33m=\u001b[0m\u001b[1;34m\"wav\"\u001b[0m\u001b[1;33m,\u001b[0m \u001b[0mbitrate\u001b[0m\u001b[1;33m=\u001b[0m\u001b[1;32mNone\u001b[0m\u001b[1;33m)\u001b[0m\u001b[1;33m\u001b[0m\u001b[1;33m\u001b[0m\u001b[0m\n\u001b[0m\u001b[0;32m     64\u001b[0m         \u001b[1;31m# Print information about the current chunk\u001b[0m\u001b[1;33m\u001b[0m\u001b[1;33m\u001b[0m\u001b[1;33m\u001b[0m\u001b[0m\n\u001b[0;32m     65\u001b[0m         print(\"Processing chunk \"+str(counter)+\". Start = \"\n",
      "\u001b[1;32m~\\AppData\\Local\\Programs\\Python\\Python38-32\\lib\\site-packages\\pydub\\audio_segment.py\u001b[0m in \u001b[0;36mexport\u001b[1;34m(self, out_f, format, codec, bitrate, parameters, tags, id3v2_version, cover)\u001b[0m\n\u001b[0;32m    835\u001b[0m         \u001b[1;31m# a float in python 2 doesn't throw an exception\u001b[0m\u001b[1;33m\u001b[0m\u001b[1;33m\u001b[0m\u001b[1;33m\u001b[0m\u001b[0m\n\u001b[0;32m    836\u001b[0m         \u001b[0mwave_data\u001b[0m\u001b[1;33m.\u001b[0m\u001b[0msetnframes\u001b[0m\u001b[1;33m(\u001b[0m\u001b[0mint\u001b[0m\u001b[1;33m(\u001b[0m\u001b[0mself\u001b[0m\u001b[1;33m.\u001b[0m\u001b[0mframe_count\u001b[0m\u001b[1;33m(\u001b[0m\u001b[1;33m)\u001b[0m\u001b[1;33m)\u001b[0m\u001b[1;33m)\u001b[0m\u001b[1;33m\u001b[0m\u001b[1;33m\u001b[0m\u001b[0m\n\u001b[1;32m--> 837\u001b[1;33m         \u001b[0mwave_data\u001b[0m\u001b[1;33m.\u001b[0m\u001b[0mwriteframesraw\u001b[0m\u001b[1;33m(\u001b[0m\u001b[0mpcm_for_wav\u001b[0m\u001b[1;33m)\u001b[0m\u001b[1;33m\u001b[0m\u001b[1;33m\u001b[0m\u001b[0m\n\u001b[0m\u001b[0;32m    838\u001b[0m         \u001b[0mwave_data\u001b[0m\u001b[1;33m.\u001b[0m\u001b[0mclose\u001b[0m\u001b[1;33m(\u001b[0m\u001b[1;33m)\u001b[0m\u001b[1;33m\u001b[0m\u001b[1;33m\u001b[0m\u001b[0m\n\u001b[0;32m    839\u001b[0m \u001b[1;33m\u001b[0m\u001b[0m\n",
      "\u001b[1;32m~\\AppData\\Local\\Programs\\Python\\Python38-32\\lib\\wave.py\u001b[0m in \u001b[0;36mwriteframesraw\u001b[1;34m(self, data)\u001b[0m\n\u001b[0;32m    431\u001b[0m         \u001b[1;32mif\u001b[0m \u001b[0mself\u001b[0m\u001b[1;33m.\u001b[0m\u001b[0m_sampwidth\u001b[0m \u001b[1;33m!=\u001b[0m \u001b[1;36m1\u001b[0m \u001b[1;32mand\u001b[0m \u001b[0msys\u001b[0m\u001b[1;33m.\u001b[0m\u001b[0mbyteorder\u001b[0m \u001b[1;33m==\u001b[0m \u001b[1;34m'big'\u001b[0m\u001b[1;33m:\u001b[0m\u001b[1;33m\u001b[0m\u001b[1;33m\u001b[0m\u001b[0m\n\u001b[0;32m    432\u001b[0m             \u001b[0mdata\u001b[0m \u001b[1;33m=\u001b[0m \u001b[0maudioop\u001b[0m\u001b[1;33m.\u001b[0m\u001b[0mbyteswap\u001b[0m\u001b[1;33m(\u001b[0m\u001b[0mdata\u001b[0m\u001b[1;33m,\u001b[0m \u001b[0mself\u001b[0m\u001b[1;33m.\u001b[0m\u001b[0m_sampwidth\u001b[0m\u001b[1;33m)\u001b[0m\u001b[1;33m\u001b[0m\u001b[1;33m\u001b[0m\u001b[0m\n\u001b[1;32m--> 433\u001b[1;33m         \u001b[0mself\u001b[0m\u001b[1;33m.\u001b[0m\u001b[0m_file\u001b[0m\u001b[1;33m.\u001b[0m\u001b[0mwrite\u001b[0m\u001b[1;33m(\u001b[0m\u001b[0mdata\u001b[0m\u001b[1;33m)\u001b[0m\u001b[1;33m\u001b[0m\u001b[1;33m\u001b[0m\u001b[0m\n\u001b[0m\u001b[0;32m    434\u001b[0m         \u001b[0mself\u001b[0m\u001b[1;33m.\u001b[0m\u001b[0m_datawritten\u001b[0m \u001b[1;33m+=\u001b[0m \u001b[0mlen\u001b[0m\u001b[1;33m(\u001b[0m\u001b[0mdata\u001b[0m\u001b[1;33m)\u001b[0m\u001b[1;33m\u001b[0m\u001b[1;33m\u001b[0m\u001b[0m\n\u001b[0;32m    435\u001b[0m         \u001b[0mself\u001b[0m\u001b[1;33m.\u001b[0m\u001b[0m_nframeswritten\u001b[0m \u001b[1;33m=\u001b[0m \u001b[0mself\u001b[0m\u001b[1;33m.\u001b[0m\u001b[0m_nframeswritten\u001b[0m \u001b[1;33m+\u001b[0m \u001b[0mnframes\u001b[0m\u001b[1;33m\u001b[0m\u001b[1;33m\u001b[0m\u001b[0m\n",
      "\u001b[1;31mKeyboardInterrupt\u001b[0m: "
     ]
    }
   ],
   "source": [
    "directory = r\"C:\\DiT\\CS\\Data_Engineer\\Audio-data\\bible\\Deut\"\n",
    "get_audio_to_chunk(directory)"
   ]
  },
  {
   "cell_type": "code",
   "execution_count": null,
   "metadata": {
    "tags": []
   },
   "outputs": [],
   "source": [
    "directory = r\"C:\\DiT\\CS\\Data_Engineer\\Audio-data\\Gen\"\n",
    "list_of_audio_filepath = os.listdir(directory)\n",
    "for what in list_of_audio_filepath:\n",
    "    print(what[:-4])"
   ]
  },
  {
   "cell_type": "code",
   "execution_count": null,
   "metadata": {},
   "outputs": [],
   "source": [
    "import os\n",
    "\n",
    "directory = r'C:\\DiT\\CS\\Data Engineer\\Audio-data\\psalm' \n",
    "list_of_audio_filepath = os.listdir(directory)\n",
    "list_of_audio_filepath"
   ]
  },
  {
   "cell_type": "code",
   "execution_count": null,
   "metadata": {
    "tags": []
   },
   "outputs": [],
   "source": [
    "for what in list_of_audio_filepath:\n",
    "    a =  what.split('-')[0]\n",
    "    print(a)"
   ]
  },
  {
   "cell_type": "code",
   "execution_count": null,
   "metadata": {},
   "outputs": [],
   "source": [
    "audio_path = r\"C:\\DiT\\PACKAGES\\ffmpeg-static\\bin\\ffprobe.exe\"\n",
    "audio_path.split(\"\\\\\")[-1]\n"
   ]
  },
  {
   "cell_type": "code",
   "execution_count": null,
   "metadata": {},
   "outputs": [],
   "source": [
    "20*60*4 + 6*60"
   ]
  },
  {
   "cell_type": "code",
   "execution_count": null,
   "metadata": {},
   "outputs": [],
   "source": [
    "5160/15\n"
   ]
  },
  {
   "cell_type": "code",
   "execution_count": 36,
   "metadata": {
    "tags": []
   },
   "outputs": [
    {
     "output_type": "stream",
     "name": "stdout",
     "text": "C:\\DiT\\CS\\\\Data_Engineer\\\\Audio-data\\\\bible\\1_samuel\nC:\\DiT\\CS\\\\Data_Engineer\\\\Audio-data\\\\bible\\2_samuel\nC:\\DiT\\CS\\\\Data_Engineer\\\\Audio-data\\\\bible\\Deut\nC:\\DiT\\CS\\\\Data_Engineer\\\\Audio-data\\\\bible\\Exodus\nC:\\DiT\\CS\\\\Data_Engineer\\\\Audio-data\\\\bible\\Gen\nC:\\DiT\\CS\\\\Data_Engineer\\\\Audio-data\\\\bible\\mark\nC:\\DiT\\CS\\\\Data_Engineer\\\\Audio-data\\\\bible\\Matt\nC:\\DiT\\CS\\\\Data_Engineer\\\\Audio-data\\\\bible\\psalm\n"
    }
   ],
   "source": [
    "import os\n",
    "import glob\n",
    "\n",
    "filepath = r\"C:\\DiT\\CS\\\\Data_Engineer\\\\Audio-data\\\\bible\"\n",
    "\n",
    "a = os.listdir(filepath)\n",
    "\n",
    "for path in a:\n",
    "    path = f\"{filepath}\\\\{path}\"\n",
    "\n",
    "    print(path)\n",
    "\n"
   ]
  },
  {
   "cell_type": "code",
   "execution_count": 32,
   "metadata": {},
   "outputs": [
    {
     "output_type": "execute_result",
     "data": {
      "text/plain": "['C:\\\\DiT\\\\CS\\\\Data_Engineer\\\\Audio-data\\\\bible\\\\Gen',\n 'C:\\\\DiT\\\\CS\\\\Data_Engineer\\\\Audio-data\\\\bible\\\\mark',\n 'C:\\\\DiT\\\\CS\\\\Data_Engineer\\\\Audio-data\\\\bible\\\\Matt',\n 'C:\\\\DiT\\\\CS\\\\Data_Engineer\\\\Audio-data\\\\bible\\\\psalm']"
     },
     "metadata": {},
     "execution_count": 32
    }
   ],
   "source": [
    "all_files[5:]"
   ]
  },
  {
   "cell_type": "code",
   "execution_count": 34,
   "metadata": {},
   "outputs": [
    {
     "output_type": "execute_result",
     "data": {
      "text/plain": "['C:\\\\DiT\\\\CS\\\\Data_Engineer\\\\Audio-data\\\\bible\\\\Gen',\n 'C:\\\\DiT\\\\CS\\\\Data_Engineer\\\\Audio-data\\\\bible\\\\Matt',\n 'C:\\\\DiT\\\\CS\\\\Data_Engineer\\\\Audio-data\\\\bible\\\\mark',\n 'C:\\\\DiT\\\\CS\\\\Data_Engineer\\\\Audio-data\\\\bible\\\\psalm']"
     },
     "metadata": {},
     "execution_count": 34
    }
   ],
   "source": [
    "sorted(all_files[5:])"
   ]
  },
  {
   "cell_type": "code",
   "execution_count": null,
   "metadata": {},
   "outputs": [],
   "source": []
  }
 ],
 "metadata": {
  "kernelspec": {
   "display_name": "Python 3.8.0 32-bit",
   "language": "python",
   "name": "python38032bit2952d1fbf4ef4226a2083fe489539590"
  },
  "language_info": {
   "codemirror_mode": {
    "name": "ipython",
    "version": 3
   },
   "file_extension": ".py",
   "mimetype": "text/x-python",
   "name": "python",
   "nbconvert_exporter": "python",
   "pygments_lexer": "ipython3",
   "version": "3.8.0-final"
  }
 },
 "nbformat": 4,
 "nbformat_minor": 4
}