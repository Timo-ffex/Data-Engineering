{
 "cells": [
  {
   "cell_type": "code",
   "execution_count": 1,
   "metadata": {},
   "outputs": [
    {
     "output_type": "execute_result",
     "data": {
      "text/plain": "\"\\nKeep chp2 - \\\\D{3,4}[\\\\d]\\nremove all number without boundaries - \\x08\\\\d{1,3}\\x08\\nremove chars not needed - [,:;.()'-]\\n\""
     },
     "metadata": {},
     "execution_count": 1
    }
   ],
   "source": [
    "import os\n",
    "import re\n",
    "import findspark\n",
    "import pandas as pd\n",
    "import re\n",
    "import codecs\n",
    "\n",
    "SPARK_HOME = os.getenv(\"SPARK_HOME\")\n",
    "findspark.init(SPARK_HOME)\n",
    "\n",
    "from pyspark import SparkContext, SparkConf\n",
    "\n",
    "\"\"\"\n",
    "Keep chp2 - \\D{3,4}[\\d]\n",
    "remove all number without boundaries - \\b\\d{1,3}\\b\n",
    "remove chars not needed - [,:;.()'-]\n",
    "\"\"\""
   ]
  },
  {
   "cell_type": "code",
   "execution_count": null,
   "metadata": {},
   "outputs": [],
   "source": [
    "import csv\n",
    "\n",
    "with open('players.csv', 'w', newline='') as file:\n",
    "    fieldnames = ['player_name', 'fide_rating']\n",
    "    writer = csv.DictWriter(file, fieldnames=fieldnames)\n",
    "\n",
    "    writer.writeheader()\n",
    "    writer.writerow({'player_name': 'Magnus Carlsen', 'fide_rating': 2870})\n",
    "    writer.writerow({'player_name': 'Fabiano Caruana', 'fide_rating': 2822})\n",
    "    writer.writerow({'player_name': 'Ding Liren', 'fide_rating': 2801})"
   ]
  },
  {
   "cell_type": "code",
   "execution_count": null,
   "metadata": {
    "tags": []
   },
   "outputs": [],
   "source": [
    "import codecs\n",
    "\n",
    "clean =  lambda x:  re.sub(r'\\b\\d{1,3}\\b', '', x)\n",
    "text =  codecs.open('text/1sam.txt','r',encoding='cp720')\n",
    "\n",
    "text = clean(text)\n",
    "    \n",
    "with open(\"text/convert.csv\", 'w') as f:\n",
    "    fieldnames = [\"chapter\", \"text\"]\n",
    "    writer = csv.DictWriter(f, fieldnames=fieldnames)\n",
    "\n",
    "    \n",
    "    \n"
   ]
  },
  {
   "cell_type": "code",
   "execution_count": null,
   "metadata": {},
   "outputs": [],
   "source": [
    "import re\n",
    "import codecs\n",
    "clean =  lambda x:  re.sub(r'\\b\\d{1,3}\\b', '', x)\n",
    "\n",
    "num = ['1','2','3','4','5','6','7','8','9','0']\n",
    "\n",
    "store = ''\n",
    "with codecs.open('text/processed_1sam.txt','r',encoding='cp720') as f:\n",
    "    # clean_files = clean(f)\n",
    "    for what in f:\n",
    "        now = clean(what)\n",
    "        \n",
    "        if now not in num:\n",
    "            store = store + now\n"
   ]
  },
  {
   "cell_type": "code",
   "execution_count": null,
   "metadata": {},
   "outputs": [],
   "source": [
    "test = codecs.open('test.txt', 'w')\n",
    "store.decode(encoding='cp720',errors='strict')\n",
    "# test.write(store)"
   ]
  },
  {
   "cell_type": "code",
   "execution_count": null,
   "metadata": {},
   "outputs": [],
   "source": []
  },
  {
   "cell_type": "code",
   "execution_count": null,
   "metadata": {},
   "outputs": [],
   "source": []
  },
  {
   "cell_type": "code",
   "execution_count": null,
   "metadata": {},
   "outputs": [],
   "source": []
  },
  {
   "cell_type": "code",
   "execution_count": null,
   "metadata": {},
   "outputs": [],
   "source": []
  },
  {
   "cell_type": "code",
   "execution_count": null,
   "metadata": {},
   "outputs": [],
   "source": []
  },
  {
   "cell_type": "code",
   "execution_count": null,
   "metadata": {},
   "outputs": [],
   "source": []
  },
  {
   "cell_type": "code",
   "execution_count": null,
   "metadata": {},
   "outputs": [],
   "source": []
  },
  {
   "cell_type": "code",
   "execution_count": null,
   "metadata": {},
   "outputs": [],
   "source": []
  },
  {
   "cell_type": "code",
   "execution_count": 2,
   "metadata": {},
   "outputs": [],
   "source": [
    "conf = SparkConf().setMaster(\"local[2]\").setAppName(\"TextUpdater\").set(\"spark.executer.memory\", \"2g\")\n",
    "sc = SparkContext(conf=conf)"
   ]
  },
  {
   "cell_type": "code",
   "execution_count": 4,
   "metadata": {},
   "outputs": [],
   "source": [
    "lines = sc.textFile(r'text/processed_1sam.txt')\n",
    "w = lines"
   ]
  },
  {
   "cell_type": "code",
   "execution_count": 5,
   "metadata": {
    "tags": []
   },
   "outputs": [],
   "source": [
    "lines = lines.map(lambda x: re.sub('-', ' ', x)) # replace - with space\n",
    "lines = lines.map(lambda x: re.sub(r'\\b\\d{1,3}\\b', '', x))\n",
    "# lines = lines.map(lambda x: re.sub(r'[,:;.()\\'-?]', '', x))"
   ]
  },
  {
   "cell_type": "code",
   "execution_count": 6,
   "metadata": {},
   "outputs": [],
   "source": [
    "num = ['1','2','3','4','5','6','7','8','9','0']\n",
    "store = ''\n",
    "for what in lines.collect():\n",
    "     if what not in num:\n",
    "        store = store + what"
   ]
  },
  {
   "cell_type": "code",
   "execution_count": 11,
   "metadata": {},
   "outputs": [
    {
     "output_type": "error",
     "ename": "AttributeError",
     "evalue": "'RDD' object has no attribute 'write'",
     "traceback": [
      "\u001b[1;31m---------------------------------------------------------------------------\u001b[0m",
      "\u001b[1;31mAttributeError\u001b[0m                            Traceback (most recent call last)",
      "\u001b[1;32m<ipython-input-11-136dcd7478c2>\u001b[0m in \u001b[0;36m<module>\u001b[1;34m\u001b[0m\n\u001b[0;32m      1\u001b[0m \u001b[1;31m# df = sc.parallelize([[store]])\u001b[0m\u001b[1;33m\u001b[0m\u001b[1;33m\u001b[0m\u001b[1;33m\u001b[0m\u001b[0m\n\u001b[0;32m      2\u001b[0m \u001b[1;33m\u001b[0m\u001b[0m\n\u001b[1;32m----> 3\u001b[1;33m \u001b[0mdf\u001b[0m\u001b[1;33m.\u001b[0m\u001b[0mcoalesce\u001b[0m\u001b[1;33m(\u001b[0m\u001b[1;36m1\u001b[0m\u001b[1;33m)\u001b[0m\u001b[1;33m.\u001b[0m\u001b[0mwrite\u001b[0m\u001b[1;33m.\u001b[0m\u001b[0mformat\u001b[0m\u001b[1;33m(\u001b[0m\u001b[1;34m\"text\"\u001b[0m\u001b[1;33m)\u001b[0m\u001b[1;33m.\u001b[0m\u001b[0moption\u001b[0m\u001b[1;33m(\u001b[0m\u001b[1;34m\"header\"\u001b[0m\u001b[1;33m,\u001b[0m \u001b[1;34m\"false\"\u001b[0m\u001b[1;33m)\u001b[0m\u001b[1;33m.\u001b[0m\u001b[0mmode\u001b[0m\u001b[1;33m(\u001b[0m\u001b[1;34m\"append\"\u001b[0m\u001b[1;33m)\u001b[0m\u001b[1;33m.\u001b[0m\u001b[0msave\u001b[0m\u001b[1;33m(\u001b[0m\u001b[1;34m\"output.txt\"\u001b[0m\u001b[1;33m)\u001b[0m\u001b[1;33m\u001b[0m\u001b[1;33m\u001b[0m\u001b[0m\n\u001b[0m\u001b[0;32m      4\u001b[0m \u001b[1;31m# df.saveAsTextFile(\"test1.txt\")\u001b[0m\u001b[1;33m\u001b[0m\u001b[1;33m\u001b[0m\u001b[1;33m\u001b[0m\u001b[0m\n",
      "\u001b[1;31mAttributeError\u001b[0m: 'RDD' object has no attribute 'write'"
     ]
    }
   ],
   "source": [
    "# df = sc.parallelize([[store]])\n",
    "\n",
    "df.coalesce(1).write.format(\"text\").option(\"header\", \"false\").mode(\"append\").save(\"output.txt\")\n",
    "# df.saveAsTextFile(\"test1.txt\")"
   ]
  },
  {
   "cell_type": "code",
   "execution_count": null,
   "metadata": {},
   "outputs": [],
   "source": [
    "from pyspark.sql.types import * \n",
    "a = 'age'\n",
    "df = sc.parallelize([[1., a], [2., 'age 100+']]).toD([\"f1\",\"age\"])\n",
    "# df.show()"
   ]
  },
  {
   "cell_type": "code",
   "execution_count": null,
   "metadata": {
    "tags": []
   },
   "outputs": [],
   "source": [
    "from pyspark.sql import SparkSession\n",
    "from pyspark import SparkContext\n",
    "\n",
    "sc = SparkContext()\n",
    "\n",
    "rdd = sc.parallelize([(\"a\", 1)])\n",
    "hasattr(rdd, \"toDF\")\n",
    "## False\n",
    "\n",
    "spark = SparkSession(sc)\n",
    "hasattr(rdd, \"toDF\")\n",
    "## True\n",
    "\n",
    "rdd.toDF().show()df.shostore]]\n"
   ]
  },
  {
   "cell_type": "code",
   "execution_count": null,
   "metadata": {},
   "outputs": [],
   "source": []
  }
 ],
 "metadata": {
  "kernelspec": {
   "display_name": "Python 3.8.0 32-bit",
   "language": "python",
   "name": "python38032bit2952d1fbf4ef4226a2083fe489539590"
  },
  "language_info": {
   "codemirror_mode": {
    "name": "ipython",
    "version": 3
   },
   "file_extension": ".py",
   "mimetype": "text/x-python",
   "name": "python",
   "nbconvert_exporter": "python",
   "pygments_lexer": "ipython3",
   "version": "3.8.0-final"
  }
 },
 "nbformat": 4,
 "nbformat_minor": 2
}