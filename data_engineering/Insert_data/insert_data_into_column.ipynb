{
 "cells": [
  {
   "cell_type": "markdown",
   "metadata": {},
   "source": [
    "## Data avaliabe\n",
    "\n",
    "`UNIT PRICE.xlsx`: This spreadsheet contains lists of item code and it price, this is the table the company use as a reference for item price.\n",
    "\n",
    "`Project Maintenance from 2017 to 2019.xlsx`: This is the table that contain all items required for proh=ject from 2017 t0 2019 (a long list of items).\n",
    "\n",
    "## Here is the problem.\n",
    "When listing the items in the `Project Maintenance from 2017 to 2019.xlsx` table, the unit price column was excluded, so there is a need to get the unit price from the `UNIT PRICE.xlsx` table using the item code for the two table.\n",
    "\n",
    "If in Relational database, it's like the item price is in the `UNIT PRICE.xlsx` table (dimension table) and we need to get the price from the table to another table, `Project Maintenance from 2017 to 2019.xlsx` (the fact table).\n",
    "\n",
    "Below is the script that does the insert process. It important to understand the data before anywork is done."
   ]
  },
  {
   "cell_type": "code",
   "execution_count": 1,
   "metadata": {},
   "outputs": [],
   "source": [
    "import pandas as pd\n",
    "from time import time\n",
    "\n",
    "\n",
    "project = pd.read_excel(\"Project Maintenance from 2017 to 2019.xlsx\")\n",
    "\n",
    "unit_price = pd.read_excel(\"UNIT PRICE.xlsx\")\n",
    "\n",
    "# insert column into table\n",
    "project.insert(4, \"Unit Price\", None)\n",
    "\n",
    "# get the item code from project\n",
    "project_item = project[\"Item Code\"]\n",
    "\n",
    "# get the code column from unit price\n",
    "code = unit_price[\"CODE\"]\n",
    "\n",
    "for i, value in enumerate(project_item):\n",
    "    if value in code.values:\n",
    "        what = unit_price[unit_price[\"CODE\"] == value]\n",
    "        what = what[\"UNIT PRICE\"].values\n",
    "        project.loc[i, \"Unit Price\"] = what\n",
    "\n",
    "project.to_excel(\"output.xlsx\")"
   ]
  }
 ],
 "metadata": {
  "language_info": {
   "codemirror_mode": {
    "name": "ipython",
    "version": 3
   },
   "file_extension": ".py",
   "mimetype": "text/x-python",
   "name": "python",
   "nbconvert_exporter": "python",
   "pygments_lexer": "ipython3",
   "version": "3.8.0-final"
  },
  "orig_nbformat": 2,
  "kernelspec": {
   "name": "python38032bita0cb2758c4cf4616b658b6b84a2a459a",
   "display_name": "Python 3.8.0 32-bit"
  }
 },
 "nbformat": 4,
 "nbformat_minor": 2
}