{
 "cells": [
  {
   "cell_type": "code",
   "execution_count": null,
   "metadata": {},
   "outputs": [],
   "source": [
    "import pandas as pd\n",
    "import mysql.connector\n",
    "from mysql.connector import Error\n",
    "from datetime import datetime\n",
    "\n",
    "df = pd.read_csv('detail.csv')\n",
    "\n",
    "# getting login details\n",
    "user = df[\"user\"].iloc[0]\n",
    "password = df[\"password\"].iloc[0]\n",
    "\n",
    "\n",
    "# connection_config_dict = {\n",
    "#         'user': 'pynative',\n",
    "#         'password': 'pynative@123',\n",
    "#         'host': '127.0.0.1',\n",
    "#         'database': 'Electronics',\n",
    "#         'raise_on_warnings': True,\n",
    "#         'use_pure': False,\n",
    "#         'autocommit': True,\n",
    "#         'pool_size': 5\n",
    "#     }\n"
   ]
  },
  {
   "cell_type": "markdown",
   "metadata": {},
   "source": [
    "# Making Connection to database"
   ]
  },
  {
   "cell_type": "code",
   "execution_count": null,
   "metadata": {
    "scrolled": false
   },
   "outputs": [],
   "source": [
    "try:\n",
    "    conn = mysql.connector.connect(host='localhost', \n",
    "                                   user=user, \n",
    "                                   password=password, \n",
    "                                   db=\"employees\", \n",
    "                                  autocommit=True)\n",
    "    \n",
    "    if conn.is_connected():\n",
    "        db_info = conn.get_server_info()\n",
    "        print(\"Connected to MySQL server version \", db_info)\n",
    "        \n",
    "        cur = conn.cursor()\n",
    "        cur.execute(\"select database();\")\n",
    "        record = cur.fetchone()\n",
    "        print(\"You are connected to database: \", record)\n",
    "        \n",
    "except Error as e:\n",
    "    print(\"Error while conneting to MySQL: \", e)\n",
    "        \n",
    "        "
   ]
  },
  {
   "cell_type": "markdown",
   "metadata": {},
   "source": [
    "# Creating Table"
   ]
  },
  {
   "cell_type": "code",
   "execution_count": null,
   "metadata": {},
   "outputs": [],
   "source": [
    "cur.execute(\"drop table albums\")"
   ]
  },
  {
   "cell_type": "code",
   "execution_count": null,
   "metadata": {},
   "outputs": [],
   "source": [
    "try:\n",
    "    query1 = \"\"\"CREATE TABLE Transaction(\n",
    "                Transaction_id INT NOT NULL PRIMARY KEY,\n",
    "                Customer_name VARCHAR(12) NOT NULL\n",
    "                );\"\"\"\n",
    "    \n",
    "    query2 = \"\"\"CREATE TABLE  cashier(\n",
    "                Cashier_id INT NOT NULL PRIMARY KEY,\n",
    "                Cashier_name VARCHAR(12) NOT NULL\n",
    "                );\"\"\"\n",
    "    \n",
    "    query3 = \"\"\"CREATE TABLE  Albums(\n",
    "                Album_id INT NOT NULL PRIMARY KEY,\n",
    "                Album_name VARCHAR(25) NOT NULL,\n",
    "                Year INT NOT NULL\n",
    "                );\"\"\"\n",
    "    \n",
    "#     cur.execute(query1)\n",
    "#     cur.execute(query2)\n",
    "    cur.execute(query3)\n",
    "    \n",
    "    print(f'Table were created succesfully')\n",
    "    \n",
    "except Exception as e:\n",
    "    print(e)\n"
   ]
  },
  {
   "cell_type": "code",
   "execution_count": null,
   "metadata": {
    "scrolled": false
   },
   "outputs": [],
   "source": [
    "# printing out table in the working database\n",
    "table = pd.read_sql_query(\"SHOW TABLES\", conn)\n",
    "table"
   ]
  },
  {
   "cell_type": "markdown",
   "metadata": {},
   "source": [
    "# INSERTING SINGLE RECORD"
   ]
  },
  {
   "cell_type": "code",
   "execution_count": null,
   "metadata": {
    "scrolled": true
   },
   "outputs": [],
   "source": [
    "single insertion in to table\n",
    "\n",
    "try:\n",
    "    query = \"\"\"INSERT INTO Laptop\n",
    "                VALUES(\n",
    "                10, \"Lenove ThonkPad P71\", 6459, \"2019-08-14\"\n",
    "                )             \n",
    "            \"\"\"\n",
    "    \n",
    "    cur.execute(query)\n",
    "    \n",
    "    cur.execute(\"show tables\")\n",
    "    \n",
    "    print(f\"{cur.rowcount}, Inserted into laptop table successfully\")\n",
    "    \n",
    "except Exception as e:\n",
    "    print(e)\n",
    "    "
   ]
  },
  {
   "cell_type": "markdown",
   "metadata": {},
   "source": [
    "# INSERTING MULTIPLE RECORDS"
   ]
  },
  {
   "cell_type": "code",
   "execution_count": null,
   "metadata": {},
   "outputs": [],
   "source": [
    "inserting multiple rows using CURSOR'S executemany\n",
    "\n",
    "try:\n",
    "    query = \"\"\" INSERT INTO laptop (id, name, price, purchase_date)\n",
    "            VALUES (%s, %s, %s, %s)\n",
    "    \"\"\"\n",
    "\n",
    "    records_to_insert = [(4, 'HP Pavilion Power', 1999, '2019-01-11'),\n",
    "                     (5, 'MSI WS75 9TL-496', 5799, '2019-02-27'),\n",
    "                     (6, 'Microsoft Surface', 2330, '2019-07-23')]\n",
    "\n",
    "\n",
    "\n",
    "    cur.executemany(query, records_to_insert)\n",
    "\n",
    "    print(f\"{cur.rowcount}, Inserted into laptop table successfully\")\n",
    "    \n",
    "except Error as e:\n",
    "    print(e)"
   ]
  },
  {
   "cell_type": "markdown",
   "metadata": {},
   "source": [
    "# inserting record using python PARAMITIZED function"
   ]
  },
  {
   "cell_type": "code",
   "execution_count": null,
   "metadata": {},
   "outputs": [],
   "source": [
    "# insert record into laptop table\n",
    "def insertRecord(id, name, year):\n",
    "    try:\n",
    "        query = \"\"\" INSERT INTO albums (album_id, album_name, year)\n",
    "                VALUES (%s, %s, %s)\n",
    "        \"\"\"\n",
    "        \n",
    "#       setting the insertion using the function parameter  \n",
    "        insert = (id, name, year)\n",
    "        \n",
    "#       passing the parameter as a varable in cursor execute  \n",
    "        cur.execute(query, insert)\n",
    "        \n",
    "        print(\"\\nRecord inserted successfully into albums Table\")\n",
    "    \n",
    "    except Error as e:\n",
    "        print(e)"
   ]
  },
  {
   "cell_type": "markdown",
   "metadata": {},
   "source": [
    "# Declaring the input insetion procedure"
   ]
  },
  {
   "cell_type": "code",
   "execution_count": null,
   "metadata": {},
   "outputs": [],
   "source": [
    "# declaring a function to insert a record into database\n",
    "def inputs():\n",
    "    id = int(input(\"What is the ID: \"))\n",
    "    name = input(\"Album name: \")\n",
    "    year = int(input(\"album year: \"))\n",
    "    \n",
    "    insertRecord(id, name, year)\n",
    "    \n",
    "    "
   ]
  },
  {
   "cell_type": "markdown",
   "metadata": {},
   "source": [
    "# Calling insetion function using WHILE loop"
   ]
  },
  {
   "cell_type": "code",
   "execution_count": null,
   "metadata": {
    "scrolled": true
   },
   "outputs": [],
   "source": [
    "# inserting record into record using a parameterized function and a while loop\n",
    "get_more = \"y\"\n",
    "\n",
    "try:\n",
    "    while get_more == \"y\":\n",
    "    #     call function\n",
    "        inputs() \n",
    "        get_more = input(\"\\nDo you still want to enter more records? (y/n): \")\n",
    "        \n",
    "except Exception as e:\n",
    "    print(e)\n"
   ]
  },
  {
   "cell_type": "markdown",
   "metadata": {},
   "source": [
    "# Selecting table using pandas"
   ]
  },
  {
   "cell_type": "code",
   "execution_count": null,
   "metadata": {},
   "outputs": [],
   "source": [
    "# printing out table record using pandas\n",
    "\n",
    "lRecord = pd.read_sql_query(\"SELECT * FROM employees WHERE first_name='Georgi'\", conn)\n",
    "lRecord"
   ]
  },
  {
   "cell_type": "markdown",
   "metadata": {},
   "source": [
    "<h1>Selecting query from table using FETCH</h1>"
   ]
  },
  {
   "cell_type": "code",
   "execution_count": null,
   "metadata": {},
   "outputs": [],
   "source": [
    "try:\n",
    "    select_query = \"Select * from laptop\"\n",
    "    \n",
    "    cur.execute(select_query)\n",
    "    records = cur.fetchall() # store all record in RECORDS\n",
    "    print(\"Total number of row in laptop is \",cur.rowcount)\n",
    "    print(\"\\nPrint row:\")\n",
    "    \n",
    "    for row in records:\n",
    "        print(row)\n",
    "except Exception as e:\n",
    "    print(e)"
   ]
  },
  {
   "cell_type": "markdown",
   "metadata": {},
   "source": [
    "# Making python function to select from SQL using id"
   ]
  },
  {
   "cell_type": "code",
   "execution_count": null,
   "metadata": {},
   "outputs": [],
   "source": [
    "# USING PYTHON TO SELECT FOR SQL\n",
    "def getData(id):\n",
    "    try:\n",
    "        select_query = \"\"\"\n",
    "                        SELECT\n",
    "                            *\n",
    "                            \n",
    "                        FROM\n",
    "                            laptop\n",
    "                        WHERE id = %s\n",
    "        \"\"\"\n",
    "        cur.execute(select_query, (id,))\n",
    "        record = cur.fetchall()\n",
    "        \n",
    "        for row in record:\n",
    "            print(f\"id: {row[0]}\\nName: {row[1]}\\nJPrice: {row[2]}\\nPurchase Date: {row[3]}\")\n",
    "    except Exception as e:\n",
    "        print(e)"
   ]
  },
  {
   "cell_type": "markdown",
   "metadata": {},
   "source": [
    "# Calling select function using WHILE loop"
   ]
  },
  {
   "cell_type": "code",
   "execution_count": null,
   "metadata": {},
   "outputs": [],
   "source": [
    "# USING THE PYTHON SELECT FUNCTION WITH id\n",
    "get_more = \"y\"\n",
    "\n",
    "try:\n",
    "    while get_more == \"y\":\n",
    "        id = int(input(\"Enter id: \"))\n",
    "\n",
    "    #     call function\n",
    "        getData(id) \n",
    "        get_more = input(\"\\nDo you still want to enter more records? (y/n): \")\n",
    "        \n",
    "except Exception as e:\n",
    "    print(e)"
   ]
  },
  {
   "cell_type": "markdown",
   "metadata": {},
   "source": [
    "# Updating MySQL database"
   ]
  },
  {
   "cell_type": "code",
   "execution_count": null,
   "metadata": {},
   "outputs": [],
   "source": [
    "try:\n",
    "    select_query = ' SELECT * FROM laptop WHERE id=1 '\n",
    "                        \n",
    "    print(\"Before updating record: \", end=\"\")\n",
    "    cur.execute(select_query)\n",
    "    record = cur.fetchone()\n",
    "    print(record)\n",
    "    \n",
    "    update_query = ' UPDATE laptop SET price=7000 WHERE id=1 '\n",
    "    cur.execute(update_query)\n",
    "    \n",
    "    print(\"After updating: \", end=\"\")\n",
    "    cur.execute(select_query)\n",
    "    record = cur.fetchone()\n",
    "    print(record)\n",
    "except Exception as e:\n",
    "    print(e)"
   ]
  },
  {
   "cell_type": "markdown",
   "metadata": {},
   "source": [
    "# Using PYHTON to update in SQL\n",
    "<p>This is used to update price using item ID as the identifier</p>"
   ]
  },
  {
   "cell_type": "code",
   "execution_count": null,
   "metadata": {},
   "outputs": [],
   "source": [
    "def updateTable(id, price):\n",
    "    inputData = (price, id)\n",
    "    try:\n",
    "        select_query = ' SELECT * FROM laptop WHERE id=%s '\n",
    "\n",
    "        print(\"\\nBefore updating record: \", end=\"\")\n",
    "        cur.execute(select_query, (id,))\n",
    "        record = cur.fetchone()\n",
    "        print(record)\n",
    "\n",
    "        update_query = ' UPDATE laptop SET price=%s WHERE id=%s '\n",
    "        cur.execute(update_query, inputData)\n",
    "\n",
    "        print(\"After updating: \", end=\"\")\n",
    "        cur.execute(select_query, (id,))\n",
    "        record = cur.fetchone()\n",
    "        print(record)\n",
    "    except Exception as e:\n",
    "        print(e)"
   ]
  },
  {
   "cell_type": "markdown",
   "metadata": {},
   "source": [
    "# Updating multiple row in single query using executemany"
   ]
  },
  {
   "cell_type": "code",
   "execution_count": null,
   "metadata": {},
   "outputs": [],
   "source": [
    "try:\n",
    "    update_query = ' UPDATE laptop SET price=%s WHERE id=%s '\n",
    "    records_to_update = [(3000, 3), (2750, 4)]\n",
    "    \n",
    "    cur.executemany(update_query, records_to_update)\n",
    "    print(f\"{cur.rowcount} records updated successfully\")\n",
    "    \n",
    "except Exception as e:\n",
    "    print(e)"
   ]
  },
  {
   "cell_type": "markdown",
   "metadata": {},
   "source": [
    "# Updating multipe column"
   ]
  },
  {
   "cell_type": "code",
   "execution_count": null,
   "metadata": {},
   "outputs": [],
   "source": [
    "try:\n",
    "    update_query = ' UPDATE laptop SET Name=%s, price=%s WHERE id=%s '\n",
    "    \n",
    "    name = \"HP Pavilion\"\n",
    "    price = 2200\n",
    "    id = 4\n",
    "    inputs = (name, price, id)\n",
    "    \n",
    "    cur.execute(update_query, inputs)\n",
    "    print(\"Multiple column in record updated successfully\")\n",
    "\n",
    "except Exception as e:\n",
    "    print(e)"
   ]
  },
  {
   "cell_type": "markdown",
   "metadata": {},
   "source": [
    "# Calling update function using WHILE loop"
   ]
  },
  {
   "cell_type": "code",
   "execution_count": null,
   "metadata": {},
   "outputs": [],
   "source": [
    "# USING THE PYTHON SELECT FUNCTION WITH id\n",
    "update_more = \"y\"\n",
    "\n",
    "try:\n",
    "    while update_more == \"y\":\n",
    "        id = int(input(\"Enter id: \"))\n",
    "        price = int(input(\"Enter price: \"))\n",
    "\n",
    "    #     call function\n",
    "        updateTable(id, price) \n",
    "        update_more = input(\"\\nDo you still want to update more price? (y/n): \")\n",
    "        \n",
    "except Exception as e:\n",
    "    print(e)"
   ]
  },
  {
   "cell_type": "code",
   "execution_count": null,
   "metadata": {},
   "outputs": [],
   "source": []
  }
 ],
 "metadata": {
  "kernelspec": {
   "display_name": "Python 3.8.0 32-bit",
   "language": "python",
   "name": "python38032bita0cb2758c4cf4616b658b6b84a2a459a"
  },
  "language_info": {
   "codemirror_mode": {
    "name": "ipython",
    "version": 3
   },
   "file_extension": ".py",
   "mimetype": "text/x-python",
   "name": "python",
   "nbconvert_exporter": "python",
   "pygments_lexer": "ipython3",
   "version": "3.8.0"
  }
 },
 "nbformat": 4,
 "nbformat_minor": 4
}
