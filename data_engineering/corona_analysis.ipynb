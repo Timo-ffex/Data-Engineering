{
 "cells": [
  {
   "cell_type": "markdown",
   "metadata": {},
   "source": [
    "# Data Visualization on Coronavirus data\n",
    "The purpose of this project is to learn more on webscraping, data cleaning, data modeling, data analysis and data Visualization using Bokeh. \n",
    "\n",
    "I have written an easy to understand make down for anyone who wants to follow the project. \n",
    "\n",
    "I started by getting the data on [worldmeters.info](https://www.worldometers.info/coronavirus/) and cleaning up the data using pandas\n",
    "\n",
    "After clean up, I modeled the data into Continents for easy analysis"
   ]
  },
  {
   "cell_type": "markdown",
   "metadata": {},
   "source": [
    "# Getting started and import necessary libraries"
   ]
  },
  {
   "cell_type": "code",
   "execution_count": 1,
   "metadata": {},
   "outputs": [],
   "source": [
    "from bs4 import BeautifulSoup\n",
    "import requests\n",
    "import pandas as pd\n",
    "import numpy as np\n",
    "import re\n",
    "\n",
    "url = \"https://www.worldometers.info/coronavirus/\"\n",
    "\n",
    "source = requests.get(url).text\n",
    "soup = BeautifulSoup(source, 'lxml')"
   ]
  },
  {
   "cell_type": "markdown",
   "metadata": {},
   "source": [
    "## Get the whole data table"
   ]
  },
  {
   "cell_type": "code",
   "execution_count": 2,
   "metadata": {
    "tags": [
     "outputPrepend"
    ]
   },
   "outputs": [],
   "source": [
    "# this get the whole data table\n",
    "\n",
    "table = soup.find(\"table\", attrs={'id':'main_table_countries_today'})\n",
    "# print(table)\n"
   ]
  },
  {
   "cell_type": "code",
   "execution_count": 3,
   "metadata": {},
   "outputs": [],
   "source": [
    "# from the table, this extracts the column headings\n",
    "\n",
    "table_head = table.thead.find_all('tr')\n",
    "# print(table_head)"
   ]
  },
  {
   "cell_type": "code",
   "execution_count": 4,
   "metadata": {
    "tags": [
     "outputPrepend"
    ]
   },
   "outputs": [],
   "source": [
    "# this get the data from the table, the body\n",
    "\n",
    "table_data = table.tbody.find_all('tr')\n",
    "# print(table_data)"
   ]
  },
  {
   "cell_type": "markdown",
   "metadata": {},
   "source": [
    "## Saving the column header into python variable"
   ]
  },
  {
   "cell_type": "code",
   "execution_count": 5,
   "metadata": {
    "scrolled": true
   },
   "outputs": [
    {
     "output_type": "stream",
     "name": "stdout",
     "text": "Country,Other\nTotalCases\nNewCases\nTotalDeaths\nNewDeaths\nTotalRecovered\nActiveCases\nSerious,Critical\nTot Cases/1M pop\nDeaths/1M pop\nTotalTests\nTests/ 1M pop\nContinent\n"
    }
   ],
   "source": [
    "headings = []\n",
    "\n",
    "for th in table_head[0].find_all(\"th\"):\n",
    "    a = th.text.replace('\\n', ' ').strip()\n",
    "    headings.append(a)\n",
    "\n",
    "    print(a)\n"
   ]
  },
  {
   "cell_type": "markdown",
   "metadata": {},
   "source": [
    "## Understanding The Data\n",
    "This is just to understand and see how the data was scraped and how to save the data into pandas dataframe, it's `very important`\n"
   ]
  },
  {
   "cell_type": "code",
   "execution_count": 6,
   "metadata": {
    "scrolled": true
   },
   "outputs": [],
   "source": [
    "# for tr in table_data:\n",
    "#     for what in tr.find_all('td'):\n",
    "#         print(what.text)\n",
    "#     print(\"\\n___________________\")"
   ]
  },
  {
   "cell_type": "code",
   "execution_count": 7,
   "metadata": {},
   "outputs": [],
   "source": [
    "# now that we understand the data, we can structure the data\n",
    "\n",
    "data = []\n",
    "for tr in table_data:\n",
    "    t_row = {}\n",
    "    # Each table row is stored in the form of\n",
    "    # t_row = {'Country/Other': '', 'TotalCases': '', 'NewCases': ''...} \n",
    "\n",
    "    # find all td's in tr and zip it with headings\n",
    "\n",
    "    for td, th in zip(tr.find_all(\"td\"), headings): \n",
    "        t_row[th] = td.text.replace('\\n', '').strip()\n",
    "    data.append(t_row)\n"
   ]
  },
  {
   "cell_type": "markdown",
   "metadata": {},
   "source": [
    "## Check\n",
    "Checking if data is structured as it should, `this is also very important`"
   ]
  },
  {
   "cell_type": "code",
   "execution_count": 8,
   "metadata": {
    "tags": [
     "outputPrepend"
    ]
   },
   "outputs": [],
   "source": [
    "# for t in data:\n",
    "#     for k, v in t.items():\n",
    "#         print(v)\n",
    "#     print(\"_________\\n\")"
   ]
  },
  {
   "cell_type": "markdown",
   "metadata": {},
   "source": [
    "## Transform data\n",
    "Transform data into pandas dataframe and start data clean up and manipulation"
   ]
  },
  {
   "cell_type": "code",
   "execution_count": 9,
   "metadata": {},
   "outputs": [
    {
     "output_type": "execute_result",
     "data": {
      "text/plain": "              TotalCases NewCases TotalDeaths NewDeaths TotalRecovered  \\\nCountry                                                                  \nNorth America  1,186,880   +1,806      69,662      +143        192,413   \nEurope         1,373,444              135,235                  503,728   \nAsia             520,416     +366      18,635       +25        265,787   \nSouth America    178,638   +1,824       8,808      +106         60,097   \nOceania            8,347      +15         112        +1          7,070   \nAfrica            39,785                1,638                   13,078   \nOthers               721                   15                      645   \nWorld          3,308,231   +4,011     234,105      +275      1,042,818   \nUSA            1,095,210     +187      63,861        +5        155,737   \nSpain            239,639               24,543                  137,984   \n\n              ActiveCases Critical Tot Cases/1Mpop Deaths/1Mpop TotalTests  \\\nCountry                                                                      \nNorth America     924,805   16,479                                           \nEurope            734,481   18,773                                           \nAsia              235,994    5,726                                           \nSouth America     109,733    9,802                                           \nOceania             1,165       34                                           \nAfrica             25,069      126                                           \nOthers                 61        4                                           \nWorld           2,031,308   50,944             424         30.0              \nUSA               875,612   15,226           3,309          193  6,391,887   \nSpain              77,112    2,676           5,125          525  1,455,306   \n\n              Tests/1Mpop          Continent  \nCountry                                       \nNorth America                  North America  \nEurope                                Europe  \nAsia                                    Asia  \nSouth America                  South America  \nOceania                    Australia/Oceania  \nAfrica                                Africa  \nOthers                                        \nWorld                                    All  \nUSA                19,311      North America  \nSpain              31,126             Europe  ",
      "text/html": "<div>\n<style scoped>\n    .dataframe tbody tr th:only-of-type {\n        vertical-align: middle;\n    }\n\n    .dataframe tbody tr th {\n        vertical-align: top;\n    }\n\n    .dataframe thead th {\n        text-align: right;\n    }\n</style>\n<table border=\"1\" class=\"dataframe\">\n  <thead>\n    <tr style=\"text-align: right;\">\n      <th></th>\n      <th>TotalCases</th>\n      <th>NewCases</th>\n      <th>TotalDeaths</th>\n      <th>NewDeaths</th>\n      <th>TotalRecovered</th>\n      <th>ActiveCases</th>\n      <th>Critical</th>\n      <th>Tot Cases/1Mpop</th>\n      <th>Deaths/1Mpop</th>\n      <th>TotalTests</th>\n      <th>Tests/1Mpop</th>\n      <th>Continent</th>\n    </tr>\n    <tr>\n      <th>Country</th>\n      <th></th>\n      <th></th>\n      <th></th>\n      <th></th>\n      <th></th>\n      <th></th>\n      <th></th>\n      <th></th>\n      <th></th>\n      <th></th>\n      <th></th>\n      <th></th>\n    </tr>\n  </thead>\n  <tbody>\n    <tr>\n      <th>North America</th>\n      <td>1,186,880</td>\n      <td>+1,806</td>\n      <td>69,662</td>\n      <td>+143</td>\n      <td>192,413</td>\n      <td>924,805</td>\n      <td>16,479</td>\n      <td></td>\n      <td></td>\n      <td></td>\n      <td></td>\n      <td>North America</td>\n    </tr>\n    <tr>\n      <th>Europe</th>\n      <td>1,373,444</td>\n      <td></td>\n      <td>135,235</td>\n      <td></td>\n      <td>503,728</td>\n      <td>734,481</td>\n      <td>18,773</td>\n      <td></td>\n      <td></td>\n      <td></td>\n      <td></td>\n      <td>Europe</td>\n    </tr>\n    <tr>\n      <th>Asia</th>\n      <td>520,416</td>\n      <td>+366</td>\n      <td>18,635</td>\n      <td>+25</td>\n      <td>265,787</td>\n      <td>235,994</td>\n      <td>5,726</td>\n      <td></td>\n      <td></td>\n      <td></td>\n      <td></td>\n      <td>Asia</td>\n    </tr>\n    <tr>\n      <th>South America</th>\n      <td>178,638</td>\n      <td>+1,824</td>\n      <td>8,808</td>\n      <td>+106</td>\n      <td>60,097</td>\n      <td>109,733</td>\n      <td>9,802</td>\n      <td></td>\n      <td></td>\n      <td></td>\n      <td></td>\n      <td>South America</td>\n    </tr>\n    <tr>\n      <th>Oceania</th>\n      <td>8,347</td>\n      <td>+15</td>\n      <td>112</td>\n      <td>+1</td>\n      <td>7,070</td>\n      <td>1,165</td>\n      <td>34</td>\n      <td></td>\n      <td></td>\n      <td></td>\n      <td></td>\n      <td>Australia/Oceania</td>\n    </tr>\n    <tr>\n      <th>Africa</th>\n      <td>39,785</td>\n      <td></td>\n      <td>1,638</td>\n      <td></td>\n      <td>13,078</td>\n      <td>25,069</td>\n      <td>126</td>\n      <td></td>\n      <td></td>\n      <td></td>\n      <td></td>\n      <td>Africa</td>\n    </tr>\n    <tr>\n      <th>Others</th>\n      <td>721</td>\n      <td></td>\n      <td>15</td>\n      <td></td>\n      <td>645</td>\n      <td>61</td>\n      <td>4</td>\n      <td></td>\n      <td></td>\n      <td></td>\n      <td></td>\n      <td></td>\n    </tr>\n    <tr>\n      <th>World</th>\n      <td>3,308,231</td>\n      <td>+4,011</td>\n      <td>234,105</td>\n      <td>+275</td>\n      <td>1,042,818</td>\n      <td>2,031,308</td>\n      <td>50,944</td>\n      <td>424</td>\n      <td>30.0</td>\n      <td></td>\n      <td></td>\n      <td>All</td>\n    </tr>\n    <tr>\n      <th>USA</th>\n      <td>1,095,210</td>\n      <td>+187</td>\n      <td>63,861</td>\n      <td>+5</td>\n      <td>155,737</td>\n      <td>875,612</td>\n      <td>15,226</td>\n      <td>3,309</td>\n      <td>193</td>\n      <td>6,391,887</td>\n      <td>19,311</td>\n      <td>North America</td>\n    </tr>\n    <tr>\n      <th>Spain</th>\n      <td>239,639</td>\n      <td></td>\n      <td>24,543</td>\n      <td></td>\n      <td>137,984</td>\n      <td>77,112</td>\n      <td>2,676</td>\n      <td>5,125</td>\n      <td>525</td>\n      <td>1,455,306</td>\n      <td>31,126</td>\n      <td>Europe</td>\n    </tr>\n  </tbody>\n</table>\n</div>"
     },
     "metadata": {},
     "execution_count": 9
    }
   ],
   "source": [
    "df = pd.DataFrame(data)\n",
    "\n",
    "# modify data to ease data manipulation (you need to first view data) \n",
    "df.columns = df.columns.str.replace('Serious,', '').str.replace(',Other','').str.replace(' ','')\n",
    "df.set_index('Country', inplace=True)\n",
    "df.rename(index={\"\":\"Others\"}, inplace=True)\n",
    "\n",
    "# view data again to check if changes were made correctly \n",
    "df.head(10)"
   ]
  },
  {
   "cell_type": "code",
   "execution_count": 10,
   "metadata": {},
   "outputs": [
    {
     "output_type": "execute_result",
     "data": {
      "text/plain": "                       TotalCases NewCases TotalDeaths NewDeaths  \\\nCountry                                                            \nBhutan                          7                                  \nYemen                           6                    2             \nBritish Virgin Islands          6                    1             \nSt. Barth                       6                                  \nWestern Sahara                  6                                  \nCaribbean Netherlands           5                                  \nAnguilla                        3                                  \nComoros                         1                                  \nSaint Pierre Miquelon           1                                  \nChina                      82,874      +12       4,633             \n\n                       TotalRecovered ActiveCases Critical Tot Cases/1Mpop  \\\nCountry                                                                      \nBhutan                              5           2                        9   \nYemen                               1           3                      0.2   \nBritish Virgin Islands              3           2                      198   \nSt. Barth                           6           0                      607   \nWestern Sahara                      5           1                       10   \nCaribbean Netherlands                           5                      191   \nAnguilla                            3           0                      200   \nComoros                                         1                        1   \nSaint Pierre Miquelon                           1                      173   \nChina                          77,642         599       38              58   \n\n                       Deaths/1Mpop TotalTests Tests/1Mpop      Continent  \nCountry                                                                    \nBhutan                                  10,045      13,018           Asia  \nYemen                          0.07        120           4           Asia  \nBritish Virgin Islands           33                         North America  \nSt. Barth                                                   North America  \nWestern Sahara                                                     Africa  \nCaribbean Netherlands                      110       4,195  North America  \nAnguilla                                                    North America  \nComoros                                                            Africa  \nSaint Pierre Miquelon                                       North America  \nChina                             3                                  Asia  ",
      "text/html": "<div>\n<style scoped>\n    .dataframe tbody tr th:only-of-type {\n        vertical-align: middle;\n    }\n\n    .dataframe tbody tr th {\n        vertical-align: top;\n    }\n\n    .dataframe thead th {\n        text-align: right;\n    }\n</style>\n<table border=\"1\" class=\"dataframe\">\n  <thead>\n    <tr style=\"text-align: right;\">\n      <th></th>\n      <th>TotalCases</th>\n      <th>NewCases</th>\n      <th>TotalDeaths</th>\n      <th>NewDeaths</th>\n      <th>TotalRecovered</th>\n      <th>ActiveCases</th>\n      <th>Critical</th>\n      <th>Tot Cases/1Mpop</th>\n      <th>Deaths/1Mpop</th>\n      <th>TotalTests</th>\n      <th>Tests/1Mpop</th>\n      <th>Continent</th>\n    </tr>\n    <tr>\n      <th>Country</th>\n      <th></th>\n      <th></th>\n      <th></th>\n      <th></th>\n      <th></th>\n      <th></th>\n      <th></th>\n      <th></th>\n      <th></th>\n      <th></th>\n      <th></th>\n      <th></th>\n    </tr>\n  </thead>\n  <tbody>\n    <tr>\n      <th>Bhutan</th>\n      <td>7</td>\n      <td></td>\n      <td></td>\n      <td></td>\n      <td>5</td>\n      <td>2</td>\n      <td></td>\n      <td>9</td>\n      <td></td>\n      <td>10,045</td>\n      <td>13,018</td>\n      <td>Asia</td>\n    </tr>\n    <tr>\n      <th>Yemen</th>\n      <td>6</td>\n      <td></td>\n      <td>2</td>\n      <td></td>\n      <td>1</td>\n      <td>3</td>\n      <td></td>\n      <td>0.2</td>\n      <td>0.07</td>\n      <td>120</td>\n      <td>4</td>\n      <td>Asia</td>\n    </tr>\n    <tr>\n      <th>British Virgin Islands</th>\n      <td>6</td>\n      <td></td>\n      <td>1</td>\n      <td></td>\n      <td>3</td>\n      <td>2</td>\n      <td></td>\n      <td>198</td>\n      <td>33</td>\n      <td></td>\n      <td></td>\n      <td>North America</td>\n    </tr>\n    <tr>\n      <th>St. Barth</th>\n      <td>6</td>\n      <td></td>\n      <td></td>\n      <td></td>\n      <td>6</td>\n      <td>0</td>\n      <td></td>\n      <td>607</td>\n      <td></td>\n      <td></td>\n      <td></td>\n      <td>North America</td>\n    </tr>\n    <tr>\n      <th>Western Sahara</th>\n      <td>6</td>\n      <td></td>\n      <td></td>\n      <td></td>\n      <td>5</td>\n      <td>1</td>\n      <td></td>\n      <td>10</td>\n      <td></td>\n      <td></td>\n      <td></td>\n      <td>Africa</td>\n    </tr>\n    <tr>\n      <th>Caribbean Netherlands</th>\n      <td>5</td>\n      <td></td>\n      <td></td>\n      <td></td>\n      <td></td>\n      <td>5</td>\n      <td></td>\n      <td>191</td>\n      <td></td>\n      <td>110</td>\n      <td>4,195</td>\n      <td>North America</td>\n    </tr>\n    <tr>\n      <th>Anguilla</th>\n      <td>3</td>\n      <td></td>\n      <td></td>\n      <td></td>\n      <td>3</td>\n      <td>0</td>\n      <td></td>\n      <td>200</td>\n      <td></td>\n      <td></td>\n      <td></td>\n      <td>North America</td>\n    </tr>\n    <tr>\n      <th>Comoros</th>\n      <td>1</td>\n      <td></td>\n      <td></td>\n      <td></td>\n      <td></td>\n      <td>1</td>\n      <td></td>\n      <td>1</td>\n      <td></td>\n      <td></td>\n      <td></td>\n      <td>Africa</td>\n    </tr>\n    <tr>\n      <th>Saint Pierre Miquelon</th>\n      <td>1</td>\n      <td></td>\n      <td></td>\n      <td></td>\n      <td></td>\n      <td>1</td>\n      <td></td>\n      <td>173</td>\n      <td></td>\n      <td></td>\n      <td></td>\n      <td>North America</td>\n    </tr>\n    <tr>\n      <th>China</th>\n      <td>82,874</td>\n      <td>+12</td>\n      <td>4,633</td>\n      <td></td>\n      <td>77,642</td>\n      <td>599</td>\n      <td>38</td>\n      <td>58</td>\n      <td>3</td>\n      <td></td>\n      <td></td>\n      <td>Asia</td>\n    </tr>\n  </tbody>\n</table>\n</div>"
     },
     "metadata": {},
     "execution_count": 10
    }
   ],
   "source": [
    "# more views to understand data better\n",
    "df.tail(10)"
   ]
  },
  {
   "cell_type": "code",
   "execution_count": 11,
   "metadata": {
    "scrolled": true
   },
   "outputs": [
    {
     "output_type": "stream",
     "name": "stdout",
     "text": "<class 'pandas.core.frame.DataFrame'>\nIndex: 222 entries, North America to China\nData columns (total 12 columns):\n #   Column           Non-Null Count  Dtype \n---  ------           --------------  ----- \n 0   TotalCases       222 non-null    object\n 1   NewCases         222 non-null    object\n 2   TotalDeaths      222 non-null    object\n 3   NewDeaths        222 non-null    object\n 4   TotalRecovered   222 non-null    object\n 5   ActiveCases      222 non-null    object\n 6   Critical         222 non-null    object\n 7   Tot Cases/1Mpop  222 non-null    object\n 8   Deaths/1Mpop     222 non-null    object\n 9   TotalTests       222 non-null    object\n 10  Tests/1Mpop      222 non-null    object\n 11  Continent        222 non-null    object\ndtypes: object(12)\nmemory usage: 11.3+ KB\n"
    }
   ],
   "source": [
    "# getting data (empty and Datatype) \n",
    "df.info()"
   ]
  },
  {
   "cell_type": "markdown",
   "metadata": {},
   "source": [
    "# Cleaning data\n",
    "Clearly, the data looks useless as all column datatypes are `string`. To convert data type, data must first be cleaned and ready for conversion.\n",
    "* I drop the columns that are not considered in this visualization\n",
    "* I cleaned the data using `regexp` by finding patterns in the data"
   ]
  },
  {
   "cell_type": "code",
   "execution_count": 12,
   "metadata": {},
   "outputs": [],
   "source": [
    "# # Removed character symbols\n",
    "for column in df.columns:\n",
    "    df[column] = df[column].str.replace(r\"[^\\.a-zA-Z0-9_]\", '')\n",
    "\n",
    "use_column = ['TotalCases', 'NewCases', 'TotalDeaths', 'NewDeaths', 'TotalRecovered', 'ActiveCases', 'Critical', 'TotalTests', 'Continent']\n",
    "df = df[use_column]\n",
    "    \n",
    "# print out data to see if it works\n",
    "# df"
   ]
  },
  {
   "cell_type": "markdown",
   "metadata": {},
   "source": [
    "# Modifying Data and Datatype conversion\n",
    "To convert the datatype, I can either:\n",
    "* convert all missing values `(na)` to zero and convert columns to int datatype, or\n",
    "* Leave the missing values and convert columns to a float datatype `(best practice)`, or\n",
    "* convert all missing values to zero and convert columns to float\n",
    "\n",
    "`Important Note`: Missing values must be uniform to perfectly clean the data. The Data has to be understood well enough. In this the missing data is `\"NA\"` and `None or empty strings`\n"
   ]
  },
  {
   "cell_type": "code",
   "execution_count": 13,
   "metadata": {},
   "outputs": [
    {
     "output_type": "execute_result",
     "data": {
      "text/plain": "              TotalCases NewCases TotalDeaths NewDeaths TotalRecovered  \\\nCountry                                                                  \nNorth America    1186880     1806       69662       143         192413   \nEurope           1373444        0      135235         0         503728   \nAsia              520416      366       18635        25         265787   \nSouth America     178638     1824        8808       106          60097   \nOceania             8347       15         112         1           7070   \nAfrica             39785        0        1638         0          13078   \nOthers               721        0          15         0            645   \nWorld            3308231     4011      234105       275        1042818   \nUSA              1095210      187       63861         5         155737   \nSpain             239639        0       24543         0         137984   \n\n              ActiveCases Critical TotalTests         Continent  \nCountry                                                          \nNorth America      924805    16479          0      NorthAmerica  \nEurope             734481    18773          0            Europe  \nAsia               235994     5726          0              Asia  \nSouth America      109733     9802          0      SouthAmerica  \nOceania              1165       34          0  AustraliaOceania  \nAfrica              25069      126          0            Africa  \nOthers                 61        4          0            Others  \nWorld             2031308    50944          0               All  \nUSA                875612    15226    6391887      NorthAmerica  \nSpain               77112     2676    1455306            Europe  ",
      "text/html": "<div>\n<style scoped>\n    .dataframe tbody tr th:only-of-type {\n        vertical-align: middle;\n    }\n\n    .dataframe tbody tr th {\n        vertical-align: top;\n    }\n\n    .dataframe thead th {\n        text-align: right;\n    }\n</style>\n<table border=\"1\" class=\"dataframe\">\n  <thead>\n    <tr style=\"text-align: right;\">\n      <th></th>\n      <th>TotalCases</th>\n      <th>NewCases</th>\n      <th>TotalDeaths</th>\n      <th>NewDeaths</th>\n      <th>TotalRecovered</th>\n      <th>ActiveCases</th>\n      <th>Critical</th>\n      <th>TotalTests</th>\n      <th>Continent</th>\n    </tr>\n    <tr>\n      <th>Country</th>\n      <th></th>\n      <th></th>\n      <th></th>\n      <th></th>\n      <th></th>\n      <th></th>\n      <th></th>\n      <th></th>\n      <th></th>\n    </tr>\n  </thead>\n  <tbody>\n    <tr>\n      <th>North America</th>\n      <td>1186880</td>\n      <td>1806</td>\n      <td>69662</td>\n      <td>143</td>\n      <td>192413</td>\n      <td>924805</td>\n      <td>16479</td>\n      <td>0</td>\n      <td>NorthAmerica</td>\n    </tr>\n    <tr>\n      <th>Europe</th>\n      <td>1373444</td>\n      <td>0</td>\n      <td>135235</td>\n      <td>0</td>\n      <td>503728</td>\n      <td>734481</td>\n      <td>18773</td>\n      <td>0</td>\n      <td>Europe</td>\n    </tr>\n    <tr>\n      <th>Asia</th>\n      <td>520416</td>\n      <td>366</td>\n      <td>18635</td>\n      <td>25</td>\n      <td>265787</td>\n      <td>235994</td>\n      <td>5726</td>\n      <td>0</td>\n      <td>Asia</td>\n    </tr>\n    <tr>\n      <th>South America</th>\n      <td>178638</td>\n      <td>1824</td>\n      <td>8808</td>\n      <td>106</td>\n      <td>60097</td>\n      <td>109733</td>\n      <td>9802</td>\n      <td>0</td>\n      <td>SouthAmerica</td>\n    </tr>\n    <tr>\n      <th>Oceania</th>\n      <td>8347</td>\n      <td>15</td>\n      <td>112</td>\n      <td>1</td>\n      <td>7070</td>\n      <td>1165</td>\n      <td>34</td>\n      <td>0</td>\n      <td>AustraliaOceania</td>\n    </tr>\n    <tr>\n      <th>Africa</th>\n      <td>39785</td>\n      <td>0</td>\n      <td>1638</td>\n      <td>0</td>\n      <td>13078</td>\n      <td>25069</td>\n      <td>126</td>\n      <td>0</td>\n      <td>Africa</td>\n    </tr>\n    <tr>\n      <th>Others</th>\n      <td>721</td>\n      <td>0</td>\n      <td>15</td>\n      <td>0</td>\n      <td>645</td>\n      <td>61</td>\n      <td>4</td>\n      <td>0</td>\n      <td>Others</td>\n    </tr>\n    <tr>\n      <th>World</th>\n      <td>3308231</td>\n      <td>4011</td>\n      <td>234105</td>\n      <td>275</td>\n      <td>1042818</td>\n      <td>2031308</td>\n      <td>50944</td>\n      <td>0</td>\n      <td>All</td>\n    </tr>\n    <tr>\n      <th>USA</th>\n      <td>1095210</td>\n      <td>187</td>\n      <td>63861</td>\n      <td>5</td>\n      <td>155737</td>\n      <td>875612</td>\n      <td>15226</td>\n      <td>6391887</td>\n      <td>NorthAmerica</td>\n    </tr>\n    <tr>\n      <th>Spain</th>\n      <td>239639</td>\n      <td>0</td>\n      <td>24543</td>\n      <td>0</td>\n      <td>137984</td>\n      <td>77112</td>\n      <td>2676</td>\n      <td>1455306</td>\n      <td>Europe</td>\n    </tr>\n  </tbody>\n</table>\n</div>"
     },
     "metadata": {},
     "execution_count": 13
    }
   ],
   "source": [
    "# a[\"Continent\"] = a.replace(\"\" ,\"Others\") \n",
    "df = df.replace(\"NA\", np.nan)\n",
    "df = df.replace(\"\", np.nan)\n",
    "df.fillna(value={\"Continent\":\"Others\"}, inplace=True)\n",
    "df.fillna(0, inplace=True)\n",
    "df.head(10)"
   ]
  },
  {
   "cell_type": "code",
   "execution_count": 14,
   "metadata": {},
   "outputs": [
    {
     "output_type": "execute_result",
     "data": {
      "text/plain": "                       TotalCases NewCases TotalDeaths NewDeaths  \\\nCountry                                                            \nBhutan                          7        0           0         0   \nYemen                           6        0           2         0   \nBritish Virgin Islands          6        0           1         0   \nSt. Barth                       6        0           0         0   \nWestern Sahara                  6        0           0         0   \nCaribbean Netherlands           5        0           0         0   \nAnguilla                        3        0           0         0   \nComoros                         1        0           0         0   \nSaint Pierre Miquelon           1        0           0         0   \nChina                       82874       12        4633         0   \n\n                       TotalRecovered ActiveCases Critical TotalTests  \\\nCountry                                                                 \nBhutan                              5           2        0      10045   \nYemen                               1           3        0        120   \nBritish Virgin Islands              3           2        0          0   \nSt. Barth                           6           0        0          0   \nWestern Sahara                      5           1        0          0   \nCaribbean Netherlands               0           5        0        110   \nAnguilla                            3           0        0          0   \nComoros                             0           1        0          0   \nSaint Pierre Miquelon               0           1        0          0   \nChina                           77642         599       38          0   \n\n                           Continent  \nCountry                               \nBhutan                          Asia  \nYemen                           Asia  \nBritish Virgin Islands  NorthAmerica  \nSt. Barth               NorthAmerica  \nWestern Sahara                Africa  \nCaribbean Netherlands   NorthAmerica  \nAnguilla                NorthAmerica  \nComoros                       Africa  \nSaint Pierre Miquelon   NorthAmerica  \nChina                           Asia  ",
      "text/html": "<div>\n<style scoped>\n    .dataframe tbody tr th:only-of-type {\n        vertical-align: middle;\n    }\n\n    .dataframe tbody tr th {\n        vertical-align: top;\n    }\n\n    .dataframe thead th {\n        text-align: right;\n    }\n</style>\n<table border=\"1\" class=\"dataframe\">\n  <thead>\n    <tr style=\"text-align: right;\">\n      <th></th>\n      <th>TotalCases</th>\n      <th>NewCases</th>\n      <th>TotalDeaths</th>\n      <th>NewDeaths</th>\n      <th>TotalRecovered</th>\n      <th>ActiveCases</th>\n      <th>Critical</th>\n      <th>TotalTests</th>\n      <th>Continent</th>\n    </tr>\n    <tr>\n      <th>Country</th>\n      <th></th>\n      <th></th>\n      <th></th>\n      <th></th>\n      <th></th>\n      <th></th>\n      <th></th>\n      <th></th>\n      <th></th>\n    </tr>\n  </thead>\n  <tbody>\n    <tr>\n      <th>Bhutan</th>\n      <td>7</td>\n      <td>0</td>\n      <td>0</td>\n      <td>0</td>\n      <td>5</td>\n      <td>2</td>\n      <td>0</td>\n      <td>10045</td>\n      <td>Asia</td>\n    </tr>\n    <tr>\n      <th>Yemen</th>\n      <td>6</td>\n      <td>0</td>\n      <td>2</td>\n      <td>0</td>\n      <td>1</td>\n      <td>3</td>\n      <td>0</td>\n      <td>120</td>\n      <td>Asia</td>\n    </tr>\n    <tr>\n      <th>British Virgin Islands</th>\n      <td>6</td>\n      <td>0</td>\n      <td>1</td>\n      <td>0</td>\n      <td>3</td>\n      <td>2</td>\n      <td>0</td>\n      <td>0</td>\n      <td>NorthAmerica</td>\n    </tr>\n    <tr>\n      <th>St. Barth</th>\n      <td>6</td>\n      <td>0</td>\n      <td>0</td>\n      <td>0</td>\n      <td>6</td>\n      <td>0</td>\n      <td>0</td>\n      <td>0</td>\n      <td>NorthAmerica</td>\n    </tr>\n    <tr>\n      <th>Western Sahara</th>\n      <td>6</td>\n      <td>0</td>\n      <td>0</td>\n      <td>0</td>\n      <td>5</td>\n      <td>1</td>\n      <td>0</td>\n      <td>0</td>\n      <td>Africa</td>\n    </tr>\n    <tr>\n      <th>Caribbean Netherlands</th>\n      <td>5</td>\n      <td>0</td>\n      <td>0</td>\n      <td>0</td>\n      <td>0</td>\n      <td>5</td>\n      <td>0</td>\n      <td>110</td>\n      <td>NorthAmerica</td>\n    </tr>\n    <tr>\n      <th>Anguilla</th>\n      <td>3</td>\n      <td>0</td>\n      <td>0</td>\n      <td>0</td>\n      <td>3</td>\n      <td>0</td>\n      <td>0</td>\n      <td>0</td>\n      <td>NorthAmerica</td>\n    </tr>\n    <tr>\n      <th>Comoros</th>\n      <td>1</td>\n      <td>0</td>\n      <td>0</td>\n      <td>0</td>\n      <td>0</td>\n      <td>1</td>\n      <td>0</td>\n      <td>0</td>\n      <td>Africa</td>\n    </tr>\n    <tr>\n      <th>Saint Pierre Miquelon</th>\n      <td>1</td>\n      <td>0</td>\n      <td>0</td>\n      <td>0</td>\n      <td>0</td>\n      <td>1</td>\n      <td>0</td>\n      <td>0</td>\n      <td>NorthAmerica</td>\n    </tr>\n    <tr>\n      <th>China</th>\n      <td>82874</td>\n      <td>12</td>\n      <td>4633</td>\n      <td>0</td>\n      <td>77642</td>\n      <td>599</td>\n      <td>38</td>\n      <td>0</td>\n      <td>Asia</td>\n    </tr>\n  </tbody>\n</table>\n</div>"
     },
     "metadata": {},
     "execution_count": 14
    }
   ],
   "source": [
    "\n",
    "df.tail(10)"
   ]
  },
  {
   "cell_type": "markdown",
   "metadata": {},
   "source": [
    "## Convert columns datatype\n",
    "* Depending on the the datatype needed, you can convert to `int` or `float` and data will work fine\n",
    "* I converted the datatype to `float ` here as it is easy to use \n",
    "* It is important to catch error here because not all columns can't be converted"
   ]
  },
  {
   "cell_type": "code",
   "execution_count": 15,
   "metadata": {},
   "outputs": [
    {
     "output_type": "stream",
     "name": "stdout",
     "text": "Column datatype cannot be converted\n\n"
    }
   ],
   "source": [
    "for column in df.columns:\n",
    "    try:\n",
    "        df[column] = df[column].astype(\"float\")\n",
    "    except Exception as e:\n",
    "        print(\"Column datatype cannot be converted\\n\") \n",
    "    # a[column] =  df[column].map(lambda x: re.sub(r'[^\\.a-zA-Z0-9_]', '', x))"
   ]
  },
  {
   "cell_type": "code",
   "execution_count": 16,
   "metadata": {
    "scrolled": false
   },
   "outputs": [
    {
     "output_type": "stream",
     "name": "stdout",
     "text": "<class 'pandas.core.frame.DataFrame'>\nIndex: 222 entries, North America to China\nData columns (total 9 columns):\n #   Column          Non-Null Count  Dtype  \n---  ------          --------------  -----  \n 0   TotalCases      222 non-null    float64\n 1   NewCases        222 non-null    float64\n 2   TotalDeaths     222 non-null    float64\n 3   NewDeaths       222 non-null    float64\n 4   TotalRecovered  222 non-null    float64\n 5   ActiveCases     222 non-null    float64\n 6   Critical        222 non-null    float64\n 7   TotalTests      222 non-null    float64\n 8   Continent       222 non-null    object \ndtypes: float64(8), object(1)\nmemory usage: 15.6+ KB\n"
    }
   ],
   "source": [
    "# Check if it worked\n",
    "df.info()"
   ]
  },
  {
   "cell_type": "markdown",
   "metadata": {},
   "source": [
    "## Save Cleaned data"
   ]
  },
  {
   "cell_type": "code",
   "execution_count": 17,
   "metadata": {},
   "outputs": [],
   "source": [
    "# df.to_csv(\"coronadata.csv\")"
   ]
  },
  {
   "cell_type": "markdown",
   "metadata": {},
   "source": [
    "## Preparing Data for analyse"
   ]
  },
  {
   "cell_type": "code",
   "execution_count": 18,
   "metadata": {},
   "outputs": [],
   "source": [
    "# In here, the is cleaned but not suitable for analyse\n",
    "# The continent is list in the country column\n",
    "df.reset_index(inplace=True)\n",
    "\n",
    "stop = \"\"\n",
    "con = []\n",
    "\n",
    "\n",
    "for stop in df[\"Country\"]:\n",
    "\n",
    "    if stop == \"USA\":\n",
    "       break       \n",
    "    con.append(stop)\n",
    "\n",
    "col = []\n",
    "\n",
    "\n",
    "for stop in df.columns:\n",
    "    \n",
    "    col.append(stop)\n",
    "    if stop == \"Critical\":\n",
    "       break\n",
    "\n",
    "all_country = df[ df[\"Country\"].isin(con) == False]"
   ]
  },
  {
   "cell_type": "markdown",
   "metadata": {},
   "source": [
    "# I modelled the data into diff table using the continents\n",
    "* This is just to have data for each continents"
   ]
  },
  {
   "cell_type": "code",
   "execution_count": 19,
   "metadata": {},
   "outputs": [],
   "source": [
    "continent = df[ df[\"Country\"].isin(con[:-1]) ]\n",
    "continent = continent[col]\n",
    "\n",
    "north_america = all_country[ all_country[\"Continent\"] == \"NorthAmerica\"]\n",
    "\n",
    "europe = all_country[ all_country[\"Continent\"] == \"Europe\"]\n",
    "\n",
    "asia = all_country[ all_country[\"Continent\"] == \"Asia\"]\n",
    "\n",
    "south_america = all_country[ all_country[\"Continent\"] == \"SouthAmerica\"]\n",
    "\n",
    "oceania = all_country[ all_country[\"Continent\"] == \"AustraliaOceania\"]\n",
    "\n",
    "africa = all_country[ all_country[\"Continent\"] == \"Africa\"]\n",
    "\n",
    "others = all_country[ all_country[\"Continent\"] == \"Others\"]\n"
   ]
  },
  {
   "cell_type": "markdown",
   "metadata": {},
   "source": [
    "# We now our data ready for analysis\n",
    "* We have now cleaned the data and it is now perfect for analysis\n",
    "* Import neccessary library to get the analysis and visualization done"
   ]
  },
  {
   "cell_type": "code",
   "execution_count": 20,
   "metadata": {},
   "outputs": [
    {
     "output_type": "display_data",
     "data": {
      "text/html": "\n    <div class=\"bk-root\">\n        <a href=\"https://bokeh.org\" target=\"_blank\" class=\"bk-logo bk-logo-small bk-logo-notebook\"></a>\n        <span id=\"1001\">Loading BokehJS ...</span>\n    </div>"
     },
     "metadata": {}
    },
    {
     "output_type": "display_data",
     "data": {
      "application/javascript": "\n(function(root) {\n  function now() {\n    return new Date();\n  }\n\n  var force = true;\n\n  if (typeof root._bokeh_onload_callbacks === \"undefined\" || force === true) {\n    root._bokeh_onload_callbacks = [];\n    root._bokeh_is_loading = undefined;\n  }\n\n  var JS_MIME_TYPE = 'application/javascript';\n  var HTML_MIME_TYPE = 'text/html';\n  var EXEC_MIME_TYPE = 'application/vnd.bokehjs_exec.v0+json';\n  var CLASS_NAME = 'output_bokeh rendered_html';\n\n  /**\n   * Render data to the DOM node\n   */\n  function render(props, node) {\n    var script = document.createElement(\"script\");\n    node.appendChild(script);\n  }\n\n  /**\n   * Handle when an output is cleared or removed\n   */\n  function handleClearOutput(event, handle) {\n    var cell = handle.cell;\n\n    var id = cell.output_area._bokeh_element_id;\n    var server_id = cell.output_area._bokeh_server_id;\n    // Clean up Bokeh references\n    if (id != null && id in Bokeh.index) {\n      Bokeh.index[id].model.document.clear();\n      delete Bokeh.index[id];\n    }\n\n    if (server_id !== undefined) {\n      // Clean up Bokeh references\n      var cmd = \"from bokeh.io.state import curstate; print(curstate().uuid_to_server['\" + server_id + \"'].get_sessions()[0].document.roots[0]._id)\";\n      cell.notebook.kernel.execute(cmd, {\n        iopub: {\n          output: function(msg) {\n            var id = msg.content.text.trim();\n            if (id in Bokeh.index) {\n              Bokeh.index[id].model.document.clear();\n              delete Bokeh.index[id];\n            }\n          }\n        }\n      });\n      // Destroy server and session\n      var cmd = \"import bokeh.io.notebook as ion; ion.destroy_server('\" + server_id + \"')\";\n      cell.notebook.kernel.execute(cmd);\n    }\n  }\n\n  /**\n   * Handle when a new output is added\n   */\n  function handleAddOutput(event, handle) {\n    var output_area = handle.output_area;\n    var output = handle.output;\n\n    // limit handleAddOutput to display_data with EXEC_MIME_TYPE content only\n    if ((output.output_type != \"display_data\") || (!output.data.hasOwnProperty(EXEC_MIME_TYPE))) {\n      return\n    }\n\n    var toinsert = output_area.element.find(\".\" + CLASS_NAME.split(' ')[0]);\n\n    if (output.metadata[EXEC_MIME_TYPE][\"id\"] !== undefined) {\n      toinsert[toinsert.length - 1].firstChild.textContent = output.data[JS_MIME_TYPE];\n      // store reference to embed id on output_area\n      output_area._bokeh_element_id = output.metadata[EXEC_MIME_TYPE][\"id\"];\n    }\n    if (output.metadata[EXEC_MIME_TYPE][\"server_id\"] !== undefined) {\n      var bk_div = document.createElement(\"div\");\n      bk_div.innerHTML = output.data[HTML_MIME_TYPE];\n      var script_attrs = bk_div.children[0].attributes;\n      for (var i = 0; i < script_attrs.length; i++) {\n        toinsert[toinsert.length - 1].firstChild.setAttribute(script_attrs[i].name, script_attrs[i].value);\n        toinsert[toinsert.length - 1].firstChild.textContent = bk_div.children[0].textContent\n      }\n      // store reference to server id on output_area\n      output_area._bokeh_server_id = output.metadata[EXEC_MIME_TYPE][\"server_id\"];\n    }\n  }\n\n  function register_renderer(events, OutputArea) {\n\n    function append_mime(data, metadata, element) {\n      // create a DOM node to render to\n      var toinsert = this.create_output_subarea(\n        metadata,\n        CLASS_NAME,\n        EXEC_MIME_TYPE\n      );\n      this.keyboard_manager.register_events(toinsert);\n      // Render to node\n      var props = {data: data, metadata: metadata[EXEC_MIME_TYPE]};\n      render(props, toinsert[toinsert.length - 1]);\n      element.append(toinsert);\n      return toinsert\n    }\n\n    /* Handle when an output is cleared or removed */\n    events.on('clear_output.CodeCell', handleClearOutput);\n    events.on('delete.Cell', handleClearOutput);\n\n    /* Handle when a new output is added */\n    events.on('output_added.OutputArea', handleAddOutput);\n\n    /**\n     * Register the mime type and append_mime function with output_area\n     */\n    OutputArea.prototype.register_mime_type(EXEC_MIME_TYPE, append_mime, {\n      /* Is output safe? */\n      safe: true,\n      /* Index of renderer in `output_area.display_order` */\n      index: 0\n    });\n  }\n\n  // register the mime type if in Jupyter Notebook environment and previously unregistered\n  if (root.Jupyter !== undefined) {\n    var events = require('base/js/events');\n    var OutputArea = require('notebook/js/outputarea').OutputArea;\n\n    if (OutputArea.prototype.mime_types().indexOf(EXEC_MIME_TYPE) == -1) {\n      register_renderer(events, OutputArea);\n    }\n  }\n\n  \n  if (typeof (root._bokeh_timeout) === \"undefined\" || force === true) {\n    root._bokeh_timeout = Date.now() + 5000;\n    root._bokeh_failed_load = false;\n  }\n\n  var NB_LOAD_WARNING = {'data': {'text/html':\n     \"<div style='background-color: #fdd'>\\n\"+\n     \"<p>\\n\"+\n     \"BokehJS does not appear to have successfully loaded. If loading BokehJS from CDN, this \\n\"+\n     \"may be due to a slow or bad network connection. Possible fixes:\\n\"+\n     \"</p>\\n\"+\n     \"<ul>\\n\"+\n     \"<li>re-rerun `output_notebook()` to attempt to load from CDN again, or</li>\\n\"+\n     \"<li>use INLINE resources instead, as so:</li>\\n\"+\n     \"</ul>\\n\"+\n     \"<code>\\n\"+\n     \"from bokeh.resources import INLINE\\n\"+\n     \"output_notebook(resources=INLINE)\\n\"+\n     \"</code>\\n\"+\n     \"</div>\"}};\n\n  function display_loaded() {\n    var el = document.getElementById(\"1001\");\n    if (el != null) {\n      el.textContent = \"BokehJS is loading...\";\n    }\n    if (root.Bokeh !== undefined) {\n      if (el != null) {\n        el.textContent = \"BokehJS \" + root.Bokeh.version + \" successfully loaded.\";\n      }\n    } else if (Date.now() < root._bokeh_timeout) {\n      setTimeout(display_loaded, 100)\n    }\n  }\n\n\n  function run_callbacks() {\n    try {\n      root._bokeh_onload_callbacks.forEach(function(callback) {\n        if (callback != null)\n          callback();\n      });\n    } finally {\n      delete root._bokeh_onload_callbacks\n    }\n    console.debug(\"Bokeh: all callbacks have finished\");\n  }\n\n  function load_libs(css_urls, js_urls, callback) {\n    if (css_urls == null) css_urls = [];\n    if (js_urls == null) js_urls = [];\n\n    root._bokeh_onload_callbacks.push(callback);\n    if (root._bokeh_is_loading > 0) {\n      console.debug(\"Bokeh: BokehJS is being loaded, scheduling callback at\", now());\n      return null;\n    }\n    if (js_urls == null || js_urls.length === 0) {\n      run_callbacks();\n      return null;\n    }\n    console.debug(\"Bokeh: BokehJS not loaded, scheduling load and callback at\", now());\n    root._bokeh_is_loading = css_urls.length + js_urls.length;\n\n    function on_load() {\n      root._bokeh_is_loading--;\n      if (root._bokeh_is_loading === 0) {\n        console.debug(\"Bokeh: all BokehJS libraries/stylesheets loaded\");\n        run_callbacks()\n      }\n    }\n\n    function on_error() {\n      console.error(\"failed to load \" + url);\n    }\n\n    for (var i = 0; i < css_urls.length; i++) {\n      var url = css_urls[i];\n      const element = document.createElement(\"link\");\n      element.onload = on_load;\n      element.onerror = on_error;\n      element.rel = \"stylesheet\";\n      element.type = \"text/css\";\n      element.href = url;\n      console.debug(\"Bokeh: injecting link tag for BokehJS stylesheet: \", url);\n      document.body.appendChild(element);\n    }\n\n    for (var i = 0; i < js_urls.length; i++) {\n      var url = js_urls[i];\n      var element = document.createElement('script');\n      element.onload = on_load;\n      element.onerror = on_error;\n      element.async = false;\n      element.src = url;\n      \n      console.debug(\"Bokeh: injecting script tag for BokehJS library: \", url);\n      document.head.appendChild(element);\n    }\n  };var element = document.getElementById(\"1001\");\n  if (element == null) {\n    console.error(\"Bokeh: ERROR: autoload.js configured with elementid '1001' but no matching script tag was found. \")\n    return false;\n  }\n\n  function inject_raw_css(css) {\n    const element = document.createElement(\"style\");\n    element.appendChild(document.createTextNode(css));\n    document.body.appendChild(element);\n  }\n\n  \n  var js_urls = [\"https://cdn.bokeh.org/bokeh/release/bokeh-2.0.0.min.js\", \"https://cdn.bokeh.org/bokeh/release/bokeh-widgets-2.0.0.min.js\", \"https://cdn.bokeh.org/bokeh/release/bokeh-tables-2.0.0.min.js\", \"https://cdn.bokeh.org/bokeh/release/bokeh-gl-2.0.0.min.js\"];\n  var css_urls = [];\n  \n\n  var inline_js = [\n    function(Bokeh) {\n      Bokeh.set_log_level(\"info\");\n    },\n    function(Bokeh) {\n    \n    \n    }\n  ];\n\n  function run_inline_js() {\n    \n    if (root.Bokeh !== undefined || force === true) {\n      \n    for (var i = 0; i < inline_js.length; i++) {\n      inline_js[i].call(root, root.Bokeh);\n    }\n    if (force === true) {\n        display_loaded();\n      }} else if (Date.now() < root._bokeh_timeout) {\n      setTimeout(run_inline_js, 100);\n    } else if (!root._bokeh_failed_load) {\n      console.log(\"Bokeh: BokehJS failed to load within specified timeout.\");\n      root._bokeh_failed_load = true;\n    } else if (force !== true) {\n      var cell = $(document.getElementById(\"1001\")).parents('.cell').data().cell;\n      cell.output_area.append_execute_result(NB_LOAD_WARNING)\n    }\n\n  }\n\n  if (root._bokeh_is_loading === 0) {\n    console.debug(\"Bokeh: BokehJS loaded, going straight to plotting\");\n    run_inline_js();\n  } else {\n    load_libs(css_urls, js_urls, function() {\n      console.debug(\"Bokeh: BokehJS plotting callback run at\", now());\n      run_inline_js();\n    });\n  }\n}(window));",
      "application/vnd.bokehjs_load.v0+json": "\n(function(root) {\n  function now() {\n    return new Date();\n  }\n\n  var force = true;\n\n  if (typeof root._bokeh_onload_callbacks === \"undefined\" || force === true) {\n    root._bokeh_onload_callbacks = [];\n    root._bokeh_is_loading = undefined;\n  }\n\n  \n\n  \n  if (typeof (root._bokeh_timeout) === \"undefined\" || force === true) {\n    root._bokeh_timeout = Date.now() + 5000;\n    root._bokeh_failed_load = false;\n  }\n\n  var NB_LOAD_WARNING = {'data': {'text/html':\n     \"<div style='background-color: #fdd'>\\n\"+\n     \"<p>\\n\"+\n     \"BokehJS does not appear to have successfully loaded. If loading BokehJS from CDN, this \\n\"+\n     \"may be due to a slow or bad network connection. Possible fixes:\\n\"+\n     \"</p>\\n\"+\n     \"<ul>\\n\"+\n     \"<li>re-rerun `output_notebook()` to attempt to load from CDN again, or</li>\\n\"+\n     \"<li>use INLINE resources instead, as so:</li>\\n\"+\n     \"</ul>\\n\"+\n     \"<code>\\n\"+\n     \"from bokeh.resources import INLINE\\n\"+\n     \"output_notebook(resources=INLINE)\\n\"+\n     \"</code>\\n\"+\n     \"</div>\"}};\n\n  function display_loaded() {\n    var el = document.getElementById(\"1001\");\n    if (el != null) {\n      el.textContent = \"BokehJS is loading...\";\n    }\n    if (root.Bokeh !== undefined) {\n      if (el != null) {\n        el.textContent = \"BokehJS \" + root.Bokeh.version + \" successfully loaded.\";\n      }\n    } else if (Date.now() < root._bokeh_timeout) {\n      setTimeout(display_loaded, 100)\n    }\n  }\n\n\n  function run_callbacks() {\n    try {\n      root._bokeh_onload_callbacks.forEach(function(callback) {\n        if (callback != null)\n          callback();\n      });\n    } finally {\n      delete root._bokeh_onload_callbacks\n    }\n    console.debug(\"Bokeh: all callbacks have finished\");\n  }\n\n  function load_libs(css_urls, js_urls, callback) {\n    if (css_urls == null) css_urls = [];\n    if (js_urls == null) js_urls = [];\n\n    root._bokeh_onload_callbacks.push(callback);\n    if (root._bokeh_is_loading > 0) {\n      console.debug(\"Bokeh: BokehJS is being loaded, scheduling callback at\", now());\n      return null;\n    }\n    if (js_urls == null || js_urls.length === 0) {\n      run_callbacks();\n      return null;\n    }\n    console.debug(\"Bokeh: BokehJS not loaded, scheduling load and callback at\", now());\n    root._bokeh_is_loading = css_urls.length + js_urls.length;\n\n    function on_load() {\n      root._bokeh_is_loading--;\n      if (root._bokeh_is_loading === 0) {\n        console.debug(\"Bokeh: all BokehJS libraries/stylesheets loaded\");\n        run_callbacks()\n      }\n    }\n\n    function on_error() {\n      console.error(\"failed to load \" + url);\n    }\n\n    for (var i = 0; i < css_urls.length; i++) {\n      var url = css_urls[i];\n      const element = document.createElement(\"link\");\n      element.onload = on_load;\n      element.onerror = on_error;\n      element.rel = \"stylesheet\";\n      element.type = \"text/css\";\n      element.href = url;\n      console.debug(\"Bokeh: injecting link tag for BokehJS stylesheet: \", url);\n      document.body.appendChild(element);\n    }\n\n    for (var i = 0; i < js_urls.length; i++) {\n      var url = js_urls[i];\n      var element = document.createElement('script');\n      element.onload = on_load;\n      element.onerror = on_error;\n      element.async = false;\n      element.src = url;\n      \n      console.debug(\"Bokeh: injecting script tag for BokehJS library: \", url);\n      document.head.appendChild(element);\n    }\n  };var element = document.getElementById(\"1001\");\n  if (element == null) {\n    console.error(\"Bokeh: ERROR: autoload.js configured with elementid '1001' but no matching script tag was found. \")\n    return false;\n  }\n\n  function inject_raw_css(css) {\n    const element = document.createElement(\"style\");\n    element.appendChild(document.createTextNode(css));\n    document.body.appendChild(element);\n  }\n\n  \n  var js_urls = [\"https://cdn.bokeh.org/bokeh/release/bokeh-2.0.0.min.js\", \"https://cdn.bokeh.org/bokeh/release/bokeh-widgets-2.0.0.min.js\", \"https://cdn.bokeh.org/bokeh/release/bokeh-tables-2.0.0.min.js\", \"https://cdn.bokeh.org/bokeh/release/bokeh-gl-2.0.0.min.js\"];\n  var css_urls = [];\n  \n\n  var inline_js = [\n    function(Bokeh) {\n      Bokeh.set_log_level(\"info\");\n    },\n    function(Bokeh) {\n    \n    \n    }\n  ];\n\n  function run_inline_js() {\n    \n    if (root.Bokeh !== undefined || force === true) {\n      \n    for (var i = 0; i < inline_js.length; i++) {\n      inline_js[i].call(root, root.Bokeh);\n    }\n    if (force === true) {\n        display_loaded();\n      }} else if (Date.now() < root._bokeh_timeout) {\n      setTimeout(run_inline_js, 100);\n    } else if (!root._bokeh_failed_load) {\n      console.log(\"Bokeh: BokehJS failed to load within specified timeout.\");\n      root._bokeh_failed_load = true;\n    } else if (force !== true) {\n      var cell = $(document.getElementById(\"1001\")).parents('.cell').data().cell;\n      cell.output_area.append_execute_result(NB_LOAD_WARNING)\n    }\n\n  }\n\n  if (root._bokeh_is_loading === 0) {\n    console.debug(\"Bokeh: BokehJS loaded, going straight to plotting\");\n    run_inline_js();\n  } else {\n    load_libs(css_urls, js_urls, function() {\n      console.debug(\"Bokeh: BokehJS plotting callback run at\", now());\n      run_inline_js();\n    });\n  }\n}(window));"
     },
     "metadata": {}
    }
   ],
   "source": [
    "%matplotlib inline\n",
    "from math import pi\n",
    "\n",
    "import csv\n",
    "import matplotlib.pyplot as plt\n",
    "from math import fsum\n",
    "from urllib.request import urlopen\n",
    "from bs4 import BeautifulSoup\n",
    "\n",
    "from bokeh.plotting import figure,output_file, output_notebook, show\n",
    "from bokeh.models import ColumnDataSource, ranges, LabelSet, HoverTool\n",
    "from bokeh.layouts import gridplot\n",
    "from bokeh.transform import cumsum\n",
    "\n",
    "tools = \"wheel_zoom, reset, save\"\n",
    "\n",
    "\n",
    "# Display plot in jupiter notebook\n",
    "output_notebook()\n",
    "\n",
    "blue    = '#008fd5'\n",
    "red     = '#fc4f30'\n",
    "yellow  = '#e5ae37'\n",
    "green   = '#6d904f'\n",
    "skye    = '#33D1FF'\n",
    "pink    = \"#FF338A\"\n",
    "lgreen  = '#99FF33'\n",
    "\n",
    "colours = [blue, red, yellow,green, skye, pink, lgreen]\n",
    "\n",
    "width = 600\n",
    "heigth = 400"
   ]
  },
  {
   "cell_type": "code",
   "execution_count": 21,
   "metadata": {},
   "outputs": [
    {
     "output_type": "display_data",
     "data": {
      "text/html": "\n\n\n\n\n\n  <div class=\"bk-root\" id=\"00766000-f5f0-474e-9218-b4494ad02f7b\" data-root-id=\"1003\"></div>\n"
     },
     "metadata": {}
    },
    {
     "output_type": "display_data",
     "data": {
      "application/javascript": "(function(root) {\n  function embed_document(root) {\n    \n  var docs_json = {\"bcfa7854-0969-49f3-8054-728e12c81bc5\":{\"roots\":{\"references\":[{\"attributes\":{\"below\":[{\"id\":\"1014\"}],\"center\":[{\"id\":\"1017\"},{\"id\":\"1021\"},{\"id\":\"1041\"}],\"left\":[{\"id\":\"1018\"}],\"plot_height\":350,\"renderers\":[{\"id\":\"1034\"}],\"title\":{\"id\":\"1004\"},\"toolbar\":{\"id\":\"1025\"},\"toolbar_location\":null,\"x_range\":{\"id\":\"1006\"},\"x_scale\":{\"id\":\"1010\"},\"y_range\":{\"id\":\"1008\"},\"y_scale\":{\"id\":\"1012\"}},\"id\":\"1003\",\"subtype\":\"Figure\",\"type\":\"Plot\"},{\"attributes\":{\"field\":\"angle\"},\"id\":\"1030\",\"type\":\"CumSum\"},{\"attributes\":{},\"id\":\"1040\",\"type\":\"BasicTickFormatter\"},{\"attributes\":{\"data\":{\"Case\":[\"Active - 61.41%\",\"Recovered - 31.51%\",\"Deaths - 7.08%\"],\"angle\":{\"__ndarray__\":\"fPsHKI/eDkDJnwtCS63/P3p21PsOdtw/\",\"dtype\":\"float64\",\"shape\":[3]},\"color\":[\"#008fd5\",\"#6d904f\",\"#fc4f30\"],\"index\":[0,1,2],\"value\":{\"__ndarray__\":\"AAAAAMz+PkEAAAAAYM4vQQAAAADIkwxB\",\"dtype\":\"float64\",\"shape\":[3]}},\"selected\":{\"id\":\"1051\"},\"selection_policy\":{\"id\":\"1050\"}},\"id\":\"1002\",\"type\":\"ColumnDataSource\"},{\"attributes\":{},\"id\":\"1010\",\"type\":\"LinearScale\"},{\"attributes\":{\"text\":\"COVID-19 cases overview\"},\"id\":\"1004\",\"type\":\"Title\"},{\"attributes\":{\"label\":{\"field\":\"Case\"},\"renderers\":[{\"id\":\"1034\"}]},\"id\":\"1042\",\"type\":\"LegendItem\"},{\"attributes\":{\"start\":-0.5},\"id\":\"1006\",\"type\":\"Range1d\"},{\"attributes\":{\"end_angle\":{\"expr\":{\"id\":\"1030\"},\"units\":\"rad\"},\"fill_alpha\":{\"value\":0.1},\"fill_color\":{\"field\":\"color\"},\"line_alpha\":{\"value\":0.1},\"line_color\":{\"value\":\"white\"},\"radius\":{\"units\":\"data\",\"value\":0.4},\"start_angle\":{\"expr\":{\"id\":\"1029\"},\"units\":\"rad\"},\"x\":{\"value\":0},\"y\":{\"value\":1}},\"id\":\"1033\",\"type\":\"Wedge\"},{\"attributes\":{},\"id\":\"1008\",\"type\":\"DataRange1d\"},{\"attributes\":{},\"id\":\"1024\",\"type\":\"SaveTool\"},{\"attributes\":{\"field\":\"angle\",\"include_zero\":true},\"id\":\"1029\",\"type\":\"CumSum\"},{\"attributes\":{\"axis\":{\"id\":\"1018\"},\"dimension\":1,\"grid_line_color\":null,\"ticker\":null},\"id\":\"1021\",\"type\":\"Grid\"},{\"attributes\":{\"axis_label\":null,\"formatter\":{\"id\":\"1040\"},\"ticker\":{\"id\":\"1015\"},\"visible\":false},\"id\":\"1014\",\"type\":\"LinearAxis\"},{\"attributes\":{},\"id\":\"1019\",\"type\":\"BasicTicker\"},{\"attributes\":{},\"id\":\"1012\",\"type\":\"LinearScale\"},{\"attributes\":{},\"id\":\"1050\",\"type\":\"UnionRenderers\"},{\"attributes\":{},\"id\":\"1051\",\"type\":\"Selection\"},{\"attributes\":{\"end_angle\":{\"expr\":{\"id\":\"1030\"},\"units\":\"rad\"},\"fill_color\":{\"field\":\"color\"},\"line_color\":{\"value\":\"white\"},\"radius\":{\"units\":\"data\",\"value\":0.4},\"start_angle\":{\"expr\":{\"id\":\"1029\"},\"units\":\"rad\"},\"x\":{\"value\":0},\"y\":{\"value\":1}},\"id\":\"1032\",\"type\":\"Wedge\"},{\"attributes\":{\"axis\":{\"id\":\"1014\"},\"grid_line_color\":null,\"ticker\":null},\"id\":\"1017\",\"type\":\"Grid\"},{\"attributes\":{\"axis_label\":null,\"formatter\":{\"id\":\"1038\"},\"ticker\":{\"id\":\"1019\"},\"visible\":false},\"id\":\"1018\",\"type\":\"LinearAxis\"},{\"attributes\":{},\"id\":\"1015\",\"type\":\"BasicTicker\"},{\"attributes\":{\"callback\":null,\"tooltips\":\"\\n    <div>\\n        <h3>@Case</h3>\\n        <h3>Total: @value</h3>\\n    </div>\\n\\n\"},\"id\":\"1043\",\"type\":\"HoverTool\"},{\"attributes\":{},\"id\":\"1022\",\"type\":\"WheelZoomTool\"},{\"attributes\":{},\"id\":\"1023\",\"type\":\"ResetTool\"},{\"attributes\":{\"active_drag\":\"auto\",\"active_inspect\":\"auto\",\"active_multi\":null,\"active_scroll\":\"auto\",\"active_tap\":\"auto\",\"tools\":[{\"id\":\"1022\"},{\"id\":\"1023\"},{\"id\":\"1024\"},{\"id\":\"1043\"}]},\"id\":\"1025\",\"type\":\"Toolbar\"},{\"attributes\":{\"items\":[{\"id\":\"1042\"}]},\"id\":\"1041\",\"type\":\"Legend\"},{\"attributes\":{\"data_source\":{\"id\":\"1002\"},\"glyph\":{\"id\":\"1032\"},\"hover_glyph\":null,\"muted_glyph\":null,\"nonselection_glyph\":{\"id\":\"1033\"},\"selection_glyph\":null,\"view\":{\"id\":\"1035\"}},\"id\":\"1034\",\"type\":\"GlyphRenderer\"},{\"attributes\":{\"source\":{\"id\":\"1002\"}},\"id\":\"1035\",\"type\":\"CDSView\"},{\"attributes\":{},\"id\":\"1038\",\"type\":\"BasicTickFormatter\"}],\"root_ids\":[\"1003\"]},\"title\":\"Bokeh Application\",\"version\":\"2.0.0\"}};\n  var render_items = [{\"docid\":\"bcfa7854-0969-49f3-8054-728e12c81bc5\",\"root_ids\":[\"1003\"],\"roots\":{\"1003\":\"00766000-f5f0-474e-9218-b4494ad02f7b\"}}];\n  root.Bokeh.embed.embed_items_notebook(docs_json, render_items);\n\n  }\n  if (root.Bokeh !== undefined) {\n    embed_document(root);\n  } else {\n    var attempts = 0;\n    var timer = setInterval(function(root) {\n      if (root.Bokeh !== undefined) {\n        clearInterval(timer);\n        embed_document(root);\n      } else {\n        attempts++;\n        if (attempts > 100) {\n          clearInterval(timer);\n          console.log(\"Bokeh: ERROR: Unable to run BokehJS code because BokehJS library is missing\");\n        }\n      }\n    }, 10, root)\n  }\n})(window);",
      "application/vnd.bokehjs_exec.v0+json": ""
     },
     "metadata": {
      "application/vnd.bokehjs_exec.v0+json": {
       "id": "1003"
      }
     }
    }
   ],
   "source": [
    "pies = all_country[[\"Country\", 'ActiveCases','TotalRecovered', 'TotalDeaths']]\n",
    "pies.set_index('Country', inplace=True)\n",
    "\n",
    "\n",
    "\n",
    "# output_file(\"pie.html\")\n",
    "\n",
    "\n",
    "col_sum = []\n",
    "for col in pies.sum(axis = 0, skipna = True):\n",
    "    col_sum.append(col)\n",
    "\n",
    "active       = col_sum[0]\n",
    "recovered    = col_sum[1]\n",
    "death        = col_sum[2] \n",
    "\n",
    "#  Calculating percentage\n",
    "sum_all = fsum(col_sum)\n",
    "aper    = \"{0:.2f}%\".format((active/sum_all)*100)\n",
    "rper    = \"{0:.2f}%\".format((recovered/sum_all)*100)\n",
    "dper    = \"{0:.2f}%\".format((death/sum_all)*100)\n",
    "\n",
    "\n",
    "\n",
    "\n",
    "percent = {\"value\": [aper, rper, dper]}\n",
    "# Setting data\n",
    "x = { \n",
    "    'Active - ' + aper: active,\n",
    "    'Recovered - ' + rper: recovered,\n",
    "    'Deaths - ' + dper: death   \n",
    "}\n",
    "\n",
    "colors = [blue, green,  red]\n",
    "\n",
    "data = pd.Series(x).reset_index(name='value').rename(columns={'index':'Case'})\n",
    "# data['label'] = percent\n",
    "data['angle'] = data['value']/data['value'].sum() * 2*pi\n",
    "data['color'] = colors[:len(x)]\n",
    "\n",
    "source = ColumnDataSource(data)\n",
    "\n",
    "pie = figure(plot_height=350, title=\"COVID-19 cases overview\", toolbar_location=None,\n",
    "           tools=tools,\n",
    "           x_range=(-0.5, 1.0))\n",
    "\n",
    "pie.wedge(x=0, y=1, radius=0.4,\n",
    "        start_angle=cumsum('angle', include_zero=True),\n",
    "        end_angle=cumsum('angle'),\n",
    "        line_color=\"white\",\n",
    "        fill_color = \"color\",\n",
    "        legend_field='Case', \n",
    "        source=source)\n",
    "\n",
    "hover = HoverTool()\n",
    "hover.tooltips = \"\"\"\n",
    "    <div>\n",
    "        <h3>@Case</h3>\n",
    "        <h3>Total: @value</h3>\n",
    "    </div>\n",
    "\n",
    "\"\"\"\n",
    "\n",
    "pie.axis.axis_label=None\n",
    "pie.axis.visible=False\n",
    "pie.grid.grid_line_color = None\n",
    "pie.add_tools(hover)\n",
    "\n",
    "show(pie)"
   ]
  },
  {
   "cell_type": "markdown",
   "metadata": {},
   "source": [
    "# DATA VISUALISATION FOR THE TOTAL, DEATH and RECOVERED CASES\n",
    "\n",
    "* Here, I was preparing data for the cases to be considered\n",
    "* I only used the top 20 of the data\n",
    "* I printed it out to be sure\n",
    "                    "
   ]
  },
  {
   "cell_type": "markdown",
   "metadata": {},
   "source": [
    "# Total Case"
   ]
  },
  {
   "cell_type": "code",
   "execution_count": 22,
   "metadata": {},
   "outputs": [
    {
     "output_type": "display_data",
     "data": {
      "text/html": "\n\n\n\n\n\n  <div class=\"bk-root\" id=\"678a39cf-be86-4390-93b4-631b4f5050b0\" data-root-id=\"1095\"></div>\n"
     },
     "metadata": {}
    },
    {
     "output_type": "display_data",
     "data": {
      "application/javascript": "(function(root) {\n  function embed_document(root) {\n    \n  var docs_json = {\"a826b03a-cfe5-4b43-86c6-1d789bb8e827\":{\"roots\":{\"references\":[{\"attributes\":{\"below\":[{\"id\":\"1106\"}],\"center\":[{\"id\":\"1109\"},{\"id\":\"1112\"}],\"left\":[{\"id\":\"1110\"}],\"plot_height\":400,\"renderers\":[{\"id\":\"1124\"}],\"title\":{\"id\":\"1096\"},\"toolbar\":{\"id\":\"1116\"},\"x_range\":{\"id\":\"1098\"},\"x_scale\":{\"id\":\"1102\"},\"y_range\":{\"id\":\"1100\"},\"y_scale\":{\"id\":\"1104\"}},\"id\":\"1095\",\"subtype\":\"Figure\",\"type\":\"Plot\"},{\"attributes\":{\"axis\":{\"id\":\"1110\"},\"dimension\":1,\"ticker\":null},\"id\":\"1112\",\"type\":\"Grid\"},{\"attributes\":{},\"id\":\"1098\",\"type\":\"DataRange1d\"},{\"attributes\":{},\"id\":\"1111\",\"type\":\"CategoricalTicker\"},{\"attributes\":{},\"id\":\"1104\",\"type\":\"CategoricalScale\"},{\"attributes\":{},\"id\":\"1107\",\"type\":\"BasicTicker\"},{\"attributes\":{\"axis\":{\"id\":\"1106\"},\"ticker\":null},\"id\":\"1109\",\"type\":\"Grid\"},{\"attributes\":{\"factors\":[\"Saudi Arabia\",\"Ecuador\",\"Portugal\",\"Switzerland\",\"India\",\"Peru\",\"Netherlands\",\"Belgium\",\"Canada\",\"China\",\"Brazil\",\"Iran\",\"Russia\",\"Turkey\",\"Germany\",\"France\",\"UK\",\"Italy\",\"Spain\",\"USA\"]},\"id\":\"1100\",\"type\":\"FactorRange\"},{\"attributes\":{\"formatter\":{\"id\":\"1139\"},\"ticker\":{\"id\":\"1107\"}},\"id\":\"1106\",\"type\":\"LinearAxis\"},{\"attributes\":{},\"id\":\"1102\",\"type\":\"LinearScale\"},{\"attributes\":{},\"id\":\"1137\",\"type\":\"CategoricalTickFormatter\"},{\"attributes\":{\"formatter\":{\"id\":\"1137\"},\"ticker\":{\"id\":\"1111\"}},\"id\":\"1110\",\"type\":\"CategoricalAxis\"},{\"attributes\":{\"fill_alpha\":{\"value\":0.1},\"fill_color\":{\"value\":\"navy\"},\"height\":{\"value\":0.5},\"line_alpha\":{\"value\":0.1},\"line_color\":{\"value\":\"navy\"},\"right\":{\"field\":\"TotalCases\"},\"y\":{\"field\":\"Country\"}},\"id\":\"1122\",\"type\":\"HBar\"},{\"attributes\":{\"source\":{\"id\":\"1094\"}},\"id\":\"1125\",\"type\":\"CDSView\"},{\"attributes\":{\"fill_color\":{\"value\":\"#33D1FF\"},\"height\":{\"value\":0.5},\"line_color\":{\"value\":\"#33D1FF\"},\"right\":{\"field\":\"TotalCases\"},\"y\":{\"field\":\"Country\"}},\"id\":\"1123\",\"type\":\"HBar\"},{\"attributes\":{\"data_source\":{\"id\":\"1094\"},\"glyph\":{\"id\":\"1121\"},\"hover_glyph\":{\"id\":\"1123\"},\"muted_glyph\":null,\"nonselection_glyph\":{\"id\":\"1122\"},\"selection_glyph\":null,\"view\":{\"id\":\"1125\"}},\"id\":\"1124\",\"type\":\"GlyphRenderer\"},{\"attributes\":{},\"id\":\"1113\",\"type\":\"WheelZoomTool\"},{\"attributes\":{},\"id\":\"1114\",\"type\":\"ResetTool\"},{\"attributes\":{},\"id\":\"1115\",\"type\":\"SaveTool\"},{\"attributes\":{\"active_drag\":\"auto\",\"active_inspect\":\"auto\",\"active_multi\":null,\"active_scroll\":\"auto\",\"active_tap\":\"auto\",\"tools\":[{\"id\":\"1113\"},{\"id\":\"1114\"},{\"id\":\"1115\"},{\"id\":\"1126\"}]},\"id\":\"1116\",\"type\":\"Toolbar\"},{\"attributes\":{},\"id\":\"1141\",\"type\":\"Selection\"},{\"attributes\":{},\"id\":\"1140\",\"type\":\"UnionRenderers\"},{\"attributes\":{\"fill_color\":{\"value\":\"navy\"},\"height\":{\"value\":0.5},\"line_color\":{\"value\":\"navy\"},\"right\":{\"field\":\"TotalCases\"},\"y\":{\"field\":\"Country\"}},\"id\":\"1121\",\"type\":\"HBar\"},{\"attributes\":{\"text\":\"Total COVID19 cases\"},\"id\":\"1096\",\"type\":\"Title\"},{\"attributes\":{},\"id\":\"1139\",\"type\":\"BasicTickFormatter\"},{\"attributes\":{\"callback\":null,\"tooltips\":[[\"Country\",\"@Country\"],[\"Total\",\"@TotalCases\"]]},\"id\":\"1126\",\"type\":\"HoverTool\"},{\"attributes\":{\"data\":{\"ActiveCases\":{\"__ndarray__\":\"AAAAAAD50kAAAAAAAPPVQAAAAABAAtZAAAAAAABhsUAAAAAAQBDYQAAAAAAA7NhAAAAAAOC74EAAAAAAQKncQAAAAABA9dtAAAAAAAC4gkAAAAAAwBfmQAAAAACAYspAAAAAAODm9kAAAAAAAKPwQAAAAADADuBAAAAAAODI9kAAAAAAUJgBQQAAAADwyvhAAAAAAIDT8kAAAAAAuLgqQQ==\",\"dtype\":\"float64\",\"shape\":[20]},\"Continent\":[\"Asia\",\"SouthAmerica\",\"Europe\",\"Europe\",\"Asia\",\"SouthAmerica\",\"Europe\",\"Europe\",\"NorthAmerica\",\"Asia\",\"SouthAmerica\",\"Asia\",\"Europe\",\"Asia\",\"Europe\",\"Europe\",\"Europe\",\"Europe\",\"Europe\",\"NorthAmerica\"],\"Country\":[\"Saudi Arabia\",\"Ecuador\",\"Portugal\",\"Switzerland\",\"India\",\"Peru\",\"Netherlands\",\"Belgium\",\"Canada\",\"China\",\"Brazil\",\"Iran\",\"Russia\",\"Turkey\",\"Germany\",\"France\",\"UK\",\"Italy\",\"Spain\",\"USA\"],\"Critical\":{\"__ndarray__\":\"AAAAAADAXkAAAAAAAEBiQAAAAAAAgGVAAAAAAADgZEAAAAAAAAAAAAAAAAAAWIRAAAAAAAB4iEAAAAAAAAiIQAAAAAAAaIFAAAAAAAAAQ0AAAAAAAD/AQAAAAAAAQKdAAAAAAAD4oUAAAAAAAKiXQAAAAAAA3qJAAAAAAABmr0AAAAAAAFyYQAAAAAAAeJpAAAAAAADopEAAAAAAAL3NQA==\",\"dtype\":\"float64\",\"shape\":[20]},\"NewCases\":{\"__ndarray__\":\"AAAAAAAAAAAAAAAAAAAAAAAAAAAAAAAAAAAAAAAAAAAAAAAAAAAAAAAAAAAAAAAAAAAAAAAAAAAAAAAAAAAAAAAAAAAAAAAAAAAAAAAAKEAAAAAAADycQAAAAAAAAAAAAAAAAAAAAAAAAAAAAAAAAAAAAAAAAAAAAAAAAAAAAAAAAAAAAAAAAAAAAAAAAAAAAAAAAAAAAAAAAAAAAGBnQA==\",\"dtype\":\"float64\",\"shape\":[20]},\"NewDeaths\":{\"__ndarray__\":\"AAAAAAAAAAAAAAAAAAAAAAAAAAAAAAAAAAAAAAAAAAAAAAAAAAAAAAAAAAAAAAAAAAAAAAAAAAAAAAAAAAAAAAAAAAAAAAAAAAAAAAAAAAAAAAAAAEBaQAAAAAAAAAAAAAAAAAAAAAAAAAAAAAAAAAAAAAAAAAAAAAAAAAAAAAAAAAAAAAAAAAAAAAAAAAAAAAAAAAAAAAAAAAAAAAAUQA==\",\"dtype\":\"float64\",\"shape\":[20]},\"TotalCases\":{\"__ndarray__\":\"AAAAAEA41kAAAAAAgFnYQAAAAABAddhAAAAAAIDk3EAAAAAA4AXhQAAAAAAADuJAAAAAAIAy40AAAAAA4LDnQAAAAACA/ulAAAAAAKA79EAAAAAAMEn1QAAAAAAAG/dAAAAAACAA+kAAAAAAwFj9QAAAAAAI5gNBAAAAAFBoBEEAAAAAqOcEQQAAAAC4FAlBAAAAALhADUEAAAAAKrYwQQ==\",\"dtype\":\"float64\",\"shape\":[20]},\"TotalDeaths\":{\"__ndarray__\":\"AAAAAABAZEAAAAAAACCMQAAAAAAA6I5AAAAAAAAkm0AAAAAAAAiSQAAAAAAAbJBAAAAAAAC7skAAAAAAAKq9QAAAAAAA4KhAAAAAAAAZskAAAAAAAHa3QAAAAAAAjLdAAAAAAADEkEAAAAAAAMyoQAAAAAAA37lAAAAAAADO10AAAAAAwCTaQAAAAADAT9tAAAAAAMD310AAAAAAoC7vQA==\",\"dtype\":\"float64\",\"shape\":[20]},\"TotalRecovered\":{\"__ndarray__\":\"AAAAAAC2qEAAAAAAAFiYQAAAAAAAvJdAAAAAAADa1kAAAAAAALbBQAAAAACAUsRAAAAAAAAAAAAAAAAAAJzGQAAAAADA69RAAAAAAKD08kAAAAAA4IvhQAAAAADwVfJAAAAAAICxxkAAAAAAwN7nQAAAAADAJv5AAAAAAIAo6EAAAAAAAAAAAAAAAACQivJAAAAAAADYAEEAAAAAyAIDQQ==\",\"dtype\":\"float64\",\"shape\":[20]},\"TotalTests\":{\"__ndarray__\":\"AAAAAABqCEEAAAAA4NvwQAAAAADsJxhBAAAAAGA/EEEAAAAA8lUpQQAAAACwbBNBAAAAAADTCkEAAAAAWAwNQQAAAABinChBAAAAAAAAAAAAAAAAgLkUQQAAAAD8RhxBAAAAAGigSkEAAAAAIosvQQAAAAC2bkNBAAAAALwcJkEAAAAAIoYrQQAAAABRMz5BAAAAAMo0NkEAAADAE2JYQQ==\",\"dtype\":\"float64\",\"shape\":[20]},\"index\":[26,25,24,23,22,21,20,19,18,221,17,16,15,14,13,12,11,10,9,8]},\"selected\":{\"id\":\"1141\"},\"selection_policy\":{\"id\":\"1140\"}},\"id\":\"1094\",\"type\":\"ColumnDataSource\"}],\"root_ids\":[\"1095\"]},\"title\":\"Bokeh Application\",\"version\":\"2.0.0\"}};\n  var render_items = [{\"docid\":\"a826b03a-cfe5-4b43-86c6-1d789bb8e827\",\"root_ids\":[\"1095\"],\"roots\":{\"1095\":\"678a39cf-be86-4390-93b4-631b4f5050b0\"}}];\n  root.Bokeh.embed.embed_items_notebook(docs_json, render_items);\n\n  }\n  if (root.Bokeh !== undefined) {\n    embed_document(root);\n  } else {\n    var attempts = 0;\n    var timer = setInterval(function(root) {\n      if (root.Bokeh !== undefined) {\n        clearInterval(timer);\n        embed_document(root);\n      } else {\n        attempts++;\n        if (attempts > 100) {\n          clearInterval(timer);\n          console.log(\"Bokeh: ERROR: Unable to run BokehJS code because BokehJS library is missing\");\n        }\n      }\n    }, 10, root)\n  }\n})(window);",
      "application/vnd.bokehjs_exec.v0+json": ""
     },
     "metadata": {
      "application/vnd.bokehjs_exec.v0+json": {
       "id": "1095"
      }
     }
    }
   ],
   "source": [
    "\"\"\" Total case discovered\"\"\"\n",
    "# sort data by total cases in descending order\n",
    "con_tc = all_country.sort_values(by='TotalCases')\n",
    "\n",
    "# picking the last 20 countries\n",
    "con_tc = con_tc.tail(20)\n",
    "\n",
    "# Plot Axis\n",
    "source = ColumnDataSource(con_tc)\n",
    "x_tc = con_tc['Country']\n",
    "\n",
    "# setting plot; y_range is used for x_tc because the data is categorical data\n",
    "tc = figure(y_range=x_tc, \n",
    "            title=\"Total COVID19 cases\",\n",
    "            tools=tools,\n",
    "            plot_width=width, \n",
    "            plot_height=heigth)\n",
    "\n",
    "tc.hbar(y=\"Country\", \n",
    "        right=\"TotalCases\",\n",
    "        height=0.5,\n",
    "        hover_color=skye,\n",
    "        left=0, \n",
    "        color=\"navy\",\n",
    "        source=source)\n",
    "\n",
    "hover = HoverTool(\n",
    "        tooltips=[\n",
    "            (\"Country\", '@Country'),\n",
    "            (\"Total\", \"@TotalCases\")\n",
    "        ]\n",
    ")\n",
    "\n",
    "\n",
    "tc.add_tools(hover)\n",
    "\n",
    "show(tc)\n"
   ]
  },
  {
   "cell_type": "markdown",
   "metadata": {},
   "source": [
    "# Total Death"
   ]
  },
  {
   "cell_type": "code",
   "execution_count": 23,
   "metadata": {},
   "outputs": [
    {
     "output_type": "display_data",
     "data": {
      "text/html": "\n\n\n\n\n\n  <div class=\"bk-root\" id=\"587ab33d-7c3d-429d-bb33-a130c90298c7\" data-root-id=\"1185\"></div>\n"
     },
     "metadata": {}
    },
    {
     "output_type": "display_data",
     "data": {
      "application/javascript": "(function(root) {\n  function embed_document(root) {\n    \n  var docs_json = {\"77049e7e-f5e1-44bf-8017-ad8492f9bafe\":{\"roots\":{\"references\":[{\"attributes\":{\"below\":[{\"id\":\"1196\"}],\"center\":[{\"id\":\"1199\"},{\"id\":\"1202\"}],\"left\":[{\"id\":\"1200\"}],\"plot_height\":400,\"renderers\":[{\"id\":\"1214\"}],\"title\":{\"id\":\"1186\"},\"toolbar\":{\"id\":\"1206\"},\"x_range\":{\"id\":\"1188\"},\"x_scale\":{\"id\":\"1192\"},\"y_range\":{\"id\":\"1190\"},\"y_scale\":{\"id\":\"1194\"}},\"id\":\"1185\",\"subtype\":\"Figure\",\"type\":\"Plot\"},{\"attributes\":{},\"id\":\"1236\",\"type\":\"BasicTickFormatter\"},{\"attributes\":{},\"id\":\"1192\",\"type\":\"LinearScale\"},{\"attributes\":{\"factors\":[\"Peru\",\"Russia\",\"India\",\"Ireland\",\"Switzerland\",\"Mexico\",\"Sweden\",\"Turkey\",\"Canada\",\"China\",\"Netherlands\",\"Brazil\",\"Iran\",\"Germany\",\"Belgium\",\"France\",\"Spain\",\"UK\",\"Italy\",\"USA\"]},\"id\":\"1190\",\"type\":\"FactorRange\"},{\"attributes\":{\"axis\":{\"id\":\"1200\"},\"dimension\":1,\"ticker\":null},\"id\":\"1202\",\"type\":\"Grid\"},{\"attributes\":{\"data_source\":{\"id\":\"1184\"},\"glyph\":{\"id\":\"1211\"},\"hover_glyph\":{\"id\":\"1213\"},\"muted_glyph\":null,\"nonselection_glyph\":{\"id\":\"1212\"},\"selection_glyph\":null,\"view\":{\"id\":\"1215\"}},\"id\":\"1214\",\"type\":\"GlyphRenderer\"},{\"attributes\":{},\"id\":\"1188\",\"type\":\"DataRange1d\"},{\"attributes\":{},\"id\":\"1234\",\"type\":\"CategoricalTickFormatter\"},{\"attributes\":{\"fill_color\":{\"value\":\"#FF338A\"},\"height\":{\"value\":0.5},\"line_color\":{\"value\":\"#FF338A\"},\"right\":{\"field\":\"TotalDeaths\"},\"y\":{\"field\":\"Country\"}},\"id\":\"1213\",\"type\":\"HBar\"},{\"attributes\":{},\"id\":\"1204\",\"type\":\"ResetTool\"},{\"attributes\":{},\"id\":\"1237\",\"type\":\"UnionRenderers\"},{\"attributes\":{},\"id\":\"1238\",\"type\":\"Selection\"},{\"attributes\":{\"formatter\":{\"id\":\"1236\"},\"ticker\":{\"id\":\"1197\"}},\"id\":\"1196\",\"type\":\"LinearAxis\"},{\"attributes\":{},\"id\":\"1203\",\"type\":\"WheelZoomTool\"},{\"attributes\":{\"text\":\"Total COVID19 Deaths\"},\"id\":\"1186\",\"type\":\"Title\"},{\"attributes\":{\"fill_alpha\":{\"value\":0.1},\"fill_color\":{\"value\":\"red\"},\"height\":{\"value\":0.5},\"line_alpha\":{\"value\":0.1},\"line_color\":{\"value\":\"red\"},\"right\":{\"field\":\"TotalDeaths\"},\"y\":{\"field\":\"Country\"}},\"id\":\"1212\",\"type\":\"HBar\"},{\"attributes\":{},\"id\":\"1205\",\"type\":\"SaveTool\"},{\"attributes\":{\"source\":{\"id\":\"1184\"}},\"id\":\"1215\",\"type\":\"CDSView\"},{\"attributes\":{\"axis\":{\"id\":\"1196\"},\"ticker\":null},\"id\":\"1199\",\"type\":\"Grid\"},{\"attributes\":{\"formatter\":{\"id\":\"1234\"},\"ticker\":{\"id\":\"1201\"}},\"id\":\"1200\",\"type\":\"CategoricalAxis\"},{\"attributes\":{\"active_drag\":\"auto\",\"active_inspect\":\"auto\",\"active_multi\":null,\"active_scroll\":\"auto\",\"active_tap\":\"auto\",\"tools\":[{\"id\":\"1203\"},{\"id\":\"1204\"},{\"id\":\"1205\"},{\"id\":\"1216\"}]},\"id\":\"1206\",\"type\":\"Toolbar\"},{\"attributes\":{},\"id\":\"1201\",\"type\":\"CategoricalTicker\"},{\"attributes\":{},\"id\":\"1197\",\"type\":\"BasicTicker\"},{\"attributes\":{},\"id\":\"1194\",\"type\":\"CategoricalScale\"},{\"attributes\":{\"callback\":null,\"tooltips\":[[\"Country\",\"@Country\"],[\"Total Death\",\"@TotalDeaths\"]]},\"id\":\"1216\",\"type\":\"HoverTool\"},{\"attributes\":{\"data\":{\"ActiveCases\":{\"__ndarray__\":\"AAAAAADs2EAAAAAA4Ob2QAAAAABAENhAAAAAAABqt0AAAAAAAGGxQAAAAAAANrdAAAAAAEAX0UAAAAAAAKPwQAAAAABA9dtAAAAAAAC4gkAAAAAA4LvgQAAAAADAF+ZAAAAAAIBiykAAAAAAwA7gQAAAAABAqdxAAAAAAODI9kAAAAAAgNPyQAAAAABQmAFBAAAAAPDK+EAAAAAAuLgqQQ==\",\"dtype\":\"float64\",\"shape\":[20]},\"Continent\":[\"SouthAmerica\",\"Europe\",\"Asia\",\"Europe\",\"Europe\",\"NorthAmerica\",\"Europe\",\"Asia\",\"NorthAmerica\",\"Asia\",\"Europe\",\"SouthAmerica\",\"Asia\",\"Europe\",\"Europe\",\"Europe\",\"Europe\",\"Europe\",\"Europe\",\"NorthAmerica\"],\"Country\":[\"Peru\",\"Russia\",\"India\",\"Ireland\",\"Switzerland\",\"Mexico\",\"Sweden\",\"Turkey\",\"Canada\",\"China\",\"Netherlands\",\"Brazil\",\"Iran\",\"Germany\",\"Belgium\",\"France\",\"Spain\",\"UK\",\"Italy\",\"USA\"],\"Critical\":{\"__ndarray__\":\"AAAAAABYhEAAAAAAAPihQAAAAAAAAAAAAAAAAADAXkAAAAAAAOBkQAAAAAAAoHdAAAAAAACYgEAAAAAAAKiXQAAAAAAAaIFAAAAAAAAAQ0AAAAAAAHiIQAAAAAAAP8BAAAAAAABAp0AAAAAAAN6iQAAAAAAACIhAAAAAAABmr0AAAAAAAOikQAAAAAAAXJhAAAAAAAB4mkAAAAAAAL3NQA==\",\"dtype\":\"float64\",\"shape\":[20]},\"NewCases\":{\"__ndarray__\":\"AAAAAAAAAAAAAAAAAAAAAAAAAAAAAAAAAAAAAAAAAAAAAAAAAAAAAAAAAAAARJZAAAAAAAAAAAAAAAAAAAAAAAAAAAAAAAAAAAAAAAAAKEAAAAAAAAAAAAAAAAAAPJxAAAAAAAAAAAAAAAAAAAAAAAAAAAAAAAAAAAAAAAAAAAAAAAAAAAAAAAAAAAAAAAAAAAAAAAAAAAAAAAAAAGBnQA==\",\"dtype\":\"float64\",\"shape\":[20]},\"NewDeaths\":{\"__ndarray__\":\"AAAAAAAAAAAAAAAAAAAAAAAAAAAAAAAAAAAAAAAAAAAAAAAAAAAAAAAAAAAAwF9AAAAAAAAAAAAAAAAAAAAAAAAAAAAAAAAAAAAAAAAAAAAAAAAAAAAAAAAAAAAAQFpAAAAAAAAAAAAAAAAAAAAAAAAAAAAAAAAAAAAAAAAAAAAAAAAAAAAAAAAAAAAAAAAAAAAAAAAAAAAAAAAAAAAUQA==\",\"dtype\":\"float64\",\"shape\":[20]},\"TotalCases\":{\"__ndarray__\":\"AAAAAAAO4kAAAAAAIAD6QAAAAADgBeFAAAAAAAAh1EAAAAAAgOTcQAAAAAAAxtJAAAAAAACZ1EAAAAAAwFj9QAAAAACA/ulAAAAAAKA79EAAAAAAgDLjQAAAAAAwSfVAAAAAAAAb90AAAAAACOYDQQAAAADgsOdAAAAAAFBoBEEAAAAAuEANQQAAAACo5wRBAAAAALgUCUEAAAAAKrYwQQ==\",\"dtype\":\"float64\",\"shape\":[20]},\"TotalDeaths\":{\"__ndarray__\":\"AAAAAABskEAAAAAAAMSQQAAAAAAACJJAAAAAAABAk0AAAAAAACSbQAAAAAAADJ1AAAAAAAA0pEAAAAAAAMyoQAAAAAAA4KhAAAAAAAAZskAAAAAAALuyQAAAAAAAdrdAAAAAAACMt0AAAAAAAN+5QAAAAAAAqr1AAAAAAADO10AAAAAAwPfXQAAAAADAJNpAAAAAAMBP20AAAAAAoC7vQA==\",\"dtype\":\"float64\",\"shape\":[20]},\"TotalRecovered\":{\"__ndarray__\":\"AAAAAIBSxEAAAAAAgLHGQAAAAAAAtsFAAAAAAAAlykAAAAAAANrWQAAAAACAT8ZAAAAAAABoj0AAAAAAwN7nQAAAAADA69RAAAAAAKD08kAAAAAAAAAAAAAAAADgi+FAAAAAAPBV8kAAAAAAwCb+QAAAAAAAnMZAAAAAAIAo6EAAAAAAANgAQQAAAAAAAAAAAAAAAJCK8kAAAAAAyAIDQQ==\",\"dtype\":\"float64\",\"shape\":[20]},\"TotalTests\":{\"__ndarray__\":\"AAAAALBsE0EAAAAAaKBKQQAAAADyVSlBAAAAABDLAkEAAAAAYD8QQQAAAACA//NAAAAAAMAs/UAAAAAAIosvQQAAAABinChBAAAAAAAAAAAAAAAAANMKQQAAAACAuRRBAAAAAPxGHEEAAAAAtm5DQQAAAABYDA1BAAAAALwcJkEAAAAAyjQ2QQAAAAAihitBAAAAAFEzPkEAAADAE2JYQQ==\",\"dtype\":\"float64\",\"shape\":[20]},\"index\":[21,15,22,28,23,29,27,14,18,221,20,17,16,13,19,12,9,11,10,8]},\"selected\":{\"id\":\"1238\"},\"selection_policy\":{\"id\":\"1237\"}},\"id\":\"1184\",\"type\":\"ColumnDataSource\"},{\"attributes\":{\"fill_color\":{\"value\":\"red\"},\"height\":{\"value\":0.5},\"line_color\":{\"value\":\"red\"},\"right\":{\"field\":\"TotalDeaths\"},\"y\":{\"field\":\"Country\"}},\"id\":\"1211\",\"type\":\"HBar\"}],\"root_ids\":[\"1185\"]},\"title\":\"Bokeh Application\",\"version\":\"2.0.0\"}};\n  var render_items = [{\"docid\":\"77049e7e-f5e1-44bf-8017-ad8492f9bafe\",\"root_ids\":[\"1185\"],\"roots\":{\"1185\":\"587ab33d-7c3d-429d-bb33-a130c90298c7\"}}];\n  root.Bokeh.embed.embed_items_notebook(docs_json, render_items);\n\n  }\n  if (root.Bokeh !== undefined) {\n    embed_document(root);\n  } else {\n    var attempts = 0;\n    var timer = setInterval(function(root) {\n      if (root.Bokeh !== undefined) {\n        clearInterval(timer);\n        embed_document(root);\n      } else {\n        attempts++;\n        if (attempts > 100) {\n          clearInterval(timer);\n          console.log(\"Bokeh: ERROR: Unable to run BokehJS code because BokehJS library is missing\");\n        }\n      }\n    }, 10, root)\n  }\n})(window);",
      "application/vnd.bokehjs_exec.v0+json": ""
     },
     "metadata": {
      "application/vnd.bokehjs_exec.v0+json": {
       "id": "1185"
      }
     }
    }
   ],
   "source": [
    " \"\"\" Total Death \"\"\"\n",
    "# sorting the data by total death in ascending order\n",
    "con_td = all_country.sort_values(by='TotalDeaths')\n",
    "\n",
    "# picking the last 20 countries\n",
    "con_td = con_td.tail(20)\n",
    "\n",
    "# Plot Axis\n",
    "source = ColumnDataSource(con_td)\n",
    "x_td = con_td['Country']\n",
    "\n",
    "# setting plot; y_range is used for x_tc because the data is categorical data\n",
    "td = figure(y_range=x_td, \n",
    "            tools=tools,\n",
    "            title=\"Total COVID19 Deaths\",\n",
    "            plot_width=width, \n",
    "            plot_height=heigth)\n",
    "\n",
    "td.hbar(y=\"Country\", \n",
    "        right=\"TotalDeaths\",\n",
    "        height=0.5, \n",
    "        left=0, \n",
    "        color=\"red\",\n",
    "        hover_color=pink,        \n",
    "        source=source)\n",
    "\n",
    "hover = HoverTool(\n",
    "        tooltips=[\n",
    "            (\"Country\", '@Country'),\n",
    "            (\"Total Death\", \"@TotalDeaths\")\n",
    "        ]\n",
    ")\n",
    "\n",
    "\n",
    "td.add_tools(hover)\n",
    "\n",
    "show(td)"
   ]
  },
  {
   "cell_type": "code",
   "execution_count": 24,
   "metadata": {},
   "outputs": [],
   "source": [
    " \"\"\" Total Recovered \"\"\"\n",
    "# sorting the data by total death in ascending order\n",
    "con_tr = all_country.sort_values(by='TotalRecovered')\n",
    "\n",
    "\n",
    "# picking the last 20 countries\n",
    "con_tr = con_tr.tail(20)\n",
    "\n",
    "# Plot Axis\n",
    "source = ColumnDataSource(con_tr)\n",
    "x_tr = con_tr['Country']\n",
    "\n",
    "# setting plot; y_range is used for x_tc because the data is categorical data\n",
    "tr = figure(y_range=x_tr, \n",
    "            title=\"Total COVID19 Recovered cases\",\n",
    "            tools=tools,\n",
    "            plot_width=width, \n",
    "            plot_height=heigth)\n",
    "\n",
    "tr.hbar(y=\"Country\", \n",
    "        right=\"TotalRecovered\",\n",
    "        height=0.5, \n",
    "        left=0, \n",
    "        color=\"green\",\n",
    "        hover_color=skye,\n",
    "        source=source)\n",
    "\n",
    "hover = HoverTool(\n",
    "        tooltips=[\n",
    "            (\"Country\", '@Country'),\n",
    "            (\"Total Recovered\", \"@TotalRecovered\")\n",
    "        ]\n",
    ")\n",
    "\n",
    "\n",
    "tr.add_tools(hover)\n",
    "\n",
    "# show(tr)"
   ]
  },
  {
   "cell_type": "markdown",
   "metadata": {},
   "source": [
    "# Printing Output fraph as grid"
   ]
  },
  {
   "cell_type": "code",
   "execution_count": 25,
   "metadata": {},
   "outputs": [],
   "source": [
    "# output_file(\"corona_dashboard.html\")\n",
    "\n",
    "\n",
    "# grid = gridplot([  [pie], [tc], [td], [tr]  ])\n",
    "# show(grid)"
   ]
  },
  {
   "cell_type": "markdown",
   "metadata": {},
   "source": [
    "# Getting insight to continent data"
   ]
  },
  {
   "cell_type": "code",
   "execution_count": 26,
   "metadata": {},
   "outputs": [
    {
     "output_type": "execute_result",
     "data": {
      "text/plain": "         Country  TotalCases  NewCases  TotalDeaths  NewDeaths  \\\n0  North America   1186880.0    1806.0      69662.0      143.0   \n1         Europe   1373444.0       0.0     135235.0        0.0   \n2           Asia    520416.0     366.0      18635.0       25.0   \n3  South America    178638.0    1824.0       8808.0      106.0   \n4        Oceania      8347.0      15.0        112.0        1.0   \n5         Africa     39785.0       0.0       1638.0        0.0   \n6         Others       721.0       0.0         15.0        0.0   \n\n   TotalRecovered  ActiveCases  Critical  \n0        192413.0     924805.0   16479.0  \n1        503728.0     734481.0   18773.0  \n2        265787.0     235994.0    5726.0  \n3         60097.0     109733.0    9802.0  \n4          7070.0       1165.0      34.0  \n5         13078.0      25069.0     126.0  \n6           645.0         61.0       4.0  ",
      "text/html": "<div>\n<style scoped>\n    .dataframe tbody tr th:only-of-type {\n        vertical-align: middle;\n    }\n\n    .dataframe tbody tr th {\n        vertical-align: top;\n    }\n\n    .dataframe thead th {\n        text-align: right;\n    }\n</style>\n<table border=\"1\" class=\"dataframe\">\n  <thead>\n    <tr style=\"text-align: right;\">\n      <th></th>\n      <th>Country</th>\n      <th>TotalCases</th>\n      <th>NewCases</th>\n      <th>TotalDeaths</th>\n      <th>NewDeaths</th>\n      <th>TotalRecovered</th>\n      <th>ActiveCases</th>\n      <th>Critical</th>\n    </tr>\n  </thead>\n  <tbody>\n    <tr>\n      <th>0</th>\n      <td>North America</td>\n      <td>1186880.0</td>\n      <td>1806.0</td>\n      <td>69662.0</td>\n      <td>143.0</td>\n      <td>192413.0</td>\n      <td>924805.0</td>\n      <td>16479.0</td>\n    </tr>\n    <tr>\n      <th>1</th>\n      <td>Europe</td>\n      <td>1373444.0</td>\n      <td>0.0</td>\n      <td>135235.0</td>\n      <td>0.0</td>\n      <td>503728.0</td>\n      <td>734481.0</td>\n      <td>18773.0</td>\n    </tr>\n    <tr>\n      <th>2</th>\n      <td>Asia</td>\n      <td>520416.0</td>\n      <td>366.0</td>\n      <td>18635.0</td>\n      <td>25.0</td>\n      <td>265787.0</td>\n      <td>235994.0</td>\n      <td>5726.0</td>\n    </tr>\n    <tr>\n      <th>3</th>\n      <td>South America</td>\n      <td>178638.0</td>\n      <td>1824.0</td>\n      <td>8808.0</td>\n      <td>106.0</td>\n      <td>60097.0</td>\n      <td>109733.0</td>\n      <td>9802.0</td>\n    </tr>\n    <tr>\n      <th>4</th>\n      <td>Oceania</td>\n      <td>8347.0</td>\n      <td>15.0</td>\n      <td>112.0</td>\n      <td>1.0</td>\n      <td>7070.0</td>\n      <td>1165.0</td>\n      <td>34.0</td>\n    </tr>\n    <tr>\n      <th>5</th>\n      <td>Africa</td>\n      <td>39785.0</td>\n      <td>0.0</td>\n      <td>1638.0</td>\n      <td>0.0</td>\n      <td>13078.0</td>\n      <td>25069.0</td>\n      <td>126.0</td>\n    </tr>\n    <tr>\n      <th>6</th>\n      <td>Others</td>\n      <td>721.0</td>\n      <td>0.0</td>\n      <td>15.0</td>\n      <td>0.0</td>\n      <td>645.0</td>\n      <td>61.0</td>\n      <td>4.0</td>\n    </tr>\n  </tbody>\n</table>\n</div>"
     },
     "metadata": {},
     "execution_count": 26
    }
   ],
   "source": [
    "continent"
   ]
  },
  {
   "cell_type": "code",
   "execution_count": 27,
   "metadata": {},
   "outputs": [
    {
     "output_type": "display_data",
     "data": {
      "text/html": "\n\n\n\n\n\n  <div class=\"bk-root\" id=\"0675b037-be44-41bc-90c7-14acc18bd7a8\" data-root-id=\"1316\"></div>\n"
     },
     "metadata": {}
    },
    {
     "output_type": "display_data",
     "data": {
      "application/javascript": "(function(root) {\n  function embed_document(root) {\n    \n  var docs_json = {\"fefe748e-f05c-4108-99e0-d3446bb9f4c0\":{\"roots\":{\"references\":[{\"attributes\":{\"below\":[{\"id\":\"1327\"}],\"center\":[{\"id\":\"1329\"},{\"id\":\"1333\"}],\"left\":[{\"id\":\"1330\"}],\"plot_height\":400,\"renderers\":[{\"id\":\"1345\"}],\"title\":{\"id\":\"1317\"},\"toolbar\":{\"id\":\"1337\"},\"x_range\":{\"id\":\"1319\"},\"x_scale\":{\"id\":\"1323\"},\"y_range\":{\"id\":\"1321\"},\"y_scale\":{\"id\":\"1325\"}},\"id\":\"1316\",\"subtype\":\"Figure\",\"type\":\"Plot\"},{\"attributes\":{},\"id\":\"1335\",\"type\":\"ResetTool\"},{\"attributes\":{\"active_drag\":\"auto\",\"active_inspect\":\"auto\",\"active_multi\":null,\"active_scroll\":\"auto\",\"active_tap\":\"auto\",\"tools\":[{\"id\":\"1334\"},{\"id\":\"1335\"},{\"id\":\"1336\"},{\"id\":\"1347\"}]},\"id\":\"1337\",\"type\":\"Toolbar\"},{\"attributes\":{},\"id\":\"1336\",\"type\":\"SaveTool\"},{\"attributes\":{\"fill_color\":{\"value\":\"#33D1FF\"},\"line_color\":{\"value\":\"#33D1FF\"},\"top\":{\"field\":\"TotalDeaths\"},\"width\":{\"value\":0.7},\"x\":{\"field\":\"Country\"}},\"id\":\"1344\",\"type\":\"VBar\"},{\"attributes\":{\"data_source\":{\"id\":\"1315\"},\"glyph\":{\"id\":\"1342\"},\"hover_glyph\":{\"id\":\"1344\"},\"muted_glyph\":null,\"nonselection_glyph\":{\"id\":\"1343\"},\"selection_glyph\":null,\"view\":{\"id\":\"1346\"}},\"id\":\"1345\",\"type\":\"GlyphRenderer\"},{\"attributes\":{\"source\":{\"id\":\"1315\"}},\"id\":\"1346\",\"type\":\"CDSView\"},{\"attributes\":{\"callback\":null,\"tooltips\":[[\"Country\",\"@Country\"],[\"Total Death\",\"@TotalDeaths\"]]},\"id\":\"1347\",\"type\":\"HoverTool\"},{\"attributes\":{\"data\":{\"ActiveCases\":{\"__ndarray__\":\"AAAAAAo5LEEAAAAAImomQQAAAADQzgxBAAAAAFDK+kAAAAAAADSSQAAAAABAe9hAAAAAAACATkA=\",\"dtype\":\"float64\",\"shape\":[7]},\"Country\":[\"North America\",\"Europe\",\"Asia\",\"South America\",\"Oceania\",\"Africa\",\"Others\"],\"Critical\":{\"__ndarray__\":\"AAAAAMAX0EAAAAAAQFXSQAAAAAAAXrZAAAAAAAAlw0AAAAAAAABBQAAAAAAAgF9AAAAAAAAAEEA=\",\"dtype\":\"float64\",\"shape\":[7]},\"NewCases\":{\"__ndarray__\":\"AAAAAAA4nEAAAAAAAAAAAAAAAAAA4HZAAAAAAACAnEAAAAAAAAAuQAAAAAAAAAAAAAAAAAAAAAA=\",\"dtype\":\"float64\",\"shape\":[7]},\"NewDeaths\":{\"__ndarray__\":\"AAAAAADgYUAAAAAAAAAAAAAAAAAAADlAAAAAAACAWkAAAAAAAADwPwAAAAAAAAAAAAAAAAAAAAA=\",\"dtype\":\"float64\",\"shape\":[7]},\"TotalCases\":{\"__ndarray__\":\"AAAAAEAcMkEAAAAABPU0QQAAAACAwx9BAAAAAHDOBUEAAAAAgE3AQAAAAAAgbeNAAAAAAACIhkA=\",\"dtype\":\"float64\",\"shape\":[7]},\"TotalDeaths\":{\"__ndarray__\":\"AAAAAOAB8UAAAAAAGIIAQQAAAADAMtJAAAAAAAA0wUAAAAAAAABcQAAAAAAAmJlAAAAAAAAALkA=\",\"dtype\":\"float64\",\"shape\":[7]},\"TotalRecovered\":{\"__ndarray__\":\"AAAAAOh8B0EAAAAAwL4eQQAAAADsOBBBAAAAACBY7UAAAAAAAJ67QAAAAAAAi8lAAAAAAAAohEA=\",\"dtype\":\"float64\",\"shape\":[7]},\"index\":[0,1,2,3,4,5,6]},\"selected\":{\"id\":\"1376\"},\"selection_policy\":{\"id\":\"1375\"}},\"id\":\"1315\",\"type\":\"ColumnDataSource\"},{\"attributes\":{},\"id\":\"1372\",\"type\":\"BasicTickFormatter\"},{\"attributes\":{},\"id\":\"1321\",\"type\":\"DataRange1d\"},{\"attributes\":{\"axis\":{\"id\":\"1327\"},\"ticker\":null},\"id\":\"1329\",\"type\":\"Grid\"},{\"attributes\":{},\"id\":\"1374\",\"type\":\"CategoricalTickFormatter\"},{\"attributes\":{\"fill_color\":{\"value\":\"red\"},\"line_color\":{\"value\":\"red\"},\"top\":{\"field\":\"TotalDeaths\"},\"width\":{\"value\":0.7},\"x\":{\"field\":\"Country\"}},\"id\":\"1342\",\"type\":\"VBar\"},{\"attributes\":{},\"id\":\"1375\",\"type\":\"UnionRenderers\"},{\"attributes\":{},\"id\":\"1376\",\"type\":\"Selection\"},{\"attributes\":{\"text\":\"Continental Death Case\"},\"id\":\"1317\",\"type\":\"Title\"},{\"attributes\":{},\"id\":\"1325\",\"type\":\"LinearScale\"},{\"attributes\":{\"formatter\":{\"id\":\"1372\"},\"ticker\":{\"id\":\"1331\"}},\"id\":\"1330\",\"type\":\"LinearAxis\"},{\"attributes\":{\"factors\":[\"North America\",\"Europe\",\"Asia\",\"South America\",\"Oceania\",\"Africa\",\"Others\"]},\"id\":\"1319\",\"type\":\"FactorRange\"},{\"attributes\":{},\"id\":\"1334\",\"type\":\"WheelZoomTool\"},{\"attributes\":{},\"id\":\"1323\",\"type\":\"CategoricalScale\"},{\"attributes\":{\"formatter\":{\"id\":\"1374\"},\"ticker\":{\"id\":\"1328\"}},\"id\":\"1327\",\"type\":\"CategoricalAxis\"},{\"attributes\":{},\"id\":\"1328\",\"type\":\"CategoricalTicker\"},{\"attributes\":{},\"id\":\"1331\",\"type\":\"BasicTicker\"},{\"attributes\":{\"axis\":{\"id\":\"1330\"},\"dimension\":1,\"ticker\":null},\"id\":\"1333\",\"type\":\"Grid\"},{\"attributes\":{\"fill_alpha\":{\"value\":0.1},\"fill_color\":{\"value\":\"red\"},\"line_alpha\":{\"value\":0.1},\"line_color\":{\"value\":\"red\"},\"top\":{\"field\":\"TotalDeaths\"},\"width\":{\"value\":0.7},\"x\":{\"field\":\"Country\"}},\"id\":\"1343\",\"type\":\"VBar\"}],\"root_ids\":[\"1316\"]},\"title\":\"Bokeh Application\",\"version\":\"2.0.0\"}};\n  var render_items = [{\"docid\":\"fefe748e-f05c-4108-99e0-d3446bb9f4c0\",\"root_ids\":[\"1316\"],\"roots\":{\"1316\":\"0675b037-be44-41bc-90c7-14acc18bd7a8\"}}];\n  root.Bokeh.embed.embed_items_notebook(docs_json, render_items);\n\n  }\n  if (root.Bokeh !== undefined) {\n    embed_document(root);\n  } else {\n    var attempts = 0;\n    var timer = setInterval(function(root) {\n      if (root.Bokeh !== undefined) {\n        clearInterval(timer);\n        embed_document(root);\n      } else {\n        attempts++;\n        if (attempts > 100) {\n          clearInterval(timer);\n          console.log(\"Bokeh: ERROR: Unable to run BokehJS code because BokehJS library is missing\");\n        }\n      }\n    }, 10, root)\n  }\n})(window);",
      "application/vnd.bokehjs_exec.v0+json": ""
     },
     "metadata": {
      "application/vnd.bokehjs_exec.v0+json": {
       "id": "1316"
      }
     }
    }
   ],
   "source": [
    "# con_data = continent[['Country', 'TotalCases', 'TotalDeaths', 'TotalRecovered']]\n",
    "\n",
    "\n",
    "# Plot Axis\n",
    "source = ColumnDataSource(continent)\n",
    "x_tr = continent['Country']\n",
    "\n",
    "# setting plot; y_range is used for x_tc because the data is categorical data\n",
    "tcd = figure(x_range=x_tr, \n",
    "            title=\"Continental Death Case\",\n",
    "            tools=tools,\n",
    "            plot_width=width, \n",
    "            plot_height=heigth)\n",
    "\n",
    "tcd.vbar(x=\"Country\", \n",
    "        top=\"TotalDeaths\",\n",
    "        width=0.70, \n",
    "    \n",
    "        color=\"red\",\n",
    "        hover_color=skye,\n",
    "        source=source)\n",
    "\n",
    "hover = HoverTool(\n",
    "        tooltips=[\n",
    "            (\"Country\", '@Country'),\n",
    "            (\"Total Death\", \"@TotalDeaths\")\n",
    "        ]\n",
    ")\n",
    "\n",
    "\n",
    "tcd.add_tools(hover)\n",
    "\n",
    "show(tcd)"
   ]
  },
  {
   "cell_type": "code",
   "execution_count": null,
   "metadata": {},
   "outputs": [],
   "source": []
  }
 ],
 "metadata": {
  "file_extension": ".py",
  "kernelspec": {
   "display_name": "Python 3",
   "language": "python",
   "name": "python3"
  },
  "language_info": {
   "codemirror_mode": {
    "name": "ipython",
    "version": 3
   },
   "file_extension": ".py",
   "mimetype": "text/x-python",
   "name": "python",
   "nbconvert_exporter": "python",
   "pygments_lexer": "ipython3",
   "version": "3.8.0-final"
  },
  "mimetype": "text/x-python",
  "name": "python",
  "npconvert_exporter": "python",
  "pygments_lexer": "ipython3",
  "version": 3
 },
 "nbformat": 4,
 "nbformat_minor": 2
}