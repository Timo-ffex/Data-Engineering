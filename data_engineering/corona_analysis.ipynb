{
 "cells": [
  {
   "cell_type": "markdown",
   "metadata": {},
   "source": [
    "# Data Visualization on Coronavirus data\n",
    "The purpose of this project is to learn more on webscraping, data cleaning, data modeling, data analysis and data Visualization using Bokeh. \n",
    "\n",
    "I have written an easy to understand make down for anyone who wants to follow the project. \n",
    "\n",
    "I started by getting the data on [worldmeters.info](https://www.worldometers.info/coronavirus/) and cleaning up the data using pandas\n",
    "\n",
    "After clean up, I modeled the data into Continents for easy analysis"
   ]
  },
  {
   "cell_type": "markdown",
   "metadata": {},
   "source": [
    "# Getting started and import necessary libraries"
   ]
  },
  {
   "cell_type": "code",
   "execution_count": 1,
   "metadata": {},
   "outputs": [],
   "source": [
    "from bs4 import BeautifulSoup\n",
    "import requests\n",
    "import pandas as pd\n",
    "import numpy as np\n",
    "import re\n",
    "\n",
    "url = \"https://www.worldometers.info/coronavirus/\"\n",
    "\n",
    "source = requests.get(url).text\n",
    "soup = BeautifulSoup(source, 'lxml')"
   ]
  },
  {
   "cell_type": "markdown",
   "metadata": {},
   "source": [
    "## Get the whole data table"
   ]
  },
  {
   "cell_type": "code",
   "execution_count": 2,
   "metadata": {
    "tags": [
     "outputPrepend"
    ]
   },
   "outputs": [],
   "source": [
    "# this get the whole data table\n",
    "\n",
    "table = soup.find(\"table\", attrs={'id':'main_table_countries_today'})\n",
    "# print(table)\n"
   ]
  },
  {
   "cell_type": "code",
   "execution_count": 3,
   "metadata": {},
   "outputs": [],
   "source": [
    "# from the table, this extracts the column headings\n",
    "\n",
    "table_head = table.thead.find_all('tr')\n",
    "# print(table_head)"
   ]
  },
  {
   "cell_type": "code",
   "execution_count": 4,
   "metadata": {
    "tags": [
     "outputPrepend"
    ]
   },
   "outputs": [],
   "source": [
    "# this get the data from the table, the body\n",
    "\n",
    "table_data = table.tbody.find_all('tr')\n",
    "# print(table_data)"
   ]
  },
  {
   "cell_type": "markdown",
   "metadata": {},
   "source": [
    "## Saving the column header into python variable"
   ]
  },
  {
   "cell_type": "code",
   "execution_count": 5,
   "metadata": {
    "scrolled": true
   },
   "outputs": [
    {
     "output_type": "stream",
     "name": "stdout",
     "text": "Country,Other\nTotalCases\nNewCases\nTotalDeaths\nNewDeaths\nTotalRecovered\nActiveCases\nSerious,Critical\nTot Cases/1M pop\nDeaths/1M pop\nTotalTests\nTests/ 1M pop\nContinent\n"
    }
   ],
   "source": [
    "headings = []\n",
    "\n",
    "for th in table_head[0].find_all(\"th\"):\n",
    "    a = th.text.replace('\\n', ' ').strip()\n",
    "    headings.append(a)\n",
    "\n",
    "    print(a)\n"
   ]
  },
  {
   "cell_type": "code",
   "execution_count": null,
   "metadata": {},
   "outputs": [],
   "source": []
  },
  {
   "cell_type": "markdown",
   "metadata": {},
   "source": [
    "## Understanding The Data\n",
    "This is just to understand and see how the data was scraped and how to save the data into pandas dataframe, it's `very important`"
   ]
  },
  {
   "cell_type": "code",
   "execution_count": 6,
   "metadata": {
    "scrolled": true
   },
   "outputs": [
    {
     "output_type": "stream",
     "name": "stdout",
     "text": "\nNorth America\n\n1,186,679\n+1,605\n69,657\n+138\n188,999\n928,023\n16,479\n\n\n\n\nNorth America\n\n___________________\n\nEurope\n\n1,373,444\n\n135,235\n\n503,728\n734,481\n18,773\n\n\n\n\nEurope\n\n___________________\n\nAsia\n\n520,063\n+13\n18,610\n\n265,564\n235,889\n5,726\n\n\n\n\nAsia\n\n___________________\n\nSouth America\n\n178,621\n+1,807\n8,807\n+105\n60,095\n109,719\n9,802\n\n\n\n\nSouth America\n\n___________________\n\nOceania\n\n8,347\n+15\n112\n+1\n7,070\n1,165\n34\n\n\n\n\nAustralia/Oceania\n\n___________________\n\nAfrica\n\n39,785\n\n1,638\n\n13,078\n25,069\n126\n\n\n\n\nAfrica\n\n___________________\n\n\n\n721\n\n15\n\n645\n61\n4\n\n\n\n\n\n\n___________________\nWorld\n3,307,660\n+3,440\n234,074\n+244\n1,039,179\n2,034,407\n50,944\n424\n30.0\n\n\nAll\n\n___________________\nUSA\n1,095,023\n\n63,856 \n\n152,324\n878,843\n15,226\n3,308\n193\n6,391,887\n19,311\nNorth America\n\n___________________\nSpain\n239,639\n\n24,543 \n\n137,984\n77,112\n2,676\n5,125\n525\n1,455,306\n31,126\nEurope\n\n___________________\nItaly\n205,463\n\n27,967 \n\n75,945\n101,551\n1,694\n3,398\n463\n1,979,217\n32,735\nEurope\n\n___________________\nUK\n171,253\n\n26,771 \n\nN/A\n144,138\n1,559\n2,523\n394\n901,905\n13,286\nEurope\n\n___________________\nFrance\n167,178\n\n24,376 \n\n49,476\n93,326\n4,019\n2,561\n373\n724,574\n11,101\nEurope\n\n___________________\nGermany\n163,009\n\n6,623 \n\n123,500\n32,886\n2,415\n1,946\n79\n2,547,052\n30,400\nEurope\n\n___________________\nTurkey\n120,204\n\n3,174 \n\n48,886\n68,144\n1,514\n1,425\n38\n1,033,617\n12,255\nAsia\n\n___________________\nRussia\n106,498\n\n1,073 \n\n11,619\n93,806\n2,300\n730\n7\n3,490,000\n23,915\nEurope\n\n___________________\nIran\n94,640\n\n6,028 \n\n75,103\n13,509\n2,976\n1,127\n72\n463,295\n5,516\nAsia\n\n___________________\nBrazil\n87,187\n+1,807\n6,006 \n+105\n35,935\n45,246\n8,318\n410\n28\n339,552\n1,597\nSouth America\n\n___________________\nCanada\n53,236\n\n3,184 \n\n21,423\n28,629\n557\n1,411\n84\n806,449\n21,367\nNorth America\n\n___________________\nBelgium\n48,519\n\n7,594 \n\n11,576\n29,349\n769\n4,186\n655\n237,963\n20,532\nEurope\n\n___________________\nNetherlands\n39,316\n\n4,795 \n\nN/A\n34,271\n783\n2,295\n280\n219,744\n12,824\nEurope\n\n___________________\nPeru\n36,976\n\n1,051 \n\n10,405\n25,520\n651\n1,121\n32\n318,252\n9,652\nSouth America\n\n___________________\nIndia\n34,863\n\n1,154 \n\n9,068\n24,641\n\n25\n0.8\n830,201\n602\nAsia\n\n___________________\nSwitzerland\n29,586\n\n1,737 \n\n23,400\n4,449\n167\n3,419\n201\n266,200\n30,758\nEurope\n\n___________________\nPortugal\n25,045\n\n989 \n\n1,519\n22,537\n172\n2,456\n97\n395,771\n38,814\nEurope\n\n___________________\nEcuador\n24,934\n\n900 \n\n1,558\n22,476\n146\n1,413\n51\n69,054\n3,914\nSouth America\n\n___________________\nSaudi Arabia\n22,753\n\n162 \n\n3,163\n19,428\n123\n654\n5\n200,000\n5,745\nAsia\n\n___________________\nSweden\n21,092\n\n2,586 \n\n1,005\n17,501\n531\n2,088\n256\n119,500\n11,833\nEurope\n\n___________________\nIreland\n20,612\n\n1,232 \n\n13,386\n5,994\n123\n4,174\n250\n153,954\n31,179\nEurope\n\n___________________\nMexico\n19,224\n+1,425\n1,859 \n+127\n11,423\n5,942\n378\n149\n14\n81,912\n635\nNorth America\n\n___________________\nPakistan\n16,473\n\n361 \n\n4,105\n12,007\n111\n75\n2\n174,160\n788\nAsia\n\n___________________\nSingapore\n16,169\n\n15 \n\n1,244\n14,910\n22\n2,764\n3\n143,919\n24,600\nAsia\n\n___________________\nChile\n16,023\n\n227 \n\n8,580\n7,216\n392\n838\n12\n180,517\n9,443\nSouth America\n\n___________________\nIsrael\n15,946\n\n222  \n\n8,561\n7,163\n105\n1,842\n26\n364,467\n42,108\nAsia\n\n___________________\nAustria\n15,452\n\n584 \n\n12,907\n1,961\n128\n1,716\n65\n256,399\n28,469\nEurope\n\n___________________\nJapan\n14,088\n\n430 \n\n2,460\n11,198\n308\n111\n3\n165,609\n1,309\nAsia\n\n___________________\nBelarus\n14,027\n\n89 \n\n2,386\n11,552\n92\n1,484\n9\n176,625\n18,692\nEurope\n\n___________________\nQatar\n13,409\n\n10 \n\n1,372\n12,027\n72\n4,654\n3\n94,500\n32,801\nAsia\n\n___________________\nPoland\n12,877\n\n644 \n\n3,236\n8,997\n160\n340\n17\n338,027\n8,931\nEurope\n\n___________________\nUAE\n12,481\n\n105 \n\n2,429\n9,947\n1\n1,262\n11\n1,122,000\n113,443\nAsia\n\n___________________\nRomania\n12,240\n\n717 \n\n4,017\n7,506\n221\n636\n37\n175,374\n9,116\nEurope\n\n___________________\nS. Korea\n10,765\n\n247 \n\n9,059\n1,459\n55\n210\n5\n619,881\n12,091\nAsia\n\n___________________\nUkraine\n10,406\n\n261 \n\n1,238\n8,907\n138\n238\n6\n111,859\n2,558\nEurope\n\n___________________\nIndonesia\n10,118\n\n792 \n\n1,522\n7,804\n\n37\n3\n94,599\n346\nAsia\n\n___________________\nDenmark\n9,158\n\n452 \n\n6,546\n2,160\n62\n1,581\n78\n193,165\n33,349\nEurope\n\n___________________\nSerbia\n9,009\n\n179 \n\n1,343\n7,487\n71\n1,031\n20\n85,645\n9,802\nEurope\n\n___________________\nPhilippines\n8,488\n\n568 \n\n1,043\n6,877\n31\n77\n5\n104,146\n950\nAsia\n\n___________________\nNorway\n7,738\n\n210 \n\n32\n7,496\n37\n1,427\n39\n172,586\n31,835\nEurope\n\n___________________\nCzechia\n7,682\n\n236 \n\n3,314\n4,132\n68\n717\n22\n242,088\n22,606\nEurope\n\n___________________\nBangladesh\n7,667\n\n168 \n\n160\n7,339\n1\n47\n1\n64,666\n393\nAsia\n\n___________________\nDominican Republic\n6,972\n\n301 \n\n1,301\n5,370\n144\n643\n28\n25,368\n2,339\nNorth America\n\n___________________\nAustralia\n6,766\n+12\n93 \n+1\n5,739\n934\n31\n265\n4\n581,941\n22,821\nAustralia/Oceania\n\n___________________\nPanama\n6,532\n+154\n188 \n+10\n576\n5,768\n86\n1,514\n44\n30,749\n7,126\nNorth America\n\n___________________\nColombia\n6,507\n\n293 \n\n1,439\n4,775\n118\n128\n6\n104,657\n2,057\nSouth America\n\n___________________\nMalaysia\n6,002\n\n102 \n\n4,171\n1,729\n40\n185\n3\n160,296\n4,953\nAsia\n\n___________________\nSouth Africa\n5,647\n\n103 \n\n2,073\n3,471\n36\n95\n2\n207,530\n3,499\nAfrica\n\n___________________\nEgypt\n5,537\n\n392 \n\n1,381\n3,764\n\n54\n4\n90,000\n879\nAfrica\n\n___________________\nFinland\n4,995\n\n211 \n\n3,000\n1,784\n48\n902\n38\n93,900\n16,947\nEurope\n\n___________________\nArgentina\n4,428\n\n218 \n\n1,256\n2,954\n157\n98\n5\n58,685\n1,298\nSouth America\n\n___________________\nMorocco\n4,423\n\n170 \n\n984\n3,269\n1\n120\n5\n34,841\n944\nAfrica\n\n___________________\nKuwait\n4,024\n\n26 \n\n1,539\n2,459\n66\n942\n6\n179,000\n41,915\nAsia\n\n___________________\nAlgeria\n4,006\n\n450 \n\n1,779\n1,777\n22\n91\n10\n6,500\n148\nAfrica\n\n___________________\nMoldova\n3,897\n\n116 \n\n1,182\n2,599\n237\n966\n29\n11,763\n2,916\nEurope\n\n___________________\nLuxembourg\n3,784\n\n90 \n\n3,213\n481\n23\n6,045\n144\n42,643\n68,122\nEurope\n\n___________________\nKazakhstan\n3,402\n\n25 \n\n866\n2,511\n41\n181\n1\n249,527\n13,289\nAsia\n\n___________________\nBahrain\n3,040\n\n8 \n\n1,500\n1,532\n1\n1,787\n5\n129,694\n76,220\nAsia\n\n___________________\nThailand\n2,954\n\n54 \n\n2,684\n216\n61\n42\n0.8\n178,083\n2,551\nAsia\n\n___________________\nHungary\n2,775\n\n312 \n\n581\n1,882\n54\n287\n32\n72,951\n7,552\nEurope\n\n___________________\nGreece\n2,591\n\n140 \n\n1,374\n1,077\n38\n249\n13\n75,170\n7,212\nEurope\n\n___________________\nOman\n2,348\n\n11 \n\n495\n1,842\n17\n460\n2\n40,459\n7,923\nAsia\n\n___________________\nAfghanistan\n2,171\n\n64 \n\n260\n1,847\n7\n56\n2\n10,022\n257\nAsia\n\n___________________\nIraq\n2,085\n\n93 \n\n1,375\n617\n\n52\n2\n92,061\n2,289\nAsia\n\n___________________\nCroatia\n2,076\n\n69 \n\n1,348\n659\n20\n506\n17\n36,221\n8,823\nEurope\n\n___________________\nGhana\n2,074\n\n17 \n\n212\n1,845\n4\n67\n0.5\n113,497\n3,653\nAfrica\n\n___________________\nArmenia\n2,066\n\n32 \n\n929\n1,105\n10\n697\n11\n21,125\n7,129\nAsia\n\n___________________\nUzbekistan\n2,039\n\n9 \n\n1,133\n897\n8\n61\n0.3\n242,536\n7,247\nAsia\n\n___________________\nNigeria\n1,932\n\n58 \n\n319\n1,555\n2\n9\n0.3\n12,828\n62\nAfrica\n\n___________________\nCameroon\n1,832\n\n61 \n\n934\n837\n12\n69\n2\n\n\nAfrica\n\n___________________\nAzerbaijan\n1,804\n\n24 \n\n1,325\n455\n17\n178\n2\n143,079\n14,112\nAsia\n\n___________________\nIceland\n1,797\n\n10 \n\n1,670\n117\n\n5,266\n29\n48,413\n141,873\nEurope\n\n___________________\nBosnia and Herzegovina\n1,757\n\n69 \n\n727\n961\n4\n536\n21\n30,793\n9,386\nEurope\n\n___________________\nEstonia\n1,689\n\n52 \n\n249\n1,388\n9\n1,273\n39\n52,741\n39,758\nEurope\n\n___________________\nBulgaria\n1,506\n\n66 \n\n266\n1,174\n40\n217\n9\n45,208\n6,506\nEurope\n\n___________________\nCuba\n1,501\n\n61 \n\n681\n759\n10\n133\n5\n47,347\n4,180\nNorth America\n\n___________________\nGuinea\n1,495\n\n7 \n\n329\n1,159\n\n114\n0.5\n\n\nAfrica\n\n___________________\nNew Zealand\n1,479\n+3\n19 \n\n1,252\n208\n1\n307\n4\n139,898\n29,011\nAustralia/Oceania\n\n___________________\nNorth Macedonia\n1,465\n\n77 \n\n738\n650\n13\n703\n37\n16,050\n7,704\nEurope\n\n___________________\nSlovenia\n1,429\n\n91 \n\n233\n1,105\n22\n687\n44\n52,948\n25,469\nEurope\n\n___________________\nSlovakia\n1,396\n\n23 \n\n524\n849\n8\n256\n4\n85,922\n15,738\nEurope\n\n___________________\nLithuania\n1,385\n\n45 \n\n589\n751\n17\n509\n17\n125,555\n46,121\nEurope\n\n___________________\nIvory Coast\n1,275\n\n14 \n\n574\n687\n\n48\n0.5\n9,657\n366\nAfrica\n\n___________________\nBolivia\n1,110\n\n59 \n\n117\n934\n3\n95\n5\n5,791\n496\nSouth America\n\n___________________\nDjibouti\n1,089\n\n2 \n\n642\n445\n\n1,102\n2\n13,422\n13,585\nAfrica\n\n___________________\nHong Kong\n1,038\n\n4 \n\n846\n188\n4\n138\n0.5\n154,989\n20,674\nAsia\n\n___________________\nTunisia\n994\n\n41 \n\n305\n648\n24\n84\n3\n22,957\n1,942\nAfrica\n\n___________________\nSenegal\n933\n\n9 \n\n334\n590\n1\n56\n0.5\n466\n28\nAfrica\n\n___________________\nLatvia\n858\n\n15 \n\n348\n495\n3\n455\n8\n57,886\n30,689\nEurope\n\n___________________\nCyprus\n850\n\n15 \n\n296\n539\n15\n704\n12\n58,109\n48,129\nAsia\n\n___________________\nAlbania\n773\n\n31 \n\n470\n272\n4\n269\n11\n8,253\n2,868\nEurope\n\n___________________\nHonduras\n771\n\n71 \n\n79\n621\n10\n78\n7\n3,643\n368\nNorth America\n\n___________________\nKyrgyzstan\n746\n\n8 \n\n462\n276\n12\n114\n1\n51,472\n7,889\nAsia\n\n___________________\nAndorra\n745\n\n42 \n\n468\n235\n17\n9,642\n544\n1,673\n21,653\nEurope\n\n___________________\nLebanon\n725\n\n24 \n\n150\n551\n44\n106\n4\n34,499\n5,054\nAsia\n\n___________________\nNiger\n719\n\n32 \n\n452\n235\n\n30\n1\n5,194\n215\nAfrica\n\n___________________\nCosta Rica\n719\n\n6 \n\n338\n375\n8\n141\n1\n13,240\n2,599\nNorth America\n\n___________________\nDiamond Princess\n712\n\n13 \n\n645\n54\n4\n\n\n\n\n\n\n___________________\nSri Lanka\n663\n\n7 \n\n154\n502\n1\n31\n0.3\n21,157\n988\nAsia\n\n___________________\nBurkina Faso\n645\n\n43 \n\n506\n96\n\n31\n2\n\n\nAfrica\n\n___________________\nUruguay\n643\n\n17 \n\n417\n209\n10\n185\n5\n19,747\n5,685\nSouth America\n\n___________________\nSomalia\n601\n\n28 \n\n31\n542\n2\n38\n2\n\n\nAfrica\n\n___________________\nGuatemala\n585\n\n16 \n\n65\n504\n5\n33\n0.9\n7,200\n402\nNorth America\n\n___________________\nDRC\n572\n\n31 \n\n73\n468\n\n6\n0.3\n\n\nAfrica\n\n___________________\nSan Marino\n569\n\n41 \n\n78\n450\n6\n16,769\n1,208\n2,305\n67,932\nEurope\n\n___________________\nGeorgia\n539\n\n6 \n\n184\n349\n6\n135\n2\n14,718\n3,689\nAsia\n\n___________________\nMayotte\n539\n\n4 \n\n235\n300\n4\n1,976\n15\n3,000\n10,996\nAfrica\n\n___________________\nChannel Islands\n537\n\n40 \n\n386\n111\n\n3,089\n230\n5,342\n30,725\nEurope\n\n___________________\nMali\n490\n\n26 \n\n135\n329\n\n24\n1\n2,172\n107\nAfrica\n\n___________________\nTanzania\n480\n\n16 \n\n167\n297\n7\n8\n0.3\n\n\nAfrica\n\n___________________\nMaldives\n468\n\n1 \n\n17\n450\n2\n866\n2\n8,008\n14,815\nAsia\n\n___________________\nMalta\n465\n\n4 \n\n351\n110\n1\n1,053\n9\n32,989\n74,713\nEurope\n\n___________________\nJordan\n453\n\n8 \n\n362\n83\n5\n44\n0.8\n63,737\n6,247\nAsia\n\n___________________\nSudan\n442\n\n31 \n\n39\n372\n\n10\n0.7\n\n\nAfrica\n\n___________________\nTaiwan\n429\n\n6 \n\n322\n101\n\n18\n0.3\n62,844\n2,639\nAsia\n\n___________________\nJamaica\n422\n+26\n8 \n+1\n29\n385\n3\n143\n3\n4,439\n1,499\nNorth America\n\n___________________\nRéunion\n420\n\n \n\n300\n120\n2\n469\n\n\n\nAfrica\n\n___________________\nKenya\n396\n\n17 \n\n144\n235\n2\n7\n0.3\n20,268\n377\nAfrica\n\n___________________\nEl Salvador\n395\n\n10 \n\n119\n266\n3\n61\n2\n24,057\n3,709\nNorth America\n\n___________________\nPalestine\n344\n\n2 \n\n76\n266\n\n67\n0.4\n32,200\n6,312\nAsia\n\n___________________\nVenezuela\n333\n\n16 \n\n142\n175\n2\n12\n0.6\n458,737\n16,132\nSouth America\n\n___________________\nMauritius\n332\n\n10 \n\n310\n12\n3\n261\n8\n16,028\n12,603\nAfrica\n\n___________________\nMontenegro\n322\n\n7 \n\n214\n101\n2\n513\n11\n6,864\n10,929\nEurope\n\n___________________\nIsle of Man\n315\n\n21 \n\n260\n34\n21\n3,704\n247\n3,117\n36,656\nEurope\n\n___________________\nEquatorial Guinea\n315\n\n1 \n\n9\n305\n\n225\n0.7\n854\n609\nAfrica\n\n___________________\nGabon\n276\n\n3 \n\n67\n206\n1\n124\n1\n724\n325\nAfrica\n\n___________________\nVietnam\n270\n\n \n\n219\n51\n8\n3\n\n261,004\n2,681\nAsia\n\n___________________\nParaguay\n249\n\n9 \n\n111\n129\n1\n35\n1\n9,454\n1,325\nSouth America\n\n___________________\nRwanda\n243\n\n \n\n104\n139\n\n19\n\n9,604\n741\nAfrica\n\n___________________\nCongo\n220\n\n9 \n\n19\n192\n\n40\n2\n\n\nAfrica\n\n___________________\nGuinea-Bissau\n205\n\n1 \n\n19\n185\n\n104\n0.5\n1,500\n762\nAfrica\n\n___________________\nFaeroe Islands\n187\n\n \n\n184\n3\n\n3,827\n\n6,963\n142,500\nEurope\n\n___________________\nMartinique\n178\n\n14 \n\n83\n81\n5\n474\n37\n\n\nNorth America\n\n___________________\nGuadeloupe\n151\n\n12 \n\n95\n44\n11\n377\n30\n\n\nNorth America\n\n___________________\nMyanmar\n151\n+1\n6 \n\n27\n118\n\n3\n0.1\n7,718\n142\nAsia\n\n___________________\nGibraltar\n144\n\n \n\n131\n13\n\n4,274\n\n2,626\n77,944\nEurope\n\n___________________\nLiberia\n141\n\n16 \n\n45\n80\n\n28\n3\n\n\nAfrica\n\n___________________\nBrunei \n138\n\n1 \n\n124\n13\n2\n315\n2\n13,580\n31,041\nAsia\n\n___________________\nEthiopia\n131\n\n3 \n\n59\n69\n\n1\n0.03\n17,842\n155\nAfrica\n\n___________________\nMadagascar\n128\n\n \n\n92\n36\n1\n5\n\n3,228\n117\nAfrica\n\n___________________\nFrench Guiana\n126\n\n1  \n\n94\n31\n2\n422\n3\n\n\nSouth America\n\n___________________\nSierra Leone\n124\n\n7 \n\n21\n96\n\n16\n0.9\n\n\nAfrica\n\n___________________\nCambodia\n122\n\n \n\n119\n3\n1\n7\n\n12,084\n723\nAsia\n\n___________________\nCabo Verde\n121\n\n1 \n\n4\n116\n\n218\n2\n791\n1,423\nAfrica\n\n___________________\nTogo\n116\n\n9 \n\n65\n42\n\n14\n1\n6,882\n831\nAfrica\n\n___________________\nTrinidad and Tobago\n116\n\n8 \n\n72\n36\n\n83\n6\n1,730\n1,236\nNorth America\n\n___________________\nBermuda\n114\n\n6 \n\n48\n60\n4\n1,831\n96\n2,500\n40,143\nNorth America\n\n___________________\nZambia\n106\n\n3 \n\n55\n48\n1\n6\n0.2\n5,284\n287\nAfrica\n\n___________________\nAruba\n100\n\n2 \n\n79\n19\n4\n937\n19\n1,691\n15,838\nNorth America\n\n___________________\nEswatini\n100\n\n1 \n\n12\n87\n\n86\n0.9\n714\n615\nAfrica\n\n___________________\nMonaco\n95\n\n4 \n\n64\n27\n1\n2,421\n102\n\n\nEurope\n\n___________________\nUganda\n83\n\n \n\n52\n31\n\n2\n\n29,279\n640\nAfrica\n\n___________________\nGuyana\n82\n\n9 \n\n22\n51\n2\n104\n11\n579\n736\nSouth America\n\n___________________\nLiechtenstein\n82\n\n1 \n\n55\n26\n\n2,151\n26\n900\n23,605\nEurope\n\n___________________\nBahamas\n81\n\n11 \n\n25\n45\n1\n206\n28\n1,284\n3,265\nNorth America\n\n___________________\nHaiti\n81\n\n8 \n\n8\n65\n\n7\n0.7\n827\n73\nNorth America\n\n___________________\nBarbados\n81\n\n7 \n\n39\n35\n4\n282\n24\n2,160\n7,516\nNorth America\n\n___________________\nMozambique\n76\n\n \n\n12\n64\n\n2\n\n1,896\n61\nAfrica\n\n___________________\nSint Maarten\n75\n\n13 \n\n33\n29\n7\n1,749\n303\n302\n7,044\nNorth America\n\n___________________\nChad\n73\n\n5 \n\n33\n35\n\n4\n0.3\n\n\nAfrica\n\n___________________\nCayman Islands\n73\n\n1 \n\n10\n62\n3\n1,111\n15\n1,535\n23,356\nNorth America\n\n___________________\nBenin\n64\n\n1 \n\n33\n30\n\n5\n0.08\n\n\nAfrica\n\n___________________\nLibya\n61\n\n3 \n\n18\n40\n\n9\n0.4\n1,949\n284\nAfrica\n\n___________________\nFrench Polynesia\n58\n\n \n\n50\n8\n1\n206\n\n2,409\n8,576\nAustralia/Oceania\n\n___________________\nNepal\n57\n\n \n\n16\n41\n\n2\n\n57,189\n1,963\nAsia\n\n___________________\nCAR\n50\n\n \n\n10\n40\n\n10\n\n\n\nAfrica\n\n___________________\nMacao\n45\n\n \n\n35\n10\n1\n69\n\n\n\nAsia\n\n___________________\nSyria\n43\n\n3 \n\n21\n19\n\n2\n0.2\n\n\nAsia\n\n___________________\nZimbabwe\n40\n\n4 \n\n5\n31\n\n3\n0.3\n7,642\n514\nAfrica\n\n___________________\nEritrea\n39\n\n \n\n26\n13\n\n11\n\n\n\nAfrica\n\n___________________\nSaint Martin\n38\n\n3 \n\n24\n11\n3\n983\n78\n\n\nNorth America\n\n___________________\nMongolia\n38\n\n \n\n10\n28\n\n12\n\n7,455\n2,274\nAsia\n\n___________________\nMalawi\n37\n\n3 \n\n7\n27\n1\n2\n0.2\n774\n40\nAfrica\n\n___________________\nSouth Sudan\n35\n\n \n\n\n35\n\n3\n\n\n\nAfrica\n\n___________________\nAngola\n27\n\n2 \n\n7\n18\n\n0.8\n0.06\n\n\nAfrica\n\n___________________\nAntigua and Barbuda\n24\n\n3 \n\n11\n10\n1\n245\n31\n113\n1,154\nNorth America\n\n___________________\nTimor-Leste\n24\n\n \n\n16\n8\n\n18\n\n322\n244\nAsia\n\n___________________\nBotswana\n23\n\n1 \n\n5\n17\n\n10\n0.4\n6,548\n2,784\nAfrica\n\n___________________\nGrenada\n20\n\n \n\n13\n7\n4\n178\n\n1,406\n12,495\nNorth America\n\n___________________\nLaos\n19\n\n \n\n8\n11\n\n3\n\n1,927\n265\nAsia\n\n___________________\nBelize\n18\n\n2 \n\n9\n7\n1\n45\n5\n995\n2,502\nNorth America\n\n___________________\nFiji\n18\n\n \n\n12\n6\n\n20\n\n1,007\n1,123\nAustralia/Oceania\n\n___________________\nNew Caledonia\n18\n\n \n\n17\n1\n1\n63\n\n4,456\n15,608\nAustralia/Oceania\n\n___________________\nSaint Lucia\n17\n\n \n\n15\n2\n\n93\n\n446\n2,429\nNorth America\n\n___________________\nCuraçao\n16\n\n1 \n\n13\n2\n\n98\n6\n343\n2,090\nNorth America\n\n___________________\nDominica\n16\n\n \n\n13\n3\n\n222\n\n383\n5,320\nNorth America\n\n___________________\nNamibia\n16\n\n \n\n8\n8\n\n6\n\n704\n277\nAfrica\n\n___________________\nSt. Vincent Grenadines\n16\n\n \n\n8\n8\n\n144\n\n108\n973\nNorth America\n\n___________________\nSaint Kitts and Nevis\n15\n\n \n\n6\n9\n\n282\n\n293\n5,508\nNorth America\n\n___________________\nTajikistan\n15\n\n \n\n\n15\n\n2\n\n\n\nAsia\n\n___________________\nNicaragua\n14\n\n3 \n\n7\n4\n\n2\n0.5\n\n\nNorth America\n\n___________________\nSao Tome and Principe\n14\n\n \n\n4\n10\n\n64\n\n19\n87\nAfrica\n\n___________________\nFalkland Islands\n13\n\n \n\n11\n2\n\n3,736\n\n372\n106,897\nSouth America\n\n___________________\nTurks and Caicos\n12\n\n1 \n\n5\n6\n\n310\n26\n83\n2,144\nNorth America\n\n___________________\nBurundi\n11\n\n1 \n\n4\n6\n\n0.9\n0.08\n284\n24\nAfrica\n\n___________________\nGambia\n11\n\n1 \n\n8\n2\n\n5\n0.4\n401\n166\nAfrica\n\n___________________\nMontserrat\n11\n\n1 \n\n2\n8\n1\n2,204\n200\n36\n7,212\nNorth America\n\n___________________\nGreenland\n11\n\n \n\n11\n0\n\n194\n\n1,258\n22,160\nNorth America\n\n___________________\nVatican City\n11\n\n \n\n2\n9\n\n13,733\n\n\n\nEurope\n\n___________________\nSeychelles\n11\n\n \n\n6\n5\n\n112\n\n\n\nAfrica\n\n___________________\nSuriname\n10\n\n1 \n\n8\n1\n\n17\n2\n404\n689\nSouth America\n\n___________________\nMS Zaandam\n9\n\n2 \n\n\n7\n\n\n\n\n\n\n\n___________________\nMauritania\n8\n\n1 \n\n6\n1\n\n2\n0.2\n1,032\n222\nAfrica\n\n___________________\nPapua New Guinea\n8\n\n \n\n\n8\n\n0.9\n\n604\n68\nAustralia/Oceania\n\n___________________\nBhutan\n7\n\n \n\n5\n2\n\n9\n\n10,045\n13,018\nAsia\n\n___________________\nYemen\n6\n\n2 \n\n1\n3\n\n0.2\n0.07\n120\n4\nAsia\n\n___________________\nBritish Virgin Islands\n6\n\n1 \n\n3\n2\n\n198\n33\n\n\nNorth America\n\n___________________\nSt. Barth\n6\n\n \n\n6\n0\n\n607\n\n\n\nNorth America\n\n___________________\nWestern Sahara\n6\n\n \n\n5\n1\n\n10\n\n\n\nAfrica\n\n___________________\nCaribbean Netherlands\n5\n\n \n\n\n5\n\n191\n\n110\n4,195\nNorth America\n\n___________________\nAnguilla\n3\n\n \n\n3\n0\n\n200\n\n\n\nNorth America\n\n___________________\nComoros\n1\n\n \n\n\n1\n\n1\n\n\n\nAfrica\n\n___________________\nSaint Pierre Miquelon\n1\n\n \n\n\n1\n\n173\n\n\n\nNorth America\n\n___________________\nChina\n82,874\n+12\n4,633 \n\n77,642\n599\n38\n58\n3\n\n\nAsia\n\n___________________\n"
    }
   ],
   "source": [
    "for tr in table_data:\n",
    "    for what in tr.find_all('td'):\n",
    "        print(what.text)\n",
    "    print(\"\\n___________________\")"
   ]
  },
  {
   "cell_type": "code",
   "execution_count": 7,
   "metadata": {},
   "outputs": [],
   "source": [
    "# now that we understand the data, we can structure the data\n",
    "\n",
    "data = []\n",
    "for tr in table_data:\n",
    "    t_row = {}\n",
    "    # Each table row is stored in the form of\n",
    "    # t_row = {'Country/Other': '', 'TotalCases': '', 'NewCases': ''...} \n",
    "\n",
    "    # find all td's in tr and zip it with headings\n",
    "\n",
    "    for td, th in zip(tr.find_all(\"td\"), headings): \n",
    "        t_row[th] = td.text.replace('\\n', '').strip()\n",
    "    data.append(t_row)\n"
   ]
  },
  {
   "cell_type": "markdown",
   "metadata": {},
   "source": [
    "## Check\n",
    "Checking if data is structured as it should, `this is also very important`"
   ]
  },
  {
   "cell_type": "code",
   "execution_count": 8,
   "metadata": {
    "tags": [
     "outputPrepend"
    ]
   },
   "outputs": [],
   "source": [
    "# for t in data:\n",
    "#     for k, v in t.items():\n",
    "#         print(v)\n",
    "#     print(\"_________\\n\")"
   ]
  },
  {
   "cell_type": "markdown",
   "metadata": {},
   "source": [
    "## Transform data\n",
    "Transform data into pandas dataframe and start data clean up and manipulation"
   ]
  },
  {
   "cell_type": "code",
   "execution_count": 9,
   "metadata": {},
   "outputs": [
    {
     "output_type": "execute_result",
     "data": {
      "text/plain": "              TotalCases NewCases TotalDeaths NewDeaths TotalRecovered  \\\nCountry                                                                  \nNorth America  1,186,679   +1,605      69,657      +138        188,999   \nEurope         1,373,444              135,235                  503,728   \nAsia             520,063      +13      18,610                  265,564   \nSouth America    178,621   +1,807       8,807      +105         60,095   \nOceania            8,347      +15         112        +1          7,070   \nAfrica            39,785                1,638                   13,078   \nOthers               721                   15                      645   \nWorld          3,307,660   +3,440     234,074      +244      1,039,179   \nUSA            1,095,023               63,856                  152,324   \nSpain            239,639               24,543                  137,984   \n\n              ActiveCases Critical Tot Cases/1Mpop Deaths/1Mpop TotalTests  \\\nCountry                                                                      \nNorth America     928,023   16,479                                           \nEurope            734,481   18,773                                           \nAsia              235,889    5,726                                           \nSouth America     109,719    9,802                                           \nOceania             1,165       34                                           \nAfrica             25,069      126                                           \nOthers                 61        4                                           \nWorld           2,034,407   50,944             424         30.0              \nUSA               878,843   15,226           3,308          193  6,391,887   \nSpain              77,112    2,676           5,125          525  1,455,306   \n\n              Tests/1Mpop          Continent  \nCountry                                       \nNorth America                  North America  \nEurope                                Europe  \nAsia                                    Asia  \nSouth America                  South America  \nOceania                    Australia/Oceania  \nAfrica                                Africa  \nOthers                                        \nWorld                                    All  \nUSA                19,311      North America  \nSpain              31,126             Europe  ",
      "text/html": "<div>\n<style scoped>\n    .dataframe tbody tr th:only-of-type {\n        vertical-align: middle;\n    }\n\n    .dataframe tbody tr th {\n        vertical-align: top;\n    }\n\n    .dataframe thead th {\n        text-align: right;\n    }\n</style>\n<table border=\"1\" class=\"dataframe\">\n  <thead>\n    <tr style=\"text-align: right;\">\n      <th></th>\n      <th>TotalCases</th>\n      <th>NewCases</th>\n      <th>TotalDeaths</th>\n      <th>NewDeaths</th>\n      <th>TotalRecovered</th>\n      <th>ActiveCases</th>\n      <th>Critical</th>\n      <th>Tot Cases/1Mpop</th>\n      <th>Deaths/1Mpop</th>\n      <th>TotalTests</th>\n      <th>Tests/1Mpop</th>\n      <th>Continent</th>\n    </tr>\n    <tr>\n      <th>Country</th>\n      <th></th>\n      <th></th>\n      <th></th>\n      <th></th>\n      <th></th>\n      <th></th>\n      <th></th>\n      <th></th>\n      <th></th>\n      <th></th>\n      <th></th>\n      <th></th>\n    </tr>\n  </thead>\n  <tbody>\n    <tr>\n      <th>North America</th>\n      <td>1,186,679</td>\n      <td>+1,605</td>\n      <td>69,657</td>\n      <td>+138</td>\n      <td>188,999</td>\n      <td>928,023</td>\n      <td>16,479</td>\n      <td></td>\n      <td></td>\n      <td></td>\n      <td></td>\n      <td>North America</td>\n    </tr>\n    <tr>\n      <th>Europe</th>\n      <td>1,373,444</td>\n      <td></td>\n      <td>135,235</td>\n      <td></td>\n      <td>503,728</td>\n      <td>734,481</td>\n      <td>18,773</td>\n      <td></td>\n      <td></td>\n      <td></td>\n      <td></td>\n      <td>Europe</td>\n    </tr>\n    <tr>\n      <th>Asia</th>\n      <td>520,063</td>\n      <td>+13</td>\n      <td>18,610</td>\n      <td></td>\n      <td>265,564</td>\n      <td>235,889</td>\n      <td>5,726</td>\n      <td></td>\n      <td></td>\n      <td></td>\n      <td></td>\n      <td>Asia</td>\n    </tr>\n    <tr>\n      <th>South America</th>\n      <td>178,621</td>\n      <td>+1,807</td>\n      <td>8,807</td>\n      <td>+105</td>\n      <td>60,095</td>\n      <td>109,719</td>\n      <td>9,802</td>\n      <td></td>\n      <td></td>\n      <td></td>\n      <td></td>\n      <td>South America</td>\n    </tr>\n    <tr>\n      <th>Oceania</th>\n      <td>8,347</td>\n      <td>+15</td>\n      <td>112</td>\n      <td>+1</td>\n      <td>7,070</td>\n      <td>1,165</td>\n      <td>34</td>\n      <td></td>\n      <td></td>\n      <td></td>\n      <td></td>\n      <td>Australia/Oceania</td>\n    </tr>\n    <tr>\n      <th>Africa</th>\n      <td>39,785</td>\n      <td></td>\n      <td>1,638</td>\n      <td></td>\n      <td>13,078</td>\n      <td>25,069</td>\n      <td>126</td>\n      <td></td>\n      <td></td>\n      <td></td>\n      <td></td>\n      <td>Africa</td>\n    </tr>\n    <tr>\n      <th>Others</th>\n      <td>721</td>\n      <td></td>\n      <td>15</td>\n      <td></td>\n      <td>645</td>\n      <td>61</td>\n      <td>4</td>\n      <td></td>\n      <td></td>\n      <td></td>\n      <td></td>\n      <td></td>\n    </tr>\n    <tr>\n      <th>World</th>\n      <td>3,307,660</td>\n      <td>+3,440</td>\n      <td>234,074</td>\n      <td>+244</td>\n      <td>1,039,179</td>\n      <td>2,034,407</td>\n      <td>50,944</td>\n      <td>424</td>\n      <td>30.0</td>\n      <td></td>\n      <td></td>\n      <td>All</td>\n    </tr>\n    <tr>\n      <th>USA</th>\n      <td>1,095,023</td>\n      <td></td>\n      <td>63,856</td>\n      <td></td>\n      <td>152,324</td>\n      <td>878,843</td>\n      <td>15,226</td>\n      <td>3,308</td>\n      <td>193</td>\n      <td>6,391,887</td>\n      <td>19,311</td>\n      <td>North America</td>\n    </tr>\n    <tr>\n      <th>Spain</th>\n      <td>239,639</td>\n      <td></td>\n      <td>24,543</td>\n      <td></td>\n      <td>137,984</td>\n      <td>77,112</td>\n      <td>2,676</td>\n      <td>5,125</td>\n      <td>525</td>\n      <td>1,455,306</td>\n      <td>31,126</td>\n      <td>Europe</td>\n    </tr>\n  </tbody>\n</table>\n</div>"
     },
     "metadata": {},
     "execution_count": 9
    }
   ],
   "source": [
    "df = pd.DataFrame(data)\n",
    "\n",
    "# modify data to ease data manipulation (you need to first view data) \n",
    "df.columns = df.columns.str.replace('Serious,', '').str.replace(',Other','').str.replace(' ','')\n",
    "df.set_index('Country', inplace=True)\n",
    "df.rename(index={\"\":\"Others\"}, inplace=True)\n",
    "\n",
    "# view data again to check if changes were made correctly \n",
    "df.head(10)"
   ]
  },
  {
   "cell_type": "code",
   "execution_count": 10,
   "metadata": {},
   "outputs": [
    {
     "output_type": "execute_result",
     "data": {
      "text/plain": "                       TotalCases NewCases TotalDeaths NewDeaths  \\\nCountry                                                            \nBhutan                          7                                  \nYemen                           6                    2             \nBritish Virgin Islands          6                    1             \nSt. Barth                       6                                  \nWestern Sahara                  6                                  \nCaribbean Netherlands           5                                  \nAnguilla                        3                                  \nComoros                         1                                  \nSaint Pierre Miquelon           1                                  \nChina                      82,874      +12       4,633             \n\n                       TotalRecovered ActiveCases Critical Tot Cases/1Mpop  \\\nCountry                                                                      \nBhutan                              5           2                        9   \nYemen                               1           3                      0.2   \nBritish Virgin Islands              3           2                      198   \nSt. Barth                           6           0                      607   \nWestern Sahara                      5           1                       10   \nCaribbean Netherlands                           5                      191   \nAnguilla                            3           0                      200   \nComoros                                         1                        1   \nSaint Pierre Miquelon                           1                      173   \nChina                          77,642         599       38              58   \n\n                       Deaths/1Mpop TotalTests Tests/1Mpop      Continent  \nCountry                                                                    \nBhutan                                  10,045      13,018           Asia  \nYemen                          0.07        120           4           Asia  \nBritish Virgin Islands           33                         North America  \nSt. Barth                                                   North America  \nWestern Sahara                                                     Africa  \nCaribbean Netherlands                      110       4,195  North America  \nAnguilla                                                    North America  \nComoros                                                            Africa  \nSaint Pierre Miquelon                                       North America  \nChina                             3                                  Asia  ",
      "text/html": "<div>\n<style scoped>\n    .dataframe tbody tr th:only-of-type {\n        vertical-align: middle;\n    }\n\n    .dataframe tbody tr th {\n        vertical-align: top;\n    }\n\n    .dataframe thead th {\n        text-align: right;\n    }\n</style>\n<table border=\"1\" class=\"dataframe\">\n  <thead>\n    <tr style=\"text-align: right;\">\n      <th></th>\n      <th>TotalCases</th>\n      <th>NewCases</th>\n      <th>TotalDeaths</th>\n      <th>NewDeaths</th>\n      <th>TotalRecovered</th>\n      <th>ActiveCases</th>\n      <th>Critical</th>\n      <th>Tot Cases/1Mpop</th>\n      <th>Deaths/1Mpop</th>\n      <th>TotalTests</th>\n      <th>Tests/1Mpop</th>\n      <th>Continent</th>\n    </tr>\n    <tr>\n      <th>Country</th>\n      <th></th>\n      <th></th>\n      <th></th>\n      <th></th>\n      <th></th>\n      <th></th>\n      <th></th>\n      <th></th>\n      <th></th>\n      <th></th>\n      <th></th>\n      <th></th>\n    </tr>\n  </thead>\n  <tbody>\n    <tr>\n      <th>Bhutan</th>\n      <td>7</td>\n      <td></td>\n      <td></td>\n      <td></td>\n      <td>5</td>\n      <td>2</td>\n      <td></td>\n      <td>9</td>\n      <td></td>\n      <td>10,045</td>\n      <td>13,018</td>\n      <td>Asia</td>\n    </tr>\n    <tr>\n      <th>Yemen</th>\n      <td>6</td>\n      <td></td>\n      <td>2</td>\n      <td></td>\n      <td>1</td>\n      <td>3</td>\n      <td></td>\n      <td>0.2</td>\n      <td>0.07</td>\n      <td>120</td>\n      <td>4</td>\n      <td>Asia</td>\n    </tr>\n    <tr>\n      <th>British Virgin Islands</th>\n      <td>6</td>\n      <td></td>\n      <td>1</td>\n      <td></td>\n      <td>3</td>\n      <td>2</td>\n      <td></td>\n      <td>198</td>\n      <td>33</td>\n      <td></td>\n      <td></td>\n      <td>North America</td>\n    </tr>\n    <tr>\n      <th>St. Barth</th>\n      <td>6</td>\n      <td></td>\n      <td></td>\n      <td></td>\n      <td>6</td>\n      <td>0</td>\n      <td></td>\n      <td>607</td>\n      <td></td>\n      <td></td>\n      <td></td>\n      <td>North America</td>\n    </tr>\n    <tr>\n      <th>Western Sahara</th>\n      <td>6</td>\n      <td></td>\n      <td></td>\n      <td></td>\n      <td>5</td>\n      <td>1</td>\n      <td></td>\n      <td>10</td>\n      <td></td>\n      <td></td>\n      <td></td>\n      <td>Africa</td>\n    </tr>\n    <tr>\n      <th>Caribbean Netherlands</th>\n      <td>5</td>\n      <td></td>\n      <td></td>\n      <td></td>\n      <td></td>\n      <td>5</td>\n      <td></td>\n      <td>191</td>\n      <td></td>\n      <td>110</td>\n      <td>4,195</td>\n      <td>North America</td>\n    </tr>\n    <tr>\n      <th>Anguilla</th>\n      <td>3</td>\n      <td></td>\n      <td></td>\n      <td></td>\n      <td>3</td>\n      <td>0</td>\n      <td></td>\n      <td>200</td>\n      <td></td>\n      <td></td>\n      <td></td>\n      <td>North America</td>\n    </tr>\n    <tr>\n      <th>Comoros</th>\n      <td>1</td>\n      <td></td>\n      <td></td>\n      <td></td>\n      <td></td>\n      <td>1</td>\n      <td></td>\n      <td>1</td>\n      <td></td>\n      <td></td>\n      <td></td>\n      <td>Africa</td>\n    </tr>\n    <tr>\n      <th>Saint Pierre Miquelon</th>\n      <td>1</td>\n      <td></td>\n      <td></td>\n      <td></td>\n      <td></td>\n      <td>1</td>\n      <td></td>\n      <td>173</td>\n      <td></td>\n      <td></td>\n      <td></td>\n      <td>North America</td>\n    </tr>\n    <tr>\n      <th>China</th>\n      <td>82,874</td>\n      <td>+12</td>\n      <td>4,633</td>\n      <td></td>\n      <td>77,642</td>\n      <td>599</td>\n      <td>38</td>\n      <td>58</td>\n      <td>3</td>\n      <td></td>\n      <td></td>\n      <td>Asia</td>\n    </tr>\n  </tbody>\n</table>\n</div>"
     },
     "metadata": {},
     "execution_count": 10
    }
   ],
   "source": [
    "# more views to understand data better\n",
    "df.tail(10)"
   ]
  },
  {
   "cell_type": "code",
   "execution_count": 11,
   "metadata": {
    "scrolled": true
   },
   "outputs": [
    {
     "output_type": "stream",
     "name": "stdout",
     "text": "<class 'pandas.core.frame.DataFrame'>\nIndex: 222 entries, North America to China\nData columns (total 12 columns):\n #   Column           Non-Null Count  Dtype \n---  ------           --------------  ----- \n 0   TotalCases       222 non-null    object\n 1   NewCases         222 non-null    object\n 2   TotalDeaths      222 non-null    object\n 3   NewDeaths        222 non-null    object\n 4   TotalRecovered   222 non-null    object\n 5   ActiveCases      222 non-null    object\n 6   Critical         222 non-null    object\n 7   Tot Cases/1Mpop  222 non-null    object\n 8   Deaths/1Mpop     222 non-null    object\n 9   TotalTests       222 non-null    object\n 10  Tests/1Mpop      222 non-null    object\n 11  Continent        222 non-null    object\ndtypes: object(12)\nmemory usage: 11.3+ KB\n"
    }
   ],
   "source": [
    "# getting data (empty and Datatype) \n",
    "df.info()"
   ]
  },
  {
   "cell_type": "markdown",
   "metadata": {},
   "source": [
    "# Cleaning data\n",
    "Clearly, the data looks useless as all column datatypes are `string`. To convert data type, data must first be cleaned and ready for conversion.\n",
    "* I drop the columns that are not considered in this visualization\n",
    "* I cleaned the data using `regexp` by finding patterns in the data"
   ]
  },
  {
   "cell_type": "code",
   "execution_count": 12,
   "metadata": {},
   "outputs": [],
   "source": [
    "# # Removed character symbols\n",
    "for column in df.columns:\n",
    "    df[column] = df[column].str.replace(r\"[^\\.a-zA-Z0-9_]\", '')\n",
    "\n",
    "use_column = ['TotalCases', 'NewCases', 'TotalDeaths', 'NewDeaths', 'TotalRecovered', 'ActiveCases', 'Critical', 'TotalTests', 'Continent']\n",
    "df = df[use_column]\n",
    "    \n",
    "# print out data to see if it works\n",
    "# df"
   ]
  },
  {
   "cell_type": "markdown",
   "metadata": {},
   "source": [
    "# Modifying Data and Datatype conversion\n",
    "To convert the datatype, I can either:\n",
    "* convert all missing values `(na)` to zero and convert columns to int datatype, or\n",
    "* Leave the missing values and convert columns to a float datatype `(best practice)`, or\n",
    "* convert all missing values to zero and convert columns to float\n",
    "\n",
    "`Important Note`: Missing values must be uniform to perfectly clean the data. The Data has to be understood well enough. In this the missing data is `\"NA\"` and `None or empty strings`\n"
   ]
  },
  {
   "cell_type": "code",
   "execution_count": 13,
   "metadata": {},
   "outputs": [
    {
     "output_type": "execute_result",
     "data": {
      "text/plain": "              TotalCases NewCases TotalDeaths NewDeaths TotalRecovered  \\\nCountry                                                                  \nNorth America    1186679     1605       69657       138         188999   \nEurope           1373444        0      135235         0         503728   \nAsia              520063       13       18610         0         265564   \nSouth America     178621     1807        8807       105          60095   \nOceania             8347       15         112         1           7070   \nAfrica             39785        0        1638         0          13078   \nOthers               721        0          15         0            645   \nWorld            3307660     3440      234074       244        1039179   \nUSA              1095023        0       63856         0         152324   \nSpain             239639        0       24543         0         137984   \n\n              ActiveCases Critical TotalTests         Continent  \nCountry                                                          \nNorth America      928023    16479          0      NorthAmerica  \nEurope             734481    18773          0            Europe  \nAsia               235889     5726          0              Asia  \nSouth America      109719     9802          0      SouthAmerica  \nOceania              1165       34          0  AustraliaOceania  \nAfrica              25069      126          0            Africa  \nOthers                 61        4          0            Others  \nWorld             2034407    50944          0               All  \nUSA                878843    15226    6391887      NorthAmerica  \nSpain               77112     2676    1455306            Europe  ",
      "text/html": "<div>\n<style scoped>\n    .dataframe tbody tr th:only-of-type {\n        vertical-align: middle;\n    }\n\n    .dataframe tbody tr th {\n        vertical-align: top;\n    }\n\n    .dataframe thead th {\n        text-align: right;\n    }\n</style>\n<table border=\"1\" class=\"dataframe\">\n  <thead>\n    <tr style=\"text-align: right;\">\n      <th></th>\n      <th>TotalCases</th>\n      <th>NewCases</th>\n      <th>TotalDeaths</th>\n      <th>NewDeaths</th>\n      <th>TotalRecovered</th>\n      <th>ActiveCases</th>\n      <th>Critical</th>\n      <th>TotalTests</th>\n      <th>Continent</th>\n    </tr>\n    <tr>\n      <th>Country</th>\n      <th></th>\n      <th></th>\n      <th></th>\n      <th></th>\n      <th></th>\n      <th></th>\n      <th></th>\n      <th></th>\n      <th></th>\n    </tr>\n  </thead>\n  <tbody>\n    <tr>\n      <th>North America</th>\n      <td>1186679</td>\n      <td>1605</td>\n      <td>69657</td>\n      <td>138</td>\n      <td>188999</td>\n      <td>928023</td>\n      <td>16479</td>\n      <td>0</td>\n      <td>NorthAmerica</td>\n    </tr>\n    <tr>\n      <th>Europe</th>\n      <td>1373444</td>\n      <td>0</td>\n      <td>135235</td>\n      <td>0</td>\n      <td>503728</td>\n      <td>734481</td>\n      <td>18773</td>\n      <td>0</td>\n      <td>Europe</td>\n    </tr>\n    <tr>\n      <th>Asia</th>\n      <td>520063</td>\n      <td>13</td>\n      <td>18610</td>\n      <td>0</td>\n      <td>265564</td>\n      <td>235889</td>\n      <td>5726</td>\n      <td>0</td>\n      <td>Asia</td>\n    </tr>\n    <tr>\n      <th>South America</th>\n      <td>178621</td>\n      <td>1807</td>\n      <td>8807</td>\n      <td>105</td>\n      <td>60095</td>\n      <td>109719</td>\n      <td>9802</td>\n      <td>0</td>\n      <td>SouthAmerica</td>\n    </tr>\n    <tr>\n      <th>Oceania</th>\n      <td>8347</td>\n      <td>15</td>\n      <td>112</td>\n      <td>1</td>\n      <td>7070</td>\n      <td>1165</td>\n      <td>34</td>\n      <td>0</td>\n      <td>AustraliaOceania</td>\n    </tr>\n    <tr>\n      <th>Africa</th>\n      <td>39785</td>\n      <td>0</td>\n      <td>1638</td>\n      <td>0</td>\n      <td>13078</td>\n      <td>25069</td>\n      <td>126</td>\n      <td>0</td>\n      <td>Africa</td>\n    </tr>\n    <tr>\n      <th>Others</th>\n      <td>721</td>\n      <td>0</td>\n      <td>15</td>\n      <td>0</td>\n      <td>645</td>\n      <td>61</td>\n      <td>4</td>\n      <td>0</td>\n      <td>Others</td>\n    </tr>\n    <tr>\n      <th>World</th>\n      <td>3307660</td>\n      <td>3440</td>\n      <td>234074</td>\n      <td>244</td>\n      <td>1039179</td>\n      <td>2034407</td>\n      <td>50944</td>\n      <td>0</td>\n      <td>All</td>\n    </tr>\n    <tr>\n      <th>USA</th>\n      <td>1095023</td>\n      <td>0</td>\n      <td>63856</td>\n      <td>0</td>\n      <td>152324</td>\n      <td>878843</td>\n      <td>15226</td>\n      <td>6391887</td>\n      <td>NorthAmerica</td>\n    </tr>\n    <tr>\n      <th>Spain</th>\n      <td>239639</td>\n      <td>0</td>\n      <td>24543</td>\n      <td>0</td>\n      <td>137984</td>\n      <td>77112</td>\n      <td>2676</td>\n      <td>1455306</td>\n      <td>Europe</td>\n    </tr>\n  </tbody>\n</table>\n</div>"
     },
     "metadata": {},
     "execution_count": 13
    }
   ],
   "source": [
    "# a[\"Continent\"] = a.replace(\"\" ,\"Others\") \n",
    "df = df.replace(\"NA\", np.nan)\n",
    "df = df.replace(\"\", np.nan)\n",
    "df.fillna(value={\"Continent\":\"Others\"}, inplace=True)\n",
    "df.fillna(0, inplace=True)\n",
    "df.head(10)"
   ]
  },
  {
   "cell_type": "code",
   "execution_count": 14,
   "metadata": {},
   "outputs": [
    {
     "output_type": "execute_result",
     "data": {
      "text/plain": "                       TotalCases NewCases TotalDeaths NewDeaths  \\\nCountry                                                            \nBhutan                          7        0           0         0   \nYemen                           6        0           2         0   \nBritish Virgin Islands          6        0           1         0   \nSt. Barth                       6        0           0         0   \nWestern Sahara                  6        0           0         0   \nCaribbean Netherlands           5        0           0         0   \nAnguilla                        3        0           0         0   \nComoros                         1        0           0         0   \nSaint Pierre Miquelon           1        0           0         0   \nChina                       82874       12        4633         0   \n\n                       TotalRecovered ActiveCases Critical TotalTests  \\\nCountry                                                                 \nBhutan                              5           2        0      10045   \nYemen                               1           3        0        120   \nBritish Virgin Islands              3           2        0          0   \nSt. Barth                           6           0        0          0   \nWestern Sahara                      5           1        0          0   \nCaribbean Netherlands               0           5        0        110   \nAnguilla                            3           0        0          0   \nComoros                             0           1        0          0   \nSaint Pierre Miquelon               0           1        0          0   \nChina                           77642         599       38          0   \n\n                           Continent  \nCountry                               \nBhutan                          Asia  \nYemen                           Asia  \nBritish Virgin Islands  NorthAmerica  \nSt. Barth               NorthAmerica  \nWestern Sahara                Africa  \nCaribbean Netherlands   NorthAmerica  \nAnguilla                NorthAmerica  \nComoros                       Africa  \nSaint Pierre Miquelon   NorthAmerica  \nChina                           Asia  ",
      "text/html": "<div>\n<style scoped>\n    .dataframe tbody tr th:only-of-type {\n        vertical-align: middle;\n    }\n\n    .dataframe tbody tr th {\n        vertical-align: top;\n    }\n\n    .dataframe thead th {\n        text-align: right;\n    }\n</style>\n<table border=\"1\" class=\"dataframe\">\n  <thead>\n    <tr style=\"text-align: right;\">\n      <th></th>\n      <th>TotalCases</th>\n      <th>NewCases</th>\n      <th>TotalDeaths</th>\n      <th>NewDeaths</th>\n      <th>TotalRecovered</th>\n      <th>ActiveCases</th>\n      <th>Critical</th>\n      <th>TotalTests</th>\n      <th>Continent</th>\n    </tr>\n    <tr>\n      <th>Country</th>\n      <th></th>\n      <th></th>\n      <th></th>\n      <th></th>\n      <th></th>\n      <th></th>\n      <th></th>\n      <th></th>\n      <th></th>\n    </tr>\n  </thead>\n  <tbody>\n    <tr>\n      <th>Bhutan</th>\n      <td>7</td>\n      <td>0</td>\n      <td>0</td>\n      <td>0</td>\n      <td>5</td>\n      <td>2</td>\n      <td>0</td>\n      <td>10045</td>\n      <td>Asia</td>\n    </tr>\n    <tr>\n      <th>Yemen</th>\n      <td>6</td>\n      <td>0</td>\n      <td>2</td>\n      <td>0</td>\n      <td>1</td>\n      <td>3</td>\n      <td>0</td>\n      <td>120</td>\n      <td>Asia</td>\n    </tr>\n    <tr>\n      <th>British Virgin Islands</th>\n      <td>6</td>\n      <td>0</td>\n      <td>1</td>\n      <td>0</td>\n      <td>3</td>\n      <td>2</td>\n      <td>0</td>\n      <td>0</td>\n      <td>NorthAmerica</td>\n    </tr>\n    <tr>\n      <th>St. Barth</th>\n      <td>6</td>\n      <td>0</td>\n      <td>0</td>\n      <td>0</td>\n      <td>6</td>\n      <td>0</td>\n      <td>0</td>\n      <td>0</td>\n      <td>NorthAmerica</td>\n    </tr>\n    <tr>\n      <th>Western Sahara</th>\n      <td>6</td>\n      <td>0</td>\n      <td>0</td>\n      <td>0</td>\n      <td>5</td>\n      <td>1</td>\n      <td>0</td>\n      <td>0</td>\n      <td>Africa</td>\n    </tr>\n    <tr>\n      <th>Caribbean Netherlands</th>\n      <td>5</td>\n      <td>0</td>\n      <td>0</td>\n      <td>0</td>\n      <td>0</td>\n      <td>5</td>\n      <td>0</td>\n      <td>110</td>\n      <td>NorthAmerica</td>\n    </tr>\n    <tr>\n      <th>Anguilla</th>\n      <td>3</td>\n      <td>0</td>\n      <td>0</td>\n      <td>0</td>\n      <td>3</td>\n      <td>0</td>\n      <td>0</td>\n      <td>0</td>\n      <td>NorthAmerica</td>\n    </tr>\n    <tr>\n      <th>Comoros</th>\n      <td>1</td>\n      <td>0</td>\n      <td>0</td>\n      <td>0</td>\n      <td>0</td>\n      <td>1</td>\n      <td>0</td>\n      <td>0</td>\n      <td>Africa</td>\n    </tr>\n    <tr>\n      <th>Saint Pierre Miquelon</th>\n      <td>1</td>\n      <td>0</td>\n      <td>0</td>\n      <td>0</td>\n      <td>0</td>\n      <td>1</td>\n      <td>0</td>\n      <td>0</td>\n      <td>NorthAmerica</td>\n    </tr>\n    <tr>\n      <th>China</th>\n      <td>82874</td>\n      <td>12</td>\n      <td>4633</td>\n      <td>0</td>\n      <td>77642</td>\n      <td>599</td>\n      <td>38</td>\n      <td>0</td>\n      <td>Asia</td>\n    </tr>\n  </tbody>\n</table>\n</div>"
     },
     "metadata": {},
     "execution_count": 14
    }
   ],
   "source": [
    "\n",
    "df.tail(10)"
   ]
  },
  {
   "cell_type": "markdown",
   "metadata": {},
   "source": [
    "## Convert columns datatype\n",
    "* Depending on the the datatype needed, you can convert to `int` or `float` and data will work fine\n",
    "* I converted the datatype to `float ` here as it is easy to use \n",
    "* It is important to catch error here because not all columns can't be converted"
   ]
  },
  {
   "cell_type": "code",
   "execution_count": 15,
   "metadata": {},
   "outputs": [
    {
     "output_type": "stream",
     "name": "stdout",
     "text": "Column datatype cannot be converted\n\n"
    }
   ],
   "source": [
    "for column in df.columns:\n",
    "    try:\n",
    "        df[column] = df[column].astype(\"float\")\n",
    "    except Exception as e:\n",
    "        print(\"Column datatype cannot be converted\\n\") \n",
    "    # a[column] =  df[column].map(lambda x: re.sub(r'[^\\.a-zA-Z0-9_]', '', x))"
   ]
  },
  {
   "cell_type": "code",
   "execution_count": 16,
   "metadata": {
    "scrolled": false
   },
   "outputs": [
    {
     "output_type": "stream",
     "name": "stdout",
     "text": "<class 'pandas.core.frame.DataFrame'>\nIndex: 222 entries, North America to China\nData columns (total 9 columns):\n #   Column          Non-Null Count  Dtype  \n---  ------          --------------  -----  \n 0   TotalCases      222 non-null    float64\n 1   NewCases        222 non-null    float64\n 2   TotalDeaths     222 non-null    float64\n 3   NewDeaths       222 non-null    float64\n 4   TotalRecovered  222 non-null    float64\n 5   ActiveCases     222 non-null    float64\n 6   Critical        222 non-null    float64\n 7   TotalTests      222 non-null    float64\n 8   Continent       222 non-null    object \ndtypes: float64(8), object(1)\nmemory usage: 15.6+ KB\n"
    }
   ],
   "source": [
    "# Check if it worked\n",
    "df.info()"
   ]
  },
  {
   "cell_type": "markdown",
   "metadata": {},
   "source": [
    "## Save Cleaned data"
   ]
  },
  {
   "cell_type": "code",
   "execution_count": 17,
   "metadata": {},
   "outputs": [],
   "source": [
    "# df.to_csv(\"coronadata.csv\")"
   ]
  },
  {
   "cell_type": "markdown",
   "metadata": {},
   "source": [
    "## Preparing Data for analyse"
   ]
  },
  {
   "cell_type": "code",
   "execution_count": 18,
   "metadata": {},
   "outputs": [],
   "source": [
    "# In here, the is cleaned but not suitable for analyse\n",
    "# The continent is list in the country column\n",
    "df.reset_index(inplace=True)\n",
    "\n",
    "stop = \"\"\n",
    "con = []\n",
    "\n",
    "\n",
    "for stop in df[\"Country\"]:\n",
    "\n",
    "    if stop == \"USA\":\n",
    "       break       \n",
    "    con.append(stop)\n",
    "\n",
    "col = []\n",
    "\n",
    "\n",
    "for stop in df.columns:\n",
    "    \n",
    "    col.append(stop)\n",
    "    if stop == \"Critical\":\n",
    "       break\n",
    "\n",
    "all_country = df[ df[\"Country\"].isin(con) == False]"
   ]
  },
  {
   "cell_type": "markdown",
   "metadata": {},
   "source": [
    "# I modelled the data into diff table using the continents\n",
    "* This is just to have data for each continents"
   ]
  },
  {
   "cell_type": "code",
   "execution_count": 19,
   "metadata": {},
   "outputs": [],
   "source": [
    "continent = df[ df[\"Country\"].isin(con[:-1]) ]\n",
    "continent = continent[col]\n",
    "\n",
    "north_america = all_country[ all_country[\"Continent\"] == \"NorthAmerica\"]\n",
    "\n",
    "europe = all_country[ all_country[\"Continent\"] == \"Europe\"]\n",
    "\n",
    "asia = all_country[ all_country[\"Continent\"] == \"Asia\"]\n",
    "\n",
    "south_america = all_country[ all_country[\"Continent\"] == \"SouthAmerica\"]\n",
    "\n",
    "oceania = all_country[ all_country[\"Continent\"] == \"AustraliaOceania\"]\n",
    "\n",
    "africa = all_country[ all_country[\"Continent\"] == \"Africa\"]\n",
    "\n",
    "others = all_country[ all_country[\"Continent\"] == \"Others\"]\n"
   ]
  },
  {
   "cell_type": "markdown",
   "metadata": {},
   "source": [
    "# We now our data ready for analysis\n",
    "* We have now cleaned the data and it is now perfect for analysis\n",
    "* Import neccessary library to get the analysis and visualization done"
   ]
  },
  {
   "cell_type": "code",
   "execution_count": 20,
   "metadata": {},
   "outputs": [
    {
     "output_type": "display_data",
     "data": {
      "text/html": "\n    <div class=\"bk-root\">\n        <a href=\"https://bokeh.org\" target=\"_blank\" class=\"bk-logo bk-logo-small bk-logo-notebook\"></a>\n        <span id=\"1001\">Loading BokehJS ...</span>\n    </div>"
     },
     "metadata": {}
    },
    {
     "output_type": "display_data",
     "data": {
      "application/javascript": "\n(function(root) {\n  function now() {\n    return new Date();\n  }\n\n  var force = true;\n\n  if (typeof root._bokeh_onload_callbacks === \"undefined\" || force === true) {\n    root._bokeh_onload_callbacks = [];\n    root._bokeh_is_loading = undefined;\n  }\n\n  var JS_MIME_TYPE = 'application/javascript';\n  var HTML_MIME_TYPE = 'text/html';\n  var EXEC_MIME_TYPE = 'application/vnd.bokehjs_exec.v0+json';\n  var CLASS_NAME = 'output_bokeh rendered_html';\n\n  /**\n   * Render data to the DOM node\n   */\n  function render(props, node) {\n    var script = document.createElement(\"script\");\n    node.appendChild(script);\n  }\n\n  /**\n   * Handle when an output is cleared or removed\n   */\n  function handleClearOutput(event, handle) {\n    var cell = handle.cell;\n\n    var id = cell.output_area._bokeh_element_id;\n    var server_id = cell.output_area._bokeh_server_id;\n    // Clean up Bokeh references\n    if (id != null && id in Bokeh.index) {\n      Bokeh.index[id].model.document.clear();\n      delete Bokeh.index[id];\n    }\n\n    if (server_id !== undefined) {\n      // Clean up Bokeh references\n      var cmd = \"from bokeh.io.state import curstate; print(curstate().uuid_to_server['\" + server_id + \"'].get_sessions()[0].document.roots[0]._id)\";\n      cell.notebook.kernel.execute(cmd, {\n        iopub: {\n          output: function(msg) {\n            var id = msg.content.text.trim();\n            if (id in Bokeh.index) {\n              Bokeh.index[id].model.document.clear();\n              delete Bokeh.index[id];\n            }\n          }\n        }\n      });\n      // Destroy server and session\n      var cmd = \"import bokeh.io.notebook as ion; ion.destroy_server('\" + server_id + \"')\";\n      cell.notebook.kernel.execute(cmd);\n    }\n  }\n\n  /**\n   * Handle when a new output is added\n   */\n  function handleAddOutput(event, handle) {\n    var output_area = handle.output_area;\n    var output = handle.output;\n\n    // limit handleAddOutput to display_data with EXEC_MIME_TYPE content only\n    if ((output.output_type != \"display_data\") || (!output.data.hasOwnProperty(EXEC_MIME_TYPE))) {\n      return\n    }\n\n    var toinsert = output_area.element.find(\".\" + CLASS_NAME.split(' ')[0]);\n\n    if (output.metadata[EXEC_MIME_TYPE][\"id\"] !== undefined) {\n      toinsert[toinsert.length - 1].firstChild.textContent = output.data[JS_MIME_TYPE];\n      // store reference to embed id on output_area\n      output_area._bokeh_element_id = output.metadata[EXEC_MIME_TYPE][\"id\"];\n    }\n    if (output.metadata[EXEC_MIME_TYPE][\"server_id\"] !== undefined) {\n      var bk_div = document.createElement(\"div\");\n      bk_div.innerHTML = output.data[HTML_MIME_TYPE];\n      var script_attrs = bk_div.children[0].attributes;\n      for (var i = 0; i < script_attrs.length; i++) {\n        toinsert[toinsert.length - 1].firstChild.setAttribute(script_attrs[i].name, script_attrs[i].value);\n        toinsert[toinsert.length - 1].firstChild.textContent = bk_div.children[0].textContent\n      }\n      // store reference to server id on output_area\n      output_area._bokeh_server_id = output.metadata[EXEC_MIME_TYPE][\"server_id\"];\n    }\n  }\n\n  function register_renderer(events, OutputArea) {\n\n    function append_mime(data, metadata, element) {\n      // create a DOM node to render to\n      var toinsert = this.create_output_subarea(\n        metadata,\n        CLASS_NAME,\n        EXEC_MIME_TYPE\n      );\n      this.keyboard_manager.register_events(toinsert);\n      // Render to node\n      var props = {data: data, metadata: metadata[EXEC_MIME_TYPE]};\n      render(props, toinsert[toinsert.length - 1]);\n      element.append(toinsert);\n      return toinsert\n    }\n\n    /* Handle when an output is cleared or removed */\n    events.on('clear_output.CodeCell', handleClearOutput);\n    events.on('delete.Cell', handleClearOutput);\n\n    /* Handle when a new output is added */\n    events.on('output_added.OutputArea', handleAddOutput);\n\n    /**\n     * Register the mime type and append_mime function with output_area\n     */\n    OutputArea.prototype.register_mime_type(EXEC_MIME_TYPE, append_mime, {\n      /* Is output safe? */\n      safe: true,\n      /* Index of renderer in `output_area.display_order` */\n      index: 0\n    });\n  }\n\n  // register the mime type if in Jupyter Notebook environment and previously unregistered\n  if (root.Jupyter !== undefined) {\n    var events = require('base/js/events');\n    var OutputArea = require('notebook/js/outputarea').OutputArea;\n\n    if (OutputArea.prototype.mime_types().indexOf(EXEC_MIME_TYPE) == -1) {\n      register_renderer(events, OutputArea);\n    }\n  }\n\n  \n  if (typeof (root._bokeh_timeout) === \"undefined\" || force === true) {\n    root._bokeh_timeout = Date.now() + 5000;\n    root._bokeh_failed_load = false;\n  }\n\n  var NB_LOAD_WARNING = {'data': {'text/html':\n     \"<div style='background-color: #fdd'>\\n\"+\n     \"<p>\\n\"+\n     \"BokehJS does not appear to have successfully loaded. If loading BokehJS from CDN, this \\n\"+\n     \"may be due to a slow or bad network connection. Possible fixes:\\n\"+\n     \"</p>\\n\"+\n     \"<ul>\\n\"+\n     \"<li>re-rerun `output_notebook()` to attempt to load from CDN again, or</li>\\n\"+\n     \"<li>use INLINE resources instead, as so:</li>\\n\"+\n     \"</ul>\\n\"+\n     \"<code>\\n\"+\n     \"from bokeh.resources import INLINE\\n\"+\n     \"output_notebook(resources=INLINE)\\n\"+\n     \"</code>\\n\"+\n     \"</div>\"}};\n\n  function display_loaded() {\n    var el = document.getElementById(\"1001\");\n    if (el != null) {\n      el.textContent = \"BokehJS is loading...\";\n    }\n    if (root.Bokeh !== undefined) {\n      if (el != null) {\n        el.textContent = \"BokehJS \" + root.Bokeh.version + \" successfully loaded.\";\n      }\n    } else if (Date.now() < root._bokeh_timeout) {\n      setTimeout(display_loaded, 100)\n    }\n  }\n\n\n  function run_callbacks() {\n    try {\n      root._bokeh_onload_callbacks.forEach(function(callback) {\n        if (callback != null)\n          callback();\n      });\n    } finally {\n      delete root._bokeh_onload_callbacks\n    }\n    console.debug(\"Bokeh: all callbacks have finished\");\n  }\n\n  function load_libs(css_urls, js_urls, callback) {\n    if (css_urls == null) css_urls = [];\n    if (js_urls == null) js_urls = [];\n\n    root._bokeh_onload_callbacks.push(callback);\n    if (root._bokeh_is_loading > 0) {\n      console.debug(\"Bokeh: BokehJS is being loaded, scheduling callback at\", now());\n      return null;\n    }\n    if (js_urls == null || js_urls.length === 0) {\n      run_callbacks();\n      return null;\n    }\n    console.debug(\"Bokeh: BokehJS not loaded, scheduling load and callback at\", now());\n    root._bokeh_is_loading = css_urls.length + js_urls.length;\n\n    function on_load() {\n      root._bokeh_is_loading--;\n      if (root._bokeh_is_loading === 0) {\n        console.debug(\"Bokeh: all BokehJS libraries/stylesheets loaded\");\n        run_callbacks()\n      }\n    }\n\n    function on_error() {\n      console.error(\"failed to load \" + url);\n    }\n\n    for (var i = 0; i < css_urls.length; i++) {\n      var url = css_urls[i];\n      const element = document.createElement(\"link\");\n      element.onload = on_load;\n      element.onerror = on_error;\n      element.rel = \"stylesheet\";\n      element.type = \"text/css\";\n      element.href = url;\n      console.debug(\"Bokeh: injecting link tag for BokehJS stylesheet: \", url);\n      document.body.appendChild(element);\n    }\n\n    for (var i = 0; i < js_urls.length; i++) {\n      var url = js_urls[i];\n      var element = document.createElement('script');\n      element.onload = on_load;\n      element.onerror = on_error;\n      element.async = false;\n      element.src = url;\n      \n      console.debug(\"Bokeh: injecting script tag for BokehJS library: \", url);\n      document.head.appendChild(element);\n    }\n  };var element = document.getElementById(\"1001\");\n  if (element == null) {\n    console.error(\"Bokeh: ERROR: autoload.js configured with elementid '1001' but no matching script tag was found. \")\n    return false;\n  }\n\n  function inject_raw_css(css) {\n    const element = document.createElement(\"style\");\n    element.appendChild(document.createTextNode(css));\n    document.body.appendChild(element);\n  }\n\n  \n  var js_urls = [\"https://cdn.bokeh.org/bokeh/release/bokeh-2.0.0.min.js\", \"https://cdn.bokeh.org/bokeh/release/bokeh-widgets-2.0.0.min.js\", \"https://cdn.bokeh.org/bokeh/release/bokeh-tables-2.0.0.min.js\", \"https://cdn.bokeh.org/bokeh/release/bokeh-gl-2.0.0.min.js\"];\n  var css_urls = [];\n  \n\n  var inline_js = [\n    function(Bokeh) {\n      Bokeh.set_log_level(\"info\");\n    },\n    function(Bokeh) {\n    \n    \n    }\n  ];\n\n  function run_inline_js() {\n    \n    if (root.Bokeh !== undefined || force === true) {\n      \n    for (var i = 0; i < inline_js.length; i++) {\n      inline_js[i].call(root, root.Bokeh);\n    }\n    if (force === true) {\n        display_loaded();\n      }} else if (Date.now() < root._bokeh_timeout) {\n      setTimeout(run_inline_js, 100);\n    } else if (!root._bokeh_failed_load) {\n      console.log(\"Bokeh: BokehJS failed to load within specified timeout.\");\n      root._bokeh_failed_load = true;\n    } else if (force !== true) {\n      var cell = $(document.getElementById(\"1001\")).parents('.cell').data().cell;\n      cell.output_area.append_execute_result(NB_LOAD_WARNING)\n    }\n\n  }\n\n  if (root._bokeh_is_loading === 0) {\n    console.debug(\"Bokeh: BokehJS loaded, going straight to plotting\");\n    run_inline_js();\n  } else {\n    load_libs(css_urls, js_urls, function() {\n      console.debug(\"Bokeh: BokehJS plotting callback run at\", now());\n      run_inline_js();\n    });\n  }\n}(window));",
      "application/vnd.bokehjs_load.v0+json": "\n(function(root) {\n  function now() {\n    return new Date();\n  }\n\n  var force = true;\n\n  if (typeof root._bokeh_onload_callbacks === \"undefined\" || force === true) {\n    root._bokeh_onload_callbacks = [];\n    root._bokeh_is_loading = undefined;\n  }\n\n  \n\n  \n  if (typeof (root._bokeh_timeout) === \"undefined\" || force === true) {\n    root._bokeh_timeout = Date.now() + 5000;\n    root._bokeh_failed_load = false;\n  }\n\n  var NB_LOAD_WARNING = {'data': {'text/html':\n     \"<div style='background-color: #fdd'>\\n\"+\n     \"<p>\\n\"+\n     \"BokehJS does not appear to have successfully loaded. If loading BokehJS from CDN, this \\n\"+\n     \"may be due to a slow or bad network connection. Possible fixes:\\n\"+\n     \"</p>\\n\"+\n     \"<ul>\\n\"+\n     \"<li>re-rerun `output_notebook()` to attempt to load from CDN again, or</li>\\n\"+\n     \"<li>use INLINE resources instead, as so:</li>\\n\"+\n     \"</ul>\\n\"+\n     \"<code>\\n\"+\n     \"from bokeh.resources import INLINE\\n\"+\n     \"output_notebook(resources=INLINE)\\n\"+\n     \"</code>\\n\"+\n     \"</div>\"}};\n\n  function display_loaded() {\n    var el = document.getElementById(\"1001\");\n    if (el != null) {\n      el.textContent = \"BokehJS is loading...\";\n    }\n    if (root.Bokeh !== undefined) {\n      if (el != null) {\n        el.textContent = \"BokehJS \" + root.Bokeh.version + \" successfully loaded.\";\n      }\n    } else if (Date.now() < root._bokeh_timeout) {\n      setTimeout(display_loaded, 100)\n    }\n  }\n\n\n  function run_callbacks() {\n    try {\n      root._bokeh_onload_callbacks.forEach(function(callback) {\n        if (callback != null)\n          callback();\n      });\n    } finally {\n      delete root._bokeh_onload_callbacks\n    }\n    console.debug(\"Bokeh: all callbacks have finished\");\n  }\n\n  function load_libs(css_urls, js_urls, callback) {\n    if (css_urls == null) css_urls = [];\n    if (js_urls == null) js_urls = [];\n\n    root._bokeh_onload_callbacks.push(callback);\n    if (root._bokeh_is_loading > 0) {\n      console.debug(\"Bokeh: BokehJS is being loaded, scheduling callback at\", now());\n      return null;\n    }\n    if (js_urls == null || js_urls.length === 0) {\n      run_callbacks();\n      return null;\n    }\n    console.debug(\"Bokeh: BokehJS not loaded, scheduling load and callback at\", now());\n    root._bokeh_is_loading = css_urls.length + js_urls.length;\n\n    function on_load() {\n      root._bokeh_is_loading--;\n      if (root._bokeh_is_loading === 0) {\n        console.debug(\"Bokeh: all BokehJS libraries/stylesheets loaded\");\n        run_callbacks()\n      }\n    }\n\n    function on_error() {\n      console.error(\"failed to load \" + url);\n    }\n\n    for (var i = 0; i < css_urls.length; i++) {\n      var url = css_urls[i];\n      const element = document.createElement(\"link\");\n      element.onload = on_load;\n      element.onerror = on_error;\n      element.rel = \"stylesheet\";\n      element.type = \"text/css\";\n      element.href = url;\n      console.debug(\"Bokeh: injecting link tag for BokehJS stylesheet: \", url);\n      document.body.appendChild(element);\n    }\n\n    for (var i = 0; i < js_urls.length; i++) {\n      var url = js_urls[i];\n      var element = document.createElement('script');\n      element.onload = on_load;\n      element.onerror = on_error;\n      element.async = false;\n      element.src = url;\n      \n      console.debug(\"Bokeh: injecting script tag for BokehJS library: \", url);\n      document.head.appendChild(element);\n    }\n  };var element = document.getElementById(\"1001\");\n  if (element == null) {\n    console.error(\"Bokeh: ERROR: autoload.js configured with elementid '1001' but no matching script tag was found. \")\n    return false;\n  }\n\n  function inject_raw_css(css) {\n    const element = document.createElement(\"style\");\n    element.appendChild(document.createTextNode(css));\n    document.body.appendChild(element);\n  }\n\n  \n  var js_urls = [\"https://cdn.bokeh.org/bokeh/release/bokeh-2.0.0.min.js\", \"https://cdn.bokeh.org/bokeh/release/bokeh-widgets-2.0.0.min.js\", \"https://cdn.bokeh.org/bokeh/release/bokeh-tables-2.0.0.min.js\", \"https://cdn.bokeh.org/bokeh/release/bokeh-gl-2.0.0.min.js\"];\n  var css_urls = [];\n  \n\n  var inline_js = [\n    function(Bokeh) {\n      Bokeh.set_log_level(\"info\");\n    },\n    function(Bokeh) {\n    \n    \n    }\n  ];\n\n  function run_inline_js() {\n    \n    if (root.Bokeh !== undefined || force === true) {\n      \n    for (var i = 0; i < inline_js.length; i++) {\n      inline_js[i].call(root, root.Bokeh);\n    }\n    if (force === true) {\n        display_loaded();\n      }} else if (Date.now() < root._bokeh_timeout) {\n      setTimeout(run_inline_js, 100);\n    } else if (!root._bokeh_failed_load) {\n      console.log(\"Bokeh: BokehJS failed to load within specified timeout.\");\n      root._bokeh_failed_load = true;\n    } else if (force !== true) {\n      var cell = $(document.getElementById(\"1001\")).parents('.cell').data().cell;\n      cell.output_area.append_execute_result(NB_LOAD_WARNING)\n    }\n\n  }\n\n  if (root._bokeh_is_loading === 0) {\n    console.debug(\"Bokeh: BokehJS loaded, going straight to plotting\");\n    run_inline_js();\n  } else {\n    load_libs(css_urls, js_urls, function() {\n      console.debug(\"Bokeh: BokehJS plotting callback run at\", now());\n      run_inline_js();\n    });\n  }\n}(window));"
     },
     "metadata": {}
    }
   ],
   "source": [
    "%matplotlib inline\n",
    "from math import pi\n",
    "\n",
    "import csv\n",
    "import matplotlib.pyplot as plt\n",
    "from math import fsum\n",
    "from urllib.request import urlopen\n",
    "from bs4 import BeautifulSoup\n",
    "\n",
    "from bokeh.plotting import figure,output_file, output_notebook, show\n",
    "from bokeh.models import ColumnDataSource, ranges, LabelSet, HoverTool\n",
    "from bokeh.layouts import gridplot\n",
    "from bokeh.transform import cumsum\n",
    "\n",
    "tools = \"wheel_zoom, reset, save\"\n",
    "\n",
    "\n",
    "# Display plot in jupiter notebook\n",
    "output_notebook()\n",
    "\n",
    "blue    = '#008fd5'\n",
    "red     = '#fc4f30'\n",
    "yellow  = '#e5ae37'\n",
    "green   = '#6d904f'\n",
    "skye    = '#33D1FF'\n",
    "pink    = \"#FF338A\"\n",
    "lgreen  = '#99FF33'\n",
    "\n",
    "colours = [blue, red, yellow,green, skye, pink, lgreen]\n",
    "\n",
    "width = 600\n",
    "heigth = 400"
   ]
  },
  {
   "cell_type": "code",
   "execution_count": null,
   "metadata": {},
   "outputs": [],
   "source": []
  },
  {
   "cell_type": "code",
   "execution_count": 21,
   "metadata": {},
   "outputs": [],
   "source": [
    "pies = all_country[[\"Country\", 'ActiveCases','TotalRecovered', 'TotalDeaths']]\n",
    "pies.set_index('Country', inplace=True)\n",
    "\n",
    "\n",
    "\n",
    "# output_file(\"pie.html\")\n",
    "\n",
    "\n",
    "col_sum = []\n",
    "for col in pies.sum(axis = 0, skipna = True):\n",
    "    col_sum.append(col)\n",
    "\n",
    "active       = col_sum[0]\n",
    "recovered    = col_sum[1]\n",
    "death        = col_sum[2] \n",
    "\n",
    "#  Calculating percentage\n",
    "sum_all = fsum(col_sum)\n",
    "aper    = \"{0:.2f}%\".format((active/sum_all)*100)\n",
    "rper    = \"{0:.2f}%\".format((recovered/sum_all)*100)\n",
    "dper    = \"{0:.2f}%\".format((death/sum_all)*100)\n",
    "\n",
    "\n",
    "\n",
    "\n",
    "percent = {\"value\": [aper, rper, dper]}\n",
    "# Setting data\n",
    "x = { \n",
    "    'Active - ' + aper: active,\n",
    "    'Recovered - ' + rper: recovered,\n",
    "    'Deaths - ' + dper: death   \n",
    "}\n",
    "\n",
    "colors = [blue, green,  red]\n",
    "\n",
    "data = pd.Series(x).reset_index(name='value').rename(columns={'index':'Case'})\n",
    "# data['label'] = percent\n",
    "data['angle'] = data['value']/data['value'].sum() * 2*pi\n",
    "data['color'] = colors[:len(x)]\n",
    "\n",
    "source = ColumnDataSource(data)\n",
    "\n",
    "pie = figure(plot_height=350, title=\"COVID-19 cases overview\", toolbar_location=None,\n",
    "           tools=tools,\n",
    "           x_range=(-0.5, 1.0))\n",
    "\n",
    "pie.wedge(x=0, y=1, radius=0.4,\n",
    "        start_angle=cumsum('angle', include_zero=True),\n",
    "        end_angle=cumsum('angle'),\n",
    "        line_color=\"white\",\n",
    "        fill_color = \"color\",\n",
    "        legend_field='Case', \n",
    "        source=source)\n",
    "\n",
    "hover = HoverTool()\n",
    "hover.tooltips = \"\"\"\n",
    "    <div>\n",
    "        <h3>@Case</h3>\n",
    "        <h3>Total: @value</h3>\n",
    "    </div>\n",
    "\n",
    "\"\"\"\n",
    "\n",
    "pie.axis.axis_label=None\n",
    "pie.axis.visible=False\n",
    "pie.grid.grid_line_color = None\n",
    "pie.add_tools(hover)\n",
    "\n",
    "# show(pie)"
   ]
  },
  {
   "cell_type": "markdown",
   "metadata": {},
   "source": [
    "# DATA VISUALISATION FOR THE TOTAL, DEATH and RECOVERED CASES\n",
    "\n",
    "* Here, I was preparing data for the cases to be considered\n",
    "* I only used the top 20 of the data\n",
    "* I printed it out to be sure\n",
    "                    "
   ]
  },
  {
   "cell_type": "markdown",
   "metadata": {},
   "source": [
    "# Total Case"
   ]
  },
  {
   "cell_type": "code",
   "execution_count": 22,
   "metadata": {},
   "outputs": [],
   "source": [
    "\"\"\" Total case discovered\"\"\"\n",
    "# sort data by total cases in descending order\n",
    "con_tc = all_country.sort_values(by='TotalCases')\n",
    "\n",
    "# picking the last 20 countries\n",
    "con_tc = con_tc.tail(20)\n",
    "\n",
    "# Plot Axis\n",
    "source = ColumnDataSource(con_tc)\n",
    "x_tc = con_tc['Country']\n",
    "\n",
    "# setting plot; y_range is used for x_tc because the data is categorical data\n",
    "tc = figure(y_range=x_tc, \n",
    "            title=\"Total COVID19 cases\",\n",
    "            tools=tools,\n",
    "            plot_width=width, \n",
    "            plot_height=heigth)\n",
    "\n",
    "tc.hbar(y=\"Country\", \n",
    "        right=\"TotalCases\",\n",
    "        height=0.5,\n",
    "        hover_color=skye,\n",
    "        left=0, \n",
    "        color=\"navy\",\n",
    "        source=source)\n",
    "\n",
    "hover = HoverTool(\n",
    "        tooltips=[\n",
    "            (\"Country\", '@Country'),\n",
    "            (\"Total\", \"@TotalCases\")\n",
    "        ]\n",
    ")\n",
    "\n",
    "\n",
    "tc.add_tools(hover)\n",
    "\n",
    "# show(tc)\n"
   ]
  },
  {
   "cell_type": "markdown",
   "metadata": {},
   "source": [
    "# Total Death"
   ]
  },
  {
   "cell_type": "code",
   "execution_count": 23,
   "metadata": {},
   "outputs": [],
   "source": [
    " \"\"\" Total Death \"\"\"\n",
    "# sorting the data by total death in ascending order\n",
    "con_td = all_country.sort_values(by='TotalDeaths')\n",
    "\n",
    "# picking the last 20 countries\n",
    "con_td = con_td.tail(20)\n",
    "\n",
    "# Plot Axis\n",
    "source = ColumnDataSource(con_td)\n",
    "x_td = con_td['Country']\n",
    "\n",
    "# setting plot; y_range is used for x_tc because the data is categorical data\n",
    "td = figure(y_range=x_td, \n",
    "            tools=tools,\n",
    "            title=\"Total COVID19 Deaths\",\n",
    "            plot_width=width, \n",
    "            plot_height=heigth)\n",
    "\n",
    "td.hbar(y=\"Country\", \n",
    "        right=\"TotalDeaths\",\n",
    "        height=0.5, \n",
    "        left=0, \n",
    "        color=\"red\",\n",
    "        hover_color=pink,        \n",
    "        source=source)\n",
    "\n",
    "hover = HoverTool(\n",
    "        tooltips=[\n",
    "            (\"Country\", '@Country'),\n",
    "            (\"Total Death\", \"@TotalDeaths\")\n",
    "        ]\n",
    ")\n",
    "\n",
    "\n",
    "td.add_tools(hover)\n",
    "\n",
    "# show(td)"
   ]
  },
  {
   "cell_type": "code",
   "execution_count": 24,
   "metadata": {},
   "outputs": [],
   "source": [
    " \"\"\" Total Recovered \"\"\"\n",
    "# sorting the data by total death in ascending order\n",
    "con_tr = all_country.sort_values(by='TotalRecovered')\n",
    "\n",
    "\n",
    "# picking the last 20 countries\n",
    "con_tr = con_tr.tail(20)\n",
    "\n",
    "# Plot Axis\n",
    "source = ColumnDataSource(con_tr)\n",
    "x_tr = con_tr['Country']\n",
    "\n",
    "# setting plot; y_range is used for x_tc because the data is categorical data\n",
    "tr = figure(y_range=x_tr, \n",
    "            title=\"Total COVID19 Recovered cases\",\n",
    "            tools=tools,\n",
    "            plot_width=width, \n",
    "            plot_height=heigth)\n",
    "\n",
    "tr.hbar(y=\"Country\", \n",
    "        right=\"TotalRecovered\",\n",
    "        height=0.5, \n",
    "        left=0, \n",
    "        color=\"green\",\n",
    "        hover_color=skye,\n",
    "        source=source)\n",
    "\n",
    "hover = HoverTool(\n",
    "        tooltips=[\n",
    "            (\"Country\", '@Country'),\n",
    "            (\"Total Recovered\", \"@TotalRecovered\")\n",
    "        ]\n",
    ")\n",
    "\n",
    "\n",
    "tr.add_tools(hover)\n",
    "\n",
    "# show(tr)"
   ]
  },
  {
   "cell_type": "markdown",
   "metadata": {},
   "source": [
    "# Printing Out the graphically output"
   ]
  },
  {
   "cell_type": "code",
   "execution_count": 25,
   "metadata": {},
   "outputs": [
    {
     "output_type": "display_data",
     "data": {
      "text/html": "\n\n\n\n\n\n  <div class=\"bk-root\" id=\"cc26debc-6078-4f73-a9da-c2f0bb6b8072\" data-root-id=\"1182\"></div>\n"
     },
     "metadata": {}
    },
    {
     "output_type": "display_data",
     "data": {
      "application/javascript": "(function(root) {\n  function embed_document(root) {\n    \n  var docs_json = {\"4b59ef92-715b-4e55-a9b2-606378a5f1c8\":{\"roots\":{\"references\":[{\"attributes\":{\"children\":[{\"id\":\"1181\"},{\"id\":\"1179\"}]},\"id\":\"1182\",\"type\":\"Column\"},{\"attributes\":{\"start\":-0.5},\"id\":\"1006\",\"type\":\"Range1d\"},{\"attributes\":{},\"id\":\"1160\",\"type\":\"UnionRenderers\"},{\"attributes\":{},\"id\":\"1161\",\"type\":\"Selection\"},{\"attributes\":{},\"id\":\"1172\",\"type\":\"BasicTickFormatter\"},{\"attributes\":{\"callback\":null,\"tooltips\":[[\"Country\",\"@Country\"],[\"Total Recovered\",\"@TotalRecovered\"]]},\"id\":\"1145\",\"type\":\"HoverTool\"},{\"attributes\":{},\"id\":\"1174\",\"type\":\"CategoricalTickFormatter\"},{\"attributes\":{},\"id\":\"1166\",\"type\":\"CategoricalTickFormatter\"},{\"attributes\":{\"data\":{\"Case\":[\"Active - 61.52%\",\"Recovered - 31.41%\",\"Deaths - 7.08%\"],\"angle\":{\"__ndarray__\":\"22mHZvvrDkD27/gDYJL/P8rCIwBadtw/\",\"dtype\":\"float64\",\"shape\":[3]},\"color\":[\"#008fd5\",\"#6d904f\",\"#fc4f30\"],\"index\":[0,1,2],\"value\":{\"__ndarray__\":\"AAAAAOcKP0EAAAAA8rEvQQAAAADQkgxB\",\"dtype\":\"float64\",\"shape\":[3]}},\"selected\":{\"id\":\"1153\"},\"selection_policy\":{\"id\":\"1152\"}},\"id\":\"1002\",\"type\":\"ColumnDataSource\"},{\"attributes\":{},\"id\":\"1176\",\"type\":\"UnionRenderers\"},{\"attributes\":{},\"id\":\"1177\",\"type\":\"Selection\"},{\"attributes\":{\"text\":\"COVID-19 cases overview\"},\"id\":\"1004\",\"type\":\"Title\"},{\"attributes\":{},\"id\":\"1012\",\"type\":\"LinearScale\"},{\"attributes\":{\"axis_label\":null,\"formatter\":{\"id\":\"1037\"},\"ticker\":{\"id\":\"1015\"},\"visible\":false},\"id\":\"1014\",\"type\":\"LinearAxis\"},{\"attributes\":{},\"id\":\"1008\",\"type\":\"DataRange1d\"},{\"attributes\":{},\"id\":\"1010\",\"type\":\"LinearScale\"},{\"attributes\":{},\"id\":\"1024\",\"type\":\"SaveTool\"},{\"attributes\":{\"axis\":{\"id\":\"1018\"},\"dimension\":1,\"grid_line_color\":null,\"ticker\":null},\"id\":\"1021\",\"type\":\"Grid\"},{\"attributes\":{},\"id\":\"1019\",\"type\":\"BasicTicker\"},{\"attributes\":{\"axis_label\":null,\"formatter\":{\"id\":\"1039\"},\"ticker\":{\"id\":\"1019\"},\"visible\":false},\"id\":\"1018\",\"type\":\"LinearAxis\"},{\"attributes\":{\"axis\":{\"id\":\"1014\"},\"grid_line_color\":null,\"ticker\":null},\"id\":\"1017\",\"type\":\"Grid\"},{\"attributes\":{},\"id\":\"1015\",\"type\":\"BasicTicker\"},{\"attributes\":{},\"id\":\"1022\",\"type\":\"WheelZoomTool\"},{\"attributes\":{},\"id\":\"1023\",\"type\":\"ResetTool\"},{\"attributes\":{\"active_drag\":\"auto\",\"active_inspect\":\"auto\",\"active_multi\":null,\"active_scroll\":\"auto\",\"active_tap\":\"auto\",\"tools\":[{\"id\":\"1022\"},{\"id\":\"1023\"},{\"id\":\"1024\"},{\"id\":\"1043\"}]},\"id\":\"1025\",\"type\":\"Toolbar\"},{\"attributes\":{\"items\":[{\"id\":\"1042\"}]},\"id\":\"1041\",\"type\":\"Legend\"},{\"attributes\":{\"end_angle\":{\"expr\":{\"id\":\"1030\"},\"units\":\"rad\"},\"fill_alpha\":{\"value\":0.1},\"fill_color\":{\"field\":\"color\"},\"line_alpha\":{\"value\":0.1},\"line_color\":{\"value\":\"white\"},\"radius\":{\"units\":\"data\",\"value\":0.4},\"start_angle\":{\"expr\":{\"id\":\"1029\"},\"units\":\"rad\"},\"x\":{\"value\":0},\"y\":{\"value\":1}},\"id\":\"1033\",\"type\":\"Wedge\"},{\"attributes\":{\"data_source\":{\"id\":\"1002\"},\"glyph\":{\"id\":\"1032\"},\"hover_glyph\":null,\"muted_glyph\":null,\"nonselection_glyph\":{\"id\":\"1033\"},\"selection_glyph\":null,\"view\":{\"id\":\"1035\"}},\"id\":\"1034\",\"type\":\"GlyphRenderer\"},{\"attributes\":{\"source\":{\"id\":\"1002\"}},\"id\":\"1035\",\"type\":\"CDSView\"},{\"attributes\":{},\"id\":\"1037\",\"type\":\"BasicTickFormatter\"},{\"attributes\":{\"fill_alpha\":{\"value\":0.1},\"fill_color\":{\"value\":\"navy\"},\"height\":{\"value\":0.5},\"line_alpha\":{\"value\":0.1},\"line_color\":{\"value\":\"navy\"},\"right\":{\"field\":\"TotalCases\"},\"y\":{\"field\":\"Country\"}},\"id\":\"1073\",\"type\":\"HBar\"},{\"attributes\":{\"toolbar\":{\"id\":\"1180\"},\"toolbar_location\":\"above\"},\"id\":\"1181\",\"type\":\"ToolbarBox\"},{\"attributes\":{},\"id\":\"1152\",\"type\":\"UnionRenderers\"},{\"attributes\":{},\"id\":\"1039\",\"type\":\"BasicTickFormatter\"},{\"attributes\":{\"source\":{\"id\":\"1045\"}},\"id\":\"1076\",\"type\":\"CDSView\"},{\"attributes\":{\"label\":{\"field\":\"Case\"},\"renderers\":[{\"id\":\"1034\"}]},\"id\":\"1042\",\"type\":\"LegendItem\"},{\"attributes\":{\"children\":[[{\"id\":\"1003\"},0,0],[{\"id\":\"1046\"},1,0],[{\"id\":\"1080\"},2,0],[{\"id\":\"1114\"},3,0]]},\"id\":\"1179\",\"type\":\"GridBox\"},{\"attributes\":{},\"id\":\"1153\",\"type\":\"Selection\"},{\"attributes\":{},\"id\":\"1168\",\"type\":\"UnionRenderers\"},{\"attributes\":{\"data_source\":{\"id\":\"1045\"},\"glyph\":{\"id\":\"1072\"},\"hover_glyph\":{\"id\":\"1074\"},\"muted_glyph\":null,\"nonselection_glyph\":{\"id\":\"1073\"},\"selection_glyph\":null,\"view\":{\"id\":\"1076\"}},\"id\":\"1075\",\"type\":\"GlyphRenderer\"},{\"attributes\":{},\"id\":\"1169\",\"type\":\"Selection\"},{\"attributes\":{\"toolbars\":[{\"id\":\"1025\"},{\"id\":\"1067\"},{\"id\":\"1101\"},{\"id\":\"1135\"}],\"tools\":[{\"id\":\"1022\"},{\"id\":\"1023\"},{\"id\":\"1024\"},{\"id\":\"1043\"},{\"id\":\"1064\"},{\"id\":\"1065\"},{\"id\":\"1066\"},{\"id\":\"1077\"},{\"id\":\"1098\"},{\"id\":\"1099\"},{\"id\":\"1100\"},{\"id\":\"1111\"},{\"id\":\"1132\"},{\"id\":\"1133\"},{\"id\":\"1134\"},{\"id\":\"1145\"}]},\"id\":\"1180\",\"type\":\"ProxyToolbar\"},{\"attributes\":{},\"id\":\"1098\",\"type\":\"WheelZoomTool\"},{\"attributes\":{\"data_source\":{\"id\":\"1079\"},\"glyph\":{\"id\":\"1106\"},\"hover_glyph\":{\"id\":\"1108\"},\"muted_glyph\":null,\"nonselection_glyph\":{\"id\":\"1107\"},\"selection_glyph\":null,\"view\":{\"id\":\"1110\"}},\"id\":\"1109\",\"type\":\"GlyphRenderer\"},{\"attributes\":{\"source\":{\"id\":\"1079\"}},\"id\":\"1110\",\"type\":\"CDSView\"},{\"attributes\":{},\"id\":\"1089\",\"type\":\"CategoricalScale\"},{\"attributes\":{\"field\":\"angle\",\"include_zero\":true},\"id\":\"1029\",\"type\":\"CumSum\"},{\"attributes\":{\"factors\":[\"Chile\",\"S. Korea\",\"India\",\"Peru\",\"Mexico\",\"Belgium\",\"Russia\",\"Austria\",\"Ireland\",\"Canada\",\"Switzerland\",\"Brazil\",\"Turkey\",\"France\",\"Iran\",\"Italy\",\"China\",\"Germany\",\"Spain\",\"USA\"]},\"id\":\"1119\",\"type\":\"FactorRange\"},{\"attributes\":{\"fill_alpha\":{\"value\":0.1},\"fill_color\":{\"value\":\"green\"},\"height\":{\"value\":0.5},\"line_alpha\":{\"value\":0.1},\"line_color\":{\"value\":\"green\"},\"right\":{\"field\":\"TotalRecovered\"},\"y\":{\"field\":\"Country\"}},\"id\":\"1141\",\"type\":\"HBar\"},{\"attributes\":{\"formatter\":{\"id\":\"1164\"},\"ticker\":{\"id\":\"1092\"}},\"id\":\"1091\",\"type\":\"LinearAxis\"},{\"attributes\":{\"callback\":null,\"tooltips\":\"\\n    <div>\\n        <h3>@Case</h3>\\n        <h3>Total: @value</h3>\\n    </div>\\n\\n\"},\"id\":\"1043\",\"type\":\"HoverTool\"},{\"attributes\":{},\"id\":\"1100\",\"type\":\"SaveTool\"},{\"attributes\":{},\"id\":\"1156\",\"type\":\"BasicTickFormatter\"},{\"attributes\":{\"fill_color\":{\"value\":\"#FF338A\"},\"height\":{\"value\":0.5},\"line_color\":{\"value\":\"#FF338A\"},\"right\":{\"field\":\"TotalDeaths\"},\"y\":{\"field\":\"Country\"}},\"id\":\"1108\",\"type\":\"HBar\"},{\"attributes\":{\"text\":\"Total COVID19 Recovered cases\"},\"id\":\"1115\",\"type\":\"Title\"},{\"attributes\":{\"fill_color\":{\"value\":\"#33D1FF\"},\"height\":{\"value\":0.5},\"line_color\":{\"value\":\"#33D1FF\"},\"right\":{\"field\":\"TotalRecovered\"},\"y\":{\"field\":\"Country\"}},\"id\":\"1142\",\"type\":\"HBar\"},{\"attributes\":{\"data\":{\"ActiveCases\":{\"__ndarray__\":\"AAAAAAAwvEAAAAAAAMyWQAAAAABAENhAAAAAAADs2EAAAAAAADa3QAAAAABAqdxAAAAAAODm9kAAAAAAAKSeQAAAAAAAardAAAAAAED120AAAAAAAGGxQAAAAADAF+ZAAAAAAACj8EAAAAAA4Mj2QAAAAACAYspAAAAAAPDK+EAAAAAAALiCQAAAAADADuBAAAAAAIDT8kAAAAAA9tEqQQ==\",\"dtype\":\"float64\",\"shape\":[20]},\"Continent\":[\"SouthAmerica\",\"Asia\",\"Asia\",\"SouthAmerica\",\"NorthAmerica\",\"Europe\",\"Europe\",\"Europe\",\"Europe\",\"NorthAmerica\",\"Europe\",\"SouthAmerica\",\"Asia\",\"Europe\",\"Asia\",\"Europe\",\"Asia\",\"Europe\",\"Europe\",\"NorthAmerica\"],\"Country\":[\"Chile\",\"S. Korea\",\"India\",\"Peru\",\"Mexico\",\"Belgium\",\"Russia\",\"Austria\",\"Ireland\",\"Canada\",\"Switzerland\",\"Brazil\",\"Turkey\",\"France\",\"Iran\",\"Italy\",\"China\",\"Germany\",\"Spain\",\"USA\"],\"Critical\":{\"__ndarray__\":\"AAAAAACAeEAAAAAAAIBLQAAAAAAAAAAAAAAAAABYhEAAAAAAAKB3QAAAAAAACIhAAAAAAAD4oUAAAAAAAABgQAAAAAAAwF5AAAAAAABogUAAAAAAAOBkQAAAAAAAP8BAAAAAAACol0AAAAAAAGavQAAAAAAAQKdAAAAAAAB4mkAAAAAAAABDQAAAAAAA3qJAAAAAAADopEAAAAAAAL3NQA==\",\"dtype\":\"float64\",\"shape\":[20]},\"NewCases\":{\"__ndarray__\":\"AAAAAAAAAAAAAAAAAAAAAAAAAAAAAAAAAAAAAAAAAAAAAAAAAESWQAAAAAAAAAAAAAAAAAAAAAAAAAAAAAAAAAAAAAAAAAAAAAAAAAAAAAAAAAAAAAAAAAAAAAAAPJxAAAAAAAAAAAAAAAAAAAAAAAAAAAAAAAAAAAAAAAAAAAAAAAAAAAAoQAAAAAAAAAAAAAAAAAAAAAAAAAAAAAAAAA==\",\"dtype\":\"float64\",\"shape\":[20]},\"NewDeaths\":{\"__ndarray__\":\"AAAAAAAAAAAAAAAAAAAAAAAAAAAAAAAAAAAAAAAAAAAAAAAAAMBfQAAAAAAAAAAAAAAAAAAAAAAAAAAAAAAAAAAAAAAAAAAAAAAAAAAAAAAAAAAAAAAAAAAAAAAAQFpAAAAAAAAAAAAAAAAAAAAAAAAAAAAAAAAAAAAAAAAAAAAAAAAAAAAAAAAAAAAAAAAAAAAAAAAAAAAAAAAAAAAAAA==\",\"dtype\":\"float64\",\"shape\":[20]},\"TotalCases\":{\"__ndarray__\":\"AAAAAIBLz0AAAAAAgAbFQAAAAADgBeFAAAAAAAAO4kAAAAAAAMbSQAAAAADgsOdAAAAAACAA+kAAAAAAAC7OQAAAAAAAIdRAAAAAAID+6UAAAAAAgOTcQAAAAAAwSfVAAAAAAMBY/UAAAAAAUGgEQQAAAAAAG/dAAAAAALgUCUEAAAAAoDv0QAAAAAAI5gNBAAAAALhADUEAAAAAb7UwQQ==\",\"dtype\":\"float64\",\"shape\":[20]},\"TotalDeaths\":{\"__ndarray__\":\"AAAAAABgbEAAAAAAAOBuQAAAAAAACJJAAAAAAABskEAAAAAAAAydQAAAAAAAqr1AAAAAAADEkEAAAAAAAECCQAAAAAAAQJNAAAAAAADgqEAAAAAAACSbQAAAAAAAdrdAAAAAAADMqEAAAAAAAM7XQAAAAAAAjLdAAAAAAMBP20AAAAAAABmyQAAAAAAA37lAAAAAAMD310AAAAAAAC7vQA==\",\"dtype\":\"float64\",\"shape\":[20]},\"TotalRecovered\":{\"__ndarray__\":\"AAAAAADCwEAAAAAAgLHBQAAAAAAAtsFAAAAAAIBSxEAAAAAAgE/GQAAAAAAAnMZAAAAAAICxxkAAAAAAgDXJQAAAAAAAJcpAAAAAAMDr1EAAAAAAANrWQAAAAADgi+FAAAAAAMDe50AAAAAAgCjoQAAAAADwVfJAAAAAAJCK8kAAAAAAoPTyQAAAAADAJv5AAAAAAADYAEEAAAAAIJgCQQ==\",\"dtype\":\"float64\",\"shape\":[20]},\"TotalTests\":{\"__ndarray__\":\"AAAAACgJBkEAAAAA0uoiQQAAAADyVSlBAAAAALBsE0EAAAAAgP/zQAAAAABYDA1BAAAAAGigSkEAAAAAeEwPQQAAAAAQywJBAAAAAGKcKEEAAAAAYD8QQQAAAACAuRRBAAAAACKLL0EAAAAAvBwmQQAAAAD8RhxBAAAAAFEzPkEAAAAAAAAAAAAAAAC2bkNBAAAAAMo0NkEAAADAE2JYQQ==\",\"dtype\":\"float64\",\"shape\":[20]},\"index\":[32,41,22,21,29,19,15,34,28,18,23,17,14,12,16,10,221,13,9,8]},\"selected\":{\"id\":\"1177\"},\"selection_policy\":{\"id\":\"1176\"}},\"id\":\"1113\",\"type\":\"ColumnDataSource\"},{\"attributes\":{},\"id\":\"1134\",\"type\":\"SaveTool\"},{\"attributes\":{\"data\":{\"ActiveCases\":{\"__ndarray__\":\"AAAAAADs2EAAAAAA4Ob2QAAAAABAENhAAAAAAABqt0AAAAAAAGGxQAAAAAAANrdAAAAAAEAX0UAAAAAAAKPwQAAAAABA9dtAAAAAAAC4gkAAAAAA4LvgQAAAAADAF+ZAAAAAAIBiykAAAAAAwA7gQAAAAABAqdxAAAAAAODI9kAAAAAAgNPyQAAAAABQmAFBAAAAAPDK+EAAAAAA9tEqQQ==\",\"dtype\":\"float64\",\"shape\":[20]},\"Continent\":[\"SouthAmerica\",\"Europe\",\"Asia\",\"Europe\",\"Europe\",\"NorthAmerica\",\"Europe\",\"Asia\",\"NorthAmerica\",\"Asia\",\"Europe\",\"SouthAmerica\",\"Asia\",\"Europe\",\"Europe\",\"Europe\",\"Europe\",\"Europe\",\"Europe\",\"NorthAmerica\"],\"Country\":[\"Peru\",\"Russia\",\"India\",\"Ireland\",\"Switzerland\",\"Mexico\",\"Sweden\",\"Turkey\",\"Canada\",\"China\",\"Netherlands\",\"Brazil\",\"Iran\",\"Germany\",\"Belgium\",\"France\",\"Spain\",\"UK\",\"Italy\",\"USA\"],\"Critical\":{\"__ndarray__\":\"AAAAAABYhEAAAAAAAPihQAAAAAAAAAAAAAAAAADAXkAAAAAAAOBkQAAAAAAAoHdAAAAAAACYgEAAAAAAAKiXQAAAAAAAaIFAAAAAAAAAQ0AAAAAAAHiIQAAAAAAAP8BAAAAAAABAp0AAAAAAAN6iQAAAAAAACIhAAAAAAABmr0AAAAAAAOikQAAAAAAAXJhAAAAAAAB4mkAAAAAAAL3NQA==\",\"dtype\":\"float64\",\"shape\":[20]},\"NewCases\":{\"__ndarray__\":\"AAAAAAAAAAAAAAAAAAAAAAAAAAAAAAAAAAAAAAAAAAAAAAAAAAAAAAAAAAAARJZAAAAAAAAAAAAAAAAAAAAAAAAAAAAAAAAAAAAAAAAAKEAAAAAAAAAAAAAAAAAAPJxAAAAAAAAAAAAAAAAAAAAAAAAAAAAAAAAAAAAAAAAAAAAAAAAAAAAAAAAAAAAAAAAAAAAAAAAAAAAAAAAAAAAAAA==\",\"dtype\":\"float64\",\"shape\":[20]},\"NewDeaths\":{\"__ndarray__\":\"AAAAAAAAAAAAAAAAAAAAAAAAAAAAAAAAAAAAAAAAAAAAAAAAAAAAAAAAAAAAwF9AAAAAAAAAAAAAAAAAAAAAAAAAAAAAAAAAAAAAAAAAAAAAAAAAAAAAAAAAAAAAQFpAAAAAAAAAAAAAAAAAAAAAAAAAAAAAAAAAAAAAAAAAAAAAAAAAAAAAAAAAAAAAAAAAAAAAAAAAAAAAAAAAAAAAAA==\",\"dtype\":\"float64\",\"shape\":[20]},\"TotalCases\":{\"__ndarray__\":\"AAAAAAAO4kAAAAAAIAD6QAAAAADgBeFAAAAAAAAh1EAAAAAAgOTcQAAAAAAAxtJAAAAAAACZ1EAAAAAAwFj9QAAAAACA/ulAAAAAAKA79EAAAAAAgDLjQAAAAAAwSfVAAAAAAAAb90AAAAAACOYDQQAAAADgsOdAAAAAAFBoBEEAAAAAuEANQQAAAACo5wRBAAAAALgUCUEAAAAAb7UwQQ==\",\"dtype\":\"float64\",\"shape\":[20]},\"TotalDeaths\":{\"__ndarray__\":\"AAAAAABskEAAAAAAAMSQQAAAAAAACJJAAAAAAABAk0AAAAAAACSbQAAAAAAADJ1AAAAAAAA0pEAAAAAAAMyoQAAAAAAA4KhAAAAAAAAZskAAAAAAALuyQAAAAAAAdrdAAAAAAACMt0AAAAAAAN+5QAAAAAAAqr1AAAAAAADO10AAAAAAwPfXQAAAAADAJNpAAAAAAMBP20AAAAAAAC7vQA==\",\"dtype\":\"float64\",\"shape\":[20]},\"TotalRecovered\":{\"__ndarray__\":\"AAAAAIBSxEAAAAAAgLHGQAAAAAAAtsFAAAAAAAAlykAAAAAAANrWQAAAAACAT8ZAAAAAAABoj0AAAAAAwN7nQAAAAADA69RAAAAAAKD08kAAAAAAAAAAAAAAAADgi+FAAAAAAPBV8kAAAAAAwCb+QAAAAAAAnMZAAAAAAIAo6EAAAAAAANgAQQAAAAAAAAAAAAAAAJCK8kAAAAAAIJgCQQ==\",\"dtype\":\"float64\",\"shape\":[20]},\"TotalTests\":{\"__ndarray__\":\"AAAAALBsE0EAAAAAaKBKQQAAAADyVSlBAAAAABDLAkEAAAAAYD8QQQAAAACA//NAAAAAAMAs/UAAAAAAIosvQQAAAABinChBAAAAAAAAAAAAAAAAANMKQQAAAACAuRRBAAAAAPxGHEEAAAAAtm5DQQAAAABYDA1BAAAAALwcJkEAAAAAyjQ2QQAAAAAihitBAAAAAFEzPkEAAADAE2JYQQ==\",\"dtype\":\"float64\",\"shape\":[20]},\"index\":[21,15,22,28,23,29,27,14,18,221,20,17,16,13,19,12,9,11,10,8]},\"selected\":{\"id\":\"1169\"},\"selection_policy\":{\"id\":\"1168\"}},\"id\":\"1079\",\"type\":\"ColumnDataSource\"},{\"attributes\":{},\"id\":\"1126\",\"type\":\"BasicTicker\"},{\"attributes\":{},\"id\":\"1164\",\"type\":\"BasicTickFormatter\"},{\"attributes\":{\"source\":{\"id\":\"1113\"}},\"id\":\"1144\",\"type\":\"CDSView\"},{\"attributes\":{\"fill_alpha\":{\"value\":0.1},\"fill_color\":{\"value\":\"red\"},\"height\":{\"value\":0.5},\"line_alpha\":{\"value\":0.1},\"line_color\":{\"value\":\"red\"},\"right\":{\"field\":\"TotalDeaths\"},\"y\":{\"field\":\"Country\"}},\"id\":\"1107\",\"type\":\"HBar\"},{\"attributes\":{\"axis\":{\"id\":\"1129\"},\"dimension\":1,\"ticker\":null},\"id\":\"1131\",\"type\":\"Grid\"},{\"attributes\":{\"text\":\"Total COVID19 Deaths\"},\"id\":\"1081\",\"type\":\"Title\"},{\"attributes\":{},\"id\":\"1158\",\"type\":\"CategoricalTickFormatter\"},{\"attributes\":{\"axis\":{\"id\":\"1125\"},\"ticker\":null},\"id\":\"1128\",\"type\":\"Grid\"},{\"attributes\":{\"active_drag\":\"auto\",\"active_inspect\":\"auto\",\"active_multi\":null,\"active_scroll\":\"auto\",\"active_tap\":\"auto\",\"tools\":[{\"id\":\"1098\"},{\"id\":\"1099\"},{\"id\":\"1100\"},{\"id\":\"1111\"}]},\"id\":\"1101\",\"type\":\"Toolbar\"},{\"attributes\":{},\"id\":\"1083\",\"type\":\"DataRange1d\"},{\"attributes\":{\"callback\":null,\"tooltips\":[[\"Country\",\"@Country\"],[\"Total Death\",\"@TotalDeaths\"]]},\"id\":\"1111\",\"type\":\"HoverTool\"},{\"attributes\":{\"fill_color\":{\"value\":\"navy\"},\"height\":{\"value\":0.5},\"line_color\":{\"value\":\"navy\"},\"right\":{\"field\":\"TotalCases\"},\"y\":{\"field\":\"Country\"}},\"id\":\"1072\",\"type\":\"HBar\"},{\"attributes\":{\"formatter\":{\"id\":\"1158\"},\"ticker\":{\"id\":\"1062\"}},\"id\":\"1061\",\"type\":\"CategoricalAxis\"},{\"attributes\":{\"active_drag\":\"auto\",\"active_inspect\":\"auto\",\"active_multi\":null,\"active_scroll\":\"auto\",\"active_tap\":\"auto\",\"tools\":[{\"id\":\"1132\"},{\"id\":\"1133\"},{\"id\":\"1134\"},{\"id\":\"1145\"}]},\"id\":\"1135\",\"type\":\"Toolbar\"},{\"attributes\":{\"field\":\"angle\"},\"id\":\"1030\",\"type\":\"CumSum\"},{\"attributes\":{\"callback\":null,\"tooltips\":[[\"Country\",\"@Country\"],[\"Total\",\"@TotalCases\"]]},\"id\":\"1077\",\"type\":\"HoverTool\"},{\"attributes\":{},\"id\":\"1099\",\"type\":\"ResetTool\"},{\"attributes\":{},\"id\":\"1087\",\"type\":\"LinearScale\"},{\"attributes\":{\"data_source\":{\"id\":\"1113\"},\"glyph\":{\"id\":\"1140\"},\"hover_glyph\":{\"id\":\"1142\"},\"muted_glyph\":null,\"nonselection_glyph\":{\"id\":\"1141\"},\"selection_glyph\":null,\"view\":{\"id\":\"1144\"}},\"id\":\"1143\",\"type\":\"GlyphRenderer\"},{\"attributes\":{},\"id\":\"1123\",\"type\":\"CategoricalScale\"},{\"attributes\":{\"fill_color\":{\"value\":\"green\"},\"height\":{\"value\":0.5},\"line_color\":{\"value\":\"green\"},\"right\":{\"field\":\"TotalRecovered\"},\"y\":{\"field\":\"Country\"}},\"id\":\"1140\",\"type\":\"HBar\"},{\"attributes\":{\"fill_color\":{\"value\":\"red\"},\"height\":{\"value\":0.5},\"line_color\":{\"value\":\"red\"},\"right\":{\"field\":\"TotalDeaths\"},\"y\":{\"field\":\"Country\"}},\"id\":\"1106\",\"type\":\"HBar\"},{\"attributes\":{\"formatter\":{\"id\":\"1156\"},\"ticker\":{\"id\":\"1058\"}},\"id\":\"1057\",\"type\":\"LinearAxis\"},{\"attributes\":{\"data\":{\"ActiveCases\":{\"__ndarray__\":\"AAAAAAD50kAAAAAAAPPVQAAAAABAAtZAAAAAAABhsUAAAAAAQBDYQAAAAAAA7NhAAAAAAOC74EAAAAAAQKncQAAAAABA9dtAAAAAAAC4gkAAAAAAwBfmQAAAAACAYspAAAAAAODm9kAAAAAAAKPwQAAAAADADuBAAAAAAODI9kAAAAAAUJgBQQAAAADwyvhAAAAAAIDT8kAAAAAA9tEqQQ==\",\"dtype\":\"float64\",\"shape\":[20]},\"Continent\":[\"Asia\",\"SouthAmerica\",\"Europe\",\"Europe\",\"Asia\",\"SouthAmerica\",\"Europe\",\"Europe\",\"NorthAmerica\",\"Asia\",\"SouthAmerica\",\"Asia\",\"Europe\",\"Asia\",\"Europe\",\"Europe\",\"Europe\",\"Europe\",\"Europe\",\"NorthAmerica\"],\"Country\":[\"Saudi Arabia\",\"Ecuador\",\"Portugal\",\"Switzerland\",\"India\",\"Peru\",\"Netherlands\",\"Belgium\",\"Canada\",\"China\",\"Brazil\",\"Iran\",\"Russia\",\"Turkey\",\"Germany\",\"France\",\"UK\",\"Italy\",\"Spain\",\"USA\"],\"Critical\":{\"__ndarray__\":\"AAAAAADAXkAAAAAAAEBiQAAAAAAAgGVAAAAAAADgZEAAAAAAAAAAAAAAAAAAWIRAAAAAAAB4iEAAAAAAAAiIQAAAAAAAaIFAAAAAAAAAQ0AAAAAAAD/AQAAAAAAAQKdAAAAAAAD4oUAAAAAAAKiXQAAAAAAA3qJAAAAAAABmr0AAAAAAAFyYQAAAAAAAeJpAAAAAAADopEAAAAAAAL3NQA==\",\"dtype\":\"float64\",\"shape\":[20]},\"NewCases\":{\"__ndarray__\":\"AAAAAAAAAAAAAAAAAAAAAAAAAAAAAAAAAAAAAAAAAAAAAAAAAAAAAAAAAAAAAAAAAAAAAAAAAAAAAAAAAAAAAAAAAAAAAAAAAAAAAAAAKEAAAAAAADycQAAAAAAAAAAAAAAAAAAAAAAAAAAAAAAAAAAAAAAAAAAAAAAAAAAAAAAAAAAAAAAAAAAAAAAAAAAAAAAAAAAAAAAAAAAAAAAAAA==\",\"dtype\":\"float64\",\"shape\":[20]},\"NewDeaths\":{\"__ndarray__\":\"AAAAAAAAAAAAAAAAAAAAAAAAAAAAAAAAAAAAAAAAAAAAAAAAAAAAAAAAAAAAAAAAAAAAAAAAAAAAAAAAAAAAAAAAAAAAAAAAAAAAAAAAAAAAAAAAAEBaQAAAAAAAAAAAAAAAAAAAAAAAAAAAAAAAAAAAAAAAAAAAAAAAAAAAAAAAAAAAAAAAAAAAAAAAAAAAAAAAAAAAAAAAAAAAAAAAAA==\",\"dtype\":\"float64\",\"shape\":[20]},\"TotalCases\":{\"__ndarray__\":\"AAAAAEA41kAAAAAAgFnYQAAAAABAddhAAAAAAIDk3EAAAAAA4AXhQAAAAAAADuJAAAAAAIAy40AAAAAA4LDnQAAAAACA/ulAAAAAAKA79EAAAAAAMEn1QAAAAAAAG/dAAAAAACAA+kAAAAAAwFj9QAAAAAAI5gNBAAAAAFBoBEEAAAAAqOcEQQAAAAC4FAlBAAAAALhADUEAAAAAb7UwQQ==\",\"dtype\":\"float64\",\"shape\":[20]},\"TotalDeaths\":{\"__ndarray__\":\"AAAAAABAZEAAAAAAACCMQAAAAAAA6I5AAAAAAAAkm0AAAAAAAAiSQAAAAAAAbJBAAAAAAAC7skAAAAAAAKq9QAAAAAAA4KhAAAAAAAAZskAAAAAAAHa3QAAAAAAAjLdAAAAAAADEkEAAAAAAAMyoQAAAAAAA37lAAAAAAADO10AAAAAAwCTaQAAAAADAT9tAAAAAAMD310AAAAAAAC7vQA==\",\"dtype\":\"float64\",\"shape\":[20]},\"TotalRecovered\":{\"__ndarray__\":\"AAAAAAC2qEAAAAAAAFiYQAAAAAAAvJdAAAAAAADa1kAAAAAAALbBQAAAAACAUsRAAAAAAAAAAAAAAAAAAJzGQAAAAADA69RAAAAAAKD08kAAAAAA4IvhQAAAAADwVfJAAAAAAICxxkAAAAAAwN7nQAAAAADAJv5AAAAAAIAo6EAAAAAAAAAAAAAAAACQivJAAAAAAADYAEEAAAAAIJgCQQ==\",\"dtype\":\"float64\",\"shape\":[20]},\"TotalTests\":{\"__ndarray__\":\"AAAAAABqCEEAAAAA4NvwQAAAAADsJxhBAAAAAGA/EEEAAAAA8lUpQQAAAACwbBNBAAAAAADTCkEAAAAAWAwNQQAAAABinChBAAAAAAAAAAAAAAAAgLkUQQAAAAD8RhxBAAAAAGigSkEAAAAAIosvQQAAAAC2bkNBAAAAALwcJkEAAAAAIoYrQQAAAABRMz5BAAAAAMo0NkEAAADAE2JYQQ==\",\"dtype\":\"float64\",\"shape\":[20]},\"index\":[26,25,24,23,22,21,20,19,18,221,17,16,15,14,13,12,11,10,9,8]},\"selected\":{\"id\":\"1161\"},\"selection_policy\":{\"id\":\"1160\"}},\"id\":\"1045\",\"type\":\"ColumnDataSource\"},{\"attributes\":{\"axis\":{\"id\":\"1095\"},\"dimension\":1,\"ticker\":null},\"id\":\"1097\",\"type\":\"Grid\"},{\"attributes\":{\"formatter\":{\"id\":\"1174\"},\"ticker\":{\"id\":\"1130\"}},\"id\":\"1129\",\"type\":\"CategoricalAxis\"},{\"attributes\":{},\"id\":\"1092\",\"type\":\"BasicTicker\"},{\"attributes\":{},\"id\":\"1117\",\"type\":\"DataRange1d\"},{\"attributes\":{\"formatter\":{\"id\":\"1172\"},\"ticker\":{\"id\":\"1126\"}},\"id\":\"1125\",\"type\":\"LinearAxis\"},{\"attributes\":{},\"id\":\"1133\",\"type\":\"ResetTool\"},{\"attributes\":{\"axis\":{\"id\":\"1057\"},\"ticker\":null},\"id\":\"1060\",\"type\":\"Grid\"},{\"attributes\":{\"axis\":{\"id\":\"1061\"},\"dimension\":1,\"ticker\":null},\"id\":\"1063\",\"type\":\"Grid\"},{\"attributes\":{},\"id\":\"1064\",\"type\":\"WheelZoomTool\"},{\"attributes\":{},\"id\":\"1049\",\"type\":\"DataRange1d\"},{\"attributes\":{},\"id\":\"1130\",\"type\":\"CategoricalTicker\"},{\"attributes\":{},\"id\":\"1062\",\"type\":\"CategoricalTicker\"},{\"attributes\":{\"below\":[{\"id\":\"1125\"}],\"center\":[{\"id\":\"1128\"},{\"id\":\"1131\"}],\"left\":[{\"id\":\"1129\"}],\"plot_height\":400,\"renderers\":[{\"id\":\"1143\"}],\"title\":{\"id\":\"1115\"},\"toolbar\":{\"id\":\"1135\"},\"toolbar_location\":null,\"x_range\":{\"id\":\"1117\"},\"x_scale\":{\"id\":\"1121\"},\"y_range\":{\"id\":\"1119\"},\"y_scale\":{\"id\":\"1123\"}},\"id\":\"1114\",\"subtype\":\"Figure\",\"type\":\"Plot\"},{\"attributes\":{\"formatter\":{\"id\":\"1166\"},\"ticker\":{\"id\":\"1096\"}},\"id\":\"1095\",\"type\":\"CategoricalAxis\"},{\"attributes\":{\"below\":[{\"id\":\"1014\"}],\"center\":[{\"id\":\"1017\"},{\"id\":\"1021\"},{\"id\":\"1041\"}],\"left\":[{\"id\":\"1018\"}],\"plot_height\":350,\"renderers\":[{\"id\":\"1034\"}],\"title\":{\"id\":\"1004\"},\"toolbar\":{\"id\":\"1025\"},\"toolbar_location\":null,\"x_range\":{\"id\":\"1006\"},\"x_scale\":{\"id\":\"1010\"},\"y_range\":{\"id\":\"1008\"},\"y_scale\":{\"id\":\"1012\"}},\"id\":\"1003\",\"subtype\":\"Figure\",\"type\":\"Plot\"},{\"attributes\":{},\"id\":\"1096\",\"type\":\"CategoricalTicker\"},{\"attributes\":{},\"id\":\"1121\",\"type\":\"LinearScale\"},{\"attributes\":{},\"id\":\"1053\",\"type\":\"LinearScale\"},{\"attributes\":{},\"id\":\"1058\",\"type\":\"BasicTicker\"},{\"attributes\":{\"factors\":[\"Saudi Arabia\",\"Ecuador\",\"Portugal\",\"Switzerland\",\"India\",\"Peru\",\"Netherlands\",\"Belgium\",\"Canada\",\"China\",\"Brazil\",\"Iran\",\"Russia\",\"Turkey\",\"Germany\",\"France\",\"UK\",\"Italy\",\"Spain\",\"USA\"]},\"id\":\"1051\",\"type\":\"FactorRange\"},{\"attributes\":{},\"id\":\"1055\",\"type\":\"CategoricalScale\"},{\"attributes\":{\"axis\":{\"id\":\"1091\"},\"ticker\":null},\"id\":\"1094\",\"type\":\"Grid\"},{\"attributes\":{\"below\":[{\"id\":\"1091\"}],\"center\":[{\"id\":\"1094\"},{\"id\":\"1097\"}],\"left\":[{\"id\":\"1095\"}],\"plot_height\":400,\"renderers\":[{\"id\":\"1109\"}],\"title\":{\"id\":\"1081\"},\"toolbar\":{\"id\":\"1101\"},\"toolbar_location\":null,\"x_range\":{\"id\":\"1083\"},\"x_scale\":{\"id\":\"1087\"},\"y_range\":{\"id\":\"1085\"},\"y_scale\":{\"id\":\"1089\"}},\"id\":\"1080\",\"subtype\":\"Figure\",\"type\":\"Plot\"},{\"attributes\":{},\"id\":\"1132\",\"type\":\"WheelZoomTool\"},{\"attributes\":{\"text\":\"Total COVID19 cases\"},\"id\":\"1047\",\"type\":\"Title\"},{\"attributes\":{\"below\":[{\"id\":\"1057\"}],\"center\":[{\"id\":\"1060\"},{\"id\":\"1063\"}],\"left\":[{\"id\":\"1061\"}],\"plot_height\":400,\"renderers\":[{\"id\":\"1075\"}],\"title\":{\"id\":\"1047\"},\"toolbar\":{\"id\":\"1067\"},\"toolbar_location\":null,\"x_range\":{\"id\":\"1049\"},\"x_scale\":{\"id\":\"1053\"},\"y_range\":{\"id\":\"1051\"},\"y_scale\":{\"id\":\"1055\"}},\"id\":\"1046\",\"subtype\":\"Figure\",\"type\":\"Plot\"},{\"attributes\":{\"factors\":[\"Peru\",\"Russia\",\"India\",\"Ireland\",\"Switzerland\",\"Mexico\",\"Sweden\",\"Turkey\",\"Canada\",\"China\",\"Netherlands\",\"Brazil\",\"Iran\",\"Germany\",\"Belgium\",\"France\",\"Spain\",\"UK\",\"Italy\",\"USA\"]},\"id\":\"1085\",\"type\":\"FactorRange\"},{\"attributes\":{\"end_angle\":{\"expr\":{\"id\":\"1030\"},\"units\":\"rad\"},\"fill_color\":{\"field\":\"color\"},\"line_color\":{\"value\":\"white\"},\"radius\":{\"units\":\"data\",\"value\":0.4},\"start_angle\":{\"expr\":{\"id\":\"1029\"},\"units\":\"rad\"},\"x\":{\"value\":0},\"y\":{\"value\":1}},\"id\":\"1032\",\"type\":\"Wedge\"},{\"attributes\":{},\"id\":\"1065\",\"type\":\"ResetTool\"},{\"attributes\":{},\"id\":\"1066\",\"type\":\"SaveTool\"},{\"attributes\":{\"fill_color\":{\"value\":\"#33D1FF\"},\"height\":{\"value\":0.5},\"line_color\":{\"value\":\"#33D1FF\"},\"right\":{\"field\":\"TotalCases\"},\"y\":{\"field\":\"Country\"}},\"id\":\"1074\",\"type\":\"HBar\"},{\"attributes\":{\"active_drag\":\"auto\",\"active_inspect\":\"auto\",\"active_multi\":null,\"active_scroll\":\"auto\",\"active_tap\":\"auto\",\"tools\":[{\"id\":\"1064\"},{\"id\":\"1065\"},{\"id\":\"1066\"},{\"id\":\"1077\"}]},\"id\":\"1067\",\"type\":\"Toolbar\"}],\"root_ids\":[\"1182\"]},\"title\":\"Bokeh Application\",\"version\":\"2.0.0\"}};\n  var render_items = [{\"docid\":\"4b59ef92-715b-4e55-a9b2-606378a5f1c8\",\"root_ids\":[\"1182\"],\"roots\":{\"1182\":\"cc26debc-6078-4f73-a9da-c2f0bb6b8072\"}}];\n  root.Bokeh.embed.embed_items_notebook(docs_json, render_items);\n\n  }\n  if (root.Bokeh !== undefined) {\n    embed_document(root);\n  } else {\n    var attempts = 0;\n    var timer = setInterval(function(root) {\n      if (root.Bokeh !== undefined) {\n        clearInterval(timer);\n        embed_document(root);\n      } else {\n        attempts++;\n        if (attempts > 100) {\n          clearInterval(timer);\n          console.log(\"Bokeh: ERROR: Unable to run BokehJS code because BokehJS library is missing\");\n        }\n      }\n    }, 10, root)\n  }\n})(window);",
      "application/vnd.bokehjs_exec.v0+json": ""
     },
     "metadata": {
      "application/vnd.bokehjs_exec.v0+json": {
       "id": "1182"
      }
     }
    }
   ],
   "source": [
    "# output_file(\"corona_dashboard.html\")\n",
    "\n",
    "\n",
    "grid = gridplot([  [pie], [tc], [td], [tr]  ])\n",
    "show(grid)"
   ]
  },
  {
   "cell_type": "markdown",
   "metadata": {},
   "source": [
    "# Getting insight to continent data"
   ]
  },
  {
   "cell_type": "code",
   "execution_count": 26,
   "metadata": {},
   "outputs": [
    {
     "output_type": "execute_result",
     "data": {
      "text/plain": "         Country  TotalCases  NewCases  TotalDeaths  NewDeaths  \\\n0  North America   1186679.0    1605.0      69657.0      138.0   \n1         Europe   1373444.0       0.0     135235.0        0.0   \n2           Asia    520063.0      13.0      18610.0        0.0   \n3  South America    178621.0    1807.0       8807.0      105.0   \n4        Oceania      8347.0      15.0        112.0        1.0   \n5         Africa     39785.0       0.0       1638.0        0.0   \n6         Others       721.0       0.0         15.0        0.0   \n\n   TotalRecovered  ActiveCases  Critical  \n0        188999.0     928023.0   16479.0  \n1        503728.0     734481.0   18773.0  \n2        265564.0     235889.0    5726.0  \n3         60095.0     109719.0    9802.0  \n4          7070.0       1165.0      34.0  \n5         13078.0      25069.0     126.0  \n6           645.0         61.0       4.0  ",
      "text/html": "<div>\n<style scoped>\n    .dataframe tbody tr th:only-of-type {\n        vertical-align: middle;\n    }\n\n    .dataframe tbody tr th {\n        vertical-align: top;\n    }\n\n    .dataframe thead th {\n        text-align: right;\n    }\n</style>\n<table border=\"1\" class=\"dataframe\">\n  <thead>\n    <tr style=\"text-align: right;\">\n      <th></th>\n      <th>Country</th>\n      <th>TotalCases</th>\n      <th>NewCases</th>\n      <th>TotalDeaths</th>\n      <th>NewDeaths</th>\n      <th>TotalRecovered</th>\n      <th>ActiveCases</th>\n      <th>Critical</th>\n    </tr>\n  </thead>\n  <tbody>\n    <tr>\n      <th>0</th>\n      <td>North America</td>\n      <td>1186679.0</td>\n      <td>1605.0</td>\n      <td>69657.0</td>\n      <td>138.0</td>\n      <td>188999.0</td>\n      <td>928023.0</td>\n      <td>16479.0</td>\n    </tr>\n    <tr>\n      <th>1</th>\n      <td>Europe</td>\n      <td>1373444.0</td>\n      <td>0.0</td>\n      <td>135235.0</td>\n      <td>0.0</td>\n      <td>503728.0</td>\n      <td>734481.0</td>\n      <td>18773.0</td>\n    </tr>\n    <tr>\n      <th>2</th>\n      <td>Asia</td>\n      <td>520063.0</td>\n      <td>13.0</td>\n      <td>18610.0</td>\n      <td>0.0</td>\n      <td>265564.0</td>\n      <td>235889.0</td>\n      <td>5726.0</td>\n    </tr>\n    <tr>\n      <th>3</th>\n      <td>South America</td>\n      <td>178621.0</td>\n      <td>1807.0</td>\n      <td>8807.0</td>\n      <td>105.0</td>\n      <td>60095.0</td>\n      <td>109719.0</td>\n      <td>9802.0</td>\n    </tr>\n    <tr>\n      <th>4</th>\n      <td>Oceania</td>\n      <td>8347.0</td>\n      <td>15.0</td>\n      <td>112.0</td>\n      <td>1.0</td>\n      <td>7070.0</td>\n      <td>1165.0</td>\n      <td>34.0</td>\n    </tr>\n    <tr>\n      <th>5</th>\n      <td>Africa</td>\n      <td>39785.0</td>\n      <td>0.0</td>\n      <td>1638.0</td>\n      <td>0.0</td>\n      <td>13078.0</td>\n      <td>25069.0</td>\n      <td>126.0</td>\n    </tr>\n    <tr>\n      <th>6</th>\n      <td>Others</td>\n      <td>721.0</td>\n      <td>0.0</td>\n      <td>15.0</td>\n      <td>0.0</td>\n      <td>645.0</td>\n      <td>61.0</td>\n      <td>4.0</td>\n    </tr>\n  </tbody>\n</table>\n</div>"
     },
     "metadata": {},
     "execution_count": 26
    }
   ],
   "source": [
    "continent"
   ]
  },
  {
   "cell_type": "code",
   "execution_count": 28,
   "metadata": {},
   "outputs": [
    {
     "output_type": "display_data",
     "data": {
      "text/html": "\n\n\n\n\n\n  <div class=\"bk-root\" id=\"54e7904b-57fb-4433-8550-e23608bec7bc\" data-root-id=\"1407\"></div>\n"
     },
     "metadata": {}
    },
    {
     "output_type": "display_data",
     "data": {
      "application/javascript": "(function(root) {\n  function embed_document(root) {\n    \n  var docs_json = {\"ea8cc007-13d1-41a7-82ca-614d3c7e69a2\":{\"roots\":{\"references\":[{\"attributes\":{\"below\":[{\"id\":\"1418\"}],\"center\":[{\"id\":\"1420\"},{\"id\":\"1424\"}],\"left\":[{\"id\":\"1421\"}],\"plot_height\":400,\"renderers\":[{\"id\":\"1436\"}],\"title\":{\"id\":\"1408\"},\"toolbar\":{\"id\":\"1428\"},\"x_range\":{\"id\":\"1410\"},\"x_scale\":{\"id\":\"1414\"},\"y_range\":{\"id\":\"1412\"},\"y_scale\":{\"id\":\"1416\"}},\"id\":\"1407\",\"subtype\":\"Figure\",\"type\":\"Plot\"},{\"attributes\":{},\"id\":\"1469\",\"type\":\"CategoricalTickFormatter\"},{\"attributes\":{},\"id\":\"1471\",\"type\":\"BasicTickFormatter\"},{\"attributes\":{\"fill_color\":{\"value\":\"red\"},\"line_color\":{\"value\":\"red\"},\"top\":{\"field\":\"TotalDeaths\"},\"width\":{\"value\":0.7},\"x\":{\"field\":\"Country\"}},\"id\":\"1433\",\"type\":\"VBar\"},{\"attributes\":{\"factors\":[\"North America\",\"Europe\",\"Asia\",\"South America\",\"Oceania\",\"Africa\",\"Others\"]},\"id\":\"1410\",\"type\":\"FactorRange\"},{\"attributes\":{\"formatter\":{\"id\":\"1471\"},\"ticker\":{\"id\":\"1422\"}},\"id\":\"1421\",\"type\":\"LinearAxis\"},{\"attributes\":{},\"id\":\"1473\",\"type\":\"UnionRenderers\"},{\"attributes\":{},\"id\":\"1474\",\"type\":\"Selection\"},{\"attributes\":{\"source\":{\"id\":\"1406\"}},\"id\":\"1437\",\"type\":\"CDSView\"},{\"attributes\":{\"data\":{\"ActiveCases\":{\"__ndarray__\":\"AAAAAC5SLEEAAAAAImomQQAAAACIywxBAAAAAHDJ+kAAAAAAADSSQAAAAABAe9hAAAAAAACATkA=\",\"dtype\":\"float64\",\"shape\":[7]},\"Country\":[\"North America\",\"Europe\",\"Asia\",\"South America\",\"Oceania\",\"Africa\",\"Others\"],\"Critical\":{\"__ndarray__\":\"AAAAAMAX0EAAAAAAQFXSQAAAAAAAXrZAAAAAAAAlw0AAAAAAAABBQAAAAAAAgF9AAAAAAAAAEEA=\",\"dtype\":\"float64\",\"shape\":[7]},\"NewCases\":{\"__ndarray__\":\"AAAAAAAUmUAAAAAAAAAAAAAAAAAAACpAAAAAAAA8nEAAAAAAAAAuQAAAAAAAAAAAAAAAAAAAAAA=\",\"dtype\":\"float64\",\"shape\":[7]},\"NewDeaths\":{\"__ndarray__\":\"AAAAAABAYUAAAAAAAAAAAAAAAAAAAAAAAAAAAABAWkAAAAAAAADwPwAAAAAAAAAAAAAAAAAAAAA=\",\"dtype\":\"float64\",\"shape\":[7]},\"TotalCases\":{\"__ndarray__\":\"AAAAAHcbMkEAAAAABPU0QQAAAAD8vR9BAAAAAOjNBUEAAAAAgE3AQAAAAAAgbeNAAAAAAACIhkA=\",\"dtype\":\"float64\",\"shape\":[7]},\"TotalDeaths\":{\"__ndarray__\":\"AAAAAJAB8UAAAAAAGIIAQQAAAACALNJAAAAAAIAzwUAAAAAAAABcQAAAAAAAmJlAAAAAAAAALkA=\",\"dtype\":\"float64\",\"shape\":[7]},\"TotalRecovered\":{\"__ndarray__\":\"AAAAADgSB0EAAAAAwL4eQQAAAABwNRBBAAAAAOBX7UAAAAAAAJ67QAAAAAAAi8lAAAAAAAAohEA=\",\"dtype\":\"float64\",\"shape\":[7]},\"index\":[0,1,2,3,4,5,6]},\"selected\":{\"id\":\"1474\"},\"selection_policy\":{\"id\":\"1473\"}},\"id\":\"1406\",\"type\":\"ColumnDataSource\"},{\"attributes\":{\"fill_color\":{\"value\":\"#33D1FF\"},\"line_color\":{\"value\":\"#33D1FF\"},\"top\":{\"field\":\"TotalDeaths\"},\"width\":{\"value\":0.7},\"x\":{\"field\":\"Country\"}},\"id\":\"1435\",\"type\":\"VBar\"},{\"attributes\":{\"axis\":{\"id\":\"1418\"},\"ticker\":null},\"id\":\"1420\",\"type\":\"Grid\"},{\"attributes\":{\"data_source\":{\"id\":\"1406\"},\"glyph\":{\"id\":\"1433\"},\"hover_glyph\":{\"id\":\"1435\"},\"muted_glyph\":null,\"nonselection_glyph\":{\"id\":\"1434\"},\"selection_glyph\":null,\"view\":{\"id\":\"1437\"}},\"id\":\"1436\",\"type\":\"GlyphRenderer\"},{\"attributes\":{\"text\":\"Continental Death Case\"},\"id\":\"1408\",\"type\":\"Title\"},{\"attributes\":{\"fill_alpha\":{\"value\":0.1},\"fill_color\":{\"value\":\"red\"},\"line_alpha\":{\"value\":0.1},\"line_color\":{\"value\":\"red\"},\"top\":{\"field\":\"TotalDeaths\"},\"width\":{\"value\":0.7},\"x\":{\"field\":\"Country\"}},\"id\":\"1434\",\"type\":\"VBar\"},{\"attributes\":{},\"id\":\"1416\",\"type\":\"LinearScale\"},{\"attributes\":{\"callback\":null,\"tooltips\":[[\"Country\",\"@Country\"],[\"Total Death\",\"@TotalDeaths\"]]},\"id\":\"1438\",\"type\":\"HoverTool\"},{\"attributes\":{\"axis\":{\"id\":\"1421\"},\"dimension\":1,\"ticker\":null},\"id\":\"1424\",\"type\":\"Grid\"},{\"attributes\":{},\"id\":\"1414\",\"type\":\"CategoricalScale\"},{\"attributes\":{},\"id\":\"1419\",\"type\":\"CategoricalTicker\"},{\"attributes\":{},\"id\":\"1412\",\"type\":\"DataRange1d\"},{\"attributes\":{\"formatter\":{\"id\":\"1469\"},\"ticker\":{\"id\":\"1419\"}},\"id\":\"1418\",\"type\":\"CategoricalAxis\"},{\"attributes\":{},\"id\":\"1425\",\"type\":\"WheelZoomTool\"},{\"attributes\":{},\"id\":\"1426\",\"type\":\"ResetTool\"},{\"attributes\":{},\"id\":\"1422\",\"type\":\"BasicTicker\"},{\"attributes\":{\"active_drag\":\"auto\",\"active_inspect\":\"auto\",\"active_multi\":null,\"active_scroll\":\"auto\",\"active_tap\":\"auto\",\"tools\":[{\"id\":\"1425\"},{\"id\":\"1426\"},{\"id\":\"1427\"},{\"id\":\"1438\"}]},\"id\":\"1428\",\"type\":\"Toolbar\"},{\"attributes\":{},\"id\":\"1427\",\"type\":\"SaveTool\"}],\"root_ids\":[\"1407\"]},\"title\":\"Bokeh Application\",\"version\":\"2.0.0\"}};\n  var render_items = [{\"docid\":\"ea8cc007-13d1-41a7-82ca-614d3c7e69a2\",\"root_ids\":[\"1407\"],\"roots\":{\"1407\":\"54e7904b-57fb-4433-8550-e23608bec7bc\"}}];\n  root.Bokeh.embed.embed_items_notebook(docs_json, render_items);\n\n  }\n  if (root.Bokeh !== undefined) {\n    embed_document(root);\n  } else {\n    var attempts = 0;\n    var timer = setInterval(function(root) {\n      if (root.Bokeh !== undefined) {\n        clearInterval(timer);\n        embed_document(root);\n      } else {\n        attempts++;\n        if (attempts > 100) {\n          clearInterval(timer);\n          console.log(\"Bokeh: ERROR: Unable to run BokehJS code because BokehJS library is missing\");\n        }\n      }\n    }, 10, root)\n  }\n})(window);",
      "application/vnd.bokehjs_exec.v0+json": ""
     },
     "metadata": {
      "application/vnd.bokehjs_exec.v0+json": {
       "id": "1407"
      }
     }
    }
   ],
   "source": [
    "# con_data = continent[['Country', 'TotalCases', 'TotalDeaths', 'TotalRecovered']]\n",
    "\n",
    "\n",
    "# Plot Axis\n",
    "source = ColumnDataSource(continent)\n",
    "x_tr = continent['Country']\n",
    "\n",
    "# setting plot; y_range is used for x_tc because the data is categorical data\n",
    "tcd = figure(x_range=x_tr, \n",
    "            title=\"Continental Death Case\",\n",
    "            tools=tools,\n",
    "            plot_width=width, \n",
    "            plot_height=heigth)\n",
    "\n",
    "tcd.vbar(x=\"Country\", \n",
    "        top=\"TotalDeaths\",\n",
    "        width=0.70, \n",
    "    \n",
    "        color=\"red\",\n",
    "        hover_color=skye,\n",
    "        source=source)\n",
    "\n",
    "hover = HoverTool(\n",
    "        tooltips=[\n",
    "            (\"Country\", '@Country'),\n",
    "            (\"Total Death\", \"@TotalDeaths\")\n",
    "        ]\n",
    ")\n",
    "\n",
    "\n",
    "tcd.add_tools(hover)\n",
    "\n",
    "show(tcd)"
   ]
  },
  {
   "cell_type": "code",
   "execution_count": null,
   "metadata": {},
   "outputs": [],
   "source": []
  }
 ],
 "metadata": {
  "file_extension": ".py",
  "kernelspec": {
   "display_name": "Python 3",
   "language": "python",
   "name": "python3"
  },
  "language_info": {
   "codemirror_mode": {
    "name": "ipython",
    "version": 3
   },
   "file_extension": ".py",
   "mimetype": "text/x-python",
   "name": "python",
   "nbconvert_exporter": "python",
   "pygments_lexer": "ipython3",
   "version": "3.8.0-final"
  },
  "mimetype": "text/x-python",
  "name": "python",
  "npconvert_exporter": "python",
  "pygments_lexer": "ipython3",
  "version": 3
 },
 "nbformat": 4,
 "nbformat_minor": 2
}