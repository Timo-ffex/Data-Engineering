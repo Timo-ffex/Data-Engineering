{
 "cells": [
  {
   "cell_type": "code",
   "execution_count": 1,
   "metadata": {},
   "outputs": [],
   "source": [
    "import os\n",
    "import glob\n",
    "import pandas as pd\n",
    "\n",
    "filepath = r\"C:\\DiT\\Iffexibility\\CS\\Data Engineer\\data\\log\"\n",
    "\n",
    "all_files = []\n",
    "for root, dirs, files in os.walk(filepath):\n",
    "    files = glob.glob(os.path.join(root,'*.json'))\n",
    "    for f in files :\n",
    "        all_files.append(os.path.abspath(f))"
   ]
  },
  {
   "cell_type": "code",
   "execution_count": 2,
   "metadata": {},
   "outputs": [
    {
     "output_type": "stream",
     "name": "stdout",
     "text": "(15, 18)\n(171, 18)\n(111, 18)\n(189, 18)\n"
    }
   ],
   "source": [
    "dfs = []\n",
    "for what in all_files:\n",
    "    a = pd.read_json(what, lines=True)\n",
    "    print(a.shape)\n",
    "    dfs.append(a)\n",
    "\n",
    "df = pd.concat(dfs, ignore_index=True)"
   ]
  },
  {
   "cell_type": "code",
   "execution_count": 3,
   "metadata": {},
   "outputs": [
    {
     "output_type": "execute_result",
     "data": {
      "text/plain": "(486, 18)"
     },
     "metadata": {},
     "execution_count": 3
    }
   ],
   "source": [
    "df.shape"
   ]
  }
 ],
 "metadata": {
  "language_info": {
   "codemirror_mode": {
    "name": "ipython",
    "version": 3
   },
   "file_extension": ".py",
   "mimetype": "text/x-python",
   "name": "python",
   "nbconvert_exporter": "python",
   "pygments_lexer": "ipython3",
   "version": "3.8.0-final"
  },
  "orig_nbformat": 2,
  "kernelspec": {
   "name": "python38032bita0cb2758c4cf4616b658b6b84a2a459a",
   "display_name": "Python 3.8.0 32-bit"
  }
 },
 "nbformat": 4,
 "nbformat_minor": 2
}