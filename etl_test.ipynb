{
 "cells": [
  {
   "cell_type": "markdown",
   "metadata": {},
   "source": [
    "# `Import Necessary Library`"
   ]
  },
  {
   "cell_type": "code",
   "execution_count": 6,
   "metadata": {},
   "outputs": [],
   "source": [
    "import os\n",
    "import glob\n",
    "import boto3, s3fs\n",
    "from io import StringIO\n",
    "import pandas as pd\n",
    "from datetime import datetime\n",
    "from pprint import pprint as pp\n",
    "\n",
    "# s3 = boto3.client('s3')\n",
    "s3 = boto3.resource('s3')\n",
    "bucket_url = 's3://covid19-lake'\n",
    "bucket_name = \"covid19-lake\"\n",
    "folder = \"rearc-covid-19-world-cases-deaths-testing/\"\n",
    "\n",
    "def save_to_s3(bucket, df, name):\n",
    "    csv_buffer = StringIO()\n",
    "    df.to_csv(csv_buffer)\n",
    "    s3_resource = boto3.resource('s3')\n",
    "    s3_resource.Object(bucket, name  + '.csv').put(Body=csv_buffer.getvalue())\n",
    "\n"
   ]
  },
  {
   "source": [
    "# Get all Files in bucket"
   ],
   "cell_type": "markdown",
   "metadata": {}
  },
  {
   "cell_type": "code",
   "execution_count": null,
   "metadata": {},
   "outputs": [],
   "source": [
    "s3 = boto3.resource('s3')\n",
    "bucket = s3.Bucket('covid19-lake')\n",
    "\n",
    "\n",
    "for obj in bucket.objects.all():\n",
    "    key = obj.key\n",
    "    # body = obj.get()['Body'].read()\n",
    "    print(key)\n"
   ]
  },
  {
   "source": [
    "# Load dataset to Pandas\n",
    "\n",
    "Pass in the file s3 url and load the according to file type"
   ],
   "cell_type": "markdown",
   "metadata": {}
  },
  {
   "cell_type": "code",
   "execution_count": 9,
   "metadata": {},
   "outputs": [
    {
     "output_type": "stream",
     "name": "stdout",
     "text": [
      "s3://covid19-lake/rearc-covid-19-world-cases-deaths-testing/csv/covid-19-world-cases-deaths-testing.csv\n"
     ]
    }
   ],
   "source": [
    "path = bucket_url + '/' + folder + 'csv/covid-19-world-cases-deaths-testing.csv'\n",
    "print(path)\n",
    "df = pd.read_csv(path)"
   ]
  },
  {
   "cell_type": "code",
   "execution_count": 11,
   "metadata": {},
   "outputs": [
    {
     "output_type": "execute_result",
     "data": {
      "text/plain": [
       "  iso_code continent     location        date  total_cases  new_cases  \\\n",
       "0      AFG      Asia  Afghanistan  2020-01-23          NaN        0.0   \n",
       "1      AFG      Asia  Afghanistan  2020-01-24          NaN        0.0   \n",
       "2      AFG      Asia  Afghanistan  2020-01-25          NaN        0.0   \n",
       "3      AFG      Asia  Afghanistan  2020-01-26          NaN        0.0   \n",
       "4      AFG      Asia  Afghanistan  2020-01-27          NaN        0.0   \n",
       "\n",
       "   new_cases_smoothed  total_deaths  new_deaths  new_deaths_smoothed  ...  \\\n",
       "0                 NaN           NaN         0.0                  NaN  ...   \n",
       "1                 NaN           NaN         0.0                  NaN  ...   \n",
       "2                 NaN           NaN         0.0                  NaN  ...   \n",
       "3                 NaN           NaN         0.0                  NaN  ...   \n",
       "4                 NaN           NaN         0.0                  NaN  ...   \n",
       "\n",
       "   gdp_per_capita  extreme_poverty  cardiovasc_death_rate  \\\n",
       "0        1803.987              NaN                597.029   \n",
       "1        1803.987              NaN                597.029   \n",
       "2        1803.987              NaN                597.029   \n",
       "3        1803.987              NaN                597.029   \n",
       "4        1803.987              NaN                597.029   \n",
       "\n",
       "   diabetes_prevalence  female_smokers  male_smokers  handwashing_facilities  \\\n",
       "0                 9.59             NaN           NaN                  37.746   \n",
       "1                 9.59             NaN           NaN                  37.746   \n",
       "2                 9.59             NaN           NaN                  37.746   \n",
       "3                 9.59             NaN           NaN                  37.746   \n",
       "4                 9.59             NaN           NaN                  37.746   \n",
       "\n",
       "   hospital_beds_per_thousand  life_expectancy  human_development_index  \n",
       "0                         0.5            64.83                    0.498  \n",
       "1                         0.5            64.83                    0.498  \n",
       "2                         0.5            64.83                    0.498  \n",
       "3                         0.5            64.83                    0.498  \n",
       "4                         0.5            64.83                    0.498  \n",
       "\n",
       "[5 rows x 50 columns]"
      ],
      "text/html": "<div>\n<style scoped>\n    .dataframe tbody tr th:only-of-type {\n        vertical-align: middle;\n    }\n\n    .dataframe tbody tr th {\n        vertical-align: top;\n    }\n\n    .dataframe thead th {\n        text-align: right;\n    }\n</style>\n<table border=\"1\" class=\"dataframe\">\n  <thead>\n    <tr style=\"text-align: right;\">\n      <th></th>\n      <th>iso_code</th>\n      <th>continent</th>\n      <th>location</th>\n      <th>date</th>\n      <th>total_cases</th>\n      <th>new_cases</th>\n      <th>new_cases_smoothed</th>\n      <th>total_deaths</th>\n      <th>new_deaths</th>\n      <th>new_deaths_smoothed</th>\n      <th>...</th>\n      <th>gdp_per_capita</th>\n      <th>extreme_poverty</th>\n      <th>cardiovasc_death_rate</th>\n      <th>diabetes_prevalence</th>\n      <th>female_smokers</th>\n      <th>male_smokers</th>\n      <th>handwashing_facilities</th>\n      <th>hospital_beds_per_thousand</th>\n      <th>life_expectancy</th>\n      <th>human_development_index</th>\n    </tr>\n  </thead>\n  <tbody>\n    <tr>\n      <th>0</th>\n      <td>AFG</td>\n      <td>Asia</td>\n      <td>Afghanistan</td>\n      <td>2020-01-23</td>\n      <td>NaN</td>\n      <td>0.0</td>\n      <td>NaN</td>\n      <td>NaN</td>\n      <td>0.0</td>\n      <td>NaN</td>\n      <td>...</td>\n      <td>1803.987</td>\n      <td>NaN</td>\n      <td>597.029</td>\n      <td>9.59</td>\n      <td>NaN</td>\n      <td>NaN</td>\n      <td>37.746</td>\n      <td>0.5</td>\n      <td>64.83</td>\n      <td>0.498</td>\n    </tr>\n    <tr>\n      <th>1</th>\n      <td>AFG</td>\n      <td>Asia</td>\n      <td>Afghanistan</td>\n      <td>2020-01-24</td>\n      <td>NaN</td>\n      <td>0.0</td>\n      <td>NaN</td>\n      <td>NaN</td>\n      <td>0.0</td>\n      <td>NaN</td>\n      <td>...</td>\n      <td>1803.987</td>\n      <td>NaN</td>\n      <td>597.029</td>\n      <td>9.59</td>\n      <td>NaN</td>\n      <td>NaN</td>\n      <td>37.746</td>\n      <td>0.5</td>\n      <td>64.83</td>\n      <td>0.498</td>\n    </tr>\n    <tr>\n      <th>2</th>\n      <td>AFG</td>\n      <td>Asia</td>\n      <td>Afghanistan</td>\n      <td>2020-01-25</td>\n      <td>NaN</td>\n      <td>0.0</td>\n      <td>NaN</td>\n      <td>NaN</td>\n      <td>0.0</td>\n      <td>NaN</td>\n      <td>...</td>\n      <td>1803.987</td>\n      <td>NaN</td>\n      <td>597.029</td>\n      <td>9.59</td>\n      <td>NaN</td>\n      <td>NaN</td>\n      <td>37.746</td>\n      <td>0.5</td>\n      <td>64.83</td>\n      <td>0.498</td>\n    </tr>\n    <tr>\n      <th>3</th>\n      <td>AFG</td>\n      <td>Asia</td>\n      <td>Afghanistan</td>\n      <td>2020-01-26</td>\n      <td>NaN</td>\n      <td>0.0</td>\n      <td>NaN</td>\n      <td>NaN</td>\n      <td>0.0</td>\n      <td>NaN</td>\n      <td>...</td>\n      <td>1803.987</td>\n      <td>NaN</td>\n      <td>597.029</td>\n      <td>9.59</td>\n      <td>NaN</td>\n      <td>NaN</td>\n      <td>37.746</td>\n      <td>0.5</td>\n      <td>64.83</td>\n      <td>0.498</td>\n    </tr>\n    <tr>\n      <th>4</th>\n      <td>AFG</td>\n      <td>Asia</td>\n      <td>Afghanistan</td>\n      <td>2020-01-27</td>\n      <td>NaN</td>\n      <td>0.0</td>\n      <td>NaN</td>\n      <td>NaN</td>\n      <td>0.0</td>\n      <td>NaN</td>\n      <td>...</td>\n      <td>1803.987</td>\n      <td>NaN</td>\n      <td>597.029</td>\n      <td>9.59</td>\n      <td>NaN</td>\n      <td>NaN</td>\n      <td>37.746</td>\n      <td>0.5</td>\n      <td>64.83</td>\n      <td>0.498</td>\n    </tr>\n  </tbody>\n</table>\n<p>5 rows × 50 columns</p>\n</div>"
     },
     "metadata": {},
     "execution_count": 11
    }
   ],
   "source": [
    "df.head()"
   ]
  },
  {
   "cell_type": "code",
   "execution_count": 12,
   "metadata": {},
   "outputs": [
    {
     "output_type": "stream",
     "name": "stdout",
     "text": [
      "<class 'pandas.core.frame.DataFrame'>\nRangeIndex: 59921 entries, 0 to 59920\nData columns (total 50 columns):\n #   Column                              Non-Null Count  Dtype  \n---  ------                              --------------  -----  \n 0   iso_code                            59608 non-null  object \n 1   continent                           59294 non-null  object \n 2   location                            59921 non-null  object \n 3   date                                59921 non-null  object \n 4   total_cases                         51168 non-null  float64\n 5   new_cases                           59784 non-null  float64\n 6   new_cases_smoothed                  58828 non-null  float64\n 7   total_deaths                        43356 non-null  float64\n 8   new_deaths                          59784 non-null  float64\n 9   new_deaths_smoothed                 58828 non-null  float64\n 10  total_cases_per_million             50870 non-null  float64\n 11  new_cases_per_million               59471 non-null  float64\n 12  new_cases_smoothed_per_million      58520 non-null  float64\n 13  total_deaths_per_million            43071 non-null  float64\n 14  new_deaths_per_million              59471 non-null  float64\n 15  new_deaths_smoothed_per_million     58520 non-null  float64\n 16  reproduction_rate                   39997 non-null  float64\n 17  icu_patients                        4747 non-null   float64\n 18  icu_patients_per_million            4747 non-null   float64\n 19  hosp_patients                       5421 non-null   float64\n 20  hosp_patients_per_million           5421 non-null   float64\n 21  weekly_icu_admissions               444 non-null    float64\n 22  weekly_icu_admissions_per_million   444 non-null    float64\n 23  weekly_hosp_admissions              731 non-null    float64\n 24  weekly_hosp_admissions_per_million  731 non-null    float64\n 25  total_tests                         23722 non-null  float64\n 26  new_tests                           23563 non-null  float64\n 27  total_tests_per_thousand            23722 non-null  float64\n 28  new_tests_per_thousand              23563 non-null  float64\n 29  new_tests_smoothed                  26274 non-null  float64\n 30  new_tests_smoothed_per_thousand     26274 non-null  float64\n 31  positive_rate                       25025 non-null  float64\n 32  tests_per_case                      24434 non-null  float64\n 33  tests_units                         27263 non-null  object \n 34  stringency_index                    52594 non-null  float64\n 35  population                          59608 non-null  float64\n 36  population_density                  58036 non-null  float64\n 37  median_age                          56791 non-null  float64\n 38  aged_65_older                       55845 non-null  float64\n 39  aged_70_older                       56478 non-null  float64\n 40  gdp_per_capita                      56784 non-null  float64\n 41  extreme_poverty                     38868 non-null  float64\n 42  cardiovasc_death_rate               57347 non-null  float64\n 43  diabetes_prevalence                 58036 non-null  float64\n 44  female_smokers                      44507 non-null  float64\n 45  male_smokers                        43881 non-null  float64\n 46  handwashing_facilities              29781 non-null  float64\n 47  hospital_beds_per_thousand          52330 non-null  float64\n 48  life_expectancy                     59295 non-null  float64\n 49  human_development_index             57096 non-null  float64\ndtypes: float64(45), object(5)\nmemory usage: 22.9+ MB\n"
     ]
    }
   ],
   "source": [
    "df.info()"
   ]
  },
  {
   "cell_type": "code",
   "execution_count": null,
   "metadata": {},
   "outputs": [],
   "source": []
  }
 ],
 "metadata": {
  "language_info": {
   "codemirror_mode": {
    "name": "ipython",
    "version": 3
   },
   "file_extension": ".py",
   "mimetype": "text/x-python",
   "name": "python",
   "nbconvert_exporter": "python",
   "pygments_lexer": "ipython3",
   "version": "3.8.5-final"
  },
  "orig_nbformat": 2,
  "kernelspec": {
   "name": "python38264bit9fbe9b757a6b42fba3541d6d861fafbd",
   "display_name": "Python 3.8.2 64-bit"
  }
 },
 "nbformat": 4,
 "nbformat_minor": 2
}