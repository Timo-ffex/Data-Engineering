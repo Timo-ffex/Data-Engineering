{
 "cells": [
  {
   "cell_type": "code",
   "execution_count": 1,
   "metadata": {},
   "outputs": [],
   "source": [
    "import pandas as pd\n",
    "import numpy as np\n",
    "import re\n",
    "\n",
    "df = pd.read_csv(\"glassdoor_jobs.csv\")\n",
    "df.drop(columns=\"Unnamed: 0\", inplace=True)"
   ]
  },
  {
   "cell_type": "markdown",
   "metadata": {},
   "source": [
    "## Cleaning steps\n",
    "* Salary parsing\n",
    "* Company name text only\n",
    "* State field\n",
    "* Age of company\n",
    "* Parsing of job description (python, etc.)\n",
    "\n",
    "\n"
   ]
  },
  {
   "cell_type": "markdown",
   "metadata": {},
   "source": [
    "## Salary parsing"
   ]
  },
  {
   "cell_type": "code",
   "execution_count": 2,
   "metadata": {},
   "outputs": [],
   "source": [
    "# Filtering out \"-1\" in salary est field\n",
    "df = df[df[\"Salary Estimate\"] != \"-1\"]\n",
    "\n",
    "salary = df[\"Salary Estimate\"].apply(lambda x: x.split(\"(\")[0])\n"
   ]
  },
  {
   "cell_type": "code",
   "execution_count": 3,
   "metadata": {},
   "outputs": [],
   "source": [
    "# Creating a check column for 'per hour' and 'employer provided salary' in the salary column\n",
    "df[\"hourly\"] = df[\"Salary Estimate\"].apply(lambda x: 1 if \"per hour\" in x.lower() else 0)\n",
    "df[\"employer_provided\"] = df[\"Salary Estimate\"].apply(lambda x: 1 if \"employer provided salary\" in x.lower() else 0)"
   ]
  },
  {
   "cell_type": "code",
   "execution_count": 4,
   "metadata": {},
   "outputs": [],
   "source": [
    "# Using regex to remove K, $, Per hour and employer provided salary at once\n",
    "salary_num = salary.apply(lambda x: re.sub(r\"[^-0-9\\.]\",\"\", x))"
   ]
  },
  {
   "cell_type": "code",
   "execution_count": 5,
   "metadata": {},
   "outputs": [],
   "source": [
    "# Creating a column for min, max ansd avg salary for the cleaned salary\n",
    "df[\"min_salary\"] = salary_num.apply(lambda x: int(x.split(\"-\")[0]))\n",
    "df[\"max_salary\"] = salary_num.apply(lambda x: int(x.split(\"-\")[1]))\n",
    "df[\"avg_salary\"] = (df[\"min_salary\"] + df[\"max_salary\"])/2"
   ]
  },
  {
   "cell_type": "code",
   "execution_count": 6,
   "metadata": {},
   "outputs": [],
   "source": [
    "# df.head()"
   ]
  },
  {
   "cell_type": "markdown",
   "metadata": {},
   "source": [
    "## Company name text only\n",
    "* I removed the rating in the Company name"
   ]
  },
  {
   "cell_type": "code",
   "execution_count": 7,
   "metadata": {},
   "outputs": [],
   "source": [
    "df[\"Company Name\"] = df.apply(lambda x: x[\"Company Name\"] if x[\"Rating\"] <0  else x[\"Company Name\"][:-4], axis=1)"
   ]
  },
  {
   "cell_type": "markdown",
   "metadata": {},
   "source": [
    "## State field and Company's Age\n"
   ]
  },
  {
   "cell_type": "code",
   "execution_count": 8,
   "metadata": {},
   "outputs": [],
   "source": [
    "df[\"job_state\"] = df[\"Location\"].apply(lambda x: x.split(\",\")[1] )\n",
    "\n",
    "# After doing the above, I noticed there is Los Angeles in the job_state, below handled the error\n",
    "df[\"job_state\"] = df.job_state.apply(lambda x: x.strip() if x.strip().lower( ) != \"los angeles\" else \"CA\")\n",
    "\n",
    "# Check if the job location is same as headquarter\n",
    "df[\"is_headquarter\"] = df.apply(lambda x: 1 if x[\"Headquarters\"]  == x[\"Location\"] else 0, axis=1 )\n",
    "\n",
    "# calculating company's age\n",
    "df[\"age\"] = df[\"Founded\"].apply(lambda x: x if x<1 else (2020-x) )"
   ]
  },
  {
   "cell_type": "markdown",
   "metadata": {},
   "source": [
    "## Parsing of job description (python, etc.)"
   ]
  },
  {
   "cell_type": "code",
   "execution_count": 9,
   "metadata": {},
   "outputs": [
    {
     "output_type": "stream",
     "name": "stdout",
     "text": "What You Will Do:\n\nI. General Summary\n\nThe Healthcare Data Scientist position will join our Advanced Analytics group at the University of Maryland Medical System (UMMS) in support of its strategic priority to become a data-driven and outcomes-oriented organization. The successful candidate will have 3+ years of experience with Machine Learning, Predictive Modeling, Statistical Analysis, Mathematical Optimization, Algorithm Development and a passion for working with healthcare data. Previous experience with various computational approaches along with an ability to demonstrate a portfolio of relevant prior projects is essential. This position will report to the UMMS Vice President for Enterprise Data and Analytics (ED&A).\n\nII. Principal Responsibilities and Tasks\n\n• Develops predictive and prescriptive analytic models in support of the organization’s clinical, operations and business initiatives and priorities.\n• Deploys solutions so that they provide actionable insights to the organization and are embedded or integrated with application systems\n• Supports and drives analytic efforts designed around organization’s strategic priorities and clinical/business problems\n• Works in a team to drive disruptive innovation, which may translate into improved quality of care, clinical outcomes, reduced costs, temporal efficiencies and process improvements.\n• Builds and extends our analytics portfolio supported by robust documentation\n• Works with autonomy to find solutions to complex problems using open source tools and in-house development\n• Stays abreast of state-of-the-art literature in the fields of operations research, statistical modeling, statistical process control and mathematical optimization\n• Creates, communicates, and manages the project plans and other required project documentation and provides updates to leadership as necessary\n• Develops and maintains relationships with business, IT and clinical leaders and stakeholders across the enterprise to facilitate collaboration and effective communication\n• Works with the analytics team and clinical/business stakeholders to develop pilots so that they may be tested and validated in pilot settings\n• Performs analysis to evaluate primary and secondary objectives from such pilots\n• Assists leadership with strategies for scaling successful projects across the organization and enhances the analytics applications based on feedback from end-users and clinical/business consumers\n• Assists leadership with dissemination of success stories (and failures) in an effort to increase analytics literacy and adoption across the organization.\n\nWhat You Need to Be Successful:\n\nIII. Education and Experience\n\n• Master’s or higher degree (may be substituted by relevant work experience) in applied mathematics, physics, computer science, engineering, statistics or a related field\n• 3+ years of Mathematical Optimization, Machine Learning, Predictive Analytics and Algorithm Development experience (experience with tools such as WEKA, RapidMiner, R. Python or other open source tools strongly desired)\n• Strong development skills in two or more of the following: C/C++, C#, Python, Java\n• Combining analytic methods with advanced data visualizations\n• Expert ability to breakdown and clearly define problems\n• Experience with Natural Language Processing preferred\n\nIV. Knowledge, Skills and Abilities\n\n• Proven communications skills – Effective at working independently and in collaboration with other staff members. Capable of clearly presenting findings orally, in writing, or through graphics.\n• Proven analytical skills – Able to compare, contrast, and validate work with keen attention to detail. Skilled in working with “real world” data including scrubbing, transformation, and imputation.\n• Proven problem solving skills – Able to plan work, set clear direction, and coordinate own tasks in a fast-paced multidisciplinary environment. Expert at triaging issues, identifying data anomalies, and debugging software.\n• Design and prototype new application functionality for our products.\n• Change oriented – actively generates process improvements; supports and drives change, and confronts difficult circumstances in creative ways\n• Effective communicator and change agent\n• Ability to prioritize the tasks of the project timeline to achieve the desired results\n• Strong analytic and problem solving skills\n• Ability to cooperatively and effectively work with people from various organization levels\n\nWe are an Equal Opportunity Employer and do not discriminate against any employee or applicant for employment because of race, color, sex, age, national origin, religion, sexual orientation, gender identity, status as a veteran, and basis of disability or any other federal, state or local protected class.\n"
    }
   ],
   "source": [
    "# Check what the job description looks like\n",
    "print(df[\"Job Description\"][1])"
   ]
  },
  {
   "cell_type": "code",
   "execution_count": 10,
   "metadata": {},
   "outputs": [],
   "source": [
    "df[\"python\"] = df[\"Job Description\"].apply(lambda x: 1 if \"python\" in x.lower() else 0)\n",
    "df[\"sql\"] = df[\"Job Description\"].apply(lambda x: 1 if \"sql\" in x.lower() else 0)\n",
    "df[\"spark\"] = df[\"Job Description\"].apply(lambda x: 1 if \"spark\" in x.lower() else 0)\n",
    "df[\"aws\"] = df[\"Job Description\"].apply(lambda x: 1 if \"aws\" in x.lower() else 0)\n",
    "df[\"gcp\"] = df[\"Job Description\"].apply(lambda x: 1 if \"gcp\" in x.lower() else 0)\n",
    "df[\"azure\"] = df[\"Job Description\"].apply(lambda x: 1 if \"azure\" in x.lower() else 0)\n",
    "df[\"java\"] = df[\"Job Description\"].apply(lambda x: 1 if \"java\" in x.lower() else 0)\n",
    "df[\"tableau\"] = df[\"Job Description\"].apply(lambda x: 1 if \"tableau\" in x.lower() else 0)\n",
    "df[\"powerbi\"] = df[\"Job Description\"].apply(lambda x: 1 if \"power bi\" in x.lower() else 0)\n",
    "df[\"excel\"] = df[\"Job Description\"].apply(lambda x: 1 if \"excel\" in x.lower() else 0)"
   ]
  },
  {
   "cell_type": "code",
   "execution_count": 11,
   "metadata": {},
   "outputs": [],
   "source": [
    "# Getting job specifics using keyword\n",
    "def job_spec(x):\n",
    "    x = x.lower()\n",
    "    job = [\"data scientist\", \"data engineer\", \"data analyst\", \"ml\", \"machine learning\", \"data modeler\", \"manager\", \"director\"]\n",
    "\n",
    "    if job[3] in x:\n",
    "        return job[4]\n",
    "    if job[4] in x:\n",
    "        return job[4]\n",
    "    if job[0] in x:\n",
    "        return job[0]\n",
    "    if job[1]  in x:\n",
    "        return job[1]  \n",
    "    if job[2] in x:\n",
    "        return job[2]\n",
    "    if job[5] in x:\n",
    "        return job[1]\n",
    "    if job[6] in x:\n",
    "        return job[6]\n",
    "    if job[7] in x:\n",
    "        return job[7]    \n",
    "\n",
    "    return 'n'\n",
    "\n",
    "# Getting the seniority in job title\n",
    "def seniority(title):\n",
    "    if 'sr' in title.lower() or \"senior\" in title.lower() or 'lead' in title.lower() or 'principle' in title.lower():\n",
    "        return 'senior'\n",
    "    elif 'jr' in title.lower() or \"junior\" in title.lower():\n",
    "        return 'junior'\n",
    "    return 'na'\n"
   ]
  },
  {
   "cell_type": "code",
   "execution_count": 12,
   "metadata": {},
   "outputs": [
    {
     "output_type": "execute_result",
     "data": {
      "text/plain": "data scientist      269\nn                   180\ndata engineer       124\ndata analyst         99\nmachine learning     34\nmanager              22\ndirector             14\nName: job_spec, dtype: int64"
     },
     "metadata": {},
     "execution_count": 12
    }
   ],
   "source": [
    "df[\"job_spec\"] = df[\"Job Title\"].apply(job_spec)\n",
    "df.job_spec.value_counts()"
   ]
  },
  {
   "cell_type": "code",
   "execution_count": 13,
   "metadata": {},
   "outputs": [
    {
     "output_type": "execute_result",
     "data": {
      "text/plain": "na        544\nsenior    195\njunior      3\nName: seniority, dtype: int64"
     },
     "metadata": {},
     "execution_count": 13
    }
   ],
   "source": [
    "df[\"seniority\"] = df[\"Job Title\"].apply(seniority)\n",
    "df.seniority.value_counts()"
   ]
  },
  {
   "cell_type": "code",
   "execution_count": 14,
   "metadata": {},
   "outputs": [],
   "source": [
    "df[\"min_salary\"] = df.apply(lambda x: x.min_salary*2 if x.hourly == 1 else x.min_salary, axis=1)\n",
    "df[\"max_salary\"] = df.apply(lambda x: x.max_salary*2 if x.hourly == 1 else x.max_salary, axis=1)"
   ]
  },
  {
   "cell_type": "code",
   "execution_count": 15,
   "metadata": {},
   "outputs": [],
   "source": [
    "df.to_csv(\"cleaned_glassdoor_jobs.csv\", index=False)"
   ]
  },
  {
   "cell_type": "code",
   "execution_count": null,
   "metadata": {},
   "outputs": [],
   "source": []
  }
 ],
 "metadata": {
  "language_info": {
   "codemirror_mode": {
    "name": "ipython",
    "version": 3
   },
   "file_extension": ".py",
   "mimetype": "text/x-python",
   "name": "python",
   "nbconvert_exporter": "python",
   "pygments_lexer": "ipython3",
   "version": "3.8.0-final"
  },
  "orig_nbformat": 2,
  "kernelspec": {
   "name": "python38032bit2952d1fbf4ef4226a2083fe489539590",
   "display_name": "Python 3.8.0 32-bit"
  }
 },
 "nbformat": 4,
 "nbformat_minor": 2
}