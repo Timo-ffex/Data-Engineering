{
 "cells": [
  {
   "cell_type": "code",
   "execution_count": 1,
   "metadata": {},
   "outputs": [],
   "source": [
    "import pandas as pd\n",
    "import re\n",
    "\n",
    "df = pd.read_csv(\"glassdoor_jobs.csv\")\n",
    "df.drop(columns=\"Unnamed: 0\", inplace=True)"
   ]
  },
  {
   "cell_type": "markdown",
   "metadata": {},
   "source": [
    "## Cleaning steps\n",
    "* Salary parsing\n",
    "* Company name text only\n",
    "* State field\n",
    "* Age of company\n",
    "* Parsing of job description (python, etc.)\n",
    "\n",
    "\n"
   ]
  },
  {
   "cell_type": "markdown",
   "metadata": {},
   "source": [
    "## Salary parsing"
   ]
  },
  {
   "cell_type": "code",
   "execution_count": 10,
   "metadata": {},
   "outputs": [],
   "source": [
    "# Filtering out \"-1\" in salary est field\n",
    "df = df[df[\"Salary Estimate\"] != \"-1\"]\n",
    "\n",
    "salary = df[\"Salary Estimate\"].apply(lambda x: x.split(\"(\")[0])\n"
   ]
  },
  {
   "cell_type": "code",
   "execution_count": 20,
   "metadata": {},
   "outputs": [],
   "source": [
    "# Creating a check column for 'per hour' and 'employer provided salary' in the salary column\n",
    "df[\"hourly\"] = df[\"Salary Estimate\"].apply(lambda x: 1 if \"per hour\" in x.lower() else 0)\n",
    "df[\"employer_provided\"] = df[\"Salary Estimate\"].apply(lambda x: 1 if \"employer provided salary\" in x.lower() else 0)"
   ]
  },
  {
   "cell_type": "code",
   "execution_count": 41,
   "metadata": {},
   "outputs": [],
   "source": [
    "# Using regex to remove K, $, Per hour and employer provided salary at once\n",
    "salary_num = salary.apply(lambda x: re.sub(r\"[^-0-9\\.]\",\"\", x))"
   ]
  },
  {
   "cell_type": "code",
   "execution_count": 42,
   "metadata": {},
   "outputs": [],
   "source": [
    "# Creating a column for min, max ansd avg salary for the cleaned salary\n",
    "df[\"min_salary\"] = salary_num.apply(lambda x: int(x.split(\"-\")[0]))\n",
    "df[\"max_salary\"] = salary_num.apply(lambda x: int(x.split(\"-\")[1]))\n",
    "df[\"avg_salary\"] = (df[\"min_salary\"] + df[\"max_salary\"])/2"
   ]
  },
  {
   "cell_type": "code",
   "execution_count": 62,
   "metadata": {},
   "outputs": [
    {
     "output_type": "execute_result",
     "data": {
      "text/plain": "                   Job Title              Salary Estimate  \\\n0             Data Scientist   $53K-$91K (Glassdoor est.)   \n1  Healthcare Data Scientist  $63K-$112K (Glassdoor est.)   \n2             Data Scientist   $80K-$90K (Glassdoor est.)   \n3             Data Scientist   $56K-$97K (Glassdoor est.)   \n4             Data Scientist  $86K-$143K (Glassdoor est.)   \n\n                                     Job Description  Rating  \\\n0  Data Scientist\\nLocation: Albuquerque, NM\\nEdu...     3.8   \n1  What You Will Do:\\n\\nI. General Summary\\n\\nThe...     3.4   \n2  KnowBe4, Inc. is a high growth information sec...     4.8   \n3  *Organization and Job ID**\\nJob ID: 310709\\n\\n...     3.8   \n4  Data Scientist\\nAffinity Solutions / Marketing...     2.9   \n\n                            Company Name         Location    Headquarters  \\\n0                      Tecolote Research  Albuquerque, NM      Goleta, CA   \n1  University of Maryland Medical System    Linthicum, MD   Baltimore, MD   \n2                                KnowBe4   Clearwater, FL  Clearwater, FL   \n3                                   PNNL     Richland, WA    Richland, WA   \n4                     Affinity Solutions     New York, NY    New York, NY   \n\n                     Size  Founded   Type of ownership  ...  \\\n0   501 to 1000 employees     1973   Company - Private  ...   \n1        10000+ employees     1984  Other Organization  ...   \n2   501 to 1000 employees     2010   Company - Private  ...   \n3  1001 to 5000 employees     1965          Government  ...   \n4     51 to 200 employees     1998   Company - Private  ...   \n\n                         Sector                           Revenue  \\\n0           Aerospace & Defense         $50 to $100 million (USD)   \n1                   Health Care            $2 to $5 billion (USD)   \n2             Business Services        $100 to $500 million (USD)   \n3  Oil, Gas, Energy & Utilities  $500 million to $1 billion (USD)   \n4             Business Services          Unknown / Non-Applicable   \n\n                                         Competitors hourly  \\\n0                                                 -1      0   \n1                                                 -1      0   \n2                                                 -1      0   \n3  Oak Ridge National Laboratory, National Renewa...      0   \n4               Commerce Signals, Cardlytics, Yodlee      0   \n\n   employer_provided  min_salary  max_salary  avg_salary  job_state  \\\n0                  0          53          91        72.0         NM   \n1                  0          63         112        87.5         MD   \n2                  0          80          90        85.0         FL   \n3                  0          56          97        76.5         WA   \n4                  0          86         143       114.5         NY   \n\n  is_headquarter  \n0              0  \n1              0  \n2              1  \n3              1  \n4              1  \n\n[5 rows x 21 columns]",
      "text/html": "<div>\n<style scoped>\n    .dataframe tbody tr th:only-of-type {\n        vertical-align: middle;\n    }\n\n    .dataframe tbody tr th {\n        vertical-align: top;\n    }\n\n    .dataframe thead th {\n        text-align: right;\n    }\n</style>\n<table border=\"1\" class=\"dataframe\">\n  <thead>\n    <tr style=\"text-align: right;\">\n      <th></th>\n      <th>Job Title</th>\n      <th>Salary Estimate</th>\n      <th>Job Description</th>\n      <th>Rating</th>\n      <th>Company Name</th>\n      <th>Location</th>\n      <th>Headquarters</th>\n      <th>Size</th>\n      <th>Founded</th>\n      <th>Type of ownership</th>\n      <th>...</th>\n      <th>Sector</th>\n      <th>Revenue</th>\n      <th>Competitors</th>\n      <th>hourly</th>\n      <th>employer_provided</th>\n      <th>min_salary</th>\n      <th>max_salary</th>\n      <th>avg_salary</th>\n      <th>job_state</th>\n      <th>is_headquarter</th>\n    </tr>\n  </thead>\n  <tbody>\n    <tr>\n      <th>0</th>\n      <td>Data Scientist</td>\n      <td>$53K-$91K (Glassdoor est.)</td>\n      <td>Data Scientist\\nLocation: Albuquerque, NM\\nEdu...</td>\n      <td>3.8</td>\n      <td>Tecolote Research</td>\n      <td>Albuquerque, NM</td>\n      <td>Goleta, CA</td>\n      <td>501 to 1000 employees</td>\n      <td>1973</td>\n      <td>Company - Private</td>\n      <td>...</td>\n      <td>Aerospace &amp; Defense</td>\n      <td>$50 to $100 million (USD)</td>\n      <td>-1</td>\n      <td>0</td>\n      <td>0</td>\n      <td>53</td>\n      <td>91</td>\n      <td>72.0</td>\n      <td>NM</td>\n      <td>0</td>\n    </tr>\n    <tr>\n      <th>1</th>\n      <td>Healthcare Data Scientist</td>\n      <td>$63K-$112K (Glassdoor est.)</td>\n      <td>What You Will Do:\\n\\nI. General Summary\\n\\nThe...</td>\n      <td>3.4</td>\n      <td>University of Maryland Medical System</td>\n      <td>Linthicum, MD</td>\n      <td>Baltimore, MD</td>\n      <td>10000+ employees</td>\n      <td>1984</td>\n      <td>Other Organization</td>\n      <td>...</td>\n      <td>Health Care</td>\n      <td>$2 to $5 billion (USD)</td>\n      <td>-1</td>\n      <td>0</td>\n      <td>0</td>\n      <td>63</td>\n      <td>112</td>\n      <td>87.5</td>\n      <td>MD</td>\n      <td>0</td>\n    </tr>\n    <tr>\n      <th>2</th>\n      <td>Data Scientist</td>\n      <td>$80K-$90K (Glassdoor est.)</td>\n      <td>KnowBe4, Inc. is a high growth information sec...</td>\n      <td>4.8</td>\n      <td>KnowBe4</td>\n      <td>Clearwater, FL</td>\n      <td>Clearwater, FL</td>\n      <td>501 to 1000 employees</td>\n      <td>2010</td>\n      <td>Company - Private</td>\n      <td>...</td>\n      <td>Business Services</td>\n      <td>$100 to $500 million (USD)</td>\n      <td>-1</td>\n      <td>0</td>\n      <td>0</td>\n      <td>80</td>\n      <td>90</td>\n      <td>85.0</td>\n      <td>FL</td>\n      <td>1</td>\n    </tr>\n    <tr>\n      <th>3</th>\n      <td>Data Scientist</td>\n      <td>$56K-$97K (Glassdoor est.)</td>\n      <td>*Organization and Job ID**\\nJob ID: 310709\\n\\n...</td>\n      <td>3.8</td>\n      <td>PNNL</td>\n      <td>Richland, WA</td>\n      <td>Richland, WA</td>\n      <td>1001 to 5000 employees</td>\n      <td>1965</td>\n      <td>Government</td>\n      <td>...</td>\n      <td>Oil, Gas, Energy &amp; Utilities</td>\n      <td>$500 million to $1 billion (USD)</td>\n      <td>Oak Ridge National Laboratory, National Renewa...</td>\n      <td>0</td>\n      <td>0</td>\n      <td>56</td>\n      <td>97</td>\n      <td>76.5</td>\n      <td>WA</td>\n      <td>1</td>\n    </tr>\n    <tr>\n      <th>4</th>\n      <td>Data Scientist</td>\n      <td>$86K-$143K (Glassdoor est.)</td>\n      <td>Data Scientist\\nAffinity Solutions / Marketing...</td>\n      <td>2.9</td>\n      <td>Affinity Solutions</td>\n      <td>New York, NY</td>\n      <td>New York, NY</td>\n      <td>51 to 200 employees</td>\n      <td>1998</td>\n      <td>Company - Private</td>\n      <td>...</td>\n      <td>Business Services</td>\n      <td>Unknown / Non-Applicable</td>\n      <td>Commerce Signals, Cardlytics, Yodlee</td>\n      <td>0</td>\n      <td>0</td>\n      <td>86</td>\n      <td>143</td>\n      <td>114.5</td>\n      <td>NY</td>\n      <td>1</td>\n    </tr>\n  </tbody>\n</table>\n<p>5 rows × 21 columns</p>\n</div>"
     },
     "metadata": {},
     "execution_count": 62
    }
   ],
   "source": [
    "df.head()"
   ]
  },
  {
   "cell_type": "markdown",
   "metadata": {},
   "source": [
    "## Company name text only\n",
    "* I removed the rating in the Company name"
   ]
  },
  {
   "cell_type": "code",
   "execution_count": 48,
   "metadata": {},
   "outputs": [],
   "source": [
    "df[\"Company Name\"] = df.apply(lambda x: x[\"Company Name\"] if x[\"Rating\"] <0  else x[\"Company Name\"][:-4], axis=1)"
   ]
  },
  {
   "cell_type": "markdown",
   "metadata": {},
   "source": [
    "## State field and Company's Age\n"
   ]
  },
  {
   "cell_type": "code",
   "execution_count": 63,
   "metadata": {},
   "outputs": [],
   "source": [
    "df[\"job_state\"] = df[\"Location\"].apply(lambda x: x.split(\",\")[1] )\n",
    "\n",
    "# Check if the job location is same as headquarter\n",
    "df[\"is_headquarter\"] = df.apply(lambda x: 1 if x[\"Headquarters\"]  == x[\"Location\"] else 0, axis=1 )\n",
    "\n",
    "# calculating company's age\n",
    "df[\"age\"] = df[\"Founded\"].apply(lambda x: x if x<1 else (2020-x) )"
   ]
  },
  {
   "cell_type": "markdown",
   "metadata": {},
   "source": [
    "## Parsing of job description (python, etc.)"
   ]
  },
  {
   "cell_type": "code",
   "execution_count": 66,
   "metadata": {},
   "outputs": [
    {
     "output_type": "stream",
     "name": "stdout",
     "text": "What You Will Do:\n\nI. General Summary\n\nThe Healthcare Data Scientist position will join our Advanced Analytics group at the University of Maryland Medical System (UMMS) in support of its strategic priority to become a data-driven and outcomes-oriented organization. The successful candidate will have 3+ years of experience with Machine Learning, Predictive Modeling, Statistical Analysis, Mathematical Optimization, Algorithm Development and a passion for working with healthcare data. Previous experience with various computational approaches along with an ability to demonstrate a portfolio of relevant prior projects is essential. This position will report to the UMMS Vice President for Enterprise Data and Analytics (ED&A).\n\nII. Principal Responsibilities and Tasks\n\n• Develops predictive and prescriptive analytic models in support of the organization’s clinical, operations and business initiatives and priorities.\n• Deploys solutions so that they provide actionable insights to the organization and are embedded or integrated with application systems\n• Supports and drives analytic efforts designed around organization’s strategic priorities and clinical/business problems\n• Works in a team to drive disruptive innovation, which may translate into improved quality of care, clinical outcomes, reduced costs, temporal efficiencies and process improvements.\n• Builds and extends our analytics portfolio supported by robust documentation\n• Works with autonomy to find solutions to complex problems using open source tools and in-house development\n• Stays abreast of state-of-the-art literature in the fields of operations research, statistical modeling, statistical process control and mathematical optimization\n• Creates, communicates, and manages the project plans and other required project documentation and provides updates to leadership as necessary\n• Develops and maintains relationships with business, IT and clinical leaders and stakeholders across the enterprise to facilitate collaboration and effective communication\n• Works with the analytics team and clinical/business stakeholders to develop pilots so that they may be tested and validated in pilot settings\n• Performs analysis to evaluate primary and secondary objectives from such pilots\n• Assists leadership with strategies for scaling successful projects across the organization and enhances the analytics applications based on feedback from end-users and clinical/business consumers\n• Assists leadership with dissemination of success stories (and failures) in an effort to increase analytics literacy and adoption across the organization.\n\nWhat You Need to Be Successful:\n\nIII. Education and Experience\n\n• Master’s or higher degree (may be substituted by relevant work experience) in applied mathematics, physics, computer science, engineering, statistics or a related field\n• 3+ years of Mathematical Optimization, Machine Learning, Predictive Analytics and Algorithm Development experience (experience with tools such as WEKA, RapidMiner, R. Python or other open source tools strongly desired)\n• Strong development skills in two or more of the following: C/C++, C#, Python, Java\n• Combining analytic methods with advanced data visualizations\n• Expert ability to breakdown and clearly define problems\n• Experience with Natural Language Processing preferred\n\nIV. Knowledge, Skills and Abilities\n\n• Proven communications skills – Effective at working independently and in collaboration with other staff members. Capable of clearly presenting findings orally, in writing, or through graphics.\n• Proven analytical skills – Able to compare, contrast, and validate work with keen attention to detail. Skilled in working with “real world” data including scrubbing, transformation, and imputation.\n• Proven problem solving skills – Able to plan work, set clear direction, and coordinate own tasks in a fast-paced multidisciplinary environment. Expert at triaging issues, identifying data anomalies, and debugging software.\n• Design and prototype new application functionality for our products.\n• Change oriented – actively generates process improvements; supports and drives change, and confronts difficult circumstances in creative ways\n• Effective communicator and change agent\n• Ability to prioritize the tasks of the project timeline to achieve the desired results\n• Strong analytic and problem solving skills\n• Ability to cooperatively and effectively work with people from various organization levels\n\nWe are an Equal Opportunity Employer and do not discriminate against any employee or applicant for employment because of race, color, sex, age, national origin, religion, sexual orientation, gender identity, status as a veteran, and basis of disability or any other federal, state or local protected class.\n"
    }
   ],
   "source": [
    "print(df[\"Job Description\"][1])"
   ]
  },
  {
   "cell_type": "code",
   "execution_count": 73,
   "metadata": {},
   "outputs": [],
   "source": [
    "df[\"python_yn\"] = df[\"Job Description\"].apply(lambda x: 1 if \"python\" in x.lower() else 0)\n",
    "df[\"spark_yn\"] = df[\"Job Description\"].apply(lambda x: 1 if \"spark\" in x.lower() else 0)\n",
    "df[\"aws_yn\"] = df[\"Job Description\"].apply(lambda x: 1 if \"aws\" in x.lower() else 0)\n",
    "df[\"gcp_yn\"] = df[\"Job Description\"].apply(lambda x: 1 if \"gcp\" or 'google cloud platform' in x.lower() else 0)\n",
    "df[\"azure_yn\"] = df[\"Job Description\"].apply(lambda x: 1 if \"azure\" in x.lower() else 0)\n",
    "df[\"java_yn\"] = df[\"Job Description\"].apply(lambda x: 1 if \"java\" in x.lower() else 0)\n",
    "df[\"tableau_yn\"] = df[\"Job Description\"].apply(lambda x: 1 if \"tableau\" in x.lower() else 0)\n",
    "df[\"powerbi_yn\"] = df[\"Job Description\"].apply(lambda x: 1 if \"power bi\" in x.lower() else 0)\n",
    "df[\"excel_yn\"] = df[\"Job Description\"].apply(lambda x: 1 if \"excel\" in x.lower() else 0)"
   ]
  },
  {
   "cell_type": "code",
   "execution_count": 74,
   "metadata": {},
   "outputs": [
    {
     "output_type": "execute_result",
     "data": {
      "text/plain": "Index(['Job Title', 'Salary Estimate', 'Job Description', 'Rating',\n       'Company Name', 'Location', 'Headquarters', 'Size', 'Founded',\n       'Type of ownership', 'Industry', 'Sector', 'Revenue', 'Competitors',\n       'hourly', 'employer_provided', 'min_salary', 'max_salary', 'avg_salary',\n       'job_state', 'is_headquarter', 'age', 'python_yn', 'spark_yn', 'aws_yn',\n       'gcp_yn', 'azure_yn', 'java_yn', 'tableau_yn', 'powerbi_yn',\n       'excel_yn'],\n      dtype='object')"
     },
     "metadata": {},
     "execution_count": 74
    }
   ],
   "source": [
    "df.columns"
   ]
  },
  {
   "cell_type": "code",
   "execution_count": 83,
   "metadata": {},
   "outputs": [
    {
     "output_type": "execute_result",
     "data": {
      "text/plain": "                                             Job Title  Rating  \\\n0                                       Data Scientist     3.8   \n1                            Healthcare Data Scientist     3.4   \n2                                       Data Scientist     4.8   \n3                                       Data Scientist     3.8   \n4                                       Data Scientist     2.9   \n..                                                 ...     ...   \n950           Sr Scientist, Immuno-Oncology - Oncology     3.9   \n951                               Senior Data Engineer     4.4   \n952  Project Scientist - Auton Lab, Robotics Institute     2.6   \n953                               Data Science Manager     3.2   \n955          Research Scientist – Security and Privacy     3.6   \n\n                              Company Name         Location  \\\n0                        Tecolote Research  Albuquerque, NM   \n1    University of Maryland Medical System    Linthicum, MD   \n2                                  KnowBe4   Clearwater, FL   \n3                                     PNNL     Richland, WA   \n4                       Affinity Solutions     New York, NY   \n..                                     ...              ...   \n950                                    GSK    Cambridge, MA   \n951                             Eventbrite    Nashville, TN   \n952         Software Engineering Institute   Pittsburgh, PA   \n953                           Numeric, LLC    Allentown, PA   \n955           Riverside Research Institute  Beavercreek, OH   \n\n                  Headquarters  Founded       Type of ownership  \\\n0                   Goleta, CA     1973       Company - Private   \n1                Baltimore, MD     1984      Other Organization   \n2               Clearwater, FL     2010       Company - Private   \n3                 Richland, WA     1965              Government   \n4                 New York, NY     1998       Company - Private   \n..                         ...      ...                     ...   \n950  Brentford, United Kingdom     1830        Company - Public   \n951          San Francisco, CA     2006        Company - Public   \n952             Pittsburgh, PA     1984    College / University   \n953            Chadds Ford, PA       -1       Company - Private   \n955              Arlington, VA     1967  Nonprofit Organization   \n\n                             Industry                        Sector  hourly  \\\n0                 Aerospace & Defense           Aerospace & Defense       0   \n1    Health Care Services & Hospitals                   Health Care       0   \n2                   Security Services             Business Services       0   \n3                              Energy  Oil, Gas, Energy & Utilities       0   \n4             Advertising & Marketing             Business Services       0   \n..                                ...                           ...     ...   \n950         Biotech & Pharmaceuticals     Biotech & Pharmaceuticals       0   \n951                          Internet        Information Technology       0   \n952           Colleges & Universities                     Education       0   \n953            Staffing & Outsourcing             Business Services       0   \n955                  Federal Agencies                    Government       0   \n\n     ...  age  python_yn  spark_yn  aws_yn gcp_yn  azure_yn  java_yn  \\\n0    ...   47          1         0       0      1         0        0   \n1    ...   36          1         0       0      1         0        1   \n2    ...   10          1         1       0      1         0        0   \n3    ...   55          1         0       0      1         0        0   \n4    ...   22          1         0       0      1         0        0   \n..   ...  ...        ...       ...     ...    ...       ...      ...   \n950  ...  190          0         0       1      1         0        0   \n951  ...   14          1         1       1      1         0        1   \n952  ...   36          0         0       0      1         0        0   \n953  ...   -1          0         0       0      1         0        0   \n955  ...   53          1         0       0      1         0        0   \n\n     tableau_yn  powerbi_yn  excel_yn  \n0             1           1         1  \n1             0           0         0  \n2             0           0         1  \n3             0           0         0  \n4             0           0         1  \n..          ...         ...       ...  \n950           0           0         0  \n951           0           0         0  \n952           0           0         1  \n953           0           0         1  \n955           0           0         0  \n\n[742 rows x 26 columns]",
      "text/html": "<div>\n<style scoped>\n    .dataframe tbody tr th:only-of-type {\n        vertical-align: middle;\n    }\n\n    .dataframe tbody tr th {\n        vertical-align: top;\n    }\n\n    .dataframe thead th {\n        text-align: right;\n    }\n</style>\n<table border=\"1\" class=\"dataframe\">\n  <thead>\n    <tr style=\"text-align: right;\">\n      <th></th>\n      <th>Job Title</th>\n      <th>Rating</th>\n      <th>Company Name</th>\n      <th>Location</th>\n      <th>Headquarters</th>\n      <th>Founded</th>\n      <th>Type of ownership</th>\n      <th>Industry</th>\n      <th>Sector</th>\n      <th>hourly</th>\n      <th>...</th>\n      <th>age</th>\n      <th>python_yn</th>\n      <th>spark_yn</th>\n      <th>aws_yn</th>\n      <th>gcp_yn</th>\n      <th>azure_yn</th>\n      <th>java_yn</th>\n      <th>tableau_yn</th>\n      <th>powerbi_yn</th>\n      <th>excel_yn</th>\n    </tr>\n  </thead>\n  <tbody>\n    <tr>\n      <th>0</th>\n      <td>Data Scientist</td>\n      <td>3.8</td>\n      <td>Tecolote Research</td>\n      <td>Albuquerque, NM</td>\n      <td>Goleta, CA</td>\n      <td>1973</td>\n      <td>Company - Private</td>\n      <td>Aerospace &amp; Defense</td>\n      <td>Aerospace &amp; Defense</td>\n      <td>0</td>\n      <td>...</td>\n      <td>47</td>\n      <td>1</td>\n      <td>0</td>\n      <td>0</td>\n      <td>1</td>\n      <td>0</td>\n      <td>0</td>\n      <td>1</td>\n      <td>1</td>\n      <td>1</td>\n    </tr>\n    <tr>\n      <th>1</th>\n      <td>Healthcare Data Scientist</td>\n      <td>3.4</td>\n      <td>University of Maryland Medical System</td>\n      <td>Linthicum, MD</td>\n      <td>Baltimore, MD</td>\n      <td>1984</td>\n      <td>Other Organization</td>\n      <td>Health Care Services &amp; Hospitals</td>\n      <td>Health Care</td>\n      <td>0</td>\n      <td>...</td>\n      <td>36</td>\n      <td>1</td>\n      <td>0</td>\n      <td>0</td>\n      <td>1</td>\n      <td>0</td>\n      <td>1</td>\n      <td>0</td>\n      <td>0</td>\n      <td>0</td>\n    </tr>\n    <tr>\n      <th>2</th>\n      <td>Data Scientist</td>\n      <td>4.8</td>\n      <td>KnowBe4</td>\n      <td>Clearwater, FL</td>\n      <td>Clearwater, FL</td>\n      <td>2010</td>\n      <td>Company - Private</td>\n      <td>Security Services</td>\n      <td>Business Services</td>\n      <td>0</td>\n      <td>...</td>\n      <td>10</td>\n      <td>1</td>\n      <td>1</td>\n      <td>0</td>\n      <td>1</td>\n      <td>0</td>\n      <td>0</td>\n      <td>0</td>\n      <td>0</td>\n      <td>1</td>\n    </tr>\n    <tr>\n      <th>3</th>\n      <td>Data Scientist</td>\n      <td>3.8</td>\n      <td>PNNL</td>\n      <td>Richland, WA</td>\n      <td>Richland, WA</td>\n      <td>1965</td>\n      <td>Government</td>\n      <td>Energy</td>\n      <td>Oil, Gas, Energy &amp; Utilities</td>\n      <td>0</td>\n      <td>...</td>\n      <td>55</td>\n      <td>1</td>\n      <td>0</td>\n      <td>0</td>\n      <td>1</td>\n      <td>0</td>\n      <td>0</td>\n      <td>0</td>\n      <td>0</td>\n      <td>0</td>\n    </tr>\n    <tr>\n      <th>4</th>\n      <td>Data Scientist</td>\n      <td>2.9</td>\n      <td>Affinity Solutions</td>\n      <td>New York, NY</td>\n      <td>New York, NY</td>\n      <td>1998</td>\n      <td>Company - Private</td>\n      <td>Advertising &amp; Marketing</td>\n      <td>Business Services</td>\n      <td>0</td>\n      <td>...</td>\n      <td>22</td>\n      <td>1</td>\n      <td>0</td>\n      <td>0</td>\n      <td>1</td>\n      <td>0</td>\n      <td>0</td>\n      <td>0</td>\n      <td>0</td>\n      <td>1</td>\n    </tr>\n    <tr>\n      <th>...</th>\n      <td>...</td>\n      <td>...</td>\n      <td>...</td>\n      <td>...</td>\n      <td>...</td>\n      <td>...</td>\n      <td>...</td>\n      <td>...</td>\n      <td>...</td>\n      <td>...</td>\n      <td>...</td>\n      <td>...</td>\n      <td>...</td>\n      <td>...</td>\n      <td>...</td>\n      <td>...</td>\n      <td>...</td>\n      <td>...</td>\n      <td>...</td>\n      <td>...</td>\n      <td>...</td>\n    </tr>\n    <tr>\n      <th>950</th>\n      <td>Sr Scientist, Immuno-Oncology - Oncology</td>\n      <td>3.9</td>\n      <td>GSK</td>\n      <td>Cambridge, MA</td>\n      <td>Brentford, United Kingdom</td>\n      <td>1830</td>\n      <td>Company - Public</td>\n      <td>Biotech &amp; Pharmaceuticals</td>\n      <td>Biotech &amp; Pharmaceuticals</td>\n      <td>0</td>\n      <td>...</td>\n      <td>190</td>\n      <td>0</td>\n      <td>0</td>\n      <td>1</td>\n      <td>1</td>\n      <td>0</td>\n      <td>0</td>\n      <td>0</td>\n      <td>0</td>\n      <td>0</td>\n    </tr>\n    <tr>\n      <th>951</th>\n      <td>Senior Data Engineer</td>\n      <td>4.4</td>\n      <td>Eventbrite</td>\n      <td>Nashville, TN</td>\n      <td>San Francisco, CA</td>\n      <td>2006</td>\n      <td>Company - Public</td>\n      <td>Internet</td>\n      <td>Information Technology</td>\n      <td>0</td>\n      <td>...</td>\n      <td>14</td>\n      <td>1</td>\n      <td>1</td>\n      <td>1</td>\n      <td>1</td>\n      <td>0</td>\n      <td>1</td>\n      <td>0</td>\n      <td>0</td>\n      <td>0</td>\n    </tr>\n    <tr>\n      <th>952</th>\n      <td>Project Scientist - Auton Lab, Robotics Institute</td>\n      <td>2.6</td>\n      <td>Software Engineering Institute</td>\n      <td>Pittsburgh, PA</td>\n      <td>Pittsburgh, PA</td>\n      <td>1984</td>\n      <td>College / University</td>\n      <td>Colleges &amp; Universities</td>\n      <td>Education</td>\n      <td>0</td>\n      <td>...</td>\n      <td>36</td>\n      <td>0</td>\n      <td>0</td>\n      <td>0</td>\n      <td>1</td>\n      <td>0</td>\n      <td>0</td>\n      <td>0</td>\n      <td>0</td>\n      <td>1</td>\n    </tr>\n    <tr>\n      <th>953</th>\n      <td>Data Science Manager</td>\n      <td>3.2</td>\n      <td>Numeric, LLC</td>\n      <td>Allentown, PA</td>\n      <td>Chadds Ford, PA</td>\n      <td>-1</td>\n      <td>Company - Private</td>\n      <td>Staffing &amp; Outsourcing</td>\n      <td>Business Services</td>\n      <td>0</td>\n      <td>...</td>\n      <td>-1</td>\n      <td>0</td>\n      <td>0</td>\n      <td>0</td>\n      <td>1</td>\n      <td>0</td>\n      <td>0</td>\n      <td>0</td>\n      <td>0</td>\n      <td>1</td>\n    </tr>\n    <tr>\n      <th>955</th>\n      <td>Research Scientist – Security and Privacy</td>\n      <td>3.6</td>\n      <td>Riverside Research Institute</td>\n      <td>Beavercreek, OH</td>\n      <td>Arlington, VA</td>\n      <td>1967</td>\n      <td>Nonprofit Organization</td>\n      <td>Federal Agencies</td>\n      <td>Government</td>\n      <td>0</td>\n      <td>...</td>\n      <td>53</td>\n      <td>1</td>\n      <td>0</td>\n      <td>0</td>\n      <td>1</td>\n      <td>0</td>\n      <td>0</td>\n      <td>0</td>\n      <td>0</td>\n      <td>0</td>\n    </tr>\n  </tbody>\n</table>\n<p>742 rows × 26 columns</p>\n</div>"
     },
     "metadata": {},
     "execution_count": 83
    }
   ],
   "source": [
    "df.drop(columns=['Salary Estimate', \"Job Description\", \"Size\",  'Competitors', \"Revenue\", \"Industry\"] )"
   ]
  },
  {
   "cell_type": "code",
   "execution_count": 84,
   "metadata": {},
   "outputs": [
    {
     "output_type": "execute_result",
     "data": {
      "text/plain": "Company - Private                 410\nCompany - Public                  193\nNonprofit Organization             55\nSubsidiary or Business Segment     34\nGovernment                         15\nHospital                           15\nCollege / University               13\nOther Organization                  3\nSchool / School District            2\n-1                                  1\nUnknown                             1\nName: Type of ownership, dtype: int64"
     },
     "metadata": {},
     "execution_count": 84
    }
   ],
   "source": [
    "df[\"Type of ownership\"].value_counts()"
   ]
  },
  {
   "cell_type": "code",
   "execution_count": 88,
   "metadata": {},
   "outputs": [],
   "source": [
    "a = df[\"Job Title\"].value_counts()"
   ]
  },
  {
   "cell_type": "code",
   "execution_count": 197,
   "metadata": {},
   "outputs": [],
   "source": [
    "def job_spec(x):\n",
    "    x = x.lower()\n",
    "    job = [\"data scientist\", \"data engineer\", \"data analyst\", \"science\"]\n",
    "\n",
    "    if job[0] in x:\n",
    "        return job[0]\n",
    "    elif job[1]  in x:\n",
    "        return job[1]  \n",
    "    elif job[2] in x:\n",
    "        return job[2]\n",
    "    \n",
    "    return 'n'\n",
    "   \n",
    "    \n",
    "    \n",
    "\n",
    "df[\"job_spec\"] = df[\"Job Title\"].apply(job_spec)"
   ]
  },
  {
   "cell_type": "code",
   "execution_count": 198,
   "metadata": {},
   "outputs": [
    {
     "output_type": "execute_result",
     "data": {
      "text/plain": "data scientist    279\nn                 245\ndata engineer     119\ndata analyst       99\nName: job_spec, dtype: int64"
     },
     "metadata": {},
     "execution_count": 198
    }
   ],
   "source": [
    "a = df[[\"Job Title\", \"job_spec\"]]\n",
    "a[\"job_spec\"].value_counts()"
   ]
  },
  {
   "cell_type": "code",
   "execution_count": 180,
   "metadata": {},
   "outputs": [],
   "source": [
    "df.drop(columns=\"job_spec\", inplace=True)"
   ]
  },
  {
   "cell_type": "code",
   "execution_count": 133,
   "metadata": {},
   "outputs": [
    {
     "output_type": "execute_result",
     "data": {
      "text/plain": "Data Scientist                                     131\nData Engineer                                       53\nSenior Data Scientist                               34\nData Analyst                                        15\nSenior Data Engineer                                14\n                                                  ... \nAg Data Scientist                                    1\nProgram/Data Analyst                                 1\nData Engineer 4 - Contract                           1\nResearch Scientist, Machine Learning Department      1\nSupply Chain Data Analyst                            1\nName: Job Title, Length: 264, dtype: int64"
     },
     "metadata": {},
     "execution_count": 133
    }
   ],
   "source": [
    "df[\"Job Title\"].value_counts()"
   ]
  },
  {
   "cell_type": "code",
   "execution_count": 175,
   "metadata": {},
   "outputs": [],
   "source": [
    "# import numpy as np\n",
    "\n",
    "# j = [\"data scientist\", \"data engineer\", \"data analyst\"]\n",
    "\n",
    "# df[\"job_spec\"] = (np.select(\n",
    "#     condlist=[ j[0] in df[\"Job Title\"].apply(lambda x: x.lower()),\n",
    "#                     j[1] in df[\"Job Title\"].apply(lambda x: x.lower()),\n",
    "#                     j[2] in df[\"Job Title\"].apply(lambda x: x.lower()) ],\n",
    "#     choicelist=[ j[0], j[1], j[2] ],\n",
    "#     default= \"daat\"\n",
    "# ))\n",
    "\n",
    "# df[\"job_spec\"] = df[\"Job Title\"].apply(lambda x:  j[0] if j[0] in x.lower() j[1] elif j[1] in x.lower() j[2] elif j[2] in x.lower() else \"Daat\")\n",
    "\n",
    "df[\"job_spec\"] = df[\"Job Title\"].apply(lambda x:  j[1] if j[1] in x.lower() else \"n\")"
   ]
  },
  {
   "cell_type": "code",
   "execution_count": 158,
   "metadata": {},
   "outputs": [
    {
     "output_type": "error",
     "ename": "SyntaxError",
     "evalue": "invalid syntax (<ipython-input-158-26ab3508f9a9>, line 1)",
     "traceback": [
      "\u001b[1;36m  File \u001b[1;32m\"<ipython-input-158-26ab3508f9a9>\"\u001b[1;36m, line \u001b[1;32m1\u001b[0m\n\u001b[1;33m    import numpy and np\u001b[0m\n\u001b[1;37m                 ^\u001b[0m\n\u001b[1;31mSyntaxError\u001b[0m\u001b[1;31m:\u001b[0m invalid syntax\n"
     ]
    }
   ],
   "source": [
    "def flag_df(df):\n",
    "\n",
    "    if (df['trigger1'] <= df['score'] < df['trigger2']) and (df['height'] < 8):\n",
    "        return 'Red'\n",
    "    elif (df['trigger2'] <= df['score'] < df['trigger3']) and (df['height'] < 8):\n",
    "        return 'Yellow'\n",
    "    elif (df['trigger3'] <= df['score']) and (df['height'] < 8):\n",
    "        return 'Orange'\n",
    "    elif (df['height'] > 8):\n",
    "        return np.nan\n",
    "\n",
    "df2['Flag'] = df2.apply(flag_df, axis = 1)\n",
    "\n",
    "\n",
    "def job_spec(df):\n",
    "    job = [\"data scientist\", \"data engineer\", \"data analyst\"]\n",
    "\n",
    "    if job[0] in df[\"Job\"]:\n",
    "        return job[0]\n",
    "    \n",
    "    if job[2] in x:\n",
    "        return job[2]\n",
    "    if job[1] or \"data engineering\" in x:\n",
    "        return job[1]\n",
    "    else:  \n",
    "        return \"n\"\n",
    "    \n",
    "\n",
    "df[\"job_spec\"] = df[\"Job Title\"].apply(job_spec)"
   ]
  },
  {
   "cell_type": "code",
   "execution_count": null,
   "metadata": {},
   "outputs": [],
   "source": []
  }
 ],
 "metadata": {
  "language_info": {
   "codemirror_mode": {
    "name": "ipython",
    "version": 3
   },
   "file_extension": ".py",
   "mimetype": "text/x-python",
   "name": "python",
   "nbconvert_exporter": "python",
   "pygments_lexer": "ipython3",
   "version": "3.8.0-final"
  },
  "orig_nbformat": 2,
  "kernelspec": {
   "name": "python38032bit2952d1fbf4ef4226a2083fe489539590",
   "display_name": "Python 3.8.0 32-bit"
  }
 },
 "nbformat": 4,
 "nbformat_minor": 2
}