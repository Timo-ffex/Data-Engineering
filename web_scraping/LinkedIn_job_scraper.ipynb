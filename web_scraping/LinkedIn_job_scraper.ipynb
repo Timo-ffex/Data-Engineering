{
 "cells": [
  {
   "cell_type": "markdown",
   "metadata": {},
   "source": [
    "# LINKEDIN JOB SCRAPER\n",
    "`This code only scrapes one page but it can be automate to scrape multiple pages`"
   ]
  },
  {
   "cell_type": "code",
   "execution_count": 13,
   "metadata": {},
   "outputs": [
    {
     "output_type": "stream",
     "name": "stdout",
     "text": "x out worked\n[<selenium.webdriver.remote.webelement.WebElement (session=\"316486aa02f94fd5914969ee26a9347f\", element=\"ff68fb44-8c20-4121-9f7c-7ebbf086cea5\")>, <selenium.webdriver.remote.webelement.WebElement (session=\"316486aa02f94fd5914969ee26a9347f\", element=\"52d723e7-4626-4e66-a1c4-179e1acf6395\")>, <selenium.webdriver.remote.webelement.WebElement (session=\"316486aa02f94fd5914969ee26a9347f\", element=\"3e11cb66-a2ce-4525-acfd-ae6a88fadea5\")>, <selenium.webdriver.remote.webelement.WebElement (session=\"316486aa02f94fd5914969ee26a9347f\", element=\"04b17f82-7ff8-4f3c-aeec-ccb0082c9b7d\")>, <selenium.webdriver.remote.webelement.WebElement (session=\"316486aa02f94fd5914969ee26a9347f\", element=\"577538e6-5676-41e9-8bf9-842b1494124a\")>, <selenium.webdriver.remote.webelement.WebElement (session=\"316486aa02f94fd5914969ee26a9347f\", element=\"23877258-9881-495e-b13a-05ef043364cc\")>, <selenium.webdriver.remote.webelement.WebElement (session=\"316486aa02f94fd5914969ee26a9347f\", element=\"9f1f02ba-0ad3-491e-be84-5e1f83df3a2d\")>, <selenium.webdriver.remote.webelement.WebElement (session=\"316486aa02f94fd5914969ee26a9347f\", element=\"599d37a3-e6c2-4bf9-a1e8-2fd64d3a8507\")>, <selenium.webdriver.remote.webelement.WebElement (session=\"316486aa02f94fd5914969ee26a9347f\", element=\"cdd6a07b-bcbc-469a-ae65-f9749168faac\")>, <selenium.webdriver.remote.webelement.WebElement (session=\"316486aa02f94fd5914969ee26a9347f\", element=\"0b5b3625-3d88-40b4-9264-dd5bddebba1e\")>, <selenium.webdriver.remote.webelement.WebElement (session=\"316486aa02f94fd5914969ee26a9347f\", element=\"e4d18e88-b58b-4043-bbc9-903f39071095\")>, <selenium.webdriver.remote.webelement.WebElement (session=\"316486aa02f94fd5914969ee26a9347f\", element=\"b0cd071a-9aec-4acb-b6f2-d9da6a80d73e\")>, <selenium.webdriver.remote.webelement.WebElement (session=\"316486aa02f94fd5914969ee26a9347f\", element=\"2ff09a48-402d-46a6-aac8-689c6c3f674b\")>, <selenium.webdriver.remote.webelement.WebElement (session=\"316486aa02f94fd5914969ee26a9347f\", element=\"0eabd24a-5c09-49d2-b705-59df2e8c3af1\")>, <selenium.webdriver.remote.webelement.WebElement (session=\"316486aa02f94fd5914969ee26a9347f\", element=\"442246d6-1020-48ab-9b3d-72883efc7138\")>, <selenium.webdriver.remote.webelement.WebElement (session=\"316486aa02f94fd5914969ee26a9347f\", element=\"7ccd7b77-dad2-44c5-91fd-71d626492e09\")>, <selenium.webdriver.remote.webelement.WebElement (session=\"316486aa02f94fd5914969ee26a9347f\", element=\"297b91ca-b122-4e7a-964b-f8bdb1ba3d9e\")>, <selenium.webdriver.remote.webelement.WebElement (session=\"316486aa02f94fd5914969ee26a9347f\", element=\"daa68fa0-074f-41e0-b8e0-2ea73809dfe4\")>, <selenium.webdriver.remote.webelement.WebElement (session=\"316486aa02f94fd5914969ee26a9347f\", element=\"7b7e22d1-de64-48ba-bf93-6ef5b2ae1b72\")>, <selenium.webdriver.remote.webelement.WebElement (session=\"316486aa02f94fd5914969ee26a9347f\", element=\"f7247c53-9e92-4db3-b0dc-88a84d413e13\")>, <selenium.webdriver.remote.webelement.WebElement (session=\"316486aa02f94fd5914969ee26a9347f\", element=\"ca43ae0e-8634-4d74-a134-a7dc8fba8f6c\")>, <selenium.webdriver.remote.webelement.WebElement (session=\"316486aa02f94fd5914969ee26a9347f\", element=\"fb4ff06a-86ba-4a5e-8d17-f85e44cb764b\")>, <selenium.webdriver.remote.webelement.WebElement (session=\"316486aa02f94fd5914969ee26a9347f\", element=\"2e63fd08-a967-4c00-a3e9-d68532b7a95d\")>, <selenium.webdriver.remote.webelement.WebElement (session=\"316486aa02f94fd5914969ee26a9347f\", element=\"da85f363-2dc1-41ba-bdf5-ef16fed5bb43\")>]\nProcess 1/24\nAbout to roun while loop\n\nProcess 2/24\nAbout to roun while loop\n\nProcess 3/24\nAbout to roun while loop\n\nProcess 4/24\nAbout to roun while loop\n\nProcess 5/24\nAbout to roun while loop\n\nProcess 6/24\nAbout to roun while loop\n\nProcess 7/24\nAbout to roun while loop\n\nProcess 8/24\nAbout to roun while loop\n\nProcess 9/24\nAbout to roun while loop\n\nProcess 10/24\nAbout to roun while loop\n\nProcess 11/24\nAbout to roun while loop\n\nProcess 12/24\nAbout to roun while loop\n\nProcess 13/24\nAbout to roun while loop\n\nProcess 14/24\nAbout to roun while loop\n\nProcess 15/24\nAbout to roun while loop\n\nProcess 16/24\nAbout to roun while loop\n\nProcess 17/24\nAbout to roun while loop\n\nProcess 18/24\nAbout to roun while loop\n\nProcess 19/24\nAbout to roun while loop\n\nProcess 20/24\nAbout to roun while loop\n\nProcess 21/24\nAbout to roun while loop\n\nProcess 22/24\nAbout to roun while loop\n\nProcess 23/24\nAbout to roun while loop\n\nProcess 24/24\nAbout to roun while loop\n\n"
    }
   ],
   "source": [
    "from selenium.common.exceptions import NoSuchElementException, ElementClickInterceptedException\n",
    "from selenium import webdriver\n",
    "from webdriver_manager.chrome import ChromeDriverManager\n",
    "import time\n",
    "import pandas as pd\n",
    "\n",
    "url = r\"https://www.linkedin.com/jobs/search/?currentJobId=1794026737&geoId=92000001&keywords=sql%20engineer&location=Remote\"\n",
    "\n",
    "# driver = webdriver.Chrome(ChromeDriverManager().install())\n",
    "\n",
    "driver = webdriver.Chrome(r\"C:\\Users\\user\\.wdm\\drivers\\chromedriver\\83.0.4103.39\\win32\\chromedriver.exe\")\n",
    "\n",
    "\n",
    "driver.get(url)\n",
    "time.sleep(5)\n",
    "\n",
    "time.sleep(.1)\n",
    "\n",
    "try:\n",
    "    driver.find_element_by_xpath('//button[@class=\"cta-modal__dismiss-btn\"]').click() #clicking to the X.\n",
    "    print(' x out worked')\n",
    "except NoSuchElementException:\n",
    "    print(' x out failed')\n",
    "    pass\n",
    "\n",
    "\n",
    "\n",
    "\n",
    "job_buttons = driver.find_elements_by_xpath('//li[@class=\"result-card job-result-card result-card--with-hover-state\"]')\n",
    "jobs = []\n",
    "\n",
    "for job_button in job_buttons:\n",
    "    print(f\"Process {len(jobs)+1}/{len(job_buttons)}\")\n",
    "\n",
    "    job_button.click()  #You might \n",
    "    time.sleep(1)\n",
    "    collected_successfully = False\n",
    "\n",
    "\n",
    "    try:\n",
    "        company_name = driver.find_element_by_xpath('.//span[@class=\"topcard__flavor\"]').text\n",
    "    except NoSuchElementException:\n",
    "        company = -1\n",
    "        pass\n",
    "\n",
    "    try:\n",
    "        job_title = driver.find_element_by_xpath('.//h2[@class=\"topcard__title\"]').text\n",
    "    except NoSuchElementException:\n",
    "        job_title = -1\n",
    "        pass\n",
    "        \n",
    "    try:\n",
    "        location = driver.find_element_by_xpath('.//span[@class=\"topcard__flavor topcard__flavor--bullet\"]').text\n",
    "    except NoSuchElementException:\n",
    "        location = -1\n",
    "        pass\n",
    "\n",
    "    try:\n",
    "        posted = driver.find_element_by_xpath('.//span[@class=\"topcard__flavor--metadata posted-time-ago__text posted-time-ago__text--new\"]').text\n",
    "        \n",
    "    except NoSuchElementException:\n",
    "        try:\n",
    "            posted = driver.find_element_by_xpath('.//span[@class=\"topcard__flavor--metadata posted-time-ago__text\"]').text\n",
    "        except NoSuchElementException:\n",
    "            posted = -1\n",
    "            pass\n",
    "\n",
    "    try:\n",
    "        job_description = driver.find_element_by_xpath('.//div[@class=\"description__text description__text--rich\"]').text\n",
    "    except NoSuchElementException:\n",
    "        job_description = -1\n",
    "        pass\n",
    "    \n",
    "    try:\n",
    "        job_level = driver.find_element_by_xpath('.//li[@class=\"job-criteria__item\"]//h3[text()=\"Seniority level\"]//following-sibling::*').text\n",
    "    except NoSuchElementException:\n",
    "        job_level = -1\n",
    "        pass\n",
    "\n",
    "    try:\n",
    "        applicants = driver.find_element_by_xpath('.//figcaption[@class=\"num-applicants__caption\"]').text\n",
    "    except NoSuchElementException:\n",
    "        applicants = -1\n",
    "        pass\n",
    "\n",
    "    try:\n",
    "        job_type = driver.find_element_by_xpath('.//li[@class=\"job-criteria__item\"]//h3[text()=\"Employment type\"]//following-sibling::*').text\n",
    "    except NoSuchElementException:\n",
    "        job_type = -1\n",
    "        pass\n",
    "        \n",
    "    \n",
    "        \n",
    "\n",
    "    j = {   \"company_name\": company_name,\n",
    "            \"job_title\": job_title,\n",
    "            \"location\": location,\n",
    "            \"job_description\": job_description,\n",
    "            \"job_level\" : job_level,\n",
    "            \"posted\": posted,\n",
    "            \"applicants\": applicants\n",
    "    }\n",
    "\n",
    "    jobs.append(j)    \n",
    "\n",
    "df = pd.DataFrame(jobs)\n",
    "df.to_csv('linkedin_jobs.csv', index=False)"
   ]
  },
  {
   "cell_type": "code",
   "execution_count": 14,
   "metadata": {},
   "outputs": [
    {
     "output_type": "execute_result",
     "data": {
      "text/plain": "             company_name                                          job_title  \\\n0           Suplari, Inc.                             Data Engineer (Remote)   \n1               Accelerit  Fintech Data Engineer, Python, AWS Expert, Remote   \n2                  ITECCO  Application Support Engineer - 100 remote working   \n3             SchemeServe                 Software QA test engineer - REMOTE   \n4              Windstream                               Sr. Engineer-Network   \n5          Itecco Limited  Application Support Engineer - 100 remote working   \n6             Antal China        Senior Engineer – Wind Turbine Aerodynamics   \n7   Endeavour Recruitment                 Technical Project Manager / Remote   \n8       Server Technology           Client Support Engineer - Remote Process   \n9      Capital TechSearch                             Senior Splunk Engineer   \n10               Techire.                    Senior ASR Engineer (EU Remote)   \n11               Doximity                Software Engineer, Data Engineering   \n12            Robert Half  QA Engineer *Remote but must be in Southern Ca...   \n13           Michael Page  Business Intelligence Analyst (Remote Intervie...   \n14    Rosslin Engineering         Senior Engineer - Clojure - Remote Process   \n15                 Signzy  Backend Engineering Work From Home Job interns...   \n16              ATCSEARCH                              Senior Sales Engineer   \n17        HiredAllied.com            Senior macOS Engineer (open for remote)   \n18             DuckDuckGo          Senior Fraud Prevention Engineer (Remote)   \n19    ThreatConnect, Inc.                  Senior Software Engineer (REMOTE)   \n20               Azumo.co                    Rails Fullstack Engineer Remote   \n21            PriceSpider                     PHP Software Engineer (REMOTE)   \n22               Passport         Software Engineer Team Lead, Micromobility   \n23                   DOIT  Application Support Engineer (Kyiv or Remote) ...   \n\n                                           location  \\\n0                          Zapopan, Jalisco, Mexico   \n1                   London, England, United Kingdom   \n2                   Bolton, England, United Kingdom   \n3          Southend-on-Sea, England, United Kingdom   \n4                                        Denver, CO   \n5               Penwortham, England, United Kingdom   \n6   Las Rozas de Madrid, Community of Madrid, Spain   \n7                   London, England, United Kingdom   \n8                   London, England, United Kingdom   \n9                                     Arlington, VA   \n10                                   United Kingdom   \n11                                    United States   \n12                                  Los Angeles, CA   \n13              Birmingham, England, United Kingdom   \n14                  London, England, United Kingdom   \n15                      Hyderabad, Telangana, India   \n16                                    United States   \n17                                      Atlanta, GA   \n18                                        Paoli, PA   \n19                                     Portland, OR   \n20                                San Francisco, CA   \n21                                     Portland, OR   \n22                                    United States   \n23            Bashtanskyi raion, Mykolayiv, Ukraine   \n\n                                      job_description         job_level  \\\n0   Data Engineer\\n\\nDescription\\n\\nOur mission at...       Entry level   \n1   Data Engineer\\nInterested in this role? You ca...       Entry level   \n2   Application Support Engineer - Fully remote wo...       Entry level   \n3   SchemeServe is UK based Insurance SaaS solutio...       Entry level   \n4   Sr. Engineer Network (Option to work remote)\\n...  Mid-Senior level   \n5   Application Support Engineer - Fully remote wo...       Entry level   \n6   Role Summary:\\nThis role must play a featured ...  Mid-Senior level   \n7   Technical Project Manger Endeavour Recruitment...         Associate   \n8   Client Support Engineer / Application Support ...       Entry level   \n9   Senior Splunk Engineer\\nArlington, VA\\n\\nLead ...  Mid-Senior level   \n10  One of your earliest milestones in life is spe...  Mid-Senior level   \n11  Doximity is transforming the healthcare indust...         Associate   \n12  Description\\n\\nFOR IMMEDIATE CONSIDERATION: em...       Entry level   \n13  Business Intelligence Analyst (Remote Intervie...         Associate   \n14  Senior Platform Engineer - Clojure - Remote Pr...         Associate   \n15  Selected Intern's Day-to-day Responsibilities ...    Not Applicable   \n16  Sr.Sales Engineer /Solutions Architect-\\n\\nRem...  Mid-Senior level   \n17  Summary\\n\\nWe are seeking a Senior macOS Engin...         Associate   \n18  We are a diverse and fully-distributed team fr...         Associate   \n19  Designed by analysts but built for the entire ...         Associate   \n20  Azumo is looking for a highly motivated Fullst...       Entry level   \n21  PriceSpider is a retail technology company fil...       Entry level   \n22  About the Role\\nAs the Team Lead on an agile s...  Mid-Senior level   \n23  Application Support Engineer\\n\\nLOCATION: remo...       Entry level   \n\n          posted                        applicants  \n0             -1  Be among the first 25 applicants  \n1    2 weeks ago  Be among the first 25 applicants  \n2    4 weeks ago  Be among the first 25 applicants  \n3     7 days ago                                -1  \n4    4 weeks ago                                -1  \n5             -1  Be among the first 25 applicants  \n6     4 days ago                                -1  \n7    3 weeks ago                                -1  \n8    2 weeks ago  Be among the first 25 applicants  \n9    2 weeks ago                                -1  \n10    4 days ago  Be among the first 25 applicants  \n11   4 weeks ago                                -1  \n12   2 weeks ago  Be among the first 25 applicants  \n13   1 month ago                                -1  \n14   4 weeks ago  Be among the first 25 applicants  \n15   2 weeks ago  Be among the first 25 applicants  \n16   4 weeks ago                                -1  \n17    5 days ago  Be among the first 25 applicants  \n18   3 weeks ago  Be among the first 25 applicants  \n19    3 days ago  Be among the first 25 applicants  \n20   2 weeks ago  Be among the first 25 applicants  \n21    3 days ago  Be among the first 25 applicants  \n22   2 weeks ago  Be among the first 25 applicants  \n23  2 months ago  Be among the first 25 applicants  ",
      "text/html": "<div>\n<style scoped>\n    .dataframe tbody tr th:only-of-type {\n        vertical-align: middle;\n    }\n\n    .dataframe tbody tr th {\n        vertical-align: top;\n    }\n\n    .dataframe thead th {\n        text-align: right;\n    }\n</style>\n<table border=\"1\" class=\"dataframe\">\n  <thead>\n    <tr style=\"text-align: right;\">\n      <th></th>\n      <th>company_name</th>\n      <th>job_title</th>\n      <th>location</th>\n      <th>job_description</th>\n      <th>job_level</th>\n      <th>posted</th>\n      <th>applicants</th>\n    </tr>\n  </thead>\n  <tbody>\n    <tr>\n      <th>0</th>\n      <td>Suplari, Inc.</td>\n      <td>Data Engineer (Remote)</td>\n      <td>Zapopan, Jalisco, Mexico</td>\n      <td>Data Engineer\\n\\nDescription\\n\\nOur mission at...</td>\n      <td>Entry level</td>\n      <td>-1</td>\n      <td>Be among the first 25 applicants</td>\n    </tr>\n    <tr>\n      <th>1</th>\n      <td>Accelerit</td>\n      <td>Fintech Data Engineer, Python, AWS Expert, Remote</td>\n      <td>London, England, United Kingdom</td>\n      <td>Data Engineer\\nInterested in this role? You ca...</td>\n      <td>Entry level</td>\n      <td>2 weeks ago</td>\n      <td>Be among the first 25 applicants</td>\n    </tr>\n    <tr>\n      <th>2</th>\n      <td>ITECCO</td>\n      <td>Application Support Engineer - 100 remote working</td>\n      <td>Bolton, England, United Kingdom</td>\n      <td>Application Support Engineer - Fully remote wo...</td>\n      <td>Entry level</td>\n      <td>4 weeks ago</td>\n      <td>Be among the first 25 applicants</td>\n    </tr>\n    <tr>\n      <th>3</th>\n      <td>SchemeServe</td>\n      <td>Software QA test engineer - REMOTE</td>\n      <td>Southend-on-Sea, England, United Kingdom</td>\n      <td>SchemeServe is UK based Insurance SaaS solutio...</td>\n      <td>Entry level</td>\n      <td>7 days ago</td>\n      <td>-1</td>\n    </tr>\n    <tr>\n      <th>4</th>\n      <td>Windstream</td>\n      <td>Sr. Engineer-Network</td>\n      <td>Denver, CO</td>\n      <td>Sr. Engineer Network (Option to work remote)\\n...</td>\n      <td>Mid-Senior level</td>\n      <td>4 weeks ago</td>\n      <td>-1</td>\n    </tr>\n    <tr>\n      <th>5</th>\n      <td>Itecco Limited</td>\n      <td>Application Support Engineer - 100 remote working</td>\n      <td>Penwortham, England, United Kingdom</td>\n      <td>Application Support Engineer - Fully remote wo...</td>\n      <td>Entry level</td>\n      <td>-1</td>\n      <td>Be among the first 25 applicants</td>\n    </tr>\n    <tr>\n      <th>6</th>\n      <td>Antal China</td>\n      <td>Senior Engineer – Wind Turbine Aerodynamics</td>\n      <td>Las Rozas de Madrid, Community of Madrid, Spain</td>\n      <td>Role Summary:\\nThis role must play a featured ...</td>\n      <td>Mid-Senior level</td>\n      <td>4 days ago</td>\n      <td>-1</td>\n    </tr>\n    <tr>\n      <th>7</th>\n      <td>Endeavour Recruitment</td>\n      <td>Technical Project Manager / Remote</td>\n      <td>London, England, United Kingdom</td>\n      <td>Technical Project Manger Endeavour Recruitment...</td>\n      <td>Associate</td>\n      <td>3 weeks ago</td>\n      <td>-1</td>\n    </tr>\n    <tr>\n      <th>8</th>\n      <td>Server Technology</td>\n      <td>Client Support Engineer - Remote Process</td>\n      <td>London, England, United Kingdom</td>\n      <td>Client Support Engineer / Application Support ...</td>\n      <td>Entry level</td>\n      <td>2 weeks ago</td>\n      <td>Be among the first 25 applicants</td>\n    </tr>\n    <tr>\n      <th>9</th>\n      <td>Capital TechSearch</td>\n      <td>Senior Splunk Engineer</td>\n      <td>Arlington, VA</td>\n      <td>Senior Splunk Engineer\\nArlington, VA\\n\\nLead ...</td>\n      <td>Mid-Senior level</td>\n      <td>2 weeks ago</td>\n      <td>-1</td>\n    </tr>\n    <tr>\n      <th>10</th>\n      <td>Techire.</td>\n      <td>Senior ASR Engineer (EU Remote)</td>\n      <td>United Kingdom</td>\n      <td>One of your earliest milestones in life is spe...</td>\n      <td>Mid-Senior level</td>\n      <td>4 days ago</td>\n      <td>Be among the first 25 applicants</td>\n    </tr>\n    <tr>\n      <th>11</th>\n      <td>Doximity</td>\n      <td>Software Engineer, Data Engineering</td>\n      <td>United States</td>\n      <td>Doximity is transforming the healthcare indust...</td>\n      <td>Associate</td>\n      <td>4 weeks ago</td>\n      <td>-1</td>\n    </tr>\n    <tr>\n      <th>12</th>\n      <td>Robert Half</td>\n      <td>QA Engineer *Remote but must be in Southern Ca...</td>\n      <td>Los Angeles, CA</td>\n      <td>Description\\n\\nFOR IMMEDIATE CONSIDERATION: em...</td>\n      <td>Entry level</td>\n      <td>2 weeks ago</td>\n      <td>Be among the first 25 applicants</td>\n    </tr>\n    <tr>\n      <th>13</th>\n      <td>Michael Page</td>\n      <td>Business Intelligence Analyst (Remote Intervie...</td>\n      <td>Birmingham, England, United Kingdom</td>\n      <td>Business Intelligence Analyst (Remote Intervie...</td>\n      <td>Associate</td>\n      <td>1 month ago</td>\n      <td>-1</td>\n    </tr>\n    <tr>\n      <th>14</th>\n      <td>Rosslin Engineering</td>\n      <td>Senior Engineer - Clojure - Remote Process</td>\n      <td>London, England, United Kingdom</td>\n      <td>Senior Platform Engineer - Clojure - Remote Pr...</td>\n      <td>Associate</td>\n      <td>4 weeks ago</td>\n      <td>Be among the first 25 applicants</td>\n    </tr>\n    <tr>\n      <th>15</th>\n      <td>Signzy</td>\n      <td>Backend Engineering Work From Home Job interns...</td>\n      <td>Hyderabad, Telangana, India</td>\n      <td>Selected Intern's Day-to-day Responsibilities ...</td>\n      <td>Not Applicable</td>\n      <td>2 weeks ago</td>\n      <td>Be among the first 25 applicants</td>\n    </tr>\n    <tr>\n      <th>16</th>\n      <td>ATCSEARCH</td>\n      <td>Senior Sales Engineer</td>\n      <td>United States</td>\n      <td>Sr.Sales Engineer /Solutions Architect-\\n\\nRem...</td>\n      <td>Mid-Senior level</td>\n      <td>4 weeks ago</td>\n      <td>-1</td>\n    </tr>\n    <tr>\n      <th>17</th>\n      <td>HiredAllied.com</td>\n      <td>Senior macOS Engineer (open for remote)</td>\n      <td>Atlanta, GA</td>\n      <td>Summary\\n\\nWe are seeking a Senior macOS Engin...</td>\n      <td>Associate</td>\n      <td>5 days ago</td>\n      <td>Be among the first 25 applicants</td>\n    </tr>\n    <tr>\n      <th>18</th>\n      <td>DuckDuckGo</td>\n      <td>Senior Fraud Prevention Engineer (Remote)</td>\n      <td>Paoli, PA</td>\n      <td>We are a diverse and fully-distributed team fr...</td>\n      <td>Associate</td>\n      <td>3 weeks ago</td>\n      <td>Be among the first 25 applicants</td>\n    </tr>\n    <tr>\n      <th>19</th>\n      <td>ThreatConnect, Inc.</td>\n      <td>Senior Software Engineer (REMOTE)</td>\n      <td>Portland, OR</td>\n      <td>Designed by analysts but built for the entire ...</td>\n      <td>Associate</td>\n      <td>3 days ago</td>\n      <td>Be among the first 25 applicants</td>\n    </tr>\n    <tr>\n      <th>20</th>\n      <td>Azumo.co</td>\n      <td>Rails Fullstack Engineer Remote</td>\n      <td>San Francisco, CA</td>\n      <td>Azumo is looking for a highly motivated Fullst...</td>\n      <td>Entry level</td>\n      <td>2 weeks ago</td>\n      <td>Be among the first 25 applicants</td>\n    </tr>\n    <tr>\n      <th>21</th>\n      <td>PriceSpider</td>\n      <td>PHP Software Engineer (REMOTE)</td>\n      <td>Portland, OR</td>\n      <td>PriceSpider is a retail technology company fil...</td>\n      <td>Entry level</td>\n      <td>3 days ago</td>\n      <td>Be among the first 25 applicants</td>\n    </tr>\n    <tr>\n      <th>22</th>\n      <td>Passport</td>\n      <td>Software Engineer Team Lead, Micromobility</td>\n      <td>United States</td>\n      <td>About the Role\\nAs the Team Lead on an agile s...</td>\n      <td>Mid-Senior level</td>\n      <td>2 weeks ago</td>\n      <td>Be among the first 25 applicants</td>\n    </tr>\n    <tr>\n      <th>23</th>\n      <td>DOIT</td>\n      <td>Application Support Engineer (Kyiv or Remote) ...</td>\n      <td>Bashtanskyi raion, Mykolayiv, Ukraine</td>\n      <td>Application Support Engineer\\n\\nLOCATION: remo...</td>\n      <td>Entry level</td>\n      <td>2 months ago</td>\n      <td>Be among the first 25 applicants</td>\n    </tr>\n  </tbody>\n</table>\n</div>"
     },
     "metadata": {},
     "execution_count": 14
    }
   ],
   "source": [
    "df"
   ]
  },
  {
   "cell_type": "code",
   "execution_count": null,
   "metadata": {},
   "outputs": [],
   "source": []
  }
 ],
 "metadata": {
  "language_info": {
   "codemirror_mode": {
    "name": "ipython",
    "version": 3
   },
   "file_extension": ".py",
   "mimetype": "text/x-python",
   "name": "python",
   "nbconvert_exporter": "python",
   "pygments_lexer": "ipython3",
   "version": "3.8.0-final"
  },
  "orig_nbformat": 2,
  "kernelspec": {
   "name": "python38032bita0cb2758c4cf4616b658b6b84a2a459a",
   "display_name": "Python 3.8.0 32-bit"
  }
 },
 "nbformat": 4,
 "nbformat_minor": 2
}